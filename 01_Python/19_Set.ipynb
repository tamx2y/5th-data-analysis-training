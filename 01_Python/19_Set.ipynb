{
 "cells": [
  {
   "cell_type": "markdown",
   "id": "d8099790-25b5-44fb-9e7d-1b891a2e2e7f",
   "metadata": {},
   "source": [
    "# Set\n",
    "- 데이터를 집합으로 사용할 때 사용하는 요소\n",
    "- 중복된 데이터는 허용하지 않는다.\n",
    "- 순서가 없다.\n",
    "- 이름도 없다.\n",
    "- set이 가지고 있는 특정 데이터를 지정하여 추출하는 것은 불가능하다. "
   ]
  },
  {
   "cell_type": "code",
   "execution_count": 1,
   "id": "40c7d369-5769-4e78-a1dc-3c64be6bb4b5",
   "metadata": {},
   "outputs": [
    {
     "name": "stdout",
     "output_type": "stream",
     "text": [
      "set()\n",
      "<class 'set'>\n"
     ]
    }
   ],
   "source": [
    "# set 생성\n",
    "s1 = set()\n",
    "print(s1)\n",
    "print(type(s1))"
   ]
  },
  {
   "cell_type": "code",
   "execution_count": 5,
   "id": "5c8da0af-5aa8-456f-ac35-654569a3bb7a",
   "metadata": {},
   "outputs": [
    {
     "name": "stdout",
     "output_type": "stream",
     "text": [
      "{10, 20, 30}\n",
      "<class 'set'>\n"
     ]
    }
   ],
   "source": [
    "s2 = {10, 20, 30}\n",
    "print(s2)\n",
    "print(type(s2))"
   ]
  },
  {
   "cell_type": "code",
   "execution_count": 6,
   "id": "4d45fc1d-fe31-47a7-bac8-6fdc48dd47ed",
   "metadata": {},
   "outputs": [
    {
     "name": "stdout",
     "output_type": "stream",
     "text": [
      "{10, 20, 30}\n"
     ]
    }
   ],
   "source": [
    "# set은 중복을 허용하지 않는다.\n",
    "s3 = {10, 20, 30, 10, 20, 30, 30, 20, 10}\n",
    "print(s3)"
   ]
  },
  {
   "cell_type": "code",
   "execution_count": 8,
   "id": "5287e702-4bfc-4aa3-ab73-c1560c637869",
   "metadata": {},
   "outputs": [
    {
     "name": "stdout",
     "output_type": "stream",
     "text": [
      "10\n",
      "20\n",
      "30\n"
     ]
    }
   ],
   "source": [
    "# 순서나 이름에 대한 개념이 없기 때문에 \n",
    "# set은 데이터를 가져다 사용할 수 있는 방법은\n",
    "# 다른 형태로 만들어주거나 for 문을 사용하는 것 밖에 없다\n",
    "# 이 때 순서가 어떻게 될지는 알 수 없다.\n",
    "# s3[0] <- 오류\n",
    "\n",
    "for v1 in s3:\n",
    "    print(v1)"
   ]
  },
  {
   "cell_type": "code",
   "execution_count": 9,
   "id": "84a04dd6-6816-4a9c-8b5a-c02f2ec49feb",
   "metadata": {},
   "outputs": [
    {
     "name": "stdout",
     "output_type": "stream",
     "text": [
      "{10, 20, 30}\n",
      "{10, 20, 30}\n"
     ]
    }
   ],
   "source": [
    "# list, tuple -> set\n",
    "list1 = [10, 20, 30, 10, 20, 30, 20, 10]\n",
    "tuple1 = 10, 20, 30, 10, 20, 30, 20, 10\n",
    "\n",
    "s1 = set(list1)\n",
    "s2 = set(tuple1)\n",
    "print(s1)\n",
    "print(s2)"
   ]
  },
  {
   "cell_type": "code",
   "execution_count": 10,
   "id": "2e4eef4e-6140-42d0-923d-a536df005b60",
   "metadata": {},
   "outputs": [
    {
     "name": "stdout",
     "output_type": "stream",
     "text": [
      "[10, 20, 30]\n",
      "(10, 20, 30)\n"
     ]
    }
   ],
   "source": [
    "# set -> list, tuple\n",
    "list2 = list(s1)\n",
    "tuple2 = tuple(s1)\n",
    "print(list2)\n",
    "print(tuple2)\n",
    "# 순서를 기대하면 안됨. \n",
    "# 원하는 순서대로 안 나올 가능성이 높음"
   ]
  }
 ],
 "metadata": {
  "kernelspec": {
   "display_name": "Python 3 (ipykernel)",
   "language": "python",
   "name": "python3"
  },
  "language_info": {
   "codemirror_mode": {
    "name": "ipython",
    "version": 3
   },
   "file_extension": ".py",
   "mimetype": "text/x-python",
   "name": "python",
   "nbconvert_exporter": "python",
   "pygments_lexer": "ipython3",
   "version": "3.12.7"
  }
 },
 "nbformat": 4,
 "nbformat_minor": 5
}
