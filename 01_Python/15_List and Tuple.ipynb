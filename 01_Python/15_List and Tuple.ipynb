{
 "cells": [
  {
   "cell_type": "code",
   "execution_count": 3,
   "id": "bfce1dba-77f4-4c1b-8282-b5647e962a41",
   "metadata": {},
   "outputs": [
    {
     "name": "stdout",
     "output_type": "stream",
     "text": [
      "10 20 30 40 50\n",
      "10 20 30 40 50\n"
     ]
    }
   ],
   "source": [
    "# 분해 (unpack)\n",
    "# 리스트나 튜플이 가지고 있는 값의 개수 만큼 변수를 나열해주면\n",
    "# 1 : 1 대응하여 변수에 담아준다.\n",
    "\n",
    "tuple1 = 10, 20, 30, 40, 50\n",
    "list1 = [10, 20, 30, 40, 50]\n",
    "\n",
    "a1, a2, a3, a4, a5 = tuple1\n",
    "a10, a20, a30, a40, a50 = list1\n",
    "\n",
    "print(a1, a2, a3, a4, a5)\n",
    "print(a10, a20, a30, a40, a50)"
   ]
  },
  {
   "cell_type": "code",
   "execution_count": 4,
   "id": "75377be5-1903-46cb-bca9-690f48547ece",
   "metadata": {},
   "outputs": [
    {
     "name": "stdout",
     "output_type": "stream",
     "text": [
      "10 20 30\n"
     ]
    }
   ],
   "source": [
    "# 10, 20, 30 이라고 적었기 때문에 10, 20, 30 을 관리하는\n",
    "# 튜플이 만들어진다\n",
    "# 그리고 좌측에 튜플이 관리하는 값의 개수와 동인한 개수의 변수를 \n",
    "# 배치하였기 때문에 unpack이 발생하여 튜플이 가지고 있는 값을\n",
    "# 하나씩 변수에 담아준다.\n",
    "# 개념을 정확히 알지 못하면 나중에 문제가 생길 수 있기 때문에 개념을 잘 이해할 것\n",
    "\n",
    "a1, a2, a3 = 10, 20, 30\n",
    "print(a1, a2, a3)\n"
   ]
  }
 ],
 "metadata": {
  "kernelspec": {
   "display_name": "Python 3 (ipykernel)",
   "language": "python",
   "name": "python3"
  },
  "language_info": {
   "codemirror_mode": {
    "name": "ipython",
    "version": 3
   },
   "file_extension": ".py",
   "mimetype": "text/x-python",
   "name": "python",
   "nbconvert_exporter": "python",
   "pygments_lexer": "ipython3",
   "version": "3.12.7"
  }
 },
 "nbformat": 4,
 "nbformat_minor": 5
}
