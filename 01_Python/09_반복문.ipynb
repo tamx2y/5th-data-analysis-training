{
 "cells": [
  {
   "cell_type": "markdown",
   "id": "9cb49db7-1dc3-4d42-88b3-b2e2f072c869",
   "metadata": {},
   "source": [
    "# 반복문\n",
    "- 관리하는 코드를 원하는 만큼 반복시키는 구문\n",
    "\n",
    "### while\n",
    "- 주어진 조건 수식의 결과가 True인 경우 반복한다.\n",
    "\n",
    "### for in\n",
    "- 주어진 데이터를 관리하는 요소가 관리하는 데이터의 수(number)만큼 반복한다."
   ]
  },
  {
   "cell_type": "code",
   "execution_count": 2,
   "id": "0fe71a9a-bcf9-49ba-af6c-1f5dc9c9bb83",
   "metadata": {},
   "outputs": [
    {
     "name": "stdout",
     "output_type": "stream",
     "text": [
      "while a1 : 0\n",
      "while a1 : 1\n",
      "while a1 : 2\n",
      "while a1 : 3\n",
      "while a1 : 4\n",
      "while a1 : 5\n",
      "while a1 : 6\n",
      "while a1 : 7\n",
      "while a1 : 8\n",
      "while a1 : 9\n"
     ]
    }
   ],
   "source": [
    "# while\n",
    "# 주어진 조건식의 결과가 true인 경우 반복한다.\n",
    "\n",
    "a1 = 0\n",
    "\n",
    "while(a1 < 10) :\n",
    "    print(\"while a1 :\" ,a1)\n",
    "    a1 = a1 + 1\n",
    "\n",
    "#a1이 반복되다가 false가 되는 시점에서 멈추게 된다. "
   ]
  },
  {
   "cell_type": "code",
   "execution_count": 3,
   "id": "b6ebcd5d-ba65-44ca-9de9-6a686a927a57",
   "metadata": {},
   "outputs": [
    {
     "name": "stdout",
     "output_type": "stream",
     "text": [
      "for v1 : 0\n",
      "for v1 : 1\n",
      "for v1 : 2\n",
      "for v1 : 3\n",
      "for v1 : 4\n",
      "for v1 : 5\n",
      "for v1 : 6\n",
      "for v1 : 7\n",
      "for v1 : 8\n",
      "for v1 : 9\n"
     ]
    }
   ],
   "source": [
    "# for in\n",
    "# 주어진 데이터를 관리하는 요소가 관리하는 데이터의 수 만큼 반복한다.\n",
    "# 이 때, 반복 번째에 해당하는 데이터를 변수로 받을 수 있다.\n",
    "\n",
    "for v1 in range(10) :\n",
    "    print(\"for v1 :\", v1)"
   ]
  },
  {
   "cell_type": "markdown",
   "id": "6b16770b-37fd-4cf9-b6cb-5b124a8a8e68",
   "metadata": {},
   "source": [
    "> **추가설명**\n",
    "\n",
    "1. `for in` 문 (몇 번 반복할지 알 때 사용)\n",
    "`for in` 문은 **\"몇 번 반복할지 정해져 있을 때\"** 사용해요.  \n",
    "\n",
    "예시 1: 1부터 5까지 숫자 세기\n",
    "```python\n",
    "for i in range(1, 6):  \n",
    "    print(i)\n",
    "```\n",
    "**결과:**  \n",
    "```\n",
    "1  \n",
    "2  \n",
    "3  \n",
    "4  \n",
    "5  \n",
    "```\n",
    "📌 **설명:**  \n",
    "- `range(1, 6)`은 `1`부터 `5`까지 숫자를 만들어 줘요.  \n",
    "- `for` 문은 이 숫자들을 하나씩 `i`에 넣고, 그 숫자를 출력해요.  \n",
    "- **\"이걸 몇 번 반복해야 하는지\" 알고 있을 때 사용해요!**  \n",
    "\n",
    "---\n",
    "\n",
    "2. `while` 문 (언제 멈출지 조건을 정할 때 사용)\n",
    "`while` 문은 **\"반복을 언제 끝낼지 조건으로 정할 때\"** 사용해요.  \n",
    "\n",
    "예시 2: 5보다 작을 때까지 숫자 세기\n",
    "```python\n",
    "i = 1  \n",
    "while i < 6:  \n",
    "    print(i)  \n",
    "    i += 1  # i 값을 1씩 증가시킴\n",
    "```\n",
    "**결과:**  \n",
    "```\n",
    "1  \n",
    "2  \n",
    "3  \n",
    "4  \n",
    "5  \n",
    "```\n",
    "📌 **설명:**  \n",
    "- 처음 `i = 1`로 시작해요.  \n",
    "- `while i < 6` 이라는 조건이 **참(True)**인 동안 계속 실행돼요.  \n",
    "- `i += 1`은 `i` 값을 1씩 늘려서 `6`이 되면 멈춰요.  \n",
    "- **\"언제 멈출지\"를 조건으로 정할 때 사용해요!**  \n",
    "\n",
    "---\n",
    "\n",
    "`for in` vs `while` 차이점 정리 ✨\n",
    "| 구분        | `for in` | `while` |\n",
    "|------------|---------|---------|\n",
    "| 반복 횟수 | 정해져 있음 | 조건을 만족할 때까지 반복 |\n",
    "| 사용 예시 | 리스트, 범위(`range`) 사용 | 특정 조건이 참일 때까지 실행 |\n",
    "| 언제 사용? | **\"몇 번 반복할지 미리 알 때\"** | **\"언제 멈출지 조건으로 정할 때\"** |\n",
    "\n",
    "📌 **쉽게 기억하는 방법!**  \n",
    "- `\"5번 반복해!\"` → `for in`  \n",
    "- `\"반복해, 하지만 5가 되면 멈춰!\"` → `while`  "
   ]
  }
 ],
 "metadata": {
  "kernelspec": {
   "display_name": "Python 3 (ipykernel)",
   "language": "python",
   "name": "python3"
  },
  "language_info": {
   "codemirror_mode": {
    "name": "ipython",
    "version": 3
   },
   "file_extension": ".py",
   "mimetype": "text/x-python",
   "name": "python",
   "nbconvert_exporter": "python",
   "pygments_lexer": "ipython3",
   "version": "3.12.7"
  }
 },
 "nbformat": 4,
 "nbformat_minor": 5
}
