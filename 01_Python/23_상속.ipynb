{
 "cells": [
  {
   "cell_type": "markdown",
   "id": "658a64bf-1d87-4a29-b998-b75e13b6baea",
   "metadata": {},
   "source": [
    "# 상속\n",
    "- 클래스가 다른 클래스가 가진 것들을 물려받는 개념\n",
    "- 상속 시켜 주는 클래스 : 부모클래스\n",
    "- 상속 받는 클래스 : 자식클래스\n",
    "- 자식 클래스는 부모가 가진 것들을 마치 자기 자신한테 있는 것처럼 사용할 수 있다."
   ]
  },
  {
   "cell_type": "code",
   "execution_count": 1,
   "id": "6f390c21-df1d-480e-89ac-8bc2d3333233",
   "metadata": {},
   "outputs": [],
   "source": [
    "# 부모 클래스\n",
    "class Animal :\n",
    "    def __init__(self, _type) :\n",
    "        self.animal_type = _type\n",
    "\n",
    "    def eat(self) :\n",
    "        print(f'{self.animal_type}가 사료를 먹습니다')"
   ]
  },
  {
   "cell_type": "code",
   "execution_count": 3,
   "id": "0045b8d1-80dd-4b2c-8c10-8a71bee5696b",
   "metadata": {},
   "outputs": [],
   "source": [
    "# 자식 클래스\n",
    "class Dog(Animal) : \n",
    "\n",
    "    def speaking(self) : \n",
    "        print('멍멍')\n",
    "\n",
    "class Cat(Animal) : \n",
    "    def speaking(self) :\n",
    "        print('냐옹 냐옹')"
   ]
  },
  {
   "cell_type": "code",
   "execution_count": 4,
   "id": "28d68383-ab61-49dc-9aea-523101f9baca",
   "metadata": {},
   "outputs": [
    {
     "name": "stdout",
     "output_type": "stream",
     "text": [
      "강아지\n",
      "강아지가 사료를 먹습니다\n",
      "멍멍\n",
      "고양이가 사료를 먹습니다\n",
      "냐옹 냐옹\n"
     ]
    }
   ],
   "source": [
    "t1 = Dog('강아지')\n",
    "print(t1.animal_type)\n",
    "t1.eat()\n",
    "t1.speaking()\n",
    "\n",
    "t2 = Cat('고양이')\n",
    "t2.eat()\n",
    "t2.speaking()"
   ]
  }
 ],
 "metadata": {
  "kernelspec": {
   "display_name": "Python 3 (ipykernel)",
   "language": "python",
   "name": "python3"
  },
  "language_info": {
   "codemirror_mode": {
    "name": "ipython",
    "version": 3
   },
   "file_extension": ".py",
   "mimetype": "text/x-python",
   "name": "python",
   "nbconvert_exporter": "python",
   "pygments_lexer": "ipython3",
   "version": "3.12.7"
  }
 },
 "nbformat": 4,
 "nbformat_minor": 5
}
