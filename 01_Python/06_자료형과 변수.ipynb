{
 "cells": [
  {
   "cell_type": "markdown",
   "id": "66cc8cd9-be34-4d10-845c-ef29c294c17d",
   "metadata": {},
   "source": [
    "# 리터럴\n",
    "- 프로그램 코드 작성 시 값을 작성하는 문법"
   ]
  },
  {
   "cell_type": "code",
   "execution_count": 1,
   "id": "77142252-7d2d-4d6b-a7f7-732408210cda",
   "metadata": {},
   "outputs": [
    {
     "name": "stdout",
     "output_type": "stream",
     "text": [
      "정수 : 100\n",
      "실수 : 11.11\n",
      "문자열 : 하하하\n",
      "참 : True\n",
      "거짓 : False\n",
      "지수 : 200000.0\n",
      "복소수 : (10+8j)\n",
      "세자리 마다 표시 : 123456789\n",
      "없음 : None\n"
     ]
    }
   ],
   "source": [
    "print('정수 :', 100)\n",
    "print('실수 :', 11.11)\n",
    "print('문자열 :', '하하하')\n",
    "print('참 :', True)\n",
    "print('거짓 :', False)\n",
    "print('지수 :', 2e5)\n",
    "print('복소수 :', 10 + 8j)\n",
    "print('세자리 마다 표시 :', 123_456_789)\n",
    "print('없음 :', None)"
   ]
  },
  {
   "cell_type": "code",
   "execution_count": 2,
   "id": "516dfba1-5bd1-4fce-a581-6ad06f2bfd91",
   "metadata": {},
   "outputs": [
    {
     "name": "stdout",
     "output_type": "stream",
     "text": [
      "<class 'int'>\n",
      "<class 'float'>\n",
      "<class 'str'>\n",
      "<class 'bool'>\n",
      "<class 'bool'>\n",
      "<class 'float'>\n",
      "<class 'complex'>\n",
      "<class 'int'>\n",
      "<class 'NoneType'>\n"
     ]
    }
   ],
   "source": [
    "# type을 쓰면 값의 타입을 파악할 수 있다\n",
    "print(type(100))\n",
    "print(type(11.11))\n",
    "print(type('하하하'))\n",
    "print(type(True))\n",
    "print(type(False))\n",
    "print(type(2e10))\n",
    "print(type(10 + 8j))\n",
    "print(type(123_456_789))\n",
    "print(type(None))"
   ]
  },
  {
   "cell_type": "markdown",
   "id": "716af736-742f-404a-991c-509b33434086",
   "metadata": {},
   "source": [
    ">**추가 설명**\n",
    "- **`int`** (Integer): 정수 (예: `5`, `-3`)\n",
    "- **`float`** (Floating point): 실수 (소수점 있는 숫자, 예: `3.14`, `-0.5`)\n",
    "- **`str`** (String): 문자열 (예: `\"Hello\"`, `'Python'`)\n",
    "- **`bool`** (Boolean): 불리언 (참/거짓, 예: `True`, `False`)\n",
    "- **`complex`** (Complex number): 복소수 (실수 + 허수, 예: `2 + 3j`)\n",
    "- **`NoneType`** (None): 값 없음 (예: `None`)"
   ]
  },
  {
   "cell_type": "markdown",
   "id": "f6890870-f033-4ae2-96e4-e8eb8fc90a24",
   "metadata": {},
   "source": [
    "# 변수\n",
    "- 개발자가 원하는 값을 저장할 수 있는 기억공간을 의미한다.\n",
    "- 파이썬은 이름만 정해주면 변수를 정의할 수 있다."
   ]
  },
  {
   "cell_type": "code",
   "execution_count": 7,
   "id": "1bf72d84-b9f1-47da-813f-58d2b09e96da",
   "metadata": {},
   "outputs": [],
   "source": [
    "# 파이썬은 변수의 선언과 동시에 저장할 값을 지정해준다.\n",
    "# = : 대입연산자, 오른쪽에 있는 값을 왼쪽의 변수에 저장하는 작업을 수행한다. \n",
    "a1 = 10\n",
    "a2 = 11.11\n",
    "a3 = '안녕하세요' "
   ]
  },
  {
   "cell_type": "code",
   "execution_count": 8,
   "id": "82050d87-1723-427a-8c57-8e36b2245c6a",
   "metadata": {},
   "outputs": [
    {
     "name": "stdout",
     "output_type": "stream",
     "text": [
      "10\n",
      "11.11\n",
      "안녕하세요\n"
     ]
    }
   ],
   "source": [
    "# 변수의 이름만 사용하면 변수에 저장되어 있는 값을 가져와 사용할 수 있다.\n",
    "print(a1)\n",
    "print(a2)\n",
    "print(a3)"
   ]
  },
  {
   "cell_type": "code",
   "execution_count": 11,
   "id": "ca009501-8865-4fd9-ac39-bc30f87d9776",
   "metadata": {},
   "outputs": [
    {
     "name": "stdout",
     "output_type": "stream",
     "text": [
      "100\n",
      "<class 'int'>\n",
      "11.11\n",
      "<class 'float'>\n",
      "문자열\n",
      "<class 'str'>\n"
     ]
    }
   ],
   "source": [
    "# 파이썬은 변수에 다른 타입의 값을 저장하는 것이 가능하다\n",
    "a4 = 100\n",
    "print(a4)\n",
    "print(type(a4))\n",
    "\n",
    "a4 = 11.11\n",
    "print(a4)\n",
    "print(type(a4))\n",
    "\n",
    "a4 = '문자열'\n",
    "print(a4)\n",
    "print(type(a4))"
   ]
  },
  {
   "cell_type": "code",
   "execution_count": 13,
   "id": "3d3ec3b6-af52-4b47-b4e7-700494357856",
   "metadata": {},
   "outputs": [
    {
     "name": "stdout",
     "output_type": "stream",
     "text": [
      "100\n",
      "100\n",
      "100\n"
     ]
    }
   ],
   "source": [
    "# 여러 변수에 같은 값을 저장하고자 한다면,\n",
    "a5 = a6 = a7 = 100\n",
    "print(a5)\n",
    "print(a6)\n",
    "print(a7)"
   ]
  },
  {
   "cell_type": "code",
   "execution_count": 14,
   "id": "51654333-5c61-4f34-9846-ff28b888a537",
   "metadata": {},
   "outputs": [
    {
     "name": "stdout",
     "output_type": "stream",
     "text": [
      "100\n",
      "200\n",
      "300\n"
     ]
    }
   ],
   "source": [
    "# 각 변수에 저장될 값을 각각 다를 경우 다음과 같이 하는 것도 가능하다.\n",
    "# 여기에는 tuple 이라는 것과 관련된 비밀이 숨어 있다.\n",
    "a8, a9, a10 = 100, 200, 300\n",
    "print(a8)\n",
    "print(a9)\n",
    "print(a10)"
   ]
  },
  {
   "cell_type": "code",
   "execution_count": 15,
   "id": "14212b7f-070c-4284-aaf1-065462101180",
   "metadata": {},
   "outputs": [
    {
     "name": "stdout",
     "output_type": "stream",
     "text": [
      "100\n",
      "11.11\n"
     ]
    }
   ],
   "source": [
    "# 파이썬 3.6 부터 변수에 자료형을 명시할 수 있다.\n",
    "# 변수를 정의할 때 자료형을 명시하면 값을 지정하지 않아도 된다.\n",
    "# 단 변수를 사용하기 전에 반드시 값을 저장해야 한다.\n",
    "\n",
    "# 변수에 자료형을 붙여주는 이유\n",
    "# 1. 변수를 선언할 때 최초의 값을 지정해주고 싶지 않을 때 -> 그냥 값을 0 같은 값을 넣어주면 된다\n",
    "# 2. 변수의 타입을 명시적으로 표현하고 싶을때 -> 다른 타입의 값을 저장할 수 있기 때문에 별 의미가 없다\n",
    "a11:int\n",
    "\n",
    "a11 = 100\n",
    "print(a11)\n",
    "\n",
    "a11 = 11.11\n",
    "print(a11)"
   ]
  },
  {
   "cell_type": "markdown",
   "id": "54ffcd8d-07a9-4b56-bd1f-268f915281ee",
   "metadata": {},
   "source": [
    ">**추가설명**\n",
    "- **객체**란 무엇인가?\n",
    "  - `100`이나 `11.11` 같은 값들은 **객체**라는 특별한 방식으로 파이썬에서 관리됨.\n",
    "  - 이 값들은 그냥 숫자가 아니라, 파이썬에서 만든 \"숫자를 관리하는 상자\"임.\n",
    "  \n",
    "- **메모리에 어떻게 저장될까?**\n",
    "  - 예를 들어, `a1 = 100`을 실행하면, `100`이라는 숫자는 **메모리**에 저장되고, `a1`은 그 숫자가 있는 곳의 주소를 가리키게 됨.\n",
    "  -  그래서 `a1`은 사실 `100`이라는 숫자의 \"주소\"를 기억하고 있는 것임.\n",
    "  - 마찬가지로, `a1 = 11.11`을 실행하면, `11.11`이라는 숫자도 **메모리**에 저장되고, `a1`은 그 값의 주소를 기억하게 됨.\n",
    "\n",
    "#### 중요한 점\n",
    "\n",
    "- 파이썬에서는 **변수**가 실제 값(정수나 실수 등)을 바로 저장하는 것이 아니라, 그 값을 관리하는 **객체의 주소**를 저장하고 있음.\n",
    "  \n",
    "- 그리고 파이썬에서는 **변수에 어떤 값이든 저장할 수 있음\n",
    "  - 예를 들어, `a1`에 정수도 저장하고 실수도 저장할 수 있지만, 우리가 `a11`에 정수만 저장한다고 정했다면, `a11`에는 **정수만 들어갈 수** 있음."
   ]
  }
 ],
 "metadata": {
  "kernelspec": {
   "display_name": "Python 3 (ipykernel)",
   "language": "python",
   "name": "python3"
  },
  "language_info": {
   "codemirror_mode": {
    "name": "ipython",
    "version": 3
   },
   "file_extension": ".py",
   "mimetype": "text/x-python",
   "name": "python",
   "nbconvert_exporter": "python",
   "pygments_lexer": "ipython3",
   "version": "3.12.7"
  }
 },
 "nbformat": 4,
 "nbformat_minor": 5
}
