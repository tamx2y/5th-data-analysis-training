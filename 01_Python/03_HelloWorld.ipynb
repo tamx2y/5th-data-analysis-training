{
 "cells": [
  {
   "cell_type": "code",
   "execution_count": 1,
   "id": "672480c2-d54b-4add-9960-91c5084f23fb",
   "metadata": {},
   "outputs": [
    {
     "name": "stdout",
     "output_type": "stream",
     "text": [
      "30\n",
      "Hello World\n"
     ]
    }
   ],
   "source": [
    "a1 = 10 + 20\n",
    "print(a1)\n",
    "print('Hello World')"
   ]
  }
 ],
 "metadata": {
  "kernelspec": {
   "display_name": "Python 3 (ipykernel)",
   "language": "python",
   "name": "python3"
  },
  "language_info": {
   "codemirror_mode": {
    "name": "ipython",
    "version": 3
   },
   "file_extension": ".py",
   "mimetype": "text/x-python",
   "name": "python",
   "nbconvert_exporter": "python",
   "pygments_lexer": "ipython3",
   "version": "3.12.7"
  }
 },
 "nbformat": 4,
 "nbformat_minor": 5
}
