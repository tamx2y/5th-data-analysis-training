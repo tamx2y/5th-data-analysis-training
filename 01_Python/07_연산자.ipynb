{
 "cells": [
  {
   "cell_type": "markdown",
   "id": "4efb9cac-9eb2-4d3c-9afa-e375cae42e30",
   "metadata": {},
   "source": [
    "# 연산자\n",
    "- 값들을 가지고 계산을 하기 위한 특수 문자들\n",
    "- 키보드에 있는 특수문자 대부분이 연산자이다."
   ]
  },
  {
   "cell_type": "markdown",
   "id": "c00c568c-4cab-40bd-91e8-91d9c236b621",
   "metadata": {},
   "source": [
    "### 산술 연산자\n",
    "- `+` : 더하기\n",
    "- `-` : 빼기\n",
    "- `*` : 곱하기\n",
    "- `/` : 나누기, 결과가 실수\n",
    "- `//` : 나누기, 결과가 정수\n",
    "- `%` : 나머지\n",
    "- `**` : 거듭제곱"
   ]
  },
  {
   "cell_type": "code",
   "execution_count": 3,
   "id": "ee05205b-06a3-4e02-b3d2-3df9e455d63a",
   "metadata": {},
   "outputs": [],
   "source": [
    "v1 = 10\n",
    "v2 = 21"
   ]
  },
  {
   "cell_type": "code",
   "execution_count": 6,
   "id": "96e6994d-15e1-4ae3-9c46-27b574152e23",
   "metadata": {},
   "outputs": [
    {
     "name": "stdout",
     "output_type": "stream",
     "text": [
      "v1 + v2 = 31\n",
      "v1 - v2 = -11\n",
      "v1 * v2 = 210\n",
      "v1 / v2 = 0.47619047619047616\n",
      "v1 // v2 = 0\n",
      "v1 % 3 = 1\n",
      "v1 ** 3 = 1000\n"
     ]
    }
   ],
   "source": [
    "# 더하기\n",
    "a1 = v1 + v2\n",
    "print('v1 + v2 =', a1)\n",
    "\n",
    "#빼기\n",
    "a2 = v1 - v2\n",
    "print('v1 - v2 =', a2)\n",
    "\n",
    "#곱하기\n",
    "a3 = v1 * v2\n",
    "print('v1 * v2 =', a3)\n",
    "\n",
    "#나누기 : 결과는 실수\n",
    "a4 = v1 / v2\n",
    "print('v1 / v2 =', a4)\n",
    "\n",
    "#나누기: 결과는 정수\n",
    "a5 = v1 // v2\n",
    "print('v1 // v2 =', a5)\n",
    "\n",
    "# 나머지\n",
    "a6 = v1 % 3\n",
    "print('v1 % 3 =', a6)\n",
    "\n",
    "# 거듭제곱\n",
    "a7 = v1 ** 3 \n",
    "print('v1 ** 3 =', a7)"
   ]
  },
  {
   "cell_type": "markdown",
   "id": "63207b45-38cf-46e2-986b-fee98c01db67",
   "metadata": {},
   "source": [
    "### 비교 연산자\n",
    "- 좌측의 값이 우측값과 비교하여 어떻다 라는 연산을 수행한다.\n",
    "- 결과는 True나 False로 나온다\n",
    "- `==` : 좌측의 값이 우측의 값과 같다\n",
    "- `!=` : 좌측의 값이 우측의 값과 다르다\n",
    "- `>` : 좌측의 값이 우측의 값보다 큰가\n",
    "- `<` : 좌측의 값이 우측의 값보다 작은가\n",
    "- `>=` : 좌측의 값이 우측의 값보다 크거나 같은가\n",
    "- `<=` : 좌측의 값이 우측의 값보다 작거나 같은가 "
   ]
  },
  {
   "cell_type": "code",
   "execution_count": 7,
   "id": "6d18170a-be29-47f3-b69b-f161868d764e",
   "metadata": {},
   "outputs": [
    {
     "name": "stdout",
     "output_type": "stream",
     "text": [
      "True\n",
      "False\n",
      "False\n",
      "True\n",
      "True\n",
      "False\n",
      "False\n",
      "True\n",
      "True\n",
      "True\n",
      "False\n",
      "False\n",
      "True\n",
      "True\n"
     ]
    }
   ],
   "source": [
    "v1 = 10\n",
    "print(v1 == 10)\n",
    "print(v1 == 20)\n",
    "print(v1 != 10)\n",
    "print(v1 != 20)\n",
    "print(v1 > 5)\n",
    "print(v1 > 20)\n",
    "print(v1 < 5)\n",
    "print(v1 < 20)\n",
    "print(v1 >= 5)\n",
    "print(v1 >= 10)\n",
    "print(v1 >= 20)\n",
    "print(v1 <= 5)\n",
    "print(v1 <= 10)\n",
    "print(v1 <= 20)"
   ]
  },
  {
   "cell_type": "markdown",
   "id": "eb148cbb-332b-475d-b41d-f4d87ba78e45",
   "metadata": {},
   "source": [
    "### 증감 연산자\n",
    "- ++, -- : 변수에 저장되어 있는 값을 1 증가 시키거나 1 감소시키는 연산자이다. 파이썬은 지원하지 않는다.\n",
    "- +=, -=, *=, /=, //=, %=, **= 연산자를 사용할 수 있다."
   ]
  },
  {
   "cell_type": "code",
   "execution_count": 10,
   "id": "21712e56-360b-44b7-9e5c-4a9f05ee5337",
   "metadata": {},
   "outputs": [
    {
     "name": "stdout",
     "output_type": "stream",
     "text": [
      "20\n",
      "20\n"
     ]
    }
   ],
   "source": [
    "v1 = 10\n",
    "v2 = 10\n",
    "\n",
    "v1 = v1 + 10\n",
    "v2 += 10\n",
    "print(v1)\n",
    "print(v2)"
   ]
  },
  {
   "cell_type": "markdown",
   "id": "b15a338b-e4af-4d48-9d5b-b6e1635da716",
   "metadata": {},
   "source": [
    "### 논리 연산자\n",
    "- 연산자 좌측과 우측에는 참, 거짓을 결과하는 연산식이 존재해야 한다.\n",
    "- and : 좌측과 우측이 하나라도 False면 최종 결과는 False가 된다.\n",
    "- or : 좌측과 우측이 하나라도 True면 최종 결과는 True가 된다.\n",
    "- not : 우측의 결과가 True면 False로, False면 True로 바꿔준다."
   ]
  },
  {
   "cell_type": "code",
   "execution_count": 14,
   "id": "c394d9b8-5d74-46c1-968c-c5c0b0d7a1ff",
   "metadata": {},
   "outputs": [
    {
     "name": "stdout",
     "output_type": "stream",
     "text": [
      "True\n",
      "False\n",
      "False\n",
      "True\n",
      "True\n",
      "False\n"
     ]
    }
   ],
   "source": [
    "v1 = 10\n",
    "v2 = 20\n",
    "\n",
    "print(v1 > 5 and v2 > 10)\n",
    "print(v1 > 20 and v2 > 10)\n",
    "\n",
    "print(v1 < 5 or v2 < 10)\n",
    "print(v1 > 5 or v2 <10)\n",
    "\n",
    "print(not v1 < 5)\n",
    "print(not v1 > 5)"
   ]
  }
 ],
 "metadata": {
  "kernelspec": {
   "display_name": "Python 3 (ipykernel)",
   "language": "python",
   "name": "python3"
  },
  "language_info": {
   "codemirror_mode": {
    "name": "ipython",
    "version": 3
   },
   "file_extension": ".py",
   "mimetype": "text/x-python",
   "name": "python",
   "nbconvert_exporter": "python",
   "pygments_lexer": "ipython3",
   "version": "3.12.7"
  }
 },
 "nbformat": 4,
 "nbformat_minor": 5
}
