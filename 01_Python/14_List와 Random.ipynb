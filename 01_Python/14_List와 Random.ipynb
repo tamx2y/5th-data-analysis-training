{
 "cells": [
  {
   "cell_type": "code",
   "execution_count": 3,
   "id": "87806b47-4420-41db-b46b-c51cb64c9304",
   "metadata": {},
   "outputs": [],
   "source": [
    "# random이라는 기능을 여기서 사용하겠다는 의미\n",
    "import random"
   ]
  },
  {
   "cell_type": "code",
   "execution_count": 4,
   "id": "0c9f860d-2a72-4eb1-b1bd-69e54902387f",
   "metadata": {},
   "outputs": [],
   "source": [
    "# 리스트는 튜플을 생성한다\n",
    "list1 = [10, 20, 30, 40, 50, 60, 70, 80, 90, 100]"
   ]
  },
  {
   "cell_type": "code",
   "execution_count": 11,
   "id": "89b090d8-13b6-4f03-95cd-bf96a3ef8552",
   "metadata": {},
   "outputs": [
    {
     "name": "stdout",
     "output_type": "stream",
     "text": [
      "20 80 10\n"
     ]
    }
   ],
   "source": [
    "# 값하나를 랜덤하게 추출한다.\n",
    "a1 = random.choice(list1)\n",
    "a2 = random.choice(list1)\n",
    "a3 = random.choice(list1)\n",
    "\n",
    "print(a1, a2, a3)"
   ]
  },
  {
   "cell_type": "code",
   "execution_count": 15,
   "id": "ca015909-b5a4-4bed-b22e-06c8c64d96f2",
   "metadata": {},
   "outputs": [
    {
     "name": "stdout",
     "output_type": "stream",
     "text": [
      "[10, 20, 100, 50, 90, 30, 40, 70, 80, 60]\n"
     ]
    }
   ],
   "source": [
    "# 리스트가 가지고 있는 값들을 랜덤하게 섞어준다.\n",
    "random.shuffle(list1)\n",
    "print(list1)"
   ]
  },
  {
   "cell_type": "code",
   "execution_count": 16,
   "id": "d8d8e1ce-3a51-41fe-80f2-83b291750851",
   "metadata": {},
   "outputs": [
    {
     "name": "stdout",
     "output_type": "stream",
     "text": [
      "15\n"
     ]
    }
   ],
   "source": [
    "# 0 ~ 99 사이의 정수값 하나를 랜덤하게 추출한다. \n",
    "a1 = random.randrange(100)\n",
    "print(a1)"
   ]
  },
  {
   "cell_type": "code",
   "execution_count": 18,
   "id": "36e7c0c8-4211-4449-872f-5617bc1ef50e",
   "metadata": {},
   "outputs": [
    {
     "name": "stdout",
     "output_type": "stream",
     "text": [
      "14\n"
     ]
    }
   ],
   "source": [
    "# 5 ~ 30 사이의 정수값 하나를 랜덤하게 추출한다.\n",
    "a2 = random.randrange(5, 31)\n",
    "print(a2)"
   ]
  },
  {
   "cell_type": "code",
   "execution_count": 28,
   "id": "ca76a2af-2206-4224-b342-2feb37c8f49d",
   "metadata": {},
   "outputs": [
    {
     "name": "stdout",
     "output_type": "stream",
     "text": [
      "21\n"
     ]
    }
   ],
   "source": [
    "# 5 ~ 30 사이이고 2씩 증가된 숫자 중에 하나를 랜덤하게 추출한다\n",
    "a3 = random.randrange(5, 31, 2)\n",
    "print(a3)"
   ]
  },
  {
   "cell_type": "code",
   "execution_count": 29,
   "id": "85b7f73e-4812-499d-8bf2-c2543e29ecf9",
   "metadata": {},
   "outputs": [
    {
     "name": "stdout",
     "output_type": "stream",
     "text": [
      "0.8565187384275419\n"
     ]
    }
   ],
   "source": [
    "# 0 ~ 1 보다 작은 실수 중에 랜덤하게 뽑아낸다.\n",
    "a1 = random.random()\n",
    "print(a1)"
   ]
  }
 ],
 "metadata": {
  "kernelspec": {
   "display_name": "Python 3 (ipykernel)",
   "language": "python",
   "name": "python3"
  },
  "language_info": {
   "codemirror_mode": {
    "name": "ipython",
    "version": 3
   },
   "file_extension": ".py",
   "mimetype": "text/x-python",
   "name": "python",
   "nbconvert_exporter": "python",
   "pygments_lexer": "ipython3",
   "version": "3.12.7"
  }
 },
 "nbformat": 4,
 "nbformat_minor": 5
}
