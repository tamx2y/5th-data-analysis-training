{
 "cells": [
  {
   "cell_type": "markdown",
   "id": "1376b735-0742-4629-adbb-4d7339265648",
   "metadata": {},
   "source": [
    "# 주석\n",
    "- 프로그램 코드 실행 시 건너띄는 부분을 의미한다.\n",
    "- 앞에 샾(#)을 붙여주면 그 라인은 주석이 된다.\n",
    "- 보통 설명을 작성하거나 실행하고 싶지 않은 코드가 있을 경우 사용한다.\n",
    "- `ctrl + /` : 주석 단축키"
   ]
  },
  {
   "cell_type": "code",
   "execution_count": 1,
   "id": "4ca563aa-e587-4849-9eb5-914882f07a0e",
   "metadata": {},
   "outputs": [
    {
     "name": "stdout",
     "output_type": "stream",
     "text": [
      "30\n"
     ]
    }
   ],
   "source": [
    "# 이 부분은 주석 부분입니다.\n",
    "# 실행할 때 건너 띄는 부분입니다.\n",
    "a1 = 10 + 20\n",
    "print(a1)"
   ]
  },
  {
   "cell_type": "code",
   "execution_count": 2,
   "id": "91321b7e-7d54-411c-8619-ae56b6252627",
   "metadata": {},
   "outputs": [
    {
     "name": "stdout",
     "output_type": "stream",
     "text": [
      " \n",
      "동해물과 백두산이 \n",
      "마르고 닳도록\n",
      "하느님이 보우하사 \n",
      "우리나라 만세\n",
      "\n"
     ]
    }
   ],
   "source": [
    "print(''' \n",
    "동해물과 백두산이 \n",
    "마르고 닳도록\n",
    "하느님이 보우하사 \n",
    "우리나라 만세\n",
    "''')"
   ]
  },
  {
   "cell_type": "markdown",
   "id": "b2ef7082-9d39-4b19-a18b-d5bf89e64247",
   "metadata": {},
   "source": [
    "# 출력\n",
    "- print( ): ( ) 안에 출력하고자 하는 것을 넣어주면 출력을 하고 밑으로 내려준다.\n"
   ]
  },
  {
   "cell_type": "code",
   "execution_count": 3,
   "id": "0b8f8af3-56e3-4ea8-95fc-9ea3e243afe5",
   "metadata": {},
   "outputs": [
    {
     "name": "stdout",
     "output_type": "stream",
     "text": [
      "100\n",
      "11.11\n"
     ]
    }
   ],
   "source": [
    "print(100)\n",
    "print(11.11)"
   ]
  },
  {
   "cell_type": "code",
   "execution_count": 4,
   "id": "74074445-c116-41c2-8258-528b6e66b29a",
   "metadata": {},
   "outputs": [
    {
     "name": "stdout",
     "output_type": "stream",
     "text": [
      "100 200 300\n"
     ]
    }
   ],
   "source": [
    "#쉼표로 구분하여 여러개를 작성해주면 띄어쓰기를 하여 출력해준다.\n",
    "print(100, 200, 300)"
   ]
  },
  {
   "cell_type": "markdown",
   "id": "7ff5ff2f-cf8c-43fb-b95c-f050e5a55aca",
   "metadata": {},
   "source": [
    "# 문자열\n",
    "- 파이썬은 작은 따옴표('), 큰 따옴표(\") 모두 문자열로 취급한다.\n",
    "- 작은 따옴표 3개 ('''), 큰 따옴표 3개 (\"\"\")로 묶어주는 문자열도 제공된다."
   ]
  },
  {
   "cell_type": "code",
   "execution_count": 5,
   "id": "6f8cea46-aa64-4885-931a-05b192bf5c7f",
   "metadata": {},
   "outputs": [
    {
     "name": "stdout",
     "output_type": "stream",
     "text": [
      "문자열\n",
      "문자열\n",
      "동해물과 백두산이\n",
      "마르고 닳도록\n",
      "동해물과 백두산이\n",
      "마르고 닳도록\n"
     ]
    }
   ],
   "source": [
    "print('문자열')\n",
    "print(\"문자열\")\n",
    "print('''동해물과 백두산이\n",
    "마르고 닳도록''')\n",
    "print(\"\"\"동해물과 백두산이\n",
    "마르고 닳도록\"\"\")"
   ]
  },
  {
   "cell_type": "markdown",
   "id": "622da798-1462-49d7-9ce0-f6a2a83b305a",
   "metadata": {},
   "source": [
    "# 세미콜론(;)\n",
    "- C언어와 C언어의 문법을 차용하는 프로그램 언어들은 문장의 마지막임을 표시하기 위해 세미콜론을 반드시 찍어줘야 한다.\n",
    "- 그러나 파이썬은 세미콜론 사용이 자유롭다."
   ]
  },
  {
   "cell_type": "code",
   "execution_count": 6,
   "id": "d05a5964-46f5-4453-ac9a-e2d0367947ff",
   "metadata": {},
   "outputs": [
    {
     "name": "stdout",
     "output_type": "stream",
     "text": [
      "세미콜론 있음\n",
      "세미콜론 없음\n"
     ]
    }
   ],
   "source": [
    "print('세미콜론 있음');\n",
    "print('세미콜론 없음')"
   ]
  },
  {
   "cell_type": "code",
   "execution_count": 7,
   "id": "64ec07f6-622d-44bf-af9b-9c77386722a5",
   "metadata": {},
   "outputs": [
    {
     "name": "stdout",
     "output_type": "stream",
     "text": [
      "100\n",
      "200\n",
      "300\n"
     ]
    }
   ],
   "source": [
    "# 한 줄에 여러 명령문을 작성할 때는 세미콜론으로 구분해줘야 한다.\n",
    "# 그냥 한 줄에 명령문 하나만 작성하세요~ \n",
    "print(100); print(200); print(300)"
   ]
  },
  {
   "cell_type": "markdown",
   "id": "cf9eb135-a3e9-455f-803d-6f173c9206da",
   "metadata": {},
   "source": [
    "# 표기법"
   ]
  },
  {
   "cell_type": "markdown",
   "id": "739ce803-bc48-4983-817c-eb8f4fb669a8",
   "metadata": {},
   "source": [
    "\"Koreantotalaverage\"\n",
    "```\n",
    "- 카멜표기 기법: koreanTotalAverage\n",
    "- 스네이크 표기 기법: korean_total_average\n",
    "```\n",
    "- 변수: 첫 글자를 소문자로, 카멜\n",
    "- 함수: 첫 글자를 소문자로, 카멜\n",
    "- 클래스: 첫 글자를 대문자로, 카멜\n",
    "- 상수: 모든 글자를 대문자로, 스네이크"
   ]
  }
 ],
 "metadata": {
  "kernelspec": {
   "display_name": "Python 3 (ipykernel)",
   "language": "python",
   "name": "python3"
  },
  "language_info": {
   "codemirror_mode": {
    "name": "ipython",
    "version": 3
   },
   "file_extension": ".py",
   "mimetype": "text/x-python",
   "name": "python",
   "nbconvert_exporter": "python",
   "pygments_lexer": "ipython3",
   "version": "3.12.7"
  }
 },
 "nbformat": 4,
 "nbformat_minor": 5
}
