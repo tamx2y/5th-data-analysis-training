{
 "cells": [
  {
   "cell_type": "markdown",
   "id": "6da2e804-0a92-4e8f-a2c2-41e9483c8c22",
   "metadata": {},
   "source": [
    "문제1)\n",
    "\n",
    "자동차의 정보가 다음과 같이 구성되어 있다\n",
    "\n",
    "자동차 하나의 정보는 다음과 같다\n",
    "\n",
    "모델명, 연식, 배기량, 색상, 주행거리\n",
    "\n",
    "첫 번째 자동차 : 붕붕이, 2000, 500, 노란색, 100000\n",
    "\n",
    "두 번째 자동차 : 방구차, 1950, 200, 빨간색, 200000\n",
    "\n",
    "세 번째 자동차 : 아스라다, 1980, 5000000, 흰색, 300000\n",
    "\n",
    "출력은 다음과 같다.\n",
    "\n",
    "각 자동차의 정보를 모두 출력한다.\n",
    "\n",
    "총 배기량과 배기량 평균을 출력한다\n",
    "\n",
    "총 주행거리와 총 주행거리 평균을 출력한다\n"
   ]
  },
  {
   "cell_type": "code",
   "execution_count": 1,
   "id": "f59d977b-4d63-4d8b-8e7c-8007f971769d",
   "metadata": {},
   "outputs": [],
   "source": [
    "# 자동차의 정보를 담는 함수\n",
    "def setCarInfo(name, year, cc, color, length) : \n",
    "    car_dict = {\n",
    "        '이름' : name,\n",
    "        '연식' : year,\n",
    "        '배기량' : cc,\n",
    "        '색상' : color,\n",
    "        '주행거리' : length\n",
    "    }\n",
    "    return car_dict"
   ]
  },
  {
   "cell_type": "code",
   "execution_count": 2,
   "id": "17e6c25a-a1a0-468f-ab5d-a3c9bfac9357",
   "metadata": {},
   "outputs": [],
   "source": [
    "# 총 배기량과 배기량 평균을 구해 반환한다.\n",
    "def get_cc_info(*cars) :\n",
    "    # 배기량 총합을 담을 변수\n",
    "    total_cc = 0\n",
    "    # 자동의 수 만큼 반복한다.\n",
    "    for car in cars :\n",
    "        # 배기량을 누적한다\n",
    "        total_cc = total_cc + car['배기량']\n",
    "\n",
    "    # 배기량 평균을 구한다.\n",
    "    avg_cc = total_cc // len(cars)\n",
    "\n",
    "    return total_cc, avg_cc"
   ]
  },
  {
   "cell_type": "code",
   "execution_count": 3,
   "id": "2803fe02-ec8e-4a4c-806d-f2ff08b35ef2",
   "metadata": {},
   "outputs": [],
   "source": [
    "# 총 주행거리와 주행거리 평균을 구하는 함수\n",
    "def get_length_info(*cars) :\n",
    "    # 총 주행거리를 담을 변수\n",
    "    total_length = 0\n",
    "    # 자동차의 수 만큼 반복하면서 주행거리를 누적한다.\n",
    "    for car in cars :\n",
    "        total_length = total_length + car['주행거리']\n",
    "\n",
    "    # 주행거리 평균을 구한다.\n",
    "    avg_length = total_length // len(cars)\n",
    "\n",
    "    return total_length, avg_length"
   ]
  },
  {
   "cell_type": "code",
   "execution_count": 4,
   "id": "1a2d8a88-e8c9-4d4b-83b4-7b7bf7b9554e",
   "metadata": {},
   "outputs": [],
   "source": [
    "# 자동차의 정보를 출력한다.\n",
    "def show_car_info(*cars) :\n",
    "    for car in cars :\n",
    "        print(f'이름 : {car[\"이름\"]}')\n",
    "        print(f'연식 : {car[\"연식\"]}')\n",
    "        print(f'배기량 : {car[\"배기량\"]}')\n",
    "        print(f'색상 : {car[\"색상\"]}')\n",
    "        print(f'주행거리 : {car[\"주행거리\"]}')\n",
    "        print()"
   ]
  },
  {
   "cell_type": "code",
   "execution_count": null,
   "id": "aca2a4ee-3f8d-4f5b-aaeb-0040326a34fc",
   "metadata": {},
   "outputs": [],
   "source": [
    "# 총 배기량, 배기량 평균, 총 주행거리, 주행거리 평균을 출력한다.\n",
    "def show_cc_length_info(total_cc, avg_cc, total_length, avg_length) :\n",
    "    print(f'총 배기량 : {total_cc}')\n",
    "    print(f'평균 배기량 : {avg_cc}')\n",
    "    print(f'총 주행거리 : {total_length}')\n",
    "    print(f'평균 주행거리 : {avg_length}')"
   ]
  },
  {
   "cell_type": "code",
   "execution_count": 5,
   "id": "7e0e1580-6862-49fa-bd12-fa8039a97da8",
   "metadata": {},
   "outputs": [
    {
     "name": "stdout",
     "output_type": "stream",
     "text": [
      "이름 : 붕붕이\n",
      "연식 : 2000\n",
      "배기량 : 500\n",
      "색상 : 노란색\n",
      "주행거리 : 100000\n",
      "\n",
      "이름 : 방구차\n",
      "연식 : 1950\n",
      "배기량 : 200\n",
      "색상 : 빨간색\n",
      "주행거리 : 200000\n",
      "\n",
      "이름 : 아스라다\n",
      "연식 : 1980\n",
      "배기량 : 5000000\n",
      "색상 : 흰색\n",
      "주행거리 : 300000\n",
      "\n"
     ]
    }
   ],
   "source": [
    "# 자동차의 정보를 담는다.\n",
    "car1 = setCarInfo('붕붕이', 2000, 500, '노란색', 100000)\n",
    "car2 = setCarInfo('방구차', 1950, 200, '빨간색', 200000)\n",
    "car3 = setCarInfo('아스라다', 1980, 5000000, '흰색', 300000)\n",
    "\n",
    "# 총 배기량과 배기량 평균을 구한다.\n",
    "total_cc, avg_cc = get_cc_info(car1, car2, car3)\n",
    "# print(total_cc, avg_cc)\n",
    "\n",
    "# 총 주행거리와 주행거리 평균을 구한다.\n",
    "total_length, avg_length = get_length_info(car1, car2, car3)\n",
    "# print(total_length, avg_length)\n",
    "\n",
    "# 자동차의 정보를 출력한다.\n",
    "show_car_info(car1, car2, car3)\n",
    "\n",
    "# 총 배기량, 배기량 평균, 총 주행거리, 주행거리 평균을 출력한다.\n",
    "show_cc_length_info(total_cc, avg_cc, total_length, avg_length)"
   ]
  }
 ],
 "metadata": {
  "kernelspec": {
   "display_name": "Python 3 (ipykernel)",
   "language": "python",
   "name": "python3"
  },
  "language_info": {
   "codemirror_mode": {
    "name": "ipython",
    "version": 3
   },
   "file_extension": ".py",
   "mimetype": "text/x-python",
   "name": "python",
   "nbconvert_exporter": "python",
   "pygments_lexer": "ipython3",
   "version": "3.12.7"
  }
 },
 "nbformat": 4,
 "nbformat_minor": 5
}
