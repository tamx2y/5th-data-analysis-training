{
 "cells": [
  {
   "cell_type": "markdown",
   "id": "0e9f4e8b-7f4e-4d34-a076-fa4eebe1969a",
   "metadata": {},
   "source": [
    "# 예외처리\n",
    "- 예외: 오류의 발생을 미리 예측할 수 있는 오류들\n",
    "- 예외처리: 오류가 발생했거나 오류를 발생할 가능성이 있는 코드를 만났을 때 VM은 해당 프로그램을 강제 종료시킨다.\n",
    "- 예외처리라 함은 오류에 대해 강제 종료되는 것을 막고 개발자가 만든 코드가 동작될 수 있도록 함에 있다.\n",
    "- 예외처리 시 프로그램의 정상화가 가능하다면 정상화를 위한 코드를 작성하고 그렇지 않다면 적어도 사용자에게 메시지를 보여주고 오류에 대해 기록하는 작업은 해야 한다.\n",
    "- 가장 중요한 것은 오류가 발생될 원인이 있는지 확인(데이터의 무결성 검사 등)을 하여 오류가 발생될 수 있는 상황이 벌어지지 않도록 하는 것이 중요하다."
   ]
  },
  {
   "cell_type": "code",
   "execution_count": 7,
   "id": "c5c6ae8c-cecc-4793-b78d-703bb66bb549",
   "metadata": {},
   "outputs": [
    {
     "ename": "ZeroDivisionError",
     "evalue": "division by zero",
     "output_type": "error",
     "traceback": [
      "\u001b[1;31m---------------------------------------------------------------------------\u001b[0m",
      "\u001b[1;31mZeroDivisionError\u001b[0m                         Traceback (most recent call last)",
      "Cell \u001b[1;32mIn[7], line 1\u001b[0m\n\u001b[1;32m----> 1\u001b[0m a1 \u001b[38;5;241m=\u001b[39m \u001b[38;5;241m10\u001b[39m \u001b[38;5;241m/\u001b[39m \u001b[38;5;241m0\u001b[39m\n\u001b[0;32m      2\u001b[0m \u001b[38;5;28mprint\u001b[39m(a1)\n\u001b[0;32m      3\u001b[0m \u001b[38;5;28mprint\u001b[39m(\u001b[38;5;124m'\u001b[39m\u001b[38;5;124m이 부분이 수행될까요?\u001b[39m\u001b[38;5;124m'\u001b[39m)\n",
      "\u001b[1;31mZeroDivisionError\u001b[0m: division by zero"
     ]
    }
   ],
   "source": [
    "a1 = 10 / 0\n",
    "print(a1)\n",
    "print('이 부분이 수행될까요?')"
   ]
  },
  {
   "cell_type": "code",
   "execution_count": 8,
   "id": "fa7ef3b6-4d6a-41f4-95dc-70174da883f5",
   "metadata": {},
   "outputs": [
    {
     "name": "stdout",
     "output_type": "stream",
     "text": [
      "오류가 발생하였습니다\n",
      "이 부분이 수행될까요?\n"
     ]
    }
   ],
   "source": [
    "try : \n",
    "    a1 = 10 / 0\n",
    "    print(a1)\n",
    "\n",
    "except :\n",
    "    print('오류가 발생하였습니다')\n",
    "    \n",
    "print('이 부분이 수행될까요?')"
   ]
  },
  {
   "cell_type": "markdown",
   "id": "6c81d736-688b-4514-b936-53af7c65ec71",
   "metadata": {},
   "source": [
    "- try : 개발자가 작업하고자 하는 코드를 작성하는 부분\n",
    "- except : try 붑분에서 예외가 발생하면 try 부분의 수행을 중단하고 except 부분을 수행해준다. 여기에 정상화를 위한 코드나 오류메시지 기록 등에 관련된 작업을 해준다.\n",
    "- else : try 부분에서 예외가 발생하지 않고 모두 수행되었을 경우 동작하는 부분\n",
    "- finally : try 부분에서 예외 발생여부와 관계없이 무조건 동작하는 부분이다.\n",
    "- 예외가 발생하지 않았을 경우 : try 부분을 모두 수행 -> else가 있다면 else 부분 수행 -> finally가 있다면 finally 부분을 수행한다.\n",
    "- 예외가 발생했다면 : try 부분의 수행을 중단 -> except 부분을 수행한다 -> finally 부분이 있다면 finally 부분을 수행한다.\n",
    "- finally는 예외가 있든 없든 오류 발생 여부와 관계 없이 모두 진행되는 코드임. 별로 의미가 없음. "
   ]
  },
  {
   "cell_type": "code",
   "execution_count": 13,
   "id": "5e578fa7-c2cd-4474-ab42-78d0a7928c67",
   "metadata": {},
   "outputs": [
    {
     "name": "stdout",
     "output_type": "stream",
     "text": [
      "그 외의 오류가 발생하였습니다\n",
      "invalid literal for int() with base 10: '안녕하세요'\n",
      "무조건 동작하는 부분입니다\n"
     ]
    }
   ],
   "source": [
    "try :\n",
    "    # a1 = 10 + 20\n",
    "    # print(a1)\n",
    "\n",
    "    # a1 = 10 / 0\n",
    "    # print(a1)\n",
    "\n",
    "    # a2 = [10, 20, 30]\n",
    "    # print(a2[10])\n",
    "\n",
    "    a3 = '안녕하세요'\n",
    "    a4 = int(a3)\n",
    "except ZeroDivisionError as e:\n",
    "    print('0으로 나누는 예외가 발생하였습니다')\n",
    "    print(e)\n",
    "except IndexError as e:\n",
    "    print('잘못된 순서값으로 접근하였습니다')\n",
    "    print(e)\n",
    "except Exception as e:\n",
    "    print('그 외의 오류가 발생하였습니다')\n",
    "    print(e)\n",
    "else :\n",
    "    print('예외가 발생하지 않았습니다')\n",
    "finally :\n",
    "    print('무조건 동작하는 부분입니다')"
   ]
  },
  {
   "cell_type": "code",
   "execution_count": null,
   "id": "6d84fb6e-8e16-4d60-a5a0-3dac5f024c6e",
   "metadata": {},
   "outputs": [],
   "source": []
  }
 ],
 "metadata": {
  "kernelspec": {
   "display_name": "Python 3 (ipykernel)",
   "language": "python",
   "name": "python3"
  },
  "language_info": {
   "codemirror_mode": {
    "name": "ipython",
    "version": 3
   },
   "file_extension": ".py",
   "mimetype": "text/x-python",
   "name": "python",
   "nbconvert_exporter": "python",
   "pygments_lexer": "ipython3",
   "version": "3.12.7"
  }
 },
 "nbformat": 4,
 "nbformat_minor": 5
}
