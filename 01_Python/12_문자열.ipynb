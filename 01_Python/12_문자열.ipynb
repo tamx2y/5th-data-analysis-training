{
 "cells": [
  {
   "cell_type": "markdown",
   "id": "0b338f2c-f63d-4c14-ade7-980fa0f7c4bf",
   "metadata": {},
   "source": [
    "# 문자열\n",
    "- 파이썬은 작은 따옴표 (') 또는 큰 따옴표 (\")로 묶은 것들이 모두 같은 문자열이다."
   ]
  },
  {
   "cell_type": "code",
   "execution_count": 1,
   "id": "4223a78a-520a-430a-bcea-9e3d2929e458",
   "metadata": {},
   "outputs": [
    {
     "name": "stdout",
     "output_type": "stream",
     "text": [
      "str1 : 안녕하세요\n",
      "str2 : 안녕하세요\n",
      "<class 'str'>\n",
      "<class 'str'>\n"
     ]
    }
   ],
   "source": [
    "# 문자열 생성\n",
    "# 큰 따옴표나 작은 따옴표로 작성하는 것 자체가 문자열 객체를 생성하는 것이다.\n",
    "str1 = '안녕하세요'\n",
    "str2 = \"안녕하세요\"\n",
    "\n",
    "print('str1 :', str1)\n",
    "print('str2 :', str2)\n",
    "\n",
    "print(type(str1))\n",
    "print(type(str2))"
   ]
  },
  {
   "cell_type": "code",
   "execution_count": 2,
   "id": "1af56952-7993-4b8d-89fe-a9c84d4a6582",
   "metadata": {},
   "outputs": [
    {
     "name": "stdout",
     "output_type": "stream",
     "text": [
      "이름은 \"홍길동\" 입니다\n",
      "이름은 '홍길동' 입니다\n"
     ]
    }
   ],
   "source": [
    "# 큰 따옴표를 포함하는 문자열을 사용하고자 한다면\n",
    "str1 = '이름은 \"홍길동\" 입니다'\n",
    "# 작은 따옴표를 포함하는 문자열을 사용하고자 한다면\n",
    "str2 = \"이름은 '홍길동' 입니다\"\n",
    "\n",
    "print(str1)\n",
    "print(str2)"
   ]
  },
  {
   "cell_type": "code",
   "execution_count": 3,
   "id": "7f164e3b-4559-4b16-a321-7048451f9d20",
   "metadata": {},
   "outputs": [
    {
     "name": "stdout",
     "output_type": "stream",
     "text": [
      "\n",
      "동해물과 백두산이\n",
      "마르고 닳도록\n",
      "하느님이 보우하사\n",
      "우리나라 만세\n",
      "\n",
      "\n",
      "동해물과 백두산이\n",
      "마르고 닳도록\n",
      "하느님이 보우하사\n",
      "우리나라 만세\n",
      "\n"
     ]
    }
   ],
   "source": [
    "# 여러줄 문자열\n",
    "str1 = '''\n",
    "동해물과 백두산이\n",
    "마르고 닳도록\n",
    "하느님이 보우하사\n",
    "우리나라 만세\n",
    "'''\n",
    "\n",
    "str2 = \"\"\"\n",
    "동해물과 백두산이\n",
    "마르고 닳도록\n",
    "하느님이 보우하사\n",
    "우리나라 만세\n",
    "\"\"\"\n",
    "\n",
    "print(str1)\n",
    "print(str2)"
   ]
  },
  {
   "cell_type": "code",
   "execution_count": 4,
   "id": "d1ad59e9-2f75-4f42-8f3d-210ff61e84b6",
   "metadata": {},
   "outputs": [
    {
     "name": "stdout",
     "output_type": "stream",
     "text": [
      "동해물과\n",
      "백두산이\n",
      "동해물과\t\t백두산이\n",
      "동해물과\\백두산이\n"
     ]
    }
   ],
   "source": [
    "# 에스케이프 문자\n",
    "# \\ 와 같이 작성하는 특별한 의미를 가진 문자\n",
    "# \\n : 줄바꿈\n",
    "# \\t : 탭\n",
    "# \\' : 작은 따옴표\n",
    "# \\\" : 큰 따옴표\n",
    "# \\\\ : \\\n",
    "\n",
    "str1 = \"동해물과\\n백두산이\"\n",
    "print(str1)\n",
    "\n",
    "str2 = \"동해물과\\t\\t백두산이\"\n",
    "print(str2)\n",
    "\n",
    "str3 = \"동해물과\\\\백두산이\"\n",
    "print(str3)"
   ]
  },
  {
   "cell_type": "code",
   "execution_count": 5,
   "id": "701b2bfb-d141-42ba-bb2a-99def6b7b802",
   "metadata": {},
   "outputs": [
    {
     "name": "stdout",
     "output_type": "stream",
     "text": [
      "동해물과\n",
      "백두산이\t마르고\\닳도록\n",
      "동해물과\\n백두산이\\t마르고\\\\닳도록\n"
     ]
    }
   ],
   "source": [
    "# raw string\n",
    "# 에스케이프 문자를 무시한다.\n",
    "str1 = '동해물과\\n백두산이\\t마르고\\\\닳도록'\n",
    "print(str1)\n",
    "\n",
    "#만일 그대로 쓰고 싶다면 r을 붙이면 됨.\n",
    "str2 = r'동해물과\\n백두산이\\t마르고\\\\닳도록'\n",
    "print(str2)"
   ]
  },
  {
   "cell_type": "code",
   "execution_count": 6,
   "id": "08424a00-cf4b-4a1a-9a3f-e7c7ffe00ba2",
   "metadata": {},
   "outputs": [
    {
     "name": "stdout",
     "output_type": "stream",
     "text": [
      "이름은 '홍길동'이고 나이는 \"20살\" 입니다\n",
      "이름은 '홍길동'이고 나이는 \"20살\" 입니다\n"
     ]
    }
   ],
   "source": [
    "# 만약 문자열 안에 작은 따옴표, 큰 따옴표를 모두 포함한다면..\n",
    "str1 = '이름은 \\'홍길동\\'이고 나이는 \"20살\" 입니다'\n",
    "str2 = \"이름은 '홍길동'이고 나이는 \\\"20살\\\" 입니다\"\n",
    "\n",
    "print(str1)\n",
    "print(str2)"
   ]
  },
  {
   "cell_type": "code",
   "execution_count": 7,
   "id": "2a9a4b88-9004-4fcc-9da4-9b27fee99d56",
   "metadata": {},
   "outputs": [
    {
     "name": "stdout",
     "output_type": "stream",
     "text": [
      "이름은 '홍길동'이고 나이는 \"20살\" 입니다\n",
      "이름은 '홍길동'이고 나이는 \"20살\" 입니다\n"
     ]
    }
   ],
   "source": [
    "# ''' ''' 나 \"\"\" \"\"\" 를 사용하면 에스케이프 문자를 사용하지 않아도 된다\n",
    "str1 = '''이름은 '홍길동'이고 나이는 \"20살\" 입니다'''\n",
    "str2 = \"\"\"이름은 '홍길동'이고 나이는 \"20살\" 입니다\"\"\"\n",
    "print(str1)\n",
    "print(str2)\n",
    "# 시작한 것과 끝이 동일해야 한다. "
   ]
  },
  {
   "cell_type": "code",
   "execution_count": 8,
   "id": "9f585a0f-4b35-4c4b-a618-aeeeeae580a3",
   "metadata": {},
   "outputs": [
    {
     "name": "stdout",
     "output_type": "stream",
     "text": [
      "문자열1문자열2\n"
     ]
    }
   ],
   "source": [
    "# 문자열 합치기\n",
    "# a1 = 100 + '문자열' (오류)\n",
    "# 그런데 문자열을 더하기 연산자로 연산하면 하나의 문자열로 만들어준다. \n",
    "a1 = '문자열1' + '문자열2'\n",
    "print(a1)"
   ]
  },
  {
   "cell_type": "code",
   "execution_count": 13,
   "id": "aba1fe25-d269-4c5e-8513-394b4f2439ff",
   "metadata": {},
   "outputs": [
    {
     "name": "stdout",
     "output_type": "stream",
     "text": [
      "이름은 홍길동이고, 나이는 20살 입니다. 홍길동의 키는 185cm 입니다.\n",
      "이름은 홍길동이고, 나이는 20살 입니다. 홍길동의 키는 185cm 입니다\n",
      "이름은 홍길동이고 나이는 20살 입니다. 홍길동의 키는 185cm 입니다.\n"
     ]
    }
   ],
   "source": [
    "# 문자열과 다른 타입의 값을 더하기 연산자로 합치는 것은 불가능하다 ->오류\n",
    "# str( )을 이용하여 문자열을 변환한 다음 합쳐준다.\n",
    "a1 = '홍길동' #name\n",
    "a2 = 20 #age\n",
    "a3 = 185 #height\n",
    "\n",
    "# str1 = '이름은' + a1 + '이고 나이는' + a2 + '살 입니다' + a1 + '의 키는' + a3 + 'cm 입니다'\n",
    "# print(str1) <- 오류 (a2, a3가 숫자이기 때문에)\n",
    "\n",
    "# 포맷 문자 사용\n",
    "# 정수 : %d, 실수 : %f, 문자열: %s, 그 외는 : %s\n",
    "str2 = '이름은 %s이고, 나이는 %d살 입니다. %s의 키는 %dcm 입니다.' % (a1, a2, a1, a3)\n",
    "print(str2)\n",
    "\n",
    "# format 사용\n",
    "str3 = '이름은 {0}이고, 나이는 {1}살 입니다. {0}의 키는 {2}cm 입니다'.format(a1, a2, a3)\n",
    "print(str3)\n",
    "\n",
    "# f 문자열 사용\n",
    "str4 = f'이름은 {a1}이고 나이는 {a2}살 입니다. {a1}의 키는 {a3}cm 입니다.'\n",
    "print(str4)"
   ]
  },
  {
   "cell_type": "markdown",
   "id": "a6b997df-46c8-4077-8d36-66cfe3dedb6f",
   "metadata": {},
   "source": [
    "프로그래밍 언어를 배우는 이유는 컴퓨터와 대화하기 위해서 배우는 것이다 ^^\n",
    "나는 지금 새로운 언어를 배우고 있는 중이다..! 원래 어색한게 당연한거야."
   ]
  },
  {
   "cell_type": "code",
   "execution_count": 4,
   "id": "df9b8fd7-4e13-4622-a802-d8c12c9ca16c",
   "metadata": {},
   "outputs": [
    {
     "name": "stdout",
     "output_type": "stream",
     "text": [
      "a\n",
      "b\n",
      "g\n",
      "f\n"
     ]
    }
   ],
   "source": [
    "# 문자열 내의 문자 접근\n",
    "str1 = 'abcdefg'\n",
    "\n",
    "# 0부터 1씩 증가하는 순서값을 이용하여 첫 번째 글자부터 접근할 수 있다.\n",
    "# 첫번째 글자\n",
    "print(str1[0])\n",
    "# 두번째 글짜 \n",
    "print(str1[1])\n",
    "\n",
    "# -1부터 1씩 감소하는 순서값을 이용하여 마지막 글자부터 접근할 수 있다.\n",
    "# 뒤에서 첫 번째 글자\n",
    "print(str1[-1])\n",
    "print(str1[-2])"
   ]
  },
  {
   "cell_type": "code",
   "execution_count": 8,
   "id": "bb483c28-a4a6-4fea-9ae2-5aa7a31b8052",
   "metadata": {},
   "outputs": [
    {
     "name": "stdout",
     "output_type": "stream",
     "text": [
      "cde\n",
      "abcde\n",
      "cdefg\n"
     ]
    }
   ],
   "source": [
    "# 순서값 2 ~ 5 -1\n",
    "print(str1[2:5])\n",
    "# 처음부터 5 -1 \n",
    "print(str1[:5])\n",
    "#순서값 2 ~ 끝까지\n",
    "print(str1[2:])"
   ]
  },
  {
   "cell_type": "code",
   "execution_count": 11,
   "id": "a1213a9d-15d2-4fbf-a4cb-b2ee4845a418",
   "metadata": {},
   "outputs": [
    {
     "name": "stdout",
     "output_type": "stream",
     "text": [
      "문자열1문자열2\n"
     ]
    }
   ],
   "source": [
    "# 문자열 + 문자열 => 둘을 합친 새로운 문자열이 생성된다.\n",
    "str1 = '문자열1' + '문자열2'\n",
    "print(str1)"
   ]
  },
  {
   "cell_type": "code",
   "execution_count": 13,
   "id": "b2f7e5b2-a388-4a18-8151-127cdea33ff7",
   "metadata": {},
   "outputs": [
    {
     "name": "stdout",
     "output_type": "stream",
     "text": [
      "문자열1문자열1문자열1\n"
     ]
    }
   ],
   "source": [
    "# 문자열 * 숫자 : 숫자만큼 문자열을 반복한 문자열이 생성된다.\n",
    "str1 = '문자열1' * 3\n",
    "print(str1)"
   ]
  },
  {
   "cell_type": "code",
   "execution_count": 16,
   "id": "59b0b2cf-10ba-455f-938f-0123e1a54514",
   "metadata": {},
   "outputs": [
    {
     "name": "stdout",
     "output_type": "stream",
     "text": [
      "7\n",
      "7\n"
     ]
    }
   ],
   "source": [
    "# 글자수\n",
    "str1 = 'abcdefg' \n",
    "str2 = '가나다라마바사'\n",
    "\n",
    "a1 = len(str1)\n",
    "a2 = len(str2)\n",
    "\n",
    "print(a1)\n",
    "print(a2)"
   ]
  },
  {
   "cell_type": "code",
   "execution_count": 20,
   "id": "9d848ed2-09e4-40a8-a499-42e400c8a1d9",
   "metadata": {},
   "outputs": [
    {
     "name": "stdout",
     "output_type": "stream",
     "text": [
      "Hello world\n",
      "Hello world\n"
     ]
    }
   ],
   "source": [
    "# 첫글자를 대문자로 변경한다.\n",
    "str1 = 'hello world'\n",
    "str2 = str1.capitalize()\n",
    "print(str2)\n",
    "\n",
    "str3 = 'hELLO WORLD'\n",
    "str4 = str3.capitalize()\n",
    "print(str4)"
   ]
  },
  {
   "cell_type": "code",
   "execution_count": 26,
   "id": "7154cb8a-3e8b-423d-8744-74e540b75e2a",
   "metadata": {},
   "outputs": [
    {
     "name": "stdout",
     "output_type": "stream",
     "text": [
      "[_________________python_________________]\n",
      "[python__________________________________]\n",
      "[                                  python]\n"
     ]
    }
   ],
   "source": [
    "str1 = 'python'\n",
    "\n",
    "# 주어진 문자열을 주어진 크기로 늘려준다.\n",
    "# 원본 문자열(글자 1개짜리)을 가운데 배치하고 나머지는 공백으로 채워준다.\n",
    "str2 = str1.center(40, '_')\n",
    "print(f'[{str2}]')\n",
    "\n",
    "# 원본 문자열을 좌측에 배치하고 나머지는 공백으로 채워준다.\n",
    "str3 = str1.ljust(40, '_')\n",
    "print(f'[{str3}]')\n",
    "\n",
    "# 원본 문자열을 우측에 배치하고 나머지는 공백으로 채워준다.\n",
    "str4 = str1.rjust(40)\n",
    "print(f'[{str4}]')"
   ]
  },
  {
   "cell_type": "code",
   "execution_count": 31,
   "id": "b867ae83-a656-4227-a7fb-a59665778509",
   "metadata": {},
   "outputs": [
    {
     "name": "stdout",
     "output_type": "stream",
     "text": [
      "3\n",
      "7\n",
      "5\n",
      "1\n"
     ]
    }
   ],
   "source": [
    "str1 = 'abcd abcd abcd aaaa'\n",
    "\n",
    "# 문자열 내에 abcd가 몇개가 있는가..\n",
    "a1 = str1.count('abcd')\n",
    "print(a1)\n",
    "\n",
    "# 문자열 내에 a가 몇 개가 있는가\n",
    "a2 = str1.count('a')\n",
    "print(a2)\n",
    "\n",
    "# 앞에서부터 10글자(보통 10-1까지)를 제외하고 a가 몇개가 있는가\n",
    "a3 = str1.count('a', 10)\n",
    "print(a3)\n",
    "\n",
    "# 앞에서부터 10글자를 제외하고 순서값 15번째 부터 끝까지를 제외한 a가 몇개가 있는가?\n",
    "a4 = str1.count('a', 10, 15)\n",
    "print(a4)"
   ]
  },
  {
   "cell_type": "code",
   "execution_count": 34,
   "id": "7df271e4-7dc6-41e9-96ec-25e58d567c2e",
   "metadata": {},
   "outputs": [
    {
     "name": "stdout",
     "output_type": "stream",
     "text": [
      "True\n",
      "False\n"
     ]
    }
   ],
   "source": [
    "str1 = 'abcdefg'\n",
    "\n",
    "# 문자열이 abc로 시작하는가\n",
    "a1 = str1.startswith('abc')\n",
    "print(a1)\n",
    "\n",
    "# 문자열이 zzz로 시작하는가\n",
    "a2 = str1.startswith('zzz')\n",
    "print(a2)"
   ]
  },
  {
   "cell_type": "code",
   "execution_count": 37,
   "id": "13e50bc2-69a1-4d45-b9af-5e054cfb32ce",
   "metadata": {},
   "outputs": [
    {
     "name": "stdout",
     "output_type": "stream",
     "text": [
      "True\n",
      "False\n"
     ]
    }
   ],
   "source": [
    "# 문자열이 efg로 끝나는가\n",
    "a3 = str1.endswith('efg')\n",
    "print(a3)\n",
    "\n",
    "# 문자열이 zzz로 끝나는가\n",
    "a4 = str1.endswith('zzz')\n",
    "print(a4)"
   ]
  },
  {
   "cell_type": "code",
   "execution_count": 39,
   "id": "e192da14-cc56-4ee1-afa5-65b3e779b49a",
   "metadata": {},
   "outputs": [
    {
     "name": "stdout",
     "output_type": "stream",
     "text": [
      "2\n",
      "2\n"
     ]
    }
   ],
   "source": [
    "# cde가 어디에 있는가\n",
    "a1 = str1.find('cde')\n",
    "a2 = str1.index('cde')\n",
    "\n",
    "print(a1)\n",
    "print(a2)"
   ]
  },
  {
   "cell_type": "code",
   "execution_count": 41,
   "id": "4d895637-7616-40b4-8224-236e0607ef0a",
   "metadata": {},
   "outputs": [
    {
     "name": "stdout",
     "output_type": "stream",
     "text": [
      "-1\n"
     ]
    },
    {
     "ename": "ValueError",
     "evalue": "substring not found",
     "output_type": "error",
     "traceback": [
      "\u001b[1;31m---------------------------------------------------------------------------\u001b[0m",
      "\u001b[1;31mValueError\u001b[0m                                Traceback (most recent call last)",
      "Cell \u001b[1;32mIn[41], line 5\u001b[0m\n\u001b[0;32m      2\u001b[0m a3 \u001b[38;5;241m=\u001b[39m str1\u001b[38;5;241m.\u001b[39mfind(\u001b[38;5;124m'\u001b[39m\u001b[38;5;124mzzz\u001b[39m\u001b[38;5;124m'\u001b[39m)\n\u001b[0;32m      3\u001b[0m \u001b[38;5;28mprint\u001b[39m(a3)\n\u001b[1;32m----> 5\u001b[0m a4 \u001b[38;5;241m=\u001b[39m str1\u001b[38;5;241m.\u001b[39mindex(\u001b[38;5;124m'\u001b[39m\u001b[38;5;124mzzz\u001b[39m\u001b[38;5;124m'\u001b[39m)\n\u001b[0;32m      6\u001b[0m \u001b[38;5;28mprint\u001b[39m(a4)\n",
      "\u001b[1;31mValueError\u001b[0m: substring not found"
     ]
    }
   ],
   "source": [
    "# 없는 문자열 찾기\n",
    "a3 = str1.find('zzz')\n",
    "print(a3)\n",
    "\n",
    "a4 = str1.index('zzz')\n",
    "print(a4)\n",
    "# 이건 오류가 발생하는 코드야"
   ]
  },
  {
   "cell_type": "code",
   "execution_count": 42,
   "id": "d1f42898-b7a8-4c4b-9ff8-22a48ba7b05b",
   "metadata": {},
   "outputs": [
    {
     "name": "stdout",
     "output_type": "stream",
     "text": [
      "True\n",
      "True\n",
      "True\n",
      "True\n",
      "False\n"
     ]
    }
   ],
   "source": [
    "# 숫자와 문자로 구성되어 있는가\n",
    "str1 = 'abcd1234'\n",
    "a1 = str1.isalnum()\n",
    "print(a1)\n",
    "\n",
    "str2 = 'abcd'\n",
    "a2 = str2.isalnum()\n",
    "print(a2)\n",
    "\n",
    "str3 = '1234'\n",
    "a3 = str3.isalnum()\n",
    "print(a3)\n",
    "\n",
    "str4 = 'abcd가나다라1234'\n",
    "a4 = str4.isalnum()\n",
    "print(a4)\n",
    "\n",
    "str5 = 'abcd_1234'\n",
    "a5 = str5.isalnum()\n",
    "print(a5)\n",
    "# _ <- 특수문자\n"
   ]
  },
  {
   "cell_type": "code",
   "execution_count": 45,
   "id": "c2e84c6b-4061-4fa2-821f-7b90e40af581",
   "metadata": {},
   "outputs": [
    {
     "name": "stdout",
     "output_type": "stream",
     "text": [
      "True\n",
      "True\n",
      "True\n",
      "True\n"
     ]
    }
   ],
   "source": [
    "# 숫자로만 구성되어 있는가\n",
    "str6 = '123456'\n",
    "a6 = str6.isdigit()\n",
    "print(a6)\n",
    "\n",
    "# 문자로만 구성되어 있는가\n",
    "str7 = 'abcdef'\n",
    "a7 = str7.isalpha()\n",
    "print(a7)\n",
    "\n",
    "# 소문자로 구성되어 있는가\n",
    "str8 = 'abcdefg'\n",
    "a8 = str8.islower()\n",
    "print(a8)\n",
    "\n",
    "#대문자로 구성되어 있는가\n",
    "str9 = 'ABCDEFG'\n",
    "a9 = str9.isupper()\n",
    "print(a9)"
   ]
  },
  {
   "cell_type": "code",
   "execution_count": 47,
   "id": "27179dea-f0b8-4b67-bb1e-7a7c017d1b72",
   "metadata": {},
   "outputs": [
    {
     "name": "stdout",
     "output_type": "stream",
     "text": [
      "abcdef\n",
      "ABCDEF\n"
     ]
    }
   ],
   "source": [
    "str1 = 'ABcdEF'\n",
    "\n",
    "# 대문자를 소문자로 변경\n",
    "str2 = str1.lower()\n",
    "print(str2)\n",
    "\n",
    "# 소문자를 대문자로 변경\n",
    "str3 = str1.upper()\n",
    "print(str3)"
   ]
  },
  {
   "cell_type": "code",
   "execution_count": 54,
   "id": "ff0fb6a7-adaf-4264-b7a8-9e4764259be1",
   "metadata": {},
   "outputs": [
    {
     "name": "stdout",
     "output_type": "stream",
     "text": [
      "abzzzzzzfg\n",
      "abzzzzzzfzzzzzzkkk\n",
      "abzzzzzzfzzzzzzkkk\n"
     ]
    }
   ],
   "source": [
    "# 지정된 문자열의 일부를 다른 문자열로 변경한다\n",
    "str1 = 'abcdefg' \n",
    "# cde를 zzzzz로 변경한다.\n",
    "str2 = str1.replace('cde', 'zzzzzz')\n",
    "print(str2)\n",
    "\n",
    "str3 = 'abcdefcdekkk'\n",
    "str4 = str3.replace('cde', 'zzzzzz')\n",
    "\n",
    "print(str4)\n",
    "\n",
    "str5 = 'abcdefcdekkk'\n",
    "# 3번째 숫자를 넣어주면 그 개수만큼 변경한다\n",
    "str6 = str5.replace('cde', 'zzzzzz', -1)\n",
    "print(str6)"
   ]
  }
 ],
 "metadata": {
  "kernelspec": {
   "display_name": "Python 3 (ipykernel)",
   "language": "python",
   "name": "python3"
  },
  "language_info": {
   "codemirror_mode": {
    "name": "ipython",
    "version": 3
   },
   "file_extension": ".py",
   "mimetype": "text/x-python",
   "name": "python",
   "nbconvert_exporter": "python",
   "pygments_lexer": "ipython3",
   "version": "3.12.7"
  }
 },
 "nbformat": 4,
 "nbformat_minor": 5
}
