{
 "cells": [
  {
   "cell_type": "markdown",
   "id": "0b338f2c-f63d-4c14-ade7-980fa0f7c4bf",
   "metadata": {},
   "source": [
    "# 문자열\n",
    "- 파이썬은 작은 따옴표 (') 또는 큰 따옴표 (\")로 묶은 것들이 모두 같은 문자열이다."
   ]
  },
  {
   "cell_type": "code",
   "execution_count": 1,
   "id": "4223a78a-520a-430a-bcea-9e3d2929e458",
   "metadata": {},
   "outputs": [
    {
     "name": "stdout",
     "output_type": "stream",
     "text": [
      "str1 : 안녕하세요\n",
      "str2 : 안녕하세요\n",
      "<class 'str'>\n",
      "<class 'str'>\n"
     ]
    }
   ],
   "source": [
    "# 문자열 생성\n",
    "# 큰 따옴표나 작은 따옴표로 작성하는 것 자체가 문자열 객체를 생성하는 것이다.\n",
    "str1 = '안녕하세요'\n",
    "str2 = \"안녕하세요\"\n",
    "\n",
    "print('str1 :', str1)\n",
    "print('str2 :', str2)\n",
    "\n",
    "print(type(str1))\n",
    "print(type(str2))"
   ]
  },
  {
   "cell_type": "code",
   "execution_count": 2,
   "id": "1af56952-7993-4b8d-89fe-a9c84d4a6582",
   "metadata": {},
   "outputs": [
    {
     "name": "stdout",
     "output_type": "stream",
     "text": [
      "이름은 \"홍길동\" 입니다\n",
      "이름은 '홍길동' 입니다\n"
     ]
    }
   ],
   "source": [
    "# 큰 따옴표를 포함하는 문자열을 사용하고자 한다면\n",
    "str1 = '이름은 \"홍길동\" 입니다'\n",
    "# 작은 따옴표를 포함하는 문자열을 사용하고자 한다면\n",
    "str2 = \"이름은 '홍길동' 입니다\"\n",
    "\n",
    "print(str1)\n",
    "print(str2)"
   ]
  },
  {
   "cell_type": "code",
   "execution_count": 3,
   "id": "7f164e3b-4559-4b16-a321-7048451f9d20",
   "metadata": {},
   "outputs": [
    {
     "name": "stdout",
     "output_type": "stream",
     "text": [
      "\n",
      "동해물과 백두산이\n",
      "마르고 닳도록\n",
      "하느님이 보우하사\n",
      "우리나라 만세\n",
      "\n",
      "\n",
      "동해물과 백두산이\n",
      "마르고 닳도록\n",
      "하느님이 보우하사\n",
      "우리나라 만세\n",
      "\n"
     ]
    }
   ],
   "source": [
    "# 여러줄 문자열\n",
    "str1 = '''\n",
    "동해물과 백두산이\n",
    "마르고 닳도록\n",
    "하느님이 보우하사\n",
    "우리나라 만세\n",
    "'''\n",
    "\n",
    "str2 = \"\"\"\n",
    "동해물과 백두산이\n",
    "마르고 닳도록\n",
    "하느님이 보우하사\n",
    "우리나라 만세\n",
    "\"\"\"\n",
    "\n",
    "print(str1)\n",
    "print(str2)"
   ]
  },
  {
   "cell_type": "code",
   "execution_count": 4,
   "id": "d1ad59e9-2f75-4f42-8f3d-210ff61e84b6",
   "metadata": {},
   "outputs": [
    {
     "name": "stdout",
     "output_type": "stream",
     "text": [
      "동해물과\n",
      "백두산이\n",
      "동해물과\t\t백두산이\n",
      "동해물과\\백두산이\n"
     ]
    }
   ],
   "source": [
    "# 에스케이프 문자\n",
    "# \\ 와 같이 작성하는 특별한 의미를 가진 문자\n",
    "# \\n : 줄바꿈\n",
    "# \\t : 탭\n",
    "# \\' : 작은 따옴표\n",
    "# \\\" : 큰 따옴표\n",
    "# \\\\ : \\\n",
    "\n",
    "str1 = \"동해물과\\n백두산이\"\n",
    "print(str1)\n",
    "\n",
    "str2 = \"동해물과\\t\\t백두산이\"\n",
    "print(str2)\n",
    "\n",
    "str3 = \"동해물과\\\\백두산이\"\n",
    "print(str3)"
   ]
  },
  {
   "cell_type": "code",
   "execution_count": 5,
   "id": "701b2bfb-d141-42ba-bb2a-99def6b7b802",
   "metadata": {},
   "outputs": [
    {
     "name": "stdout",
     "output_type": "stream",
     "text": [
      "동해물과\n",
      "백두산이\t마르고\\닳도록\n",
      "동해물과\\n백두산이\\t마르고\\\\닳도록\n"
     ]
    }
   ],
   "source": [
    "# raw string\n",
    "# 에스케이프 문자를 무시한다.\n",
    "str1 = '동해물과\\n백두산이\\t마르고\\\\닳도록'\n",
    "print(str1)\n",
    "\n",
    "#만일 그대로 쓰고 싶다면 r을 붙이면 됨.\n",
    "str2 = r'동해물과\\n백두산이\\t마르고\\\\닳도록'\n",
    "print(str2)"
   ]
  },
  {
   "cell_type": "code",
   "execution_count": 6,
   "id": "08424a00-cf4b-4a1a-9a3f-e7c7ffe00ba2",
   "metadata": {},
   "outputs": [
    {
     "name": "stdout",
     "output_type": "stream",
     "text": [
      "이름은 '홍길동'이고 나이는 \"20살\" 입니다\n",
      "이름은 '홍길동'이고 나이는 \"20살\" 입니다\n"
     ]
    }
   ],
   "source": [
    "# 만약 문자열 안에 작은 따옴표, 큰 따옴표를 모두 포함한다면..\n",
    "str1 = '이름은 \\'홍길동\\'이고 나이는 \"20살\" 입니다'\n",
    "str2 = \"이름은 '홍길동'이고 나이는 \\\"20살\\\" 입니다\"\n",
    "\n",
    "print(str1)\n",
    "print(str2)"
   ]
  },
  {
   "cell_type": "code",
   "execution_count": 7,
   "id": "2a9a4b88-9004-4fcc-9da4-9b27fee99d56",
   "metadata": {},
   "outputs": [
    {
     "name": "stdout",
     "output_type": "stream",
     "text": [
      "이름은 '홍길동'이고 나이는 \"20살\" 입니다\n",
      "이름은 '홍길동'이고 나이는 \"20살\" 입니다\n"
     ]
    }
   ],
   "source": [
    "# ''' ''' 나 \"\"\" \"\"\" 를 사용하면 에스케이프 문자를 사용하지 않아도 된다\n",
    "str1 = '''이름은 '홍길동'이고 나이는 \"20살\" 입니다'''\n",
    "str2 = \"\"\"이름은 '홍길동'이고 나이는 \"20살\" 입니다\"\"\"\n",
    "print(str1)\n",
    "print(str2)\n",
    "# 시작한 것과 끝이 동일해야 한다. "
   ]
  },
  {
   "cell_type": "code",
   "execution_count": 8,
   "id": "9f585a0f-4b35-4c4b-a618-aeeeeae580a3",
   "metadata": {},
   "outputs": [
    {
     "name": "stdout",
     "output_type": "stream",
     "text": [
      "문자열1문자열2\n"
     ]
    }
   ],
   "source": [
    "# 문자열 합치기\n",
    "# a1 = 100 + '문자열' (오류)\n",
    "# 그런데 문자열을 더하기 연산자로 연산하면 하나의 문자열로 만들어준다. \n",
    "a1 = '문자열1' + '문자열2'\n",
    "print(a1)"
   ]
  },
  {
   "cell_type": "code",
   "execution_count": 13,
   "id": "aba1fe25-d269-4c5e-8513-394b4f2439ff",
   "metadata": {},
   "outputs": [
    {
     "name": "stdout",
     "output_type": "stream",
     "text": [
      "이름은 홍길동이고, 나이는 20살 입니다. 홍길동의 키는 185cm 입니다.\n",
      "이름은 홍길동이고, 나이는 20살 입니다. 홍길동의 키는 185cm 입니다\n",
      "이름은 홍길동이고 나이는 20살 입니다. 홍길동의 키는 185cm 입니다.\n"
     ]
    }
   ],
   "source": [
    "# 문자열과 다른 타입의 값을 더하기 연산자로 합치는 것은 불가능하다 ->오류\n",
    "# str( )을 이용하여 문자열을 변환한 다음 합쳐준다.\n",
    "a1 = '홍길동' #name\n",
    "a2 = 20 #age\n",
    "a3 = 185 #height\n",
    "\n",
    "# str1 = '이름은' + a1 + '이고 나이는' + a2 + '살 입니다' + a1 + '의 키는' + a3 + 'cm 입니다'\n",
    "# print(str1) <- 오류 (a2, a3가 숫자이기 때문에)\n",
    "\n",
    "# 포맷 문자 사용\n",
    "# 정수 : %d, 실수 : %f, 문자열: %s, 그 외는 : %s\n",
    "str2 = '이름은 %s이고, 나이는 %d살 입니다. %s의 키는 %dcm 입니다.' % (a1, a2, a1, a3)\n",
    "print(str2)\n",
    "\n",
    "# format 사용\n",
    "str3 = '이름은 {0}이고, 나이는 {1}살 입니다. {0}의 키는 {2}cm 입니다'.format(a1, a2, a3)\n",
    "print(str3)\n",
    "\n",
    "# f 문자열 사용\n",
    "str4 = f'이름은 {a1}이고 나이는 {a2}살 입니다. {a1}의 키는 {a3}cm 입니다.'\n",
    "print(str4)"
   ]
  }
 ],
 "metadata": {
  "kernelspec": {
   "display_name": "Python 3 (ipykernel)",
   "language": "python",
   "name": "python3"
  },
  "language_info": {
   "codemirror_mode": {
    "name": "ipython",
    "version": 3
   },
   "file_extension": ".py",
   "mimetype": "text/x-python",
   "name": "python",
   "nbconvert_exporter": "python",
   "pygments_lexer": "ipython3",
   "version": "3.12.7"
  }
 },
 "nbformat": 4,
 "nbformat_minor": 5
}
