{
 "cells": [
  {
   "cell_type": "markdown",
   "id": "0dfadb5d-7215-44b5-a06d-35e3a7b38a8a",
   "metadata": {},
   "source": [
    "# if 문\n",
    "- if 문에 주어진 연산식의 결과가 True 일 경우에만 관리하는 코드를 수행한다.\n",
    "  "
   ]
  },
  {
   "cell_type": "code",
   "execution_count": 1,
   "id": "846b12ee-4450-465a-86d7-d094e7b4a6f7",
   "metadata": {},
   "outputs": [],
   "source": [
    "a1 = 100"
   ]
  },
  {
   "cell_type": "code",
   "execution_count": 2,
   "id": "6f571c74-4f14-411a-929e-39720ab69417",
   "metadata": {},
   "outputs": [
    {
     "name": "stdout",
     "output_type": "stream",
     "text": [
      "a1은 100 입니다\n"
     ]
    }
   ],
   "source": [
    "# a1은 100이 저장되어 있으므로 True이기 때문에 관리하는 코드가 수행된다.\n",
    "if a1 == 100 : \n",
    "    print(\"a1은 100 입니다\")    "
   ]
  },
  {
   "cell_type": "code",
   "execution_count": 3,
   "id": "71c47ea0-e265-4209-85af-39fff676d9c3",
   "metadata": {},
   "outputs": [],
   "source": [
    "# a1은 100이 저장되어 있으므로 False이기 때문에 관리하는 코드가 수행되지 않는다. \n",
    "# 아무것도 출력되지 않음. \n",
    "if a1 != 100:\n",
    "    print(\"a1은 100이 아닙니다\")"
   ]
  },
  {
   "cell_type": "code",
   "execution_count": 4,
   "id": "59dcb2e2-1cb7-4302-8c97-0cd193d4abd4",
   "metadata": {},
   "outputs": [
    {
     "name": "stdout",
     "output_type": "stream",
     "text": [
      "이 부분이 수행될까요? 2\n"
     ]
    }
   ],
   "source": [
    "# 파이썬에서는 if문과 같이 어떠한 코드를 관리하는 요소들은\n",
    "# 자신이 관리하는 코드의 범위를 들여쓰기로 구분한다.\n",
    "# 파이썬 코드를 작성할 때는 들여쓰기를 반드시 주의해주세요.\n",
    "\n",
    "if a1 != 100 : \n",
    "    print(\"for 1\")\n",
    "    print(\"이 부분이 수행될까요? 1\")\n",
    "\n",
    "if a1 != 100 : \n",
    "    print(\"for 2\")\n",
    "print(\"이 부분이 수행될까요? 2\") # <- if문과 상관없는 코드 "
   ]
  },
  {
   "cell_type": "code",
   "execution_count": 6,
   "id": "397766b3-8c9b-4184-8e38-25ae4d0fc907",
   "metadata": {},
   "outputs": [
    {
     "name": "stdout",
     "output_type": "stream",
     "text": [
      "a1은 100입니다\n",
      "a1은 100입니다\n"
     ]
    }
   ],
   "source": [
    "# else\n",
    "# if 문의 조건식의 결과가 False인 경우 수행되는 부분\n",
    "\n",
    "if a1 == 100 : \n",
    "    print(\"a1은 100입니다\")\n",
    "else :\n",
    "    print(\"a1은 100이 아닙니다\")\n",
    "if a1 != 100 : \n",
    "    print(\"a1은 100이 아닙니다\")\n",
    "else :\n",
    "    print(\"a1은 100입니다\")"
   ]
  },
  {
   "cell_type": "code",
   "execution_count": 8,
   "id": "1d6ebe4b-ffc9-4389-b255-620d486a886f",
   "metadata": {},
   "outputs": [
    {
     "name": "stdout",
     "output_type": "stream",
     "text": [
      "a1은 100입니다\n"
     ]
    }
   ],
   "source": [
    "#elif : 조건이 다수일 경우 사용한다.\n",
    "if a1 == 50 :\n",
    "    print(\"a1은 50입니다\")\n",
    "elif a1 == 70 :\n",
    "    print(\"a1은 70입니다\")\n",
    "elif a1 == 100 :\n",
    "    print(\"a1은 100입니다\")\n",
    "elif a1 == 150 : \n",
    "    print(\"a1은 150입니다\")\n",
    "else :\n",
    "    print(\"a1은 50, 70, 100, 150이 아닙니다\")"
   ]
  }
 ],
 "metadata": {
  "kernelspec": {
   "display_name": "Python 3 (ipykernel)",
   "language": "python",
   "name": "python3"
  },
  "language_info": {
   "codemirror_mode": {
    "name": "ipython",
    "version": 3
   },
   "file_extension": ".py",
   "mimetype": "text/x-python",
   "name": "python",
   "nbconvert_exporter": "python",
   "pygments_lexer": "ipython3",
   "version": "3.12.7"
  }
 },
 "nbformat": 4,
 "nbformat_minor": 5
}
