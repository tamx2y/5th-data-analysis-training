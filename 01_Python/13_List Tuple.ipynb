{
 "cells": [
  {
   "cell_type": "markdown",
   "id": "03b34c41-7d76-43f1-bdb7-7d07a6c15aa3",
   "metadata": {},
   "source": [
    "# List Tuple\n",
    "- 0부터 1씩 증가하는 순서값을 이용하여 데이터들을 관리하는 요소\n",
    "- Tuple은 읽기만 가능하고 List는 수정, 삭제, 삽입, 추가 등이 가능하다."
   ]
  },
  {
   "cell_type": "code",
   "execution_count": 3,
   "id": "ce850d90-8681-494a-a8bd-c80166b5ccf0",
   "metadata": {},
   "outputs": [
    {
     "name": "stdout",
     "output_type": "stream",
     "text": [
      "()\n",
      "[]\n",
      "<class 'tuple'>\n",
      "<class 'list'>\n"
     ]
    }
   ],
   "source": [
    "# 생성\n",
    "# Tuple 생성 (소괄호)\n",
    "tuple1 = tuple( ) \n",
    "# List 생성 (대괄호)\n",
    "list1 = list( ) \n",
    "\n",
    "print(tuple1)\n",
    "print(list1)\n",
    "print(type(tuple1))\n",
    "print(type(list1))\n",
    "\n",
    "# tuple은 추가수정이 어렵기 때문에 텅 빈 tuple을 만드는 것이 의미가 없음."
   ]
  },
  {
   "cell_type": "code",
   "execution_count": 8,
   "id": "fa173e0a-8e1e-4e3e-80b5-218d39d928a7",
   "metadata": {},
   "outputs": [
    {
     "name": "stdout",
     "output_type": "stream",
     "text": [
      "()\n",
      "[]\n",
      "<class 'tuple'>\n",
      "<class 'list'>\n"
     ]
    }
   ],
   "source": [
    "# tuple 생성\n",
    "tuple2 = ()\n",
    "list2 = []\n",
    "\n",
    "print(tuple2)\n",
    "print(list2)\n",
    "print(type(tuple2))\n",
    "print(type(list2))\n"
   ]
  },
  {
   "cell_type": "code",
   "execution_count": 9,
   "id": "b025cd48-dc00-4a59-982f-9c71c783a40a",
   "metadata": {},
   "outputs": [
    {
     "name": "stdout",
     "output_type": "stream",
     "text": [
      "(10, 20, 30, 40, 50)\n",
      "[10, 20, 30, 40, 50]\n",
      "<class 'tuple'>\n",
      "<class 'list'>\n"
     ]
    }
   ],
   "source": [
    "tuple3 = (10, 20, 30, 40, 50)\n",
    "list3= [10, 20, 30, 40, 50]\n",
    "print(tuple3)\n",
    "print(list3)\n",
    "print(type(tuple3))\n",
    "print(type(list3))"
   ]
  },
  {
   "cell_type": "code",
   "execution_count": 11,
   "id": "5e9ae699-a15c-4d1f-b45b-839161a028d9",
   "metadata": {},
   "outputs": [
    {
     "name": "stdout",
     "output_type": "stream",
     "text": [
      "(10, 20, 30, 40, 50)\n",
      "<class 'tuple'>\n"
     ]
    }
   ],
   "source": [
    "# tuple 생성\n",
    "tuple4 = 10, 20, 30, 40, 50\n",
    "\n",
    "print(tuple4)\n",
    "print(type(tuple4))"
   ]
  },
  {
   "cell_type": "code",
   "execution_count": 14,
   "id": "61170f84-b3f1-4b11-b58a-5bd69fcb6535",
   "metadata": {},
   "outputs": [
    {
     "name": "stdout",
     "output_type": "stream",
     "text": [
      "(10, 20, 30, 40, 50, 60)\n",
      "[10, 20, 30, 40, 50, 60]\n",
      "(10, 20, 30, 10, 20, 30, 10, 20, 30)\n",
      "[10, 20, 30, 10, 20, 30, 10, 20, 30]\n"
     ]
    }
   ],
   "source": [
    "# 연산\n",
    "tuple1 = 10, 20, 30 \n",
    "tuple2 = 40, 50, 60\n",
    "list1 = [10, 20, 30]\n",
    "list2 = [40, 50, 60]\n",
    "\n",
    "#더하기, 관리하는 값들을 모두 추출하여 새로운 요소를 생성해준다.\n",
    "tuple3 = tuple1 + tuple2\n",
    "list3  = list1 + list2\n",
    "print(tuple3)\n",
    "print(list3)\n",
    "\n",
    "#곱하기: 곱한 수 만큼 반복된 요소를 생성해준다.\n",
    "tuple4 = tuple1 * 3\n",
    "list4 = list1 * 3\n",
    "print(tuple4)\n",
    "print(list4)"
   ]
  },
  {
   "cell_type": "code",
   "execution_count": 16,
   "id": "53d0acb6-6919-4632-bbe6-85325ab68fe2",
   "metadata": {},
   "outputs": [
    {
     "name": "stdout",
     "output_type": "stream",
     "text": [
      "10\n",
      "20\n",
      "10\n",
      "20\n",
      "100\n",
      "90\n",
      "100\n",
      "90\n",
      "(30, 40, 50)\n",
      "(10, 20, 30, 40, 50)\n",
      "(30, 40, 50, 60, 70, 80, 90, 100)\n",
      "[30, 40, 50]\n",
      "[10, 20, 30, 40, 50]\n",
      "[30, 40, 50, 60, 70, 80, 90, 100]\n"
     ]
    }
   ],
   "source": [
    "tuple1 = 10, 20, 30, 40, 50, 60, 70, 80, 90, 100\n",
    "list1 = [10, 20, 30, 40, 50, 60, 70, 80, 90, 100]\n",
    "\n",
    "print(tuple1[0])\n",
    "print(tuple1[1])\n",
    "print(list1[0])\n",
    "print(list1[1])\n",
    "\n",
    "print(tuple1[-1])\n",
    "print(tuple1[-2])\n",
    "print(list1[-1])\n",
    "print(list1[-2])\n",
    "\n",
    "print(tuple1[2:5])\n",
    "print(tuple1[:5])\n",
    "print(tuple1[2:])\n",
    "\n",
    "print(list1[2:5])\n",
    "print(list1[:5])\n",
    "print(list1[2:])"
   ]
  },
  {
   "cell_type": "code",
   "execution_count": 17,
   "id": "8879c7ca-d8c6-4b9c-abb5-b11715e4d3c1",
   "metadata": {},
   "outputs": [
    {
     "name": "stdout",
     "output_type": "stream",
     "text": [
      "10\n",
      "10\n"
     ]
    }
   ],
   "source": [
    "# 관리하는 값이 개수\n",
    "print(len(list1))\n",
    "print(len(tuple1))"
   ]
  },
  {
   "cell_type": "code",
   "execution_count": 18,
   "id": "6766b646-8fa1-4e57-8d82-37ce3e4cc6b1",
   "metadata": {},
   "outputs": [
    {
     "name": "stdout",
     "output_type": "stream",
     "text": [
      "80 80 -30 -30\n"
     ]
    }
   ],
   "source": [
    "# 관리하는 값의 최대, 최소값을 가져온다.\n",
    "tuple1 = 50, 20, -30, 40, 80\n",
    "list1 = [50, 20, -30, 40, 80]\n",
    "\n",
    "a1 = max(tuple1)\n",
    "a2 = max(list1)\n",
    "a3 = min(tuple1)\n",
    "a4 = min(list1)\n",
    "\n",
    "print(a1, a2, a3, a4)"
   ]
  },
  {
   "cell_type": "code",
   "execution_count": 20,
   "id": "93d44f9b-497d-4522-8d95-ee3b220430bc",
   "metadata": {},
   "outputs": [
    {
     "name": "stdout",
     "output_type": "stream",
     "text": [
      "[10, 20, 30, 40, 50]\n"
     ]
    }
   ],
   "source": [
    "# 튜플에 있는 값을 모두 추출하여 새로운 리스트를 생성한다.\n",
    "tuple1 = 10, 20, 30, 40, 50\n",
    "list1 = list(tuple1)\n",
    "print(list1)"
   ]
  },
  {
   "cell_type": "code",
   "execution_count": 23,
   "id": "3eee7f69-5b8d-4d71-b045-8c3d1f218bc3",
   "metadata": {},
   "outputs": [
    {
     "name": "stdout",
     "output_type": "stream",
     "text": [
      "(10, 20, 30, 40, 50)\n"
     ]
    }
   ],
   "source": [
    "# 리스트에 있는 값을 모두 추출하여 새로운 튜플을 생성한다\n",
    "tuple2 = tuple(list1)\n",
    "print(tuple1)"
   ]
  },
  {
   "cell_type": "code",
   "execution_count": 24,
   "id": "19d49603-fdda-4229-a94a-2865e345346a",
   "metadata": {},
   "outputs": [
    {
     "name": "stdout",
     "output_type": "stream",
     "text": [
      "('안', '녕', '하', '세', '요')\n",
      "['안', '녕', '하', '세', '요']\n"
     ]
    }
   ],
   "source": [
    "# 문자열을 리스트나 튜플로 생성한다.\n",
    "tuple1 = tuple('안녕하세요')\n",
    "list1 = list('안녕하세요')\n",
    "\n",
    "print(tuple1)\n",
    "print(list1)"
   ]
  },
  {
   "cell_type": "code",
   "execution_count": 26,
   "id": "7dfee9dd-ae0c-430a-a06d-75cea7a56219",
   "metadata": {},
   "outputs": [
    {
     "name": "stdout",
     "output_type": "stream",
     "text": [
      "('안', '녕', '하', '세', '요')\n",
      "['안', '녕', '하', '세', '요']\n"
     ]
    }
   ],
   "source": [
    "#str에 list나 tuple을 넣어주면 출력할 때 나타나는 형태의 문자열로 만들어진다. \n",
    "str1 = str(tuple1)\n",
    "str2 = str(list1)\n",
    "print(str1)\n",
    "print(str2)"
   ]
  },
  {
   "cell_type": "code",
   "execution_count": 31,
   "id": "393d13cf-d0cf-48b7-abdf-390998ead1e4",
   "metadata": {},
   "outputs": [
    {
     "name": "stdout",
     "output_type": "stream",
     "text": [
      "안_녕_하_세_요\n",
      "안_녕_하_세_요\n"
     ]
    }
   ],
   "source": [
    "#길이가 0인 문자열을 그대로 사용하면 그냥 하나의 문자열로 합칠 수 있다. \n",
    "str1 = '_'\n",
    "# join : 지정한 튜플이라 리스트내의 값들을 모두 추출하여 하나의 문자열로 만들어준다.\n",
    "# 이때, join을 사용한 문자열이 구분자가 된다.\n",
    "str2 = str1.join(tuple1)\n",
    "str3 = str1.join(list1)\n",
    "\n",
    "print(str2)\n",
    "print(str3)"
   ]
  },
  {
   "cell_type": "code",
   "execution_count": 35,
   "id": "a4350906-0ab5-40e6-bc48-cbca15bc5cfe",
   "metadata": {},
   "outputs": [
    {
     "name": "stdout",
     "output_type": "stream",
     "text": [
      "['ab', 'cd_ef', 'gh']\n",
      "['ab cd', 'ef gh']\n"
     ]
    }
   ],
   "source": [
    "# 구분자를 기준으로 문자열을 나눈다\n",
    "# 결과는 list로 나온다.\n",
    "str1 = 'ab cd_ef gh'\n",
    "\n",
    "tuple1 = str1.split()  #띄어쓰기를 기준으로 나눠짐\n",
    "tuple2 = str1.split('_') #'_'를 구분자로 해서 결과값이 추출됨. \n",
    "\n",
    "print(tuple1)\n",
    "print(tuple2)"
   ]
  },
  {
   "cell_type": "markdown",
   "id": "6738cfc3-3a3f-4570-a625-ff08e744ffbe",
   "metadata": {},
   "source": [
    "### list의 데이터를 추가, 수정, 삭제, 삽입을 한다.\n",
    "- tuple은 불가능하다."
   ]
  },
  {
   "cell_type": "code",
   "execution_count": 37,
   "id": "abbab1fb-c375-4b2d-a382-52cf839464d7",
   "metadata": {},
   "outputs": [
    {
     "name": "stdout",
     "output_type": "stream",
     "text": [
      "[]\n"
     ]
    }
   ],
   "source": [
    "list1 = []\n",
    "print(list1)"
   ]
  },
  {
   "cell_type": "code",
   "execution_count": 39,
   "id": "9e8a20d2-b8a1-49e4-a0d6-57575ba62254",
   "metadata": {},
   "outputs": [
    {
     "name": "stdout",
     "output_type": "stream",
     "text": [
      "[10, 20, 30, 10, 20, 30]\n"
     ]
    }
   ],
   "source": [
    "# 뒤에다 '추가'하는 명령문: append \n",
    "list1.append(10)\n",
    "list1.append(20)\n",
    "list1.append(30)\n",
    "print(list1)"
   ]
  },
  {
   "cell_type": "code",
   "execution_count": 41,
   "id": "039ea3c5-b162-4241-9899-518367757414",
   "metadata": {},
   "outputs": [
    {
     "name": "stdout",
     "output_type": "stream",
     "text": [
      "[10, 20, 30, 10, 20, 30, 40, 50, 60]\n"
     ]
    }
   ],
   "source": [
    "# 다수의 값을 한번에 추가한다.\n",
    "# 다른 리스트나 튜플이 가지고 있는 값을 추출하여 뒤에 추가해준다.\n",
    "list1.extend([40, 50, 60])\n",
    "print(list1)"
   ]
  },
  {
   "cell_type": "code",
   "execution_count": 43,
   "id": "eebadc6f-545e-468f-a4be-5f1a662fbc3c",
   "metadata": {},
   "outputs": [
    {
     "name": "stdout",
     "output_type": "stream",
     "text": [
      "[10, 200, 30, 10, 20, 30, 40, 50, 60]\n"
     ]
    }
   ],
   "source": [
    "# 수정\n",
    "# 순서값을 가지고 접근하여 값을 넣어준다.\n",
    "# 0부터 시작하니까 1은 두번째에 해당됨.\n",
    "\n",
    "list1[1] = 200\n",
    "print(list1)"
   ]
  },
  {
   "cell_type": "code",
   "execution_count": 45,
   "id": "bec53931-ed76-4736-813b-00fa99474f20",
   "metadata": {},
   "outputs": [
    {
     "name": "stdout",
     "output_type": "stream",
     "text": [
      "[10, 90, 90, 200, 30, 10, 20, 30, 40, 50, 60]\n"
     ]
    }
   ],
   "source": [
    "# 삽입\n",
    "# 순서값 1에 해당하는 곳에 지정된 값을 삽입한다.\n",
    "list1.insert(1, 90)\n",
    "print(list1)"
   ]
  },
  {
   "cell_type": "code",
   "execution_count": 49,
   "id": "78e9df80-4b5c-4cca-8ea8-2f44ef8e826a",
   "metadata": {},
   "outputs": [
    {
     "name": "stdout",
     "output_type": "stream",
     "text": [
      "[10, 200, 30, 10, 20, 30, 40]\n"
     ]
    }
   ],
   "source": [
    "list1.remove(90)\n",
    "print(list1)"
   ]
  },
  {
   "cell_type": "code",
   "execution_count": 50,
   "id": "cc564860-9954-4074-8af2-dcf263627e57",
   "metadata": {},
   "outputs": [
    {
     "name": "stdout",
     "output_type": "stream",
     "text": [
      "40\n",
      "[10, 200, 30, 10, 20, 30]\n"
     ]
    }
   ],
   "source": [
    "# 가장 마지막 것을 가져오고 리스트에서는 제거한다.\n",
    "a1 = list1.pop()\n",
    "print(a1)\n",
    "print(list1)"
   ]
  },
  {
   "cell_type": "code",
   "execution_count": 52,
   "id": "8da4d43b-9e37-4cf9-b12d-1c8095f4338a",
   "metadata": {},
   "outputs": [
    {
     "name": "stdout",
     "output_type": "stream",
     "text": [
      "30\n",
      "[10, 200, 10, 20, 30]\n"
     ]
    }
   ],
   "source": [
    "# 순서값을 지정하여 가져오고 리스트에서는 제거한다.\n",
    "a2 = list1.pop(2)\n",
    "print(a2)\n",
    "print(list1)"
   ]
  },
  {
   "cell_type": "code",
   "execution_count": 56,
   "id": "456e1abd-b593-4d31-ac88-2b9d4d6b8ca7",
   "metadata": {},
   "outputs": [
    {
     "name": "stdout",
     "output_type": "stream",
     "text": [
      "[10, 20, 30, 40, 50]\n"
     ]
    }
   ],
   "source": [
    "# 정렬\n",
    "# 리스트 내의 데이터를 직접 정렬해준다.\n",
    "# 오름차순 정렬\n",
    "list1 = [40, 20, 10, 30, 50]\n",
    "list1.sort()\n",
    "print(list1)"
   ]
  },
  {
   "cell_type": "code",
   "execution_count": 57,
   "id": "87dec084-798c-4cba-8652-a3b38fb0559d",
   "metadata": {},
   "outputs": [
    {
     "name": "stdout",
     "output_type": "stream",
     "text": [
      "[50, 40, 30, 20, 10]\n"
     ]
    }
   ],
   "source": [
    "# 반전\n",
    "# 오름차순 정렬 후 순서를 반전시킨다. \n",
    "list1.reverse()\n",
    "print(list1)"
   ]
  },
  {
   "cell_type": "code",
   "execution_count": 61,
   "id": "bedfdf1a-0ef7-4b9a-b2e6-993d5ed92822",
   "metadata": {},
   "outputs": [
    {
     "data": {
      "text/plain": [
       "[50, 40, 30, 20, 10]"
      ]
     },
     "execution_count": 61,
     "metadata": {},
     "output_type": "execute_result"
    }
   ],
   "source": [
    "# 정렬 시 내림차순으로 하겠다면 revese에 True를 설정해준다.\n",
    "ist1 = [40, 20, 10, 30, 50]\n",
    "list1.sort(reverse=True)\n",
    "list1"
   ]
  },
  {
   "cell_type": "code",
   "execution_count": 60,
   "id": "7581ca54-0172-4396-9001-0e99db50d9fb",
   "metadata": {},
   "outputs": [
    {
     "data": {
      "text/plain": [
       "['가', '나', '다', '라']"
      ]
     },
     "execution_count": 60,
     "metadata": {},
     "output_type": "execute_result"
    }
   ],
   "source": [
    "list2 = ['다', '가', '라', '나']\n",
    "list2.sort()\n",
    "list2"
   ]
  },
  {
   "cell_type": "code",
   "execution_count": 63,
   "id": "e7ce0877-2679-484e-a7c2-e31a6ac04dda",
   "metadata": {},
   "outputs": [
    {
     "name": "stdout",
     "output_type": "stream",
     "text": [
      "1\n"
     ]
    }
   ],
   "source": [
    "#위치 찾기: 없는 것을 넣으면 오류 발생\n",
    "list1 = [10, 20, 30, 40, 50]\n",
    "a1 = list1.index(20)\n",
    "print(a1)"
   ]
  },
  {
   "cell_type": "markdown",
   "id": "4625c8a4-acdf-4499-a78f-5bda505d9863",
   "metadata": {},
   "source": [
    "### for 문 사용하기 \n",
    "- 무조건 익숙해지세요! (★★★★★)\n",
    "- comprehension\n",
    "- 역순으로 읽고 해석하고 작성하는 것에 익숙해지기"
   ]
  },
  {
   "cell_type": "code",
   "execution_count": 64,
   "id": "0db19473-10cf-4b41-beea-47336164ea8a",
   "metadata": {},
   "outputs": [
    {
     "name": "stdout",
     "output_type": "stream",
     "text": [
      "[20, 30, 40, 50, 60]\n"
     ]
    }
   ],
   "source": [
    "#list1이 가지고 있는 값에 10을 더해 list2에 담아준다.\n",
    "list = [10, 20, 30, 40, 50]\n",
    "list2 = []\n",
    "\n",
    "for v1 in list1 :\n",
    "    list2.append(v1 + 10)\n",
    "\n",
    "print(list2)"
   ]
  },
  {
   "cell_type": "code",
   "execution_count": 67,
   "id": "b4b42dc5-5106-4f7b-b957-35eb8c236f8f",
   "metadata": {},
   "outputs": [
    {
     "name": "stdout",
     "output_type": "stream",
     "text": [
      "[20, 30, 40, 50, 60]\n"
     ]
    }
   ],
   "source": [
    "# list1이 가지고 있는 값의 수 만큼 반복한다. (in list1)\n",
    "# list1이 가지고 있는 값을 v1 변수에 담아준다 (for v1)\n",
    "# 새로운 리스트에 v1 + 10을 담아준다 (v1 + 10)\n",
    "list2 = [v1 + 10 for v1 in list1] #앞에 값이 list에 담기는 것 (v1+10)\n",
    "print(list2)"
   ]
  },
  {
   "cell_type": "code",
   "execution_count": 69,
   "id": "a2deb665-66ea-487c-b10f-4249b9fa1cd7",
   "metadata": {},
   "outputs": [
    {
     "data": {
      "text/plain": [
       "[1, 20, 3, 40, 5]"
      ]
     },
     "execution_count": 69,
     "metadata": {},
     "output_type": "execute_result"
    }
   ],
   "source": [
    "list3 = [1, 2, 3, 4,5]\n",
    "list4 = [\n",
    "    v1 * 10 # True면 여기\n",
    "    if v1 % 2 == 0  # 이 산수를 수행했을 때\n",
    "    else v1 for v1 in list3] # False면 여기\n",
    "list4"
   ]
  },
  {
   "cell_type": "code",
   "execution_count": 74,
   "id": "b54fd835-cbda-4fdd-a547-6984215d298b",
   "metadata": {},
   "outputs": [
    {
     "data": {
      "text/plain": [
       "[20, 40]"
      ]
     },
     "execution_count": 74,
     "metadata": {},
     "output_type": "execute_result"
    }
   ],
   "source": [
    "# list3에 있는 값이 2로 나눈 나머지가 0이면\n",
    "# 10을 곱해서 담고 그렇지 않은 그대로 담아준다.\n",
    "list3 = [1, 2, 3, 4, 5]\n",
    "list4 = []\n",
    "\n",
    "#list3이 가지고 있는 값을 2로 나눈 나머지가 0이라면 \n",
    "#1을 곱해 새로운 리스트에 담는다. \n",
    "for v1 in list3 :\n",
    "    if v1 % 2 == 0 :\n",
    "        list4.append(v1 * 10)\n",
    "    \n",
    "list4"
   ]
  },
  {
   "cell_type": "code",
   "execution_count": 77,
   "id": "6af72059-b7b5-4dc7-a6d6-3e25dbe03f6a",
   "metadata": {},
   "outputs": [
    {
     "name": "stdout",
     "output_type": "stream",
     "text": [
      "[20, 40]\n"
     ]
    }
   ],
   "source": [
    "list3 = [1, 2, 3, 4, 5]\n",
    "# list3이 가지고 있는 값의 수 만큼 반복한다(in list3)\n",
    "# list3이 가지고 있는 값을 v1 변수에 담아준다(for v1)\n",
    "# 이 때, v1을 2로 나눈 나머지가 0 일 경우에만(v1 % 2 == 0)\n",
    "# 새로운 리스트에 v1 * 10을해서 담아준다(v1 * 10)\n",
    "# 만약 v1 % 2 == 0의 조건에 만족하지 않는 값이라면 리스트에 담지 않는다.\n",
    "\n",
    "list4 = [v1 * 10 for v1 in list3 if v1 % 2 == 0 ]\n",
    "print(list4)"
   ]
  },
  {
   "cell_type": "code",
   "execution_count": 78,
   "id": "b8f22961-1197-4f96-b3b7-482d15b241a1",
   "metadata": {},
   "outputs": [
    {
     "name": "stdout",
     "output_type": "stream",
     "text": [
      "150\n"
     ]
    }
   ],
   "source": [
    "list1 = [10, 20, 30, 40, 50]\n",
    "a1 = sum(list1)\n",
    "print(a1)"
   ]
  },
  {
   "cell_type": "code",
   "execution_count": null,
   "id": "cb0ebbd7-345c-49be-a20d-38bd3c61e3fb",
   "metadata": {},
   "outputs": [],
   "source": []
  }
 ],
 "metadata": {
  "kernelspec": {
   "display_name": "Python 3 (ipykernel)",
   "language": "python",
   "name": "python3"
  },
  "language_info": {
   "codemirror_mode": {
    "name": "ipython",
    "version": 3
   },
   "file_extension": ".py",
   "mimetype": "text/x-python",
   "name": "python",
   "nbconvert_exporter": "python",
   "pygments_lexer": "ipython3",
   "version": "3.12.7"
  }
 },
 "nbformat": 4,
 "nbformat_minor": 5
}
