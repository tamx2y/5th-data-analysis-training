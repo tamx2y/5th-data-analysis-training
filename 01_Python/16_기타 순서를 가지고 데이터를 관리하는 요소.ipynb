{
 "cells": [
  {
   "cell_type": "code",
   "execution_count": 1,
   "id": "444afc7b-048e-4060-9e4f-1a4e4aefbcc4",
   "metadata": {},
   "outputs": [
    {
     "name": "stdout",
     "output_type": "stream",
     "text": [
      "시작값 : 0\n",
      "종료값 : 20\n",
      "증감값 : 1\n",
      "range(0, 20)\n"
     ]
    }
   ],
   "source": [
    "# 0 ~ 20 - 1 까지 1씩 증가하는 값을 관리하는 요소\n",
    "r1 = range(20)\n",
    "print(f'시작값 : {r1.start}')\n",
    "print(f'종료값 : {r1.stop}')\n",
    "print(f'증감값 : {r1.step}')\n",
    "print(r1)"
   ]
  },
  {
   "cell_type": "markdown",
   "id": "5e49ab59-8166-4258-98d3-3f6b2a24c691",
   "metadata": {},
   "source": [
    "[리스트]\n",
    "(튜플)\n",
    "{딕셔너리, bet}"
   ]
  },
  {
   "cell_type": "code",
   "execution_count": 2,
   "id": "034c495c-242e-4df3-959d-e26f70faf9f4",
   "metadata": {},
   "outputs": [
    {
     "name": "stdout",
     "output_type": "stream",
     "text": [
      "[0, 1, 2, 3, 4, 5, 6, 7, 8, 9, 10, 11, 12, 13, 14, 15, 16, 17, 18, 19]\n"
     ]
    }
   ],
   "source": [
    "# 실제로 관리하는 값을 확인해보고 싶다면\n",
    "# 리스트나 튜플로 다시 생성하여 출력해본다.\n",
    "print(list(r1))"
   ]
  },
  {
   "cell_type": "code",
   "execution_count": 3,
   "id": "9ce7e3ae-a306-4b28-9e63-b3f060f788a0",
   "metadata": {},
   "outputs": [
    {
     "name": "stdout",
     "output_type": "stream",
     "text": [
      "range(3, 27)\n",
      "[3, 4, 5, 6, 7, 8, 9, 10, 11, 12, 13, 14, 15, 16, 17, 18, 19, 20, 21, 22, 23, 24, 25, 26]\n"
     ]
    }
   ],
   "source": [
    "# 3 ~ 27 - 1 까지 1씩 증가하는 값을 가진 range 생성\n",
    "r2 = range(3, 27)\n",
    "print(r2)\n",
    "print(list(r2))"
   ]
  },
  {
   "cell_type": "code",
   "execution_count": 4,
   "id": "1f8e5b3b-5a25-4156-bf6e-c1a343c38caa",
   "metadata": {},
   "outputs": [
    {
     "name": "stdout",
     "output_type": "stream",
     "text": [
      "range(3, 27, 2)\n",
      "[3, 5, 7, 9, 11, 13, 15, 17, 19, 21, 23, 25]\n"
     ]
    }
   ],
   "source": [
    "# 3 ~ 27 - 1 까지 2씩 증가하는 값을 가진 range 생성\n",
    "r3 = range(3, 27, 2)\n",
    "print(r3)\n",
    "print(list(r3))"
   ]
  },
  {
   "cell_type": "code",
   "execution_count": 5,
   "id": "559d825e-5b94-4fb5-a1ea-a149f80772f9",
   "metadata": {},
   "outputs": [
    {
     "name": "stdout",
     "output_type": "stream",
     "text": [
      "[30, 29, 28, 27, 26, 25, 24, 23, 22, 21, 20, 19, 18, 17, 16, 15, 14, 13, 12, 11, 10, 9]\n"
     ]
    }
   ],
   "source": [
    "# 30 ~ 8 + 1 까지 1씩 감소 \n",
    "r4 = range(30, 8, -1) # 감소량이 -1이므로 \n",
    "print(list(r4))"
   ]
  },
  {
   "cell_type": "code",
   "execution_count": 11,
   "id": "de02cb5e-6362-44e4-91aa-42cf93513310",
   "metadata": {},
   "outputs": [
    {
     "name": "stdout",
     "output_type": "stream",
     "text": [
      "[30, 29, 28, 27, 26, 25, 24, 23, 22, 21, 20, 19, 18, 17, 16, 15, 14, 13, 12, 11, 10, 9]\n"
     ]
    }
   ],
   "source": [
    "r1 = range(9, 31) # 증가하는 값을 생성한 다음\n",
    "list1 = list(r1) \n",
    "list1.reverse() # reverse해서 구하기\n",
    "print(list1)"
   ]
  }
 ],
 "metadata": {
  "kernelspec": {
   "display_name": "Python 3 (ipykernel)",
   "language": "python",
   "name": "python3"
  },
  "language_info": {
   "codemirror_mode": {
    "name": "ipython",
    "version": 3
   },
   "file_extension": ".py",
   "mimetype": "text/x-python",
   "name": "python",
   "nbconvert_exporter": "python",
   "pygments_lexer": "ipython3",
   "version": "3.12.7"
  }
 },
 "nbformat": 4,
 "nbformat_minor": 5
}
