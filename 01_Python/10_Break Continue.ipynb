{
 "cells": [
  {
   "cell_type": "markdown",
   "id": "f36ab699-cace-4430-bdb6-e158c53ce4d6",
   "metadata": {},
   "source": [
    "### Break\n",
    "- 주로 반복문 내부에서 사용한다.\n",
    "- 반복문 내부의 코드가 수행 중 break를 만나면 반복문 수행이 모두 종료된다.\n",
    "\n",
    "### Continue\n",
    "- 주로 반복문 내부에서 사용한다.\n",
    "- 반복문 내부의 코드가 수행 중 continue를 만나면 더 수행할 코드가 있다고 하더라도 다음 반복으로 넘어간다."
   ]
  },
  {
   "cell_type": "code",
   "execution_count": 3,
   "id": "e6ffba6c-a505-4db9-ba46-8a53c50552af",
   "metadata": {},
   "outputs": [
    {
     "name": "stdout",
     "output_type": "stream",
     "text": [
      "1\n",
      "2\n",
      "3\n",
      "4\n",
      "5\n"
     ]
    }
   ],
   "source": [
    "a1 = 0\n",
    "\n",
    "while a1 <= 10 :\n",
    "    a1 = a1 + 1\n",
    "    # a1이 5보다 커지면 반목문 중단\n",
    "    if a1 > 5 :\n",
    "        break #반복문 종료\n",
    "        \n",
    "    print(a1)"
   ]
  },
  {
   "cell_type": "code",
   "execution_count": 4,
   "id": "788b696a-97a2-4d45-87ff-244a01bd0a93",
   "metadata": {},
   "outputs": [
    {
     "name": "stdout",
     "output_type": "stream",
     "text": [
      "2\n",
      "4\n",
      "6\n",
      "8\n",
      "10\n"
     ]
    }
   ],
   "source": [
    "a1 = 0 \n",
    "\n",
    "while a1 <= 10 :\n",
    "    a1 = a1 + 1\n",
    "    #짝수가 아니면 다음 반복으로 넘어간다.\n",
    "    if a1 % 2 != 0 :\n",
    "        continue #밑에 반복문이 있으면 계속 반복함.\n",
    "        \n",
    "    print(a1)"
   ]
  },
  {
   "cell_type": "code",
   "execution_count": 5,
   "id": "b884986c-8703-4f34-b7ab-49127edb04e3",
   "metadata": {},
   "outputs": [
    {
     "name": "stdout",
     "output_type": "stream",
     "text": [
      "2\n",
      "4\n",
      "6\n",
      "8\n",
      "10\n"
     ]
    }
   ],
   "source": [
    "#위의 문항과 동일한 결과, 다른 버전임. \n",
    "a1 = 0 \n",
    "\n",
    "while a1 <= 10 :\n",
    "    a1 = a1 + 1\n",
    "    #짝수면 출력한다.\n",
    "    if a1 % 2 == 0 : \n",
    "        print(a1)"
   ]
  }
 ],
 "metadata": {
  "kernelspec": {
   "display_name": "Python 3 (ipykernel)",
   "language": "python",
   "name": "python3"
  },
  "language_info": {
   "codemirror_mode": {
    "name": "ipython",
    "version": 3
   },
   "file_extension": ".py",
   "mimetype": "text/x-python",
   "name": "python",
   "nbconvert_exporter": "python",
   "pygments_lexer": "ipython3",
   "version": "3.12.7"
  }
 },
 "nbformat": 4,
 "nbformat_minor": 5
}
