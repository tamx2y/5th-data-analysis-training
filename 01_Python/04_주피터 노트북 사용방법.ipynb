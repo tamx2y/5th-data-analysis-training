{
 "cells": [
  {
   "cell_type": "markdown",
   "id": "1959fc9c-86a2-4d6d-a133-b0bd34230eda",
   "metadata": {},
   "source": [
    "### 셀\n",
    "- 설명이나 코드를 작성할 수 있는 칸 하나를 의미한다."
   ]
  },
  {
   "cell_type": "markdown",
   "id": "44fb6358-309e-4c93-af41-b76c498bc977",
   "metadata": {},
   "source": [
    "### 셀 모드\n",
    "- edit mode (`enter`): 현재 셀에 대한 편집 작업을 할 수 있다.\n",
    "- command mode (`esc`): 주피터에 있는 셀들을 관리할 수 있다."
   ]
  },
  {
   "cell_type": "markdown",
   "id": "01bb5b4c-fab5-4c98-ac9c-77c7c7109fb5",
   "metadata": {},
   "source": [
    "### 공통 단축키\n",
    "- `shift + enter` : 현재 셀을 실행한다. 실행 후 다음 셀로 이동한다.\n",
    "- `ctrl + enter` : 현재 셀을 실행한다. 실행 후 현재 셀에 머물러 있다."
   ]
  },
  {
   "cell_type": "markdown",
   "id": "ca3f6da2-abc2-41dc-9a4c-cf4cdc625a92",
   "metadata": {},
   "source": [
    "### command mode 단축키\n",
    "- 상하 방향키: 편집하고자 하는 셀로 이동한다.\n",
    "- `a` : 현재 셀 상단에 셀을 추가한다.\n",
    "- `b` : 현재 셀 하단에 셀을 추가한다.\n",
    "- `dd` : 현재 셀을 삭제한다.\n",
    "- `m`: 현재 셀을 markdown 모드로 변경한다.\n",
    "- `y`: 현재 셀을 code 모드로 변경한다.\n",
    "- `z` : 셀에 대한 작업에 대해 undo\n",
    "- `shift + z` : 셀에 대한 작업에 대해 redo\n",
    "- 셀들을 선택한 후 `shift + m` : 선택한 셀들을 하나의 셀로 합쳐 준다."
   ]
  },
  {
   "cell_type": "markdown",
   "id": "978edbbd-9470-4651-ab4e-a0f2ef59ee99",
   "metadata": {},
   "source": [
    "### edit mode 단축키\n",
    "- 상하 방향키: 현재 셀 제일 위에 있을 경우 이전 셀로 이동하고 현재 셀 제일 마지막에 있을 경우 다음 셀로 이동한다.\n",
    "- `ctrl + shift + -` : 현재 위치를 기준으로 셀을 나눈다."
   ]
  },
  {
   "cell_type": "markdown",
   "id": "75a3f54f-27f7-4795-9635-d2f054a0ef9a",
   "metadata": {},
   "source": [
    "# 제목 1\n",
    "## 제목 2\n",
    "### 제목 3 \n",
    "#### 제목 4\n",
    "##### 제목 5\n",
    "###### 제목 6"
   ]
  }
 ],
 "metadata": {
  "kernelspec": {
   "display_name": "Python 3 (ipykernel)",
   "language": "python",
   "name": "python3"
  },
  "language_info": {
   "codemirror_mode": {
    "name": "ipython",
    "version": 3
   },
   "file_extension": ".py",
   "mimetype": "text/x-python",
   "name": "python",
   "nbconvert_exporter": "python",
   "pygments_lexer": "ipython3",
   "version": "3.12.7"
  }
 },
 "nbformat": 4,
 "nbformat_minor": 5
}
