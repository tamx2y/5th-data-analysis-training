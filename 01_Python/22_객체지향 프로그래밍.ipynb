{
 "cells": [
  {
   "cell_type": "code",
   "execution_count": 1,
   "id": "6ce682c8-5194-4f87-9f05-2bd0d2caea93",
   "metadata": {},
   "outputs": [],
   "source": [
    "# 클래스\n",
    "# 객체를 생성하기 위한 설계도\n",
    "class TestClass1 :\n",
    "    pass"
   ]
  },
  {
   "cell_type": "code",
   "execution_count": 2,
   "id": "62046796-83f6-407e-88cb-d5884f79a749",
   "metadata": {},
   "outputs": [
    {
     "name": "stdout",
     "output_type": "stream",
     "text": [
      "<__main__.TestClass1 object at 0x00000252599DEC00>\n",
      "<__main__.TestClass1 object at 0x0000025259DBB5C0>\n"
     ]
    }
   ],
   "source": [
    "# 객체를 생성한다.\n",
    "t1 = TestClass1()\n",
    "t2 = TestClass1()\n",
    "print(t1)\n",
    "print(t2)"
   ]
  },
  {
   "cell_type": "code",
   "execution_count": 3,
   "id": "970595f3-87cb-4e07-a875-2358dff539d7",
   "metadata": {},
   "outputs": [
    {
     "name": "stdout",
     "output_type": "stream",
     "text": [
      "<__main__.TestClass1 object at 0x0000025259DBB5C0>\n",
      "<__main__.TestClass1 object at 0x0000025259DBB5C0>\n"
     ]
    }
   ],
   "source": [
    "t3 = t2\n",
    "print(t2)\n",
    "print(t3)"
   ]
  },
  {
   "cell_type": "code",
   "execution_count": 4,
   "id": "f11ebba1-445c-47ef-a3f0-3388150380e4",
   "metadata": {},
   "outputs": [
    {
     "name": "stdout",
     "output_type": "stream",
     "text": [
      "100\n"
     ]
    },
    {
     "ename": "AttributeError",
     "evalue": "'TestClass1' object has no attribute 'a1'",
     "output_type": "error",
     "traceback": [
      "\u001b[1;31m---------------------------------------------------------------------------\u001b[0m",
      "\u001b[1;31mAttributeError\u001b[0m                            Traceback (most recent call last)",
      "Cell \u001b[1;32mIn[4], line 7\u001b[0m\n\u001b[0;32m      3\u001b[0m \u001b[38;5;28mprint\u001b[39m(t1\u001b[38;5;241m.\u001b[39ma1)\n\u001b[0;32m      5\u001b[0m \u001b[38;5;66;03m# 객체에 변수를 추가한다고 하더라도 같은 클래스를 가지고 만든 다른 객체에는 추가되지 않는다.\u001b[39;00m\n\u001b[0;32m      6\u001b[0m \u001b[38;5;66;03m# 객체는 독립적이기 때문이다\u001b[39;00m\n\u001b[1;32m----> 7\u001b[0m \u001b[38;5;28mprint\u001b[39m(t2\u001b[38;5;241m.\u001b[39ma1)\n",
      "\u001b[1;31mAttributeError\u001b[0m: 'TestClass1' object has no attribute 'a1'"
     ]
    }
   ],
   "source": [
    "#파이썬은 생성한 객체에 변수를 추가하는 것이 가능하다.\n",
    "t1.a1 = 100\n",
    "print(t1.a1)\n",
    "\n",
    "# 객체에 변수를 추가한다고 하더라도 같은 클래스를 가지고 만든 다른 객체에는 추가되지 않는다.\n",
    "# 객체는 독립적이기 때문이다\n",
    "print(t2.a1)"
   ]
  },
  {
   "cell_type": "code",
   "execution_count": 5,
   "id": "48c8f388-d299-4e13-8ae5-54ab274907e8",
   "metadata": {},
   "outputs": [],
   "source": [
    "# 객체의 맴버\n",
    "# 변수 : 맴버 변수\n",
    "# 함수 : 맴버 메서드\n",
    "\n",
    "# 파이썬은 클래스를 통해 생성되는 객체의 맴버 변수를 정의할 수 없다.\n",
    "# 클래스를 통해 객체를 생성하면 아무것도 가지고 있지 않는 텅 비어있는 객체가 생성된다.\n",
    "# 이 객체에 변수를 추가해줘야 한다\n",
    "class TestClass2 :\n",
    "    # 생성자\n",
    "    # 클래스를 통해 객체를 생성할 때 자동으로 호출되는 함수(메서드)\n",
    "    # 파이썬에서는 클래스를 통해 객체를 생성할 경우 텅 비어있는 객체를 생성하고\n",
    "    # 생성자를 호출한다. 여기에서 객체에 변수를 추가하는 작업을 하면\n",
    "    # 클래스 통해 만들어지는 모든 객체는 동일한 이름의 변수들을 가진 상태에서 사용할 수 있다.\n",
    "    # self : 생성된 객체의 정보가 담기고 이를 통해 객체에 접근할 수 있다.\n",
    "    def __init__(self) :\n",
    "        print('init')\n",
    "        print(f'self : {self}')\n",
    "        # 객체가 가지고 있어야할 변수를 여기에서 추가해준다.\n",
    "        self.a1 = 100\n",
    "        self.a2 = 200"
   ]
  },
  {
   "cell_type": "code",
   "execution_count": 6,
   "id": "706d4366-b14d-4c55-9dcc-f2eb868d9f3d",
   "metadata": {},
   "outputs": [
    {
     "name": "stdout",
     "output_type": "stream",
     "text": [
      "init\n",
      "self : <__main__.TestClass2 object at 0x0000025259DBAFC0>\n",
      "t1 : <__main__.TestClass2 object at 0x0000025259DBAFC0>\n",
      "t1.a1 : 100\n",
      "t1.a2 : 200\n"
     ]
    }
   ],
   "source": [
    "t1 = TestClass2()\n",
    "print(f't1 : {t1}')\n",
    "# 객체가 가지고 있는 변수에 접근한다.\n",
    "print(f't1.a1 : {t1.a1}')\n",
    "print(f't1.a2 : {t1.a2}')"
   ]
  },
  {
   "cell_type": "code",
   "execution_count": 7,
   "id": "04bb582b-8110-443d-8d62-0af3066c472e",
   "metadata": {},
   "outputs": [
    {
     "name": "stdout",
     "output_type": "stream",
     "text": [
      "init\n",
      "self : <__main__.TestClass2 object at 0x000002525851E840>\n",
      "t2 : <__main__.TestClass2 object at 0x000002525851E840>\n",
      "t2.a1 : 100\n",
      "t2.a2 : 200\n"
     ]
    }
   ],
   "source": [
    "# 같은 클래스로 생성한 객체라고 하더라도 서로 독립적이므로\n",
    "# 변수의 값이 항상 같지 않\n",
    "t2 = TestClass2()\n",
    "print(f't2 : {t2}')\n",
    "print(f't2.a1 : {t2.a1}')\n",
    "print(f't2.a2 : {t2.a2}')"
   ]
  },
  {
   "cell_type": "code",
   "execution_count": 8,
   "id": "911447ad-50d3-4a9e-9bfb-197e5fa98cac",
   "metadata": {},
   "outputs": [],
   "source": [
    "# 생성자도 함수의 일종이므로 매개변수를 가질 수 있다.\n",
    "# 단, 첫 번째 매개변수에는 생성된 객체의 주소값으로 결정되기 때문에\n",
    "# 두 번째 매개변수부터 값을 결정해주면 된다(기본값도 설정할 수 있다)\n",
    "class TestClass3 :\n",
    "    # 생성자\n",
    "    def __init__(self, v1, v2, v3 = 3) :\n",
    "        self.a1 = v1\n",
    "        self.a2 = v2\n",
    "        self.a3 = v3"
   ]
  },
  {
   "cell_type": "code",
   "execution_count": 9,
   "id": "64adb5fa-a7f5-4280-aed8-e6802fd963a0",
   "metadata": {},
   "outputs": [
    {
     "name": "stdout",
     "output_type": "stream",
     "text": [
      "10 20 30\n",
      "10 20 3\n"
     ]
    }
   ],
   "source": [
    "t1 = TestClass3(10, 20, 30)\n",
    "print(t1.a1, t1.a2, t1.a3)\n",
    "\n",
    "t2 = TestClass3(10, 20)\n",
    "print(t2.a1, t2.a2, t2.a3)"
   ]
  },
  {
   "cell_type": "code",
   "execution_count": 10,
   "id": "dbe0b75b-0555-4444-8402-1f64431288b5",
   "metadata": {},
   "outputs": [],
   "source": [
    "# 메서드\n",
    "# 객체를 통해 호출하는 함수들\n",
    "# 객체를 통해 호출하기 때문에 첫 번째 매개변수에는 객체의 주소값이 들어온다.\n",
    "# 이를 통해 객체에 접근하여 객체가 가지고 있는 변수를 사용할 수 있다.\n",
    "class TestClass4 :\n",
    "    # 생성자\n",
    "    def __init__(self, a1, a2) :\n",
    "        self.v1 = a1\n",
    "        self.v2 = a2\n",
    "\n",
    "    # 메서드\n",
    "    # 객체를 통해서 메서드를 호출하면 첫 번째 매개변수에 메서드를 호출하기 위해\n",
    "    # 사용한 객체의 주소값이 들어온다. 이를 통해 객체에 접근하여 객체의 변수를 사용할 수 있다.\n",
    "    def test_method(self) :\n",
    "        print(self.v1)\n",
    "        print(self.v2)"
   ]
  },
  {
   "cell_type": "code",
   "execution_count": 12,
   "id": "2c802ae0-bd48-464a-b6f4-48fcb425f508",
   "metadata": {},
   "outputs": [
    {
     "name": "stdout",
     "output_type": "stream",
     "text": [
      "10\n",
      "20\n",
      "100\n",
      "200\n"
     ]
    }
   ],
   "source": [
    "t1 = TestClass4(10, 20)\n",
    "t1.test_method()\n",
    "\n",
    "t2 = TestClass4(100, 200)\n",
    "t2.test_method()"
   ]
  },
  {
   "cell_type": "code",
   "execution_count": null,
   "id": "363f29c7-3f12-4ff2-82c6-3f910e1b8be4",
   "metadata": {},
   "outputs": [],
   "source": []
  }
 ],
 "metadata": {
  "kernelspec": {
   "display_name": "Python 3 (ipykernel)",
   "language": "python",
   "name": "python3"
  },
  "language_info": {
   "codemirror_mode": {
    "name": "ipython",
    "version": 3
   },
   "file_extension": ".py",
   "mimetype": "text/x-python",
   "name": "python",
   "nbconvert_exporter": "python",
   "pygments_lexer": "ipython3",
   "version": "3.12.7"
  }
 },
 "nbformat": 4,
 "nbformat_minor": 5
}
