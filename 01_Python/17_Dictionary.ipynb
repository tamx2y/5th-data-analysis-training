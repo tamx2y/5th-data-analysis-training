{
 "cells": [
  {
   "cell_type": "markdown",
   "id": "1f3d5105-ef6e-4b2a-aaeb-4e5e55ce9d1e",
   "metadata": {},
   "source": [
    "# 딕셔너리\n",
    "- 데이터를 이름을 통해 관리하는 요소\n",
    "- 리스트나 튜플은 의미가 같은 데이터를 관리하는 용도로 사용한다.\n",
    "- 딕셔너리는 하나의 개체가 가지고 있는 데이터를 관리하는 용도로 사용한다.\n",
    "- { }"
   ]
  },
  {
   "cell_type": "code",
   "execution_count": 1,
   "id": "38c8514d-94b4-4d73-a2c6-02a3332b0ca6",
   "metadata": {},
   "outputs": [
    {
     "name": "stdout",
     "output_type": "stream",
     "text": [
      "<class 'dict'>\n",
      "{}\n"
     ]
    }
   ],
   "source": [
    "# 딕셔너리 생성\n",
    "# 비어있는 딕셔너리가 생성된다\n",
    "# 딕셔너리는 나중에 추가할 수 있다\n",
    "d1 = dict()\n",
    "print(type(d1))\n",
    "print(d1)"
   ]
  },
  {
   "cell_type": "code",
   "execution_count": 3,
   "id": "6f5d86c8-a852-4399-b8a2-d2c2211f3235",
   "metadata": {},
   "outputs": [
    {
     "name": "stdout",
     "output_type": "stream",
     "text": [
      "<class 'dict'>\n",
      "{}\n"
     ]
    }
   ],
   "source": [
    "# 괄호를 통한 딕션러ㅣ 생성\n",
    "# 비어있는 딕셔너리가 생성된다\n",
    "d2 = {}\n",
    "print(type(d2))\n",
    "print(d2)"
   ]
  },
  {
   "cell_type": "code",
   "execution_count": 5,
   "id": "0987f219-4999-4fff-99e4-1924b00c2817",
   "metadata": {},
   "outputs": [
    {
     "name": "stdout",
     "output_type": "stream",
     "text": [
      "{'v1': 100, 'v2': 11.11, 'v3': '안녕하세요', 'v4': [10, 20, 30], 'v5': (10, 20, 30), 'v6': {'a1': 100, 'a2': 200}}\n"
     ]
    }
   ],
   "source": [
    "# 관리하는 값을 지정하여 생성한다.\n",
    "d3 = {\n",
    "    'v1' : 100,\n",
    "    'v2' : 11.11,\n",
    "    'v3' : '안녕하세요',\n",
    "    'v4' : [10, 20, 30],\n",
    "    'v5' : (10, 20, 30),\n",
    "    'v6' : {\n",
    "        'a1' : 100,\n",
    "        'a2' : 200\n",
    "    }\n",
    "}\n",
    "print(d3)"
   ]
  },
  {
   "cell_type": "code",
   "execution_count": 7,
   "id": "52c409f7-d2e8-46d8-8cd0-391b4d313ba6",
   "metadata": {},
   "outputs": [
    {
     "name": "stdout",
     "output_type": "stream",
     "text": [
      "100\n",
      "11.11\n",
      "안녕하세요\n",
      "10\n",
      "20\n",
      "10\n",
      "20\n",
      "100\n",
      "200\n"
     ]
    }
   ],
   "source": [
    "# [이름] 형태로 데이터를 가져온다.\n",
    "print(d3['v1'])\n",
    "print(d3['v2'])\n",
    "print(d3['v3'])\n",
    "print(d3['v4'][0])\n",
    "print(d3['v4'][1])\n",
    "print(d3['v5'][0])\n",
    "print(d3['v5'][1])\n",
    "print(d3['v6']['a1'])\n",
    "print(d3['v6']['a2'])\n",
    "# 코드 해석: d3 변수를 통해서 딕셔너리에 접근한 다음 'v1'이라는 데이터를 가지고 나왔다.\n",
    "# d3변수로 딕셔너리로 접근한 다음 v4 리스트에 접근한 다음 '1번째(두번째; 0부터 시작함)' 데이터를 가지고 옴"
   ]
  },
  {
   "cell_type": "code",
   "execution_count": 9,
   "id": "20ac80a5-63a1-4e4e-b435-7ae6fa023f4d",
   "metadata": {},
   "outputs": [
    {
     "name": "stdout",
     "output_type": "stream",
     "text": [
      "100\n",
      "200\n"
     ]
    }
   ],
   "source": [
    "# 값을 수정한다\n",
    "# 이름을 통해 값을 새롭게 넣어주면 값이 수정된다.\n",
    "print(d3['v1'])\n",
    "d3['v1'] = 200\n",
    "print(d3['v1'])"
   ]
  },
  {
   "cell_type": "code",
   "execution_count": 10,
   "id": "2a32ef0e-dd1c-4323-9dc7-ae5571cabf02",
   "metadata": {},
   "outputs": [
    {
     "name": "stdout",
     "output_type": "stream",
     "text": [
      "{'v1': 200, 'v2': 11.11, 'v3': '안녕하세요', 'v4': [10, 20, 30], 'v5': (10, 20, 30), 'v6': {'a1': 100, 'a2': 200}, 'v7': 5000}\n",
      "5000\n"
     ]
    }
   ],
   "source": [
    "# 추가\n",
    "# 없는 이름으로 값을 넣어주면 추가된다.\n",
    "d3['v7'] = 5000\n",
    "print(d3)\n",
    "print(d3['v7'])"
   ]
  },
  {
   "cell_type": "code",
   "execution_count": 12,
   "id": "ec3e26ab-14e7-4ab2-9db4-f41d69516184",
   "metadata": {},
   "outputs": [
    {
     "name": "stdout",
     "output_type": "stream",
     "text": [
      "[10, 20, 40, 50]\n",
      "[10, 40, 50]\n",
      "[10, 50]\n"
     ]
    }
   ],
   "source": [
    "# 리스트에서 데이터를 삭제\n",
    "list1 = [10, 20, 30, 40, 50]\n",
    "# 값을 가지고 데이터를 삭제\n",
    "list1.remove(30)\n",
    "print(list1)\n",
    "\n",
    "# pop은 순서를 지정하면 그 순서의 값을 전달하고 리스트에서 삭제한다.\n",
    "list1.pop(1)\n",
    "print(list1)\n",
    "\n",
    "# del 연산자 : 지정한 요소를 제거하는 연산자 (delete)\n",
    "del list1[1]\n",
    "print(list1)"
   ]
  },
  {
   "cell_type": "code",
   "execution_count": 14,
   "id": "779d406c-fa12-4021-8edf-2d9250d2bc30",
   "metadata": {},
   "outputs": [
    {
     "name": "stdout",
     "output_type": "stream",
     "text": [
      "200\n",
      "{'v2': 11.11, 'v3': '안녕하세요', 'v4': [10, 20, 30], 'v5': (10, 20, 30), 'v6': {'a1': 100, 'a2': 200}, 'v7': 5000}\n"
     ]
    }
   ],
   "source": [
    "# pop: 이름을 지정하여 이름에 해당하는 것을 전달하고 딕셔너리에서 삭제한다.\n",
    "v1 = d3.pop('v1')\n",
    "print(v1)\n",
    "print(d3)\n"
   ]
  },
  {
   "cell_type": "code",
   "execution_count": 16,
   "id": "15cf4999-aaba-434d-91ce-da40342d174b",
   "metadata": {},
   "outputs": [
    {
     "name": "stdout",
     "output_type": "stream",
     "text": [
      "('v6', {'a1': 100, 'a2': 200})\n",
      "{'v2': 11.11, 'v3': '안녕하세요', 'v4': [10, 20, 30], 'v5': (10, 20, 30)}\n"
     ]
    }
   ],
   "source": [
    "# 딕셔너리는 순서가 없지만 제일 마지막에 추가된 요소를 \n",
    "# 이름, 값의 쌍으로된 튜플로 반환하고 딕셔너리에서는 제거한다.\n",
    "v2 = d3.popitem()\n",
    "print(v2)\n",
    "print(d3)"
   ]
  },
  {
   "cell_type": "code",
   "execution_count": 17,
   "id": "7c2f2d5f-f05c-4838-a052-340625b55c19",
   "metadata": {},
   "outputs": [
    {
     "name": "stdout",
     "output_type": "stream",
     "text": [
      "{'v3': '안녕하세요', 'v4': [10, 20, 30], 'v5': (10, 20, 30)}\n"
     ]
    }
   ],
   "source": [
    "# del 연산자를 통해 삭제할 수 있다.\n",
    "del d3['v2']\n",
    "print(d3)"
   ]
  },
  {
   "cell_type": "code",
   "execution_count": 18,
   "id": "61a45054-d042-4fd4-b360-e2cefe0cb36e",
   "metadata": {},
   "outputs": [
    {
     "ename": "KeyError",
     "evalue": "'v100'",
     "output_type": "error",
     "traceback": [
      "\u001b[1;31m---------------------------------------------------------------------------\u001b[0m",
      "\u001b[1;31mKeyError\u001b[0m                                  Traceback (most recent call last)",
      "Cell \u001b[1;32mIn[18], line 3\u001b[0m\n\u001b[0;32m      1\u001b[0m \u001b[38;5;66;03m# 없는 이름으로 데이터를 가져온다.\u001b[39;00m\n\u001b[0;32m      2\u001b[0m \u001b[38;5;66;03m# 오류 발생\u001b[39;00m\n\u001b[1;32m----> 3\u001b[0m a1 \u001b[38;5;241m=\u001b[39m d3[\u001b[38;5;124m'\u001b[39m\u001b[38;5;124mv100\u001b[39m\u001b[38;5;124m'\u001b[39m]\n\u001b[0;32m      4\u001b[0m \u001b[38;5;28mprint\u001b[39m(a1)\n",
      "\u001b[1;31mKeyError\u001b[0m: 'v100'"
     ]
    }
   ],
   "source": [
    "# 없는 이름으로 데이터를 가져온다.\n",
    "# 오류 발생\n",
    "a1 = d3['v100']\n",
    "print(a1)  "
   ]
  },
  {
   "cell_type": "code",
   "execution_count": 21,
   "id": "3b7a7c52-fedc-4b72-ba98-eee0b6b7387e",
   "metadata": {},
   "outputs": [
    {
     "name": "stdout",
     "output_type": "stream",
     "text": [
      "안녕하세요\n",
      "None\n"
     ]
    }
   ],
   "source": [
    "# get을 통해 가져올 때 이름이 없을 경우 None이 나온다. \n",
    "v3 = d3.get('v3')\n",
    "print(v3)\n",
    "\n",
    "v100 = d3.get('v100')\n",
    "print(v100)"
   ]
  },
  {
   "cell_type": "code",
   "execution_count": 25,
   "id": "1cb3e181-6024-425f-9b1f-46f51ff2b7bf",
   "metadata": {},
   "outputs": [
    {
     "name": "stdout",
     "output_type": "stream",
     "text": [
      "100\n",
      "200\n",
      "300\n",
      "400\n"
     ]
    }
   ],
   "source": [
    "# 이름은 꼭 문자열이 아니어도 됩니다.\n",
    "d10 = {\n",
    "    'a1' : 100,\n",
    "    10 : 200,\n",
    "    11.11 : 300,\n",
    "    True : 400\n",
    "}\n",
    "print(d10['a1'])\n",
    "print(d10[10])\n",
    "print(d10[11.11])\n",
    "print(d10[True])"
   ]
  }
 ],
 "metadata": {
  "kernelspec": {
   "display_name": "Python 3 (ipykernel)",
   "language": "python",
   "name": "python3"
  },
  "language_info": {
   "codemirror_mode": {
    "name": "ipython",
    "version": 3
   },
   "file_extension": ".py",
   "mimetype": "text/x-python",
   "name": "python",
   "nbconvert_exporter": "python",
   "pygments_lexer": "ipython3",
   "version": "3.12.7"
  }
 },
 "nbformat": 4,
 "nbformat_minor": 5
}
