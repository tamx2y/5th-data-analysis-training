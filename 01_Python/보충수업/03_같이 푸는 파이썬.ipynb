{
 "cells": [
  {
   "cell_type": "markdown",
   "id": "7a1b4e3f-f81c-4705-80ad-a37f22c34ea9",
   "metadata": {},
   "source": [
    "## 순차 - 차례대로 하나"
   ]
  },
  {
   "cell_type": "code",
   "execution_count": 1,
   "id": "08160813-c90f-4bda-91d0-c86df7a4e67c",
   "metadata": {},
   "outputs": [
    {
     "name": "stdout",
     "output_type": "stream",
     "text": [
      "[20, 40, 50, 10, 30, 100, 200]\n"
     ]
    }
   ],
   "source": [
    "num = [20, 40, 50, 10, 30, 100, 200]\n",
    "print(num)"
   ]
  },
  {
   "cell_type": "code",
   "execution_count": 2,
   "id": "17890106-7adf-454f-a250-0a5ca58552ce",
   "metadata": {},
   "outputs": [
    {
     "name": "stdout",
     "output_type": "stream",
     "text": [
      "150\n"
     ]
    }
   ],
   "source": [
    "# 합 구하기 ver1\n",
    "add = num[0] + num[1] + num[2] + num[3] + num[4] \n",
    "print(add)"
   ]
  },
  {
   "cell_type": "code",
   "execution_count": 3,
   "id": "f62fff9d-87b1-4fa5-846c-581800de831f",
   "metadata": {},
   "outputs": [
    {
     "name": "stdout",
     "output_type": "stream",
     "text": [
      "450\n"
     ]
    }
   ],
   "source": [
    "# 합 구하기 ver2 \n",
    "print(sum(num))"
   ]
  },
  {
   "cell_type": "code",
   "execution_count": 4,
   "id": "925e3e63-ecc8-43e0-bfac-3de5dee9dc24",
   "metadata": {},
   "outputs": [
    {
     "name": "stdout",
     "output_type": "stream",
     "text": [
      "64.28571428571429\n"
     ]
    }
   ],
   "source": [
    "# 나누기 ver 1\n",
    "print(sum(num)/7)"
   ]
  },
  {
   "cell_type": "code",
   "execution_count": 5,
   "id": "345baa8f-6ed1-4279-a1be-732b1d4eefda",
   "metadata": {},
   "outputs": [
    {
     "name": "stdout",
     "output_type": "stream",
     "text": [
      "64.28571428571429\n"
     ]
    }
   ],
   "source": [
    "# 나누기 ver2\n",
    "print(sum(num) / len(num))"
   ]
  },
  {
   "cell_type": "code",
   "execution_count": 6,
   "id": "e48524d4-b199-49e9-8079-2b6ff4a3c0f3",
   "metadata": {},
   "outputs": [
    {
     "name": "stdout",
     "output_type": "stream",
     "text": [
      "200\n",
      "10\n"
     ]
    }
   ],
   "source": [
    "# max, min\n",
    "print(max(num))\n",
    "print(min(num))"
   ]
  },
  {
   "cell_type": "code",
   "execution_count": 7,
   "id": "4ae757ef-3453-4cc2-8632-a18d5d48e0ee",
   "metadata": {},
   "outputs": [
    {
     "name": "stdout",
     "output_type": "stream",
     "text": [
      "{}\n"
     ]
    }
   ],
   "source": [
    "# 딕셔너리 만들기 {}\n",
    "menu = {}\n",
    "print({})"
   ]
  },
  {
   "cell_type": "code",
   "execution_count": 8,
   "id": "400c2ed2-ba38-470f-a77c-1aad1590cb97",
   "metadata": {},
   "outputs": [
    {
     "name": "stdout",
     "output_type": "stream",
     "text": [
      "{'짜장': 4000, '짬뽕': 5000, '탕수육': 9000, '냉면': 6000, '칠리새우': 10000}\n",
      "5000\n",
      "4000\n",
      "9000\n",
      "{'짜장': 4000, '짬뽕': 5000, '탕수육': 8500, '냉면': 6000, '칠리새우': 10000}\n",
      "{'짜장': 4500, '짬뽕': 5000, '탕수육': 8500, '냉면': 6000, '칠리새우': 10000}\n",
      "{'짬뽕': 5000, '탕수육': 8500, '냉면': 6000, '칠리새우': 10000}\n"
     ]
    }
   ],
   "source": [
    "menu = {\"짜장\":4000, \"짬뽕\":5000, \"탕수육\":9000}\n",
    "menu[\"냉면\"] = 6000\n",
    "menu[\"칠리새우\"] = 10000\n",
    "print(menu)\n",
    "print(menu[\"짬뽕\"])\n",
    "print(menu[\"짜장\"])\n",
    "print(menu[\"탕수육\"])\n",
    "\n",
    "# 가격 수정\n",
    "menu[\"탕수육\"] = 8500\n",
    "print(menu)\n",
    "menu[\"짜장\"] = 4500\n",
    "print(menu)\n",
    "\n",
    "# 메뉴 삭제\n",
    "del menu[\"짜장\"]\n",
    "print(menu)"
   ]
  },
  {
   "cell_type": "code",
   "execution_count": 9,
   "id": "7c2ec3aa-e966-4a37-b3ab-9f6f2a48db38",
   "metadata": {},
   "outputs": [
    {
     "name": "stdout",
     "output_type": "stream",
     "text": [
      "{'아빠': 45, '엄마': 49, '나': 22}\n"
     ]
    }
   ],
   "source": [
    "family = {\"아빠\":45, \"엄마\":49, \"나\":22}\n",
    "print(family)"
   ]
  },
  {
   "cell_type": "code",
   "execution_count": 10,
   "id": "f63c6ac1-b346-4153-8aec-b11d4acba049",
   "metadata": {},
   "outputs": [
    {
     "name": "stdout",
     "output_type": "stream",
     "text": [
      "{'짬뽕': 5000, '탕수육': 8500, '냉면': 6000}\n",
      "5000\n"
     ]
    }
   ],
   "source": [
    "menu = {\"짜장\":4000, \"짬뽕\":5000, \"탕수육\":9000}\n",
    "menu[\"냉면\"] = 6000\n",
    "menu[\"탕수육\"] = 8500\n",
    "del menu[\"짜장\"]\n",
    "print(menu)\n",
    "print(menu[\"짬뽕\"])\n"
   ]
  },
  {
   "cell_type": "markdown",
   "id": "4ffa45ef-8d62-4fdf-a0de-019829f1dce4",
   "metadata": {},
   "source": [
    "## 조건 - 상황에 따라 다르게\n",
    "- 결과가 True 혹은 False의 값만 가질 수 있음."
   ]
  },
  {
   "cell_type": "code",
   "execution_count": 11,
   "id": "a1e5e3e2-7af4-4043-896b-4d69584f82ac",
   "metadata": {},
   "outputs": [
    {
     "name": "stdout",
     "output_type": "stream",
     "text": [
      "False\n",
      "True\n"
     ]
    }
   ],
   "source": [
    "myGrade = 10\n",
    "yourGrade = 15\n",
    "\n",
    "print(myGrade == yourGrade)\n",
    "print(myGrade != yourGrade)"
   ]
  },
  {
   "cell_type": "code",
   "execution_count": 12,
   "id": "3e097908-feed-45c9-a2d6-e6f5853ff142",
   "metadata": {},
   "outputs": [
    {
     "name": "stdin",
     "output_type": "stream",
     "text": [
      "학번을 입력하세요 :  10\n",
      "학번을 입력하세요 :  10\n"
     ]
    },
    {
     "name": "stdout",
     "output_type": "stream",
     "text": [
      "False\n",
      "True\n",
      "True\n",
      "False\n"
     ]
    }
   ],
   "source": [
    "myGrade = int(input(\"학번을 입력하세요 : \"))\n",
    "yourGrade = int(input(\"학번을 입력하세요 : \"))\n",
    "print(myGrade != yourGrade)\n",
    "print(myGrade == yourGrade)\n",
    "print(myGrade >= yourGrade)\n",
    "print(myGrade < yourGrade)"
   ]
  },
  {
   "cell_type": "code",
   "execution_count": 13,
   "id": "9b8cc899-d83e-4657-a4a2-d6ad41348cb2",
   "metadata": {},
   "outputs": [
    {
     "name": "stdin",
     "output_type": "stream",
     "text": [
      "학번을 입력하세요 :  10\n",
      "학번을 입력하세요 :  10\n"
     ]
    },
    {
     "name": "stdout",
     "output_type": "stream",
     "text": [
      "앗! 동기네요!\n",
      "반갑습니다\n",
      "누구세요?\n"
     ]
    }
   ],
   "source": [
    "myGrade = int(input(\"학번을 입력하세요 : \"))\n",
    "yourGrade = int(input(\"학번을 입력하세요 : \"))\n",
    "\n",
    "if myGrade == yourGrade : \n",
    "    print(\"앗! 동기네요!\")\n",
    "    print(\"반갑습니다\")\n",
    "print(\"누구세요?\")"
   ]
  },
  {
   "cell_type": "code",
   "execution_count": 14,
   "id": "7082ebd9-fa2b-4194-952f-996fed028b03",
   "metadata": {},
   "outputs": [
    {
     "name": "stdin",
     "output_type": "stream",
     "text": [
      "학번을 입력하세요 :  10\n",
      "학번을 입력하세요 :  10\n"
     ]
    },
    {
     "name": "stdout",
     "output_type": "stream",
     "text": [
      "누구세요?\n"
     ]
    }
   ],
   "source": [
    "myGrade = int(input(\"학번을 입력하세요 : \"))\n",
    "yourGrade = int(input(\"학번을 입력하세요 : \"))\n",
    "\n",
    "if myGrade != yourGrade : \n",
    "    print(\"앗! 동기네요!\")\n",
    "    print(\"반갑습니다\")\n",
    "print(\"누구세요?\")"
   ]
  },
  {
   "cell_type": "code",
   "execution_count": 15,
   "id": "7d7458b2-a561-4397-9a71-4f0d5eabb591",
   "metadata": {},
   "outputs": [
    {
     "name": "stdin",
     "output_type": "stream",
     "text": [
      "학번을 입력하세요 :  10\n",
      "학번을 입력하세요 :  10\n"
     ]
    },
    {
     "name": "stdout",
     "output_type": "stream",
     "text": [
      "앗 동기네요!\n"
     ]
    }
   ],
   "source": [
    "myGrade = int(input(\"학번을 입력하세요 : \"))\n",
    "yourGrade = int(input(\"학번을 입력하세요 : \"))\n",
    "\n",
    "if myGrade == yourGrade:\n",
    "    print(\"앗 동기네요!\")\n",
    "else : \n",
    "    print(\"앗 동기가 아니네요!\")"
   ]
  },
  {
   "cell_type": "code",
   "execution_count": 16,
   "id": "27e77a1b-2a00-4581-905b-7f9785e133bf",
   "metadata": {},
   "outputs": [
    {
     "name": "stdin",
     "output_type": "stream",
     "text": [
      "학번을 입력하세요 :  10\n",
      "학번을 입력하세요 :  10\n"
     ]
    },
    {
     "name": "stdout",
     "output_type": "stream",
     "text": [
      "반갑다 동기야\n"
     ]
    }
   ],
   "source": [
    "myGrade = int(input(\"학번을 입력하세요 : \"))\n",
    "yourGrade = int(input(\"학번을 입력하세요 : \"))\n",
    "\n",
    "if myGrade > yourGrade :\n",
    "    print(\"선배님 반갑습니다\")\n",
    "elif myGrade < yourGrade : \n",
    "    print(\"반갑다 후배야\")\n",
    "else :\n",
    "    print(\"반갑다 동기야\")"
   ]
  },
  {
   "cell_type": "code",
   "execution_count": 17,
   "id": "eb2c302b-9e5d-4f80-8a96-d9756b064499",
   "metadata": {},
   "outputs": [
    {
     "name": "stdin",
     "output_type": "stream",
     "text": [
      "학번을 입력하세요 :  10\n",
      "학번을 입력하세요 :  10\n"
     ]
    },
    {
     "name": "stdout",
     "output_type": "stream",
     "text": [
      "안녕하세요 동기님!\n"
     ]
    }
   ],
   "source": [
    "myGrade = int(input(\"학번을 입력하세요 : \"))\n",
    "yourGrade = int(input(\"학번을 입력하세요 : \"))\n",
    "\n",
    "if myGrade == yourGrade :\n",
    "    print(\"안녕하세요 동기님!\")\n",
    "elif myGrade > yourGrade : \n",
    "    print(\"안녕하세요 선배님!\")\n",
    "elif myGrade < yourGrade : \n",
    "    print(\"안녕하세요 후배님!\")\n",
    "else : \n",
    "    print(\"누구세요?\")"
   ]
  },
  {
   "cell_type": "code",
   "execution_count": 18,
   "id": "a4b699de-4698-4a5a-b710-b27c767fc9b8",
   "metadata": {},
   "outputs": [
    {
     "name": "stdin",
     "output_type": "stream",
     "text": [
      "먹고 싶은 메뉴를 입력해주세요 10\n"
     ]
    },
    {
     "name": "stdout",
     "output_type": "stream",
     "text": [
      "주문할 수 없습니다\n"
     ]
    }
   ],
   "source": [
    "orders = [\"짜장\", \"짬뽕\", \"탕수육\"]\n",
    "food = input(\"먹고 싶은 메뉴를 입력해주세요\")\n",
    "if food in orders : \n",
    "    print(\"주문할 수 있습니다\")\n",
    "else: \n",
    "    print(\"주문할 수 없습니다\")"
   ]
  },
  {
   "cell_type": "markdown",
   "id": "3e1edec4-f9d2-4831-a0b6-0d3dc4fb4b3d",
   "metadata": {},
   "source": [
    "# menu = {\"짜장\":4000, \"짬뽕\":5000, \"탕수육\":9000}\n",
    "food = input(\"먹고 싶은 메뉴를 입력해주세요 : \")\n",
    "if food in menu : \n",
    "    print(menu[food], \"원 입니다.\")\n",
    "else : \n",
    "    print(\"주문 불가\")"
   ]
  },
  {
   "cell_type": "code",
   "execution_count": 20,
   "id": "bd707d44-0972-40e0-a1ea-fb6532c935f8",
   "metadata": {},
   "outputs": [
    {
     "name": "stdout",
     "output_type": "stream",
     "text": [
      "TRUE\n",
      "0\n",
      "1\n",
      "2\n",
      "3\n",
      "4\n",
      "5\n"
     ]
    }
   ],
   "source": [
    "if 10 < 90 : \n",
    "    print(\"TRUE\")\n",
    "\n",
    "i = 0\n",
    "\n",
    "while i < 6 :\n",
    "    print(i)\n",
    "    i = i+1"
   ]
  },
  {
   "cell_type": "code",
   "execution_count": 21,
   "id": "aa5f0b44-256e-488a-a837-8d35282236ef",
   "metadata": {},
   "outputs": [
    {
     "name": "stdout",
     "output_type": "stream",
     "text": [
      "6\n",
      "5\n",
      "4\n",
      "3\n",
      "2\n",
      "1\n",
      "0\n"
     ]
    }
   ],
   "source": [
    "while i >= 0 :\n",
    "    print(i)\n",
    "    i = i -1"
   ]
  },
  {
   "cell_type": "code",
   "execution_count": 22,
   "id": "4dbea8b9-e37c-4ab4-9994-b143dee849c9",
   "metadata": {},
   "outputs": [
    {
     "name": "stdout",
     "output_type": "stream",
     "text": [
      "0\n",
      "1\n",
      "2\n",
      "if문 동작\n",
      "반복문 종료!\n"
     ]
    }
   ],
   "source": [
    "# break: 반복문을 빠져나갈 때 사용하는 것\n",
    "i = 0\n",
    "while True : \n",
    "    print(i)\n",
    "    i = i + 1\n",
    "\n",
    "    if i >= 3:\n",
    "        print(\"if문 동작\")\n",
    "        break\n",
    "\n",
    "print(\"반복문 종료!\")"
   ]
  },
  {
   "cell_type": "code",
   "execution_count": 23,
   "id": "e53bab95-ec4f-4187-a5f3-5c64e7524977",
   "metadata": {},
   "outputs": [
    {
     "name": "stdout",
     "output_type": "stream",
     "text": [
      "1\n",
      "3\n",
      "5\n",
      "7\n",
      "9\n",
      "반복 종료\n"
     ]
    }
   ],
   "source": [
    "i = 0\n",
    "while i < 10 : \n",
    "    i = i + 1\n",
    "\n",
    "    if i % 2 == 0 : \n",
    "        continue\n",
    "    print(i)\n",
    "\n",
    "print(\"반복 종료\")"
   ]
  },
  {
   "cell_type": "code",
   "execution_count": 24,
   "id": "af4a3488-9f11-4f29-a937-0c31cd07b89f",
   "metadata": {},
   "outputs": [
    {
     "name": "stdout",
     "output_type": "stream",
     "text": [
      "반갑습니다\n",
      "반갑습니다\n",
      "반갑습니다\n",
      "안녕하세요\n",
      "안녕하세요\n",
      "안녕하세요\n",
      "안녕하세요\n",
      "안녕하세요\n",
      "안녕하세요\n",
      "안녕하세요\n",
      "안녕하세요\n",
      "안녕하세요\n",
      "안녕하세요\n",
      "안녕하세요\n",
      "안녕하세요\n",
      "안녕하세요\n",
      "안녕하세요\n",
      "안녕하세요\n",
      "안녕하세요\n",
      "안녕하세요\n",
      "안녕하세요\n",
      "안녕하세요\n",
      "안녕하세요\n",
      "안녕하세요\n",
      "안녕하세요\n",
      "안녕하세요\n",
      "안녕하세요\n",
      "안녕하세요\n",
      "안녕하세요\n",
      "안녕하세요\n",
      "안녕하세요\n",
      "안녕하세요\n",
      "안녕하세요\n",
      "안녕하세요\n",
      "안녕하세요\n",
      "안녕하세요\n",
      "안녕하세요\n",
      "안녕하세요\n",
      "안녕하세요\n",
      "안녕하세요\n",
      "안녕하세요\n",
      "안녕하세요\n",
      "안녕하세요\n",
      "안녕하세요\n",
      "안녕하세요\n",
      "안녕하세요\n",
      "안녕하세요\n",
      "안녕하세요\n",
      "안녕하세요\n",
      "안녕하세요\n",
      "안녕하세요\n",
      "안녕하세요\n",
      "안녕하세요\n",
      "안녕하세요\n",
      "안녕하세요\n",
      "안녕하세요\n",
      "안녕하세요\n",
      "안녕하세요\n",
      "안녕하세요\n",
      "안녕하세요\n",
      "안녕하세요\n",
      "안녕하세요\n",
      "안녕하세요\n",
      "안녕하세요\n",
      "안녕하세요\n",
      "안녕하세요\n",
      "안녕하세요\n",
      "안녕하세요\n",
      "안녕하세요\n",
      "안녕하세요\n",
      "안녕하세요\n",
      "안녕하세요\n",
      "안녕하세요\n",
      "안녕하세요\n",
      "안녕하세요\n",
      "안녕하세요\n",
      "안녕하세요\n",
      "안녕하세요\n",
      "안녕하세요\n",
      "안녕하세요\n",
      "안녕하세요\n",
      "안녕하세요\n",
      "안녕하세요\n",
      "안녕하세요\n",
      "안녕하세요\n",
      "안녕하세요\n",
      "안녕하세요\n",
      "안녕하세요\n",
      "안녕하세요\n",
      "안녕하세요\n",
      "안녕하세요\n",
      "안녕하세요\n",
      "안녕하세요\n",
      "안녕하세요\n",
      "안녕하세요\n",
      "안녕하세요\n",
      "안녕하세요\n",
      "안녕하세요\n",
      "안녕하세요\n",
      "안녕하세요\n",
      "안녕하세요\n",
      "안녕하세요\n",
      "안녕하세요\n",
      "안녕히 가세요~\n",
      "안녕히 가세요~\n",
      "안녕히 가세요~\n",
      "안녕히 가세요~\n",
      "안녕히 가세요~\n",
      "안녕히 가세요~\n",
      "안녕히 가세요~\n",
      "안녕히 가세요~\n",
      "안녕히 가세요~\n",
      "안녕히 가세요~\n",
      "안녕히 가세요~\n",
      "안녕히 가세요~\n",
      "안녕히 가세요~\n",
      "안녕히 가세요~\n",
      "안녕히 가세요~\n",
      "안녕히 가세요~\n",
      "안녕히 가세요~\n",
      "안녕히 가세요~\n",
      "안녕히 가세요~\n",
      "안녕히 가세요~\n",
      "안녕히 가세요~\n",
      "안녕히 가세요~\n",
      "안녕히 가세요~\n",
      "안녕히 가세요~\n",
      "안녕히 가세요~\n",
      "안녕히 가세요~\n",
      "안녕히 가세요~\n",
      "안녕히 가세요~\n",
      "안녕히 가세요~\n",
      "안녕히 가세요~\n",
      "안녕히 가세요~\n",
      "안녕히 가세요~\n",
      "안녕히 가세요~\n",
      "안녕히 가세요~\n",
      "안녕히 가세요~\n",
      "안녕히 가세요~\n",
      "안녕히 가세요~\n",
      "안녕히 가세요~\n",
      "안녕히 가세요~\n",
      "안녕히 가세요~\n",
      "안녕히 가세요~\n",
      "안녕히 가세요~\n",
      "안녕히 가세요~\n",
      "안녕히 가세요~\n",
      "안녕히 가세요~\n",
      "안녕히 가세요~\n",
      "안녕히 가세요~\n",
      "안녕히 가세요~\n",
      "안녕히 가세요~\n",
      "안녕히 가세요~\n"
     ]
    }
   ],
   "source": [
    "# for 변수 in 시퀀스 : \n",
    "    # 실행될 코드\n",
    "# 시퀀스: 순서를 가진 데이터의 집합\n",
    "\n",
    "for x in [10, 20, 30] : \n",
    "    print(\"반갑습니다\")\n",
    "\n",
    "for x in range(100) : \n",
    "    print(\"안녕하세요\")\n",
    "\n",
    "for x in range(50):\n",
    "    print(\"안녕히 가세요~\")"
   ]
  },
  {
   "cell_type": "markdown",
   "id": "138f58f2-c5ed-47de-9bee-4503b1021e7a",
   "metadata": {},
   "source": [
    "- while문은 조건이 True인지 False인지에 따라 실행이 멈추거나 계속되거나 하였음.\n",
    "- for문은 시퀀스의 마지막을 만나면 반복을 멈추게 됨. "
   ]
  },
  {
   "cell_type": "code",
   "execution_count": 25,
   "id": "8919df06-1813-425f-86aa-76138ec98b95",
   "metadata": {},
   "outputs": [
    {
     "name": "stdout",
     "output_type": "stream",
     "text": [
      "10\n",
      "11\n",
      "12\n",
      "13\n",
      "14\n",
      "15\n",
      "16\n",
      "17\n",
      "18\n",
      "19\n",
      "3\n",
      "6\n",
      "9\n",
      "12\n",
      "15\n",
      "18\n",
      "21\n",
      "24\n",
      "27\n",
      "30\n",
      "2\n",
      "4\n",
      "6\n",
      "8\n",
      "10\n",
      "12\n",
      "14\n",
      "16\n",
      "18\n",
      "20\n",
      "22\n",
      "24\n",
      "26\n",
      "28\n",
      "30\n"
     ]
    }
   ],
   "source": [
    "# range(시작숫자, 종료숫자, 스텝)\n",
    "# range(종료숫자) : 0 ~ 종료숫자(n-1)까지 차례로 반복\n",
    "\n",
    "for x in range(10, 20):\n",
    "    print(x)\n",
    "\n",
    "for x in range(3, 31, 3):\n",
    "    print(x)\n",
    "\n",
    "for x in range(2, 31, 2):\n",
    "    print(x)"
   ]
  },
  {
   "cell_type": "code",
   "execution_count": 26,
   "id": "5736b61f-b6e2-4f05-b169-4b83115e886c",
   "metadata": {},
   "outputs": [
    {
     "name": "stdout",
     "output_type": "stream",
     "text": [
      "5050\n"
     ]
    }
   ],
   "source": [
    "result = 0\n",
    "for x in range(1, 101) : \n",
    "    result = result + x\n",
    "\n",
    "print(result)"
   ]
  },
  {
   "cell_type": "code",
   "execution_count": 27,
   "id": "aa56a648-b631-44c7-8c36-1d06601ec61b",
   "metadata": {},
   "outputs": [
    {
     "name": "stdout",
     "output_type": "stream",
     "text": [
      "3628800\n"
     ]
    }
   ],
   "source": [
    "result = 1\n",
    "for x in range(1, 11) : \n",
    "    result = result * x\n",
    "\n",
    "print(result)"
   ]
  },
  {
   "cell_type": "code",
   "execution_count": 35,
   "id": "81c65e9d-b190-46e2-86f7-da75a66cb0a9",
   "metadata": {},
   "outputs": [
    {
     "name": "stdout",
     "output_type": "stream",
     "text": [
      "*\n",
      "*\n",
      "*\n",
      "*\n",
      "*\n",
      "**********"
     ]
    }
   ],
   "source": [
    "# 별이 빛나는 밤\n",
    "\n",
    "print(\"*\")\n",
    "print(\"*\")\n",
    "print(\"*\")\n",
    "print(\"*\")\n",
    "print(\"*\")\n",
    "\n",
    "for x in range(10):\n",
    "    print(\"*\", end=\"\")\n",
    "    "
   ]
  },
  {
   "cell_type": "code",
   "execution_count": 36,
   "id": "a327b057-af40-4498-a589-2bb4c7fb9db3",
   "metadata": {},
   "outputs": [
    {
     "name": "stdout",
     "output_type": "stream",
     "text": [
      "*****\n",
      "*****\n",
      "*****\n",
      "*****\n",
      "*****\n"
     ]
    }
   ],
   "source": [
    "for x in range(5):\n",
    "    print(\"*****\")"
   ]
  },
  {
   "cell_type": "code",
   "execution_count": 43,
   "id": "25b6c71b-9c29-46e4-851c-49862eb2b088",
   "metadata": {},
   "outputs": [
    {
     "name": "stdin",
     "output_type": "stream",
     "text": [
      "숫자를 입력해주세요 :  2\n"
     ]
    },
    {
     "name": "stdout",
     "output_type": "stream",
     "text": [
      "1\n",
      "2\n"
     ]
    }
   ],
   "source": [
    "x = int(input(\"숫자를 입력해주세요 : \"))\n",
    "\n",
    "for i in range(x): \n",
    "    print(i+1)\n"
   ]
  },
  {
   "cell_type": "code",
   "execution_count": 47,
   "id": "9cdf1649-c8bd-4db1-a1d7-3b11386bfcb0",
   "metadata": {},
   "outputs": [
    {
     "name": "stdout",
     "output_type": "stream",
     "text": [
      "[34, 5, 96, 39, 89, 49, 31, 52, 94, 59]\n",
      "[41, 5, 10]\n"
     ]
    }
   ],
   "source": [
    "# 로또번호 생성기\n",
    "import random\n",
    "\n",
    "randomNumber = random.sample(range(1, 100), 10)\n",
    "print(randomNumber)\n",
    "\n",
    "randomNumber = random.sample(range(1,51), 3)\n",
    "print(randomNumber)"
   ]
  }
 ],
 "metadata": {
  "kernelspec": {
   "display_name": "Python 3 (ipykernel)",
   "language": "python",
   "name": "python3"
  },
  "language_info": {
   "codemirror_mode": {
    "name": "ipython",
    "version": 3
   },
   "file_extension": ".py",
   "mimetype": "text/x-python",
   "name": "python",
   "nbconvert_exporter": "python",
   "pygments_lexer": "ipython3",
   "version": "3.12.7"
  }
 },
 "nbformat": 4,
 "nbformat_minor": 5
}
