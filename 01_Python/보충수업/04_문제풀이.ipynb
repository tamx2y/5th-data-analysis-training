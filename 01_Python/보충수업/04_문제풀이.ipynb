{
 "cells": [
  {
   "cell_type": "code",
   "execution_count": 3,
   "id": "4e87599f-f2bc-4822-9f8d-e179ca2de3f8",
   "metadata": {},
   "outputs": [
    {
     "name": "stdout",
     "output_type": "stream",
     "text": [
      "**********\n",
      "*****\n",
      "*****\n",
      "*****\n",
      "*****\n"
     ]
    }
   ],
   "source": [
    "# Q1.\n",
    "\n",
    "print(\"*****\")\n",
    "\n",
    "for x in range(5):\n",
    "    print(\"*\", end=\"\")\n",
    "\n",
    "for x in range(5) :\n",
    "    print(\"*\" * 5)"
   ]
  },
  {
   "cell_type": "code",
   "execution_count": 2,
   "id": "f1c15e4a-87d5-4d52-ac60-9b468f8f888c",
   "metadata": {},
   "outputs": [
    {
     "name": "stdout",
     "output_type": "stream",
     "text": [
      "*\n",
      "**\n",
      "***\n",
      "****\n",
      "*****\n"
     ]
    }
   ],
   "source": [
    "# Q2. \n",
    "for x in range(5):\n",
    "    print(\"*\" * (x+1))"
   ]
  },
  {
   "cell_type": "code",
   "execution_count": 7,
   "id": "a056dcd2-bcab-453e-8eac-d800c2bfb5f1",
   "metadata": {},
   "outputs": [
    {
     "name": "stdin",
     "output_type": "stream",
     "text": [
      "숫자를 입력하세요 :  2\n"
     ]
    },
    {
     "name": "stdout",
     "output_type": "stream",
     "text": [
      "2\n",
      "1\n"
     ]
    }
   ],
   "source": [
    "# Q3. \n",
    "x = int(input(\"숫자를 입력하세요 : \"))\n",
    "\n",
    "for i in range(x, 0, -1):\n",
    "    print(i)\n"
   ]
  },
  {
   "cell_type": "code",
   "execution_count": 12,
   "id": "290183e3-3f34-407a-95c4-cbfab62b7c68",
   "metadata": {},
   "outputs": [
    {
     "name": "stdin",
     "output_type": "stream",
     "text": [
      "숫자를 입력하세요 :  30\n"
     ]
    },
    {
     "name": "stdout",
     "output_type": "stream",
     "text": [
      "\n",
      "1\t2\t3\t4\t5\t6\t7\t8\t9\t10\t\n",
      "11\t12\t13\t14\t15\t16\t17\t18\t19\t20\t\n",
      "21\t22\t23\t24\t25\t26\t27\t28\t29\t30\t\n"
     ]
    }
   ],
   "source": [
    "# Q4. \n",
    "x = int(input(\"숫자를 입력하세요 : \"))\n",
    "\n",
    "for i in range(x) : \n",
    "    if i % 10 == 0 :\n",
    "        print()\n",
    "    print(i+1, end=\"\\t\") #가로로 출력하려면 end구문이 필요함\n",
    "\n",
    "print()"
   ]
  },
  {
   "cell_type": "code",
   "execution_count": 18,
   "id": "099f8621-ddda-4069-a7de-f5f5d9034f71",
   "metadata": {},
   "outputs": [
    {
     "name": "stdin",
     "output_type": "stream",
     "text": [
      "로또를 몇개 구매하시겠습니까 2\n"
     ]
    },
    {
     "name": "stdout",
     "output_type": "stream",
     "text": [
      "[2, 8, 13, 35, 38, 41]\n",
      "[11, 17, 21, 27, 28, 41]\n",
      "로또 종료\n"
     ]
    }
   ],
   "source": [
    "# Q5. \n",
    "import random\n",
    "\n",
    "count = int(input(\"로또를 몇개 구매하시겠습니까\"))\n",
    "\n",
    "for i in range(count):\n",
    "    lotto = random.sample(range(1, 46), 6)\n",
    "    lotto.sort()\n",
    "    print(lotto)\n",
    "\n",
    "print(\"로또 종료\")\n",
    "\n"
   ]
  }
 ],
 "metadata": {
  "kernelspec": {
   "display_name": "Python 3 (ipykernel)",
   "language": "python",
   "name": "python3"
  },
  "language_info": {
   "codemirror_mode": {
    "name": "ipython",
    "version": 3
   },
   "file_extension": ".py",
   "mimetype": "text/x-python",
   "name": "python",
   "nbconvert_exporter": "python",
   "pygments_lexer": "ipython3",
   "version": "3.12.7"
  }
 },
 "nbformat": 4,
 "nbformat_minor": 5
}
