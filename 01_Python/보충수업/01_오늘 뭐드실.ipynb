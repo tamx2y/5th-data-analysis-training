{
 "cells": [
  {
   "cell_type": "markdown",
   "id": "1e2efccd-295a-464c-af8f-9a2a554aa88a",
   "metadata": {},
   "source": [
    "# 오늘 뭐드실?\n",
    "- 파이썬 코딩은 마치 마트료시카 인형과 같다.\n",
    "- DRY: \"Don't Repeat Yourself\""
   ]
  },
  {
   "cell_type": "code",
   "execution_count": 1,
   "id": "d9816d5e-e7d4-48a3-ab0a-494f98f9b27a",
   "metadata": {},
   "outputs": [
    {
     "name": "stdout",
     "output_type": "stream",
     "text": [
      "된장찌개\n"
     ]
    }
   ],
   "source": [
    "# 된장찌개, 피자, 제육볶음 중에서 아무거나 하나를 선택하자\n",
    "# 1) 기초가 되는 인형: 된장찌개, 피자, 제육볶음\n",
    "# 2) 랜덤으로 하나를 뽑자\n",
    "# 3) 랜덤으로 하나를 출력하자 \n",
    "import random\n",
    "print(random.choice(['된장찌개', '피자', '제육볶음']))"
   ]
  },
  {
   "cell_type": "code",
   "execution_count": 2,
   "id": "9bf97c36-2f04-423b-abf7-c027f7363c66",
   "metadata": {},
   "outputs": [
    {
     "name": "stdout",
     "output_type": "stream",
     "text": [
      "피자\n"
     ]
    }
   ],
   "source": [
    "print(random.choice(['된장찌개', '피자', '제육볶음', '떡볶이', '치킨']))"
   ]
  },
  {
   "cell_type": "code",
   "execution_count": 3,
   "id": "6c169943-af37-46de-b61b-6c012361b98f",
   "metadata": {},
   "outputs": [
    {
     "name": "stdout",
     "output_type": "stream",
     "text": [
      "라면\n",
      "된장찌개\n",
      "된장찌개\n",
      "감자튀김\n",
      "라면\n",
      "감자튀김\n",
      "떡볶이\n",
      "감자튀김\n",
      "된장찌개\n",
      "떡볶이\n",
      "감자튀김\n",
      "된장찌개\n",
      "된장찌개\n",
      "치킨\n",
      "된장찌개\n",
      "된장찌개\n",
      "떡볶이\n",
      "떡볶이\n",
      "치킨\n",
      "라면\n",
      "치킨\n",
      "치킨\n",
      "떡볶이\n",
      "감자튀김\n",
      "감자튀김\n",
      "치킨\n",
      "치킨\n",
      "된장찌개\n",
      "감자튀김\n",
      "라면\n",
      "이 문장도 반복되나?\n"
     ]
    }
   ],
   "source": [
    "# 이번달 저녁을 먹는 코드\n",
    "# 30개 음식이 한번에 다 나오게\n",
    "\n",
    "for x in range(30):\n",
    "    print(random.choice(['된장찌개', '떡볶이', '치킨', '라면', '감자튀김']))\n",
    "print(\"이 문장도 반복되나?\")\n",
    "# 0부터 30-1까지 값을 세서 그 값을 x에 저장한 다음 반복하겠다(for)\n",
    "# :을 빼먹으면 안됨. \n",
    "# 들여쓰기가 없으면 제대로 실행되지 않음, 마지막에 딱 한번만 반복"
   ]
  },
  {
   "cell_type": "code",
   "execution_count": 4,
   "id": "ef12925a-c070-44ac-a686-1e12077b7a87",
   "metadata": {},
   "outputs": [
    {
     "name": "stdout",
     "output_type": "stream",
     "text": [
      "감자튀김\n"
     ]
    }
   ],
   "source": [
    "# 무한루프\n",
    "import time\n",
    "\n",
    "while True: \n",
    "    break # 이 경우 코드가 실행되지 않고 바로 종료됨.\n",
    "    print(random.choice(['된장찌개', '떡볶이', '치킨', '라면', '감자튀김']))\n",
    "    time.sleep(1)\n",
    "\n",
    "while True: \n",
    "    print(random.choice(['된장찌개', '떡볶이', '치킨', '라면', '감자튀김']))\n",
    "    break\n",
    "    time.sleep(1)"
   ]
  },
  {
   "cell_type": "code",
   "execution_count": 5,
   "id": "77dd07fe-2af6-405f-9fe4-deb8362127d3",
   "metadata": {},
   "outputs": [
    {
     "name": "stdout",
     "output_type": "stream",
     "text": [
      "냉장고\n",
      "김밥\n"
     ]
    }
   ],
   "source": [
    "import random\n",
    "\n",
    "\n",
    "lunch = random.choice(['된장찌개', '피자', '제육볶음'])\n",
    "lunch = '냉장고'\n",
    "dinner = random.choice(['김밥', '쫄면', '돈까스'])\n",
    "print(lunch)\n",
    "print(dinner)"
   ]
  },
  {
   "cell_type": "code",
   "execution_count": 6,
   "id": "73911780-d5da-488b-9865-571d5d6294e9",
   "metadata": {},
   "outputs": [
    {
     "name": "stdout",
     "output_type": "stream",
     "text": [
      "수원 영화보기 국수\n",
      "{'고향': '수원', '취미': '영화보기', '좋아하는 음식': '국수'}\n",
      "영화보기\n"
     ]
    }
   ],
   "source": [
    "고향 = '수원'\n",
    "취미 = '영화보기'\n",
    "좋아하는_음식 = '국수'\n",
    "print(고향, 취미, 좋아하는_음식)\n",
    "\n",
    "information = {'고향' : '수원', '취미' : '영화보기', '좋아하는 음식' : '국수'}\n",
    "print(information)\n",
    "print(information.get('취미'))"
   ]
  },
  {
   "cell_type": "code",
   "execution_count": 7,
   "id": "55cf496d-f4d8-4500-a5c6-41a3a926c302",
   "metadata": {},
   "outputs": [
    {
     "name": "stdout",
     "output_type": "stream",
     "text": [
      "피아노\n",
      "서울\n"
     ]
    }
   ],
   "source": [
    "#특기 - 피아노\n",
    "# 사는 곳 - 서올\n",
    "\n",
    "information = {'특기' : '피아노', '사는곳' : '서울'}\n",
    "print(information.get('특기'))\n",
    "print(information.get('사는곳'))"
   ]
  },
  {
   "cell_type": "code",
   "execution_count": 8,
   "id": "ef404762-8892-40b2-a005-9ddd0a7d2233",
   "metadata": {},
   "outputs": [
    {
     "name": "stdout",
     "output_type": "stream",
     "text": [
      "영화보기\n",
      "{'고향': '수원', '취미': '영화보기', '특기': '피아노', '사는곳': '서울'}\n",
      "4\n",
      "{}\n",
      "제육볶음\n",
      "피자\n",
      "['된장찌개', '피자', '제육볶음', '김밥']\n",
      "['된장찌개', '제육볶음', '김밥']\n"
     ]
    }
   ],
   "source": [
    "#리스트와 딕셔너리 - 데이터를 저장하는 구조\n",
    "information = {'고향' : '수원', '취미' : '영화보기', '좋아하는 음식' : '국수'}\n",
    "foods = ['된장찌개', '피자', '제육볶음']\n",
    "print(information.get('취미'))\n",
    "\n",
    "information['특기'] = '피아노'\n",
    "information['사는곳'] = '서울'\n",
    "\n",
    "del information[\"좋아하는 음식\"]\n",
    "\n",
    "print(information)\n",
    "print(len(information)) #information에 들어가있는 정보의 묶음이 몇개인지 알려줌\n",
    "\n",
    "information.clear() #Dictionary를 모두 비우는 과정\n",
    "print(information)\n",
    "\n",
    "print(foods[2])\n",
    "print(foods[-2])\n",
    "\n",
    "foods.append('김밥') #dictonary에서 지우는 방법\n",
    "print(foods)\n",
    "\n",
    "del foods[1] #list에서 지우는 방법\n",
    "print(foods)"
   ]
  },
  {
   "cell_type": "code",
   "execution_count": 9,
   "id": "58103767-6f25-4a02-8d35-d220a513d03b",
   "metadata": {},
   "outputs": [
    {
     "name": "stdout",
     "output_type": "stream",
     "text": [
      "0\n",
      "1\n",
      "2\n",
      "3\n",
      "4\n",
      "5\n",
      "6\n",
      "7\n",
      "8\n",
      "9\n",
      "10\n",
      "11\n",
      "12\n",
      "13\n",
      "14\n",
      "15\n",
      "16\n",
      "17\n",
      "18\n",
      "19\n",
      "20\n",
      "21\n",
      "22\n",
      "23\n",
      "24\n",
      "25\n",
      "26\n",
      "27\n",
      "28\n",
      "29\n"
     ]
    }
   ],
   "source": [
    "for x in range(30):\n",
    "    print(x)"
   ]
  },
  {
   "cell_type": "code",
   "execution_count": 10,
   "id": "3d24e27a-0d5b-4b1b-97ef-a1ddd6a2f7af",
   "metadata": {},
   "outputs": [
    {
     "name": "stdout",
     "output_type": "stream",
     "text": [
      "된장찌개\n",
      "피자\n",
      "제육볶음\n",
      "라면\n",
      "김밥\n",
      "된장찌개\n",
      "피자\n",
      "제육볶음\n",
      "라면\n",
      "김밥\n",
      "고향\n",
      "수원\n",
      "취미\n",
      "영화관람\n",
      "좋아하는 음식\n",
      "국수\n"
     ]
    }
   ],
   "source": [
    "foods = ['된장찌개', '피자', '제육볶음', '라면', '김밥']\n",
    "for x in range(5):\n",
    "    print(foods[x])\n",
    "\n",
    "for x in foods:\n",
    "    print(x)\n",
    "\n",
    "information = {'고향':'수원',\n",
    "               '취미':'영화관람',\n",
    "               '좋아하는 음식':'국수'}\n",
    "for x, y in information.items():\n",
    "    print(x)\n",
    "    print(y)"
   ]
  },
  {
   "cell_type": "markdown",
   "id": "46f5b061-ad10-4be2-9f3f-0548e1c88dc6",
   "metadata": {},
   "source": [
    "## 집합(set) 알아보기\n",
    "- list: 순서가 있는 값의 모임, 겹치는 값 존재할 수 있음\n",
    "- set: 순서가 없는 값의 모임, 겹치는 값 존재할 수 없음\n",
    "#####\n",
    "- 합집합 연산 : 2개의 집합을 합친다면 겹치는 원소는 병합\n",
    "- 차집합 연산: 첫번째 집합 - 겹치는 원소는 삭제 \n",
    "- 교집합 연산: 겹치는 원소만 추출"
   ]
  },
  {
   "cell_type": "code",
   "execution_count": 11,
   "id": "9d351316-87e2-4c4b-8211-d99543985e80",
   "metadata": {},
   "outputs": [
    {
     "name": "stdout",
     "output_type": "stream",
     "text": [
      "{'피자', '제육볶음', '된장찌개'}\n",
      "{'피자', '제육볶음', '된장찌개'}\n"
     ]
    }
   ],
   "source": [
    "# method 1\n",
    "foods = ['된장찌개', '피자', '제육볶음']\n",
    "foods_set1 = set(foods)\n",
    "\n",
    "# method 2\n",
    "foods_set2 = set(['된장찌개', '피자', '제육볶음'])\n",
    "\n",
    "print(foods_set1)\n",
    "print(foods_set2)\n",
    "\n",
    "# set은 list와 달리 안에 들어있는 객체의 순서를 고려하지 않음."
   ]
  },
  {
   "cell_type": "code",
   "execution_count": 12,
   "id": "362dc279-e234-4ebd-b293-de7afc0398cc",
   "metadata": {},
   "outputs": [
    {
     "name": "stdout",
     "output_type": "stream",
     "text": [
      "['된장찌개', '피자', '제육볶음', '된장찌개']\n",
      "{'피자', '제육볶음', '된장찌개'}\n"
     ]
    }
   ],
   "source": [
    "# list\n",
    "foods = ['된장찌개', '피자', '제육볶음', '된장찌개']\n",
    "# set\n",
    "foods_set = set(foods)\n",
    "print(foods)\n",
    "print(foods_set)"
   ]
  },
  {
   "cell_type": "code",
   "execution_count": 13,
   "id": "7ef48944-b951-4cf1-abab-9bd8daf8ea6d",
   "metadata": {},
   "outputs": [
    {
     "name": "stdout",
     "output_type": "stream",
     "text": [
      "{'김밥', '피자', '제육볶음', '떡국', '된장찌개'}\n",
      "{'된장찌개'}\n",
      "{'피자', '제육볶음'}\n"
     ]
    }
   ],
   "source": [
    "menu1 = set(['된장찌개', '피자', '제육볶음'])\n",
    "menu2 = set(['된장찌개', '떡국', '김밥'])\n",
    "\n",
    "# 합집합\n",
    "menu3 = menu1 | menu2 \n",
    "# | 파이프심볼\n",
    "print(menu3)\n",
    "\n",
    "# 교집합\n",
    "menu3 = menu1 & menu2\n",
    "print(menu3)\n",
    "\n",
    "# 차집합\n",
    "menu3 = menu1 - menu2\n",
    "print(menu3)"
   ]
  },
  {
   "cell_type": "code",
   "execution_count": 14,
   "id": "b905f511-a181-4930-b58b-ad2d25a556d1",
   "metadata": {},
   "outputs": [
    {
     "name": "stdout",
     "output_type": "stream",
     "text": [
      "그냥 주세요\n",
      "종료\n"
     ]
    }
   ],
   "source": [
    "import random\n",
    "food = random.choice(['된장찌개', '피자', '제육볶음'])\n",
    "if(food == \"제육볶음\"):\n",
    "    print(\"곱빼기 주세요\")\n",
    "else :\n",
    "    print(\"그냥 주세요\")\n",
    "print(\"종료\")"
   ]
  },
  {
   "cell_type": "code",
   "execution_count": 15,
   "id": "92d409f0-21fd-47ae-8f76-380bdcce757e",
   "metadata": {},
   "outputs": [
    {
     "name": "stdin",
     "output_type": "stream",
     "text": [
      "음식을 추가해주세요 :  돈까스\n"
     ]
    },
    {
     "name": "stdout",
     "output_type": "stream",
     "text": [
      "['된장찌개', '피자', '제육볶음', '짜장면', '돈까스']\n"
     ]
    }
   ],
   "source": [
    "lunch = [\"된장찌개\", \"피자\", \"제육볶음\", \"짜장면\"]\n",
    "item = input(\"음식을 추가해주세요 : \")\n",
    "lunch.append(item)\n",
    "print(lunch)"
   ]
  },
  {
   "cell_type": "code",
   "execution_count": 16,
   "id": "cda4fbfe-a035-4987-af2c-3b0f0618657e",
   "metadata": {},
   "outputs": [
    {
     "name": "stdout",
     "output_type": "stream",
     "text": [
      "['된장찌개', '피자', '제육볶음', '짜장면']\n"
     ]
    },
    {
     "name": "stdin",
     "output_type": "stream",
     "text": [
      "음식을 추가해주세요 :  팝콘\n"
     ]
    },
    {
     "name": "stdout",
     "output_type": "stream",
     "text": [
      "['된장찌개', '피자', '제육볶음', '짜장면', '팝콘']\n"
     ]
    },
    {
     "name": "stdin",
     "output_type": "stream",
     "text": [
      "음식을 추가해주세요 :  q\n"
     ]
    },
    {
     "name": "stdout",
     "output_type": "stream",
     "text": [
      "['된장찌개', '피자', '제육볶음', '짜장면', '팝콘']\n"
     ]
    }
   ],
   "source": [
    "lunch = [\"된장찌개\", \"피자\", \"제육볶음\", \"짜장면\"]\n",
    "\n",
    "while True:\n",
    "    print(lunch)\n",
    "    item = input(\"음식을 추가해주세요 : \")\n",
    "    if(item == \"q\"):\n",
    "        break\n",
    "    else : \n",
    "        lunch.append(item)  \n",
    "\n",
    "print(lunch)\n",
    "set_lunch = set(lunch)"
   ]
  },
  {
   "cell_type": "code",
   "execution_count": 17,
   "id": "1a6d5a48-12eb-4e98-b844-27b07831df3b",
   "metadata": {},
   "outputs": [
    {
     "name": "stdout",
     "output_type": "stream",
     "text": [
      "{'피자', '제육볶음', '된장찌개'}\n",
      "{'피자', '제육볶음', '짜장면', '된장찌개'}\n",
      "{'피자', '제육볶음', '된장찌개'}\n"
     ]
    }
   ],
   "source": [
    "set_lunch = set([\"된장찌개\", \"피자\", \"제육볶음\", \"짜장면\"])\n",
    "item = \"짜장면\"\n",
    "print(set_lunch - set([item])) #차집합 연산은 원래 아이템에서 삭제를 시켜주지 않는다.\n",
    "print(set_lunch)\n",
    "\n",
    "set_lunch = set_lunch - set([item])\n",
    "print(set_lunch)"
   ]
  },
  {
   "cell_type": "code",
   "execution_count": 18,
   "id": "251db060-7491-43e2-a467-38d0eec8c4fe",
   "metadata": {},
   "outputs": [
    {
     "name": "stdout",
     "output_type": "stream",
     "text": [
      "{'피자', '제육볶음', '된장찌개'}\n"
     ]
    }
   ],
   "source": [
    "set_dinner = set([\"된장찌개\", \"피자\", \"제육볶음\", \"짜장면\"])\n",
    "food = \"짜장면\"\n",
    "set_dinner = set_dinner - set([food])\n",
    "print(set_dinner)"
   ]
  },
  {
   "cell_type": "code",
   "execution_count": 22,
   "id": "d59fed69-d16c-4e5b-835c-5c3ee6376681",
   "metadata": {},
   "outputs": [
    {
     "name": "stdout",
     "output_type": "stream",
     "text": [
      "['된장찌개', '피자', '제육볶음', '짜장면']\n"
     ]
    },
    {
     "name": "stdin",
     "output_type": "stream",
     "text": [
      "음식을 추가해주세요 :  q\n"
     ]
    },
    {
     "name": "stdout",
     "output_type": "stream",
     "text": [
      "['된장찌개', '피자', '제육볶음', '짜장면']\n",
      "{'피자', '제육볶음', '짜장면', '된장찌개'}\n"
     ]
    },
    {
     "name": "stdin",
     "output_type": "stream",
     "text": [
      "음식을 삭제해주세요 :  q\n"
     ]
    },
    {
     "name": "stdout",
     "output_type": "stream",
     "text": [
      "{'피자', '제육볶음', '짜장면', '된장찌개'} 중에서 선택합니다.\n",
      "5\n",
      "4\n",
      "3\n",
      "2\n",
      "1\n",
      "제육볶음\n"
     ]
    }
   ],
   "source": [
    "import random\n",
    "import time \n",
    "\n",
    "lunch = [\"된장찌개\", \"피자\", \"제육볶음\", \"짜장면\"]\n",
    "\n",
    "# 음식을 추가하는 단계\n",
    "while True:\n",
    "    print(lunch)\n",
    "    item = input(\"음식을 추가해주세요 : \")\n",
    "    if(item == \"q\"):\n",
    "        break\n",
    "    else : \n",
    "        lunch.append(item)  \n",
    "print(lunch)\n",
    "\n",
    "# 메뉴 삭제; list가 아닌 set으로 삭제\n",
    "set_lunch = set(lunch)\n",
    "while True:\n",
    "    print(set_lunch)\n",
    "    item = input(\"음식을 삭제해주세요 : \")\n",
    "    if(item == \"q\"):\n",
    "        break\n",
    "    else:\n",
    "        set_lunch = set_lunch - set([item])\n",
    "\n",
    "print(set_lunch, \"중에서 선택합니다.\")\n",
    "print(\"5\")\n",
    "time.sleep(1)\n",
    "print(\"4\")\n",
    "time.sleep(1)\n",
    "print(\"3\")\n",
    "time.sleep(1)\n",
    "print(\"2\")\n",
    "time.sleep(1)\n",
    "print(\"1\")\n",
    "time.sleep(1)\n",
    "\n",
    "print(random.choice(list(set_lunch)))"
   ]
  },
  {
   "cell_type": "markdown",
   "id": "78e9af1a-82e6-4fe8-8295-95a9cc9ea868",
   "metadata": {},
   "source": [
    "- 코드를 읽는 습관은 무척 중요함\n",
    "- 코드리뷰는 여러 명이 있을 때 빛을 발하는 케이스임. "
   ]
  }
 ],
 "metadata": {
  "kernelspec": {
   "display_name": "Python 3 (ipykernel)",
   "language": "python",
   "name": "python3"
  },
  "language_info": {
   "codemirror_mode": {
    "name": "ipython",
    "version": 3
   },
   "file_extension": ".py",
   "mimetype": "text/x-python",
   "name": "python",
   "nbconvert_exporter": "python",
   "pygments_lexer": "ipython3",
   "version": "3.12.7"
  }
 },
 "nbformat": 4,
 "nbformat_minor": 5
}
