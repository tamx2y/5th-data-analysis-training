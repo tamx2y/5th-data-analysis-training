{
 "cells": [
  {
   "cell_type": "code",
   "execution_count": 1,
   "id": "58f65ce0-a169-4ff2-a7ee-ebac3aa730d5",
   "metadata": {},
   "outputs": [
    {
     "name": "stdout",
     "output_type": "stream",
     "text": [
      "1. 커피를 넣는다.\n",
      "2. 우유를 넣는다.\n",
      "3. 신나게 섞는다.\n",
      "1. 블루베리 20g을 넣는다.\n",
      "2. 우유 30ml 넣는다.\n",
      "3. 얼음을 넣는다.\n",
      "4. 믹서기에 간다.\n",
      "1. 얼음을 넣는다.\n",
      "2. 연유를 30ml 넣는다.\n",
      "3. 찬 우유를 넣는다.\n",
      "4. 에스프레소샷을 넣는다.\n",
      "1. 얼음을 넣는다.\n",
      "2. 연유를 30ml 넣는다.\n",
      "3. 찬 우유를 넣는다.\n",
      "4. 에스프레소샷을 넣는다.\n"
     ]
    }
   ],
   "source": [
    "# 함수 알아기기\n",
    "\n",
    "def make_dolcelatte():\n",
    "    print(\"1. 얼음을 넣는다.\")\n",
    "    print(\"2. 연유를 30ml 넣는다.\")\n",
    "    print(\"3. 찬 우유를 넣는다.\")\n",
    "    print(\"4. 에스프레소샷을 넣는다.\")\n",
    "\n",
    "def make_blueberry_smoothie():\n",
    "    print(\"1. 블루베리 20g을 넣는다.\")\n",
    "    print(\"2. 우유 30ml 넣는다.\")\n",
    "    print(\"3. 얼음을 넣는다.\")\n",
    "    print(\"4. 믹서기에 간다.\")\n",
    "\n",
    "def make_simple_latte():\n",
    "    print(\"1. 커피를 넣는다.\")\n",
    "    print(\"2. 우유를 넣는다.\")\n",
    "    print(\"3. 신나게 섞는다.\")\n",
    "\n",
    "make_simple_latte()\n",
    "make_blueberry_smoothie()\n",
    "\n",
    "make_dolcelatte()\n",
    "make_dolcelatte()\n"
   ]
  },
  {
   "cell_type": "code",
   "execution_count": 4,
   "id": "f2943053-acd7-4ea3-9654-e4bdbc2cc1d4",
   "metadata": {},
   "outputs": [
    {
     "name": "stdin",
     "output_type": "stream",
     "text": [
      "질문을 입력해주세요 :  취미는\n",
      "질문을 입력해주세요 :  q\n"
     ]
    },
    {
     "name": "stdout",
     "output_type": "stream",
     "text": [
      "취미는\n"
     ]
    },
    {
     "name": "stdin",
     "output_type": "stream",
     "text": [
      "답변을 입력해주세요 :  테니스\n"
     ]
    },
    {
     "name": "stdout",
     "output_type": "stream",
     "text": [
      "{'취미는': '테니스'}\n"
     ]
    }
   ],
   "source": [
    "# 이상형이 뭐에요 제작하기\n",
    "# 앞 : 뒤 -> 앞: key, 뒤: value\n",
    "\n",
    "# version 1\n",
    "total_dictionary = {}\n",
    "\n",
    "while True:\n",
    "    question = input(\"질문을 입력해주세요 : \")\n",
    "    if question == \"q\":\n",
    "        break\n",
    "    else:\n",
    "        total_dictionary[question] = \"\"\n",
    "\n",
    "for i in total_dictionary:\n",
    "    print(i)\n",
    "    answer = input(\"답변을 입력해주세요 : \")\n",
    "    total_dictionary[i] = answer\n",
    "print(total_dictionary)"
   ]
  },
  {
   "cell_type": "code",
   "execution_count": 5,
   "id": "66d10bd9-cb7f-4dc0-b9af-82d9f511ff86",
   "metadata": {},
   "outputs": [
    {
     "name": "stdin",
     "output_type": "stream",
     "text": [
      "질문을 입력해주세요 :  취미는\n",
      "질문을 입력해주세요 :  q\n"
     ]
    },
    {
     "name": "stdout",
     "output_type": "stream",
     "text": [
      "취미는\n"
     ]
    },
    {
     "name": "stdin",
     "output_type": "stream",
     "text": [
      "답변을 입력해주세요 :  농구\n"
     ]
    },
    {
     "name": "stdout",
     "output_type": "stream",
     "text": [
      "[{'질문': '취미는', '답변': '농구'}]\n"
     ]
    }
   ],
   "source": [
    "# version 2\n",
    "\n",
    "total_list = []\n",
    "while True:\n",
    "    question = input(\"질문을 입력해주세요 : \")\n",
    "    if question == \"q\":\n",
    "        break\n",
    "    else:\n",
    "        total_list.append({\"질문\" : question, \"답변\" : \"\"})\n",
    "\n",
    "\n",
    "for i in total_list:\n",
    "    print(i[\"질문\"])\n",
    "    answer = input(\"답변을 입력해주세요 : \")\n",
    "    i[\"답변\"] = answer\n",
    "print(total_list)"
   ]
  }
 ],
 "metadata": {
  "kernelspec": {
   "display_name": "Python 3 (ipykernel)",
   "language": "python",
   "name": "python3"
  },
  "language_info": {
   "codemirror_mode": {
    "name": "ipython",
    "version": 3
   },
   "file_extension": ".py",
   "mimetype": "text/x-python",
   "name": "python",
   "nbconvert_exporter": "python",
   "pygments_lexer": "ipython3",
   "version": "3.12.7"
  }
 },
 "nbformat": 4,
 "nbformat_minor": 5
}
