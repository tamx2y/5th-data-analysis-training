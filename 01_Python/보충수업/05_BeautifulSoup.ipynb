{
 "cells": [
  {
   "cell_type": "markdown",
   "id": "933eb88b-e989-43b3-8651-3d5e4eed8c32",
   "metadata": {},
   "source": [
    "## 실시간 검색어 확인하기\n",
    "- 크롤링(crawling):\n",
    "- 크롤러(crawler):\n",
    "    - 사전적 의미: 기어다니는 것, 파충류\n",
    "    - 기어다니면서 데이터를 모아주는 존재\n",
    "    - 웹 페이지의 데이터를 추출해내는 행위\n",
    "######\n",
    "- 나중에 수업시간에 제대로 배우는 걸로! :)"
   ]
  },
  {
   "cell_type": "code",
   "execution_count": 1,
   "id": "296cbe3e-c269-4b51-aaf8-a6e3f4bc30e7",
   "metadata": {},
   "outputs": [
    {
     "ename": "SyntaxError",
     "evalue": "invalid syntax (3538580405.py, line 2)",
     "output_type": "error",
     "traceback": [
      "\u001b[1;36m  Cell \u001b[1;32mIn[1], line 2\u001b[1;36m\u001b[0m\n\u001b[1;33m    pip install requests\u001b[0m\n\u001b[1;37m        ^\u001b[0m\n\u001b[1;31mSyntaxError\u001b[0m\u001b[1;31m:\u001b[0m invalid syntax\n"
     ]
    }
   ],
   "source": [
    "# 외부 모듈 설치\n",
    "pip install requests"
   ]
  },
  {
   "cell_type": "code",
   "execution_count": 2,
   "id": "436d349a-8794-42b0-8379-48ba44a99106",
   "metadata": {},
   "outputs": [
    {
     "name": "stdout",
     "output_type": "stream",
     "text": [
      "<module 'requests' from 'C:\\\\anaconda\\\\Lib\\\\site-packages\\\\requests\\\\__init__.py'>\n"
     ]
    }
   ],
   "source": [
    "import requests\n",
    "print(requests)"
   ]
  },
  {
   "cell_type": "markdown",
   "id": "c533300c-3354-4f22-a1ea-a3b19b32c527",
   "metadata": {},
   "source": [
    "### 함수와 모듈\n",
    "- 함수: 자주 사용되는 코드를 묶어놓고 사용할 수 있게 하는 것, 반복적인 작업을 줄일 수 있게 해줌\n",
    "- 모듈: 함수들을 모아 둔 파일"
   ]
  },
  {
   "cell_type": "code",
   "execution_count": 3,
   "id": "c0754501-cd5f-4734-a9a5-e4e590c2daed",
   "metadata": {},
   "outputs": [
    {
     "name": "stdout",
     "output_type": "stream",
     "text": [
      "<function get at 0x000002B871B8A3E0>\n"
     ]
    }
   ],
   "source": [
    "print(requests.get)"
   ]
  },
  {
   "cell_type": "markdown",
   "id": "482c1718-de90-413c-a7d5-d0c974ebf7c2",
   "metadata": {},
   "source": [
    "### BeautifulSoup\n",
    "- BeautifulSoup(데이터, 파싱방법)\n",
    "- BeautifulSoup 함수를 사용하기 위해서는 데이터와 파싱방법이 필요함\n",
    "- parsing: 데이터를 의미있게 분해하고 데이터로 만드는 과정, 문자열을 분석해서 의미가 있는 데이터로 분석\n",
    "- html.parser를 사용할 것임."
   ]
  },
  {
   "cell_type": "code",
   "execution_count": 4,
   "id": "48114a6c-d0f8-471a-8e58-75d66db4fb78",
   "metadata": {},
   "outputs": [],
   "source": [
    "url = \"http://www.daum.net\"\n",
    "#response = requests.get(url)\n",
    "# 200 : '성공'이라는 의미라고 함.\n",
    "\n",
    "#print(response.text)\n",
    "#print(response.url)\n",
    "#print(response.content)\n",
    "#print(response.encoding)\n",
    "#print(response.headers)\n",
    "#print(response.json)\n",
    "#print(response.links)\n",
    "#print(response.ok)\n",
    "#print(response.status.code)"
   ]
  },
  {
   "cell_type": "code",
   "execution_count": 8,
   "id": "3f0d9991-0472-4a82-acf4-7923f2b478af",
   "metadata": {},
   "outputs": [
    {
     "name": "stdout",
     "output_type": "stream",
     "text": [
      "<title>Daum</title>\n",
      "Daum\n",
      "None\n",
      "[]\n"
     ]
    }
   ],
   "source": [
    "# Beautiful Soup 1\n",
    "# Beautiful Soup는 데이터를 담는 통, 가지런히 통에 내용을 담아주는 것\n",
    "# 제대로 안담겨지는 것 같은데.. 문제가 뭘까?\n",
    "\n",
    "import requests\n",
    "from bs4 import BeautifulSoup\n",
    "\n",
    "url = \"http://www.daum.net/\"\n",
    "response = requests.get(url)\n",
    "\n",
    "# BeautifulSoup 객체 생성\n",
    "soup = BeautifulSoup(response.text, 'html.parser')\n",
    "\n",
    "# UTF-8 인코딩으로 파일 저장\n",
    "with open(\"daum.html\", \"w\", encoding=\"utf-8\") as file:\n",
    "    file.write(response.text)\n",
    "\n",
    "# 정보 출력\n",
    "print(soup.title)\n",
    "print(soup.title.string)\n",
    "print(soup.span)\n",
    "print(soup.findAll('span'))\n"
   ]
  },
  {
   "cell_type": "code",
   "execution_count": 16,
   "id": "c83d284c-df56-44bc-9920-08e4cc8d6c33",
   "metadata": {},
   "outputs": [
    {
     "ename": "NameError",
     "evalue": "name 'datetime' is not defined",
     "output_type": "error",
     "traceback": [
      "\u001b[1;31m---------------------------------------------------------------------------\u001b[0m",
      "\u001b[1;31mNameError\u001b[0m                                 Traceback (most recent call last)",
      "Cell \u001b[1;32mIn[16], line 13\u001b[0m\n\u001b[0;32m      9\u001b[0m results \u001b[38;5;241m=\u001b[39m soup\u001b[38;5;241m.\u001b[39mfindAll(\u001b[38;5;124m\"\u001b[39m\u001b[38;5;124ma\u001b[39m\u001b[38;5;124m\"\u001b[39m, \u001b[38;5;124m\"\u001b[39m\u001b[38;5;124mlink_favorsch\u001b[39m\u001b[38;5;124m\"\u001b[39m)\n\u001b[0;32m     11\u001b[0m search_rank_file \u001b[38;5;241m=\u001b[39m \u001b[38;5;28mopen\u001b[39m(\u001b[38;5;124m\"\u001b[39m\u001b[38;5;124mrankresult.txt\u001b[39m\u001b[38;5;124m\"\u001b[39m, \u001b[38;5;124m\"\u001b[39m\u001b[38;5;124mw\u001b[39m\u001b[38;5;124m\"\u001b[39m)\n\u001b[1;32m---> 13\u001b[0m \u001b[38;5;28mprint\u001b[39m(datetime\u001b[38;5;241m.\u001b[39mtoday()\u001b[38;5;241m.\u001b[39mstrftime(\u001b[38;5;124m\"\u001b[39m\u001b[38;5;124m%\u001b[39m\u001b[38;5;124mY년 \u001b[39m\u001b[38;5;124m%\u001b[39m\u001b[38;5;124mm월 \u001b[39m\u001b[38;5;132;01m%d\u001b[39;00m\u001b[38;5;124m일의 실시간 검색어 순위입니다. \u001b[39m\u001b[38;5;130;01m\\n\u001b[39;00m\u001b[38;5;124m:\u001b[39m\u001b[38;5;124m\"\u001b[39m))\n\u001b[0;32m     14\u001b[0m \u001b[38;5;28;01mfor\u001b[39;00m result \u001b[38;5;129;01min\u001b[39;00m results:\n\u001b[0;32m     15\u001b[0m     search_rank_file\u001b[38;5;241m.\u001b[39mwrite(\u001b[38;5;28mstr\u001b[39m(rank\u001b[38;5;241m+\u001b[39m\u001b[38;5;124m\"\u001b[39m\u001b[38;5;124m위\u001b[39m\u001b[38;5;124m\"\u001b[39m)\u001b[38;5;241m+\u001b[39mresult\u001b[38;5;241m.\u001b[39mget_text()\u001b[38;5;241m+\u001b[39m\u001b[38;5;124m\"\u001b[39m\u001b[38;5;130;01m\\n\u001b[39;00m\u001b[38;5;124m\"\u001b[39m)\n",
      "\u001b[1;31mNameError\u001b[0m: name 'datetime' is not defined"
     ]
    }
   ],
   "source": [
    "# 이것도 크롤링 불가\n",
    "\n",
    "url = \"http://www.daum.net/\"\n",
    "response = requests.get(url)\n",
    "soup = BeautifulSoup(response.text, 'html.parser')\n",
    "rank = 1\n",
    "\n",
    "\n",
    "results = soup.findAll(\"a\", \"link_favorsch\")\n",
    "\n",
    "search_rank_file = open(\"rankresult.txt\", \"w\")\n",
    "\n",
    "print(datetime.today().strftime(\"%Y년 %m월 %d일의 실시간 검색어 순위입니다. \\n:\"))\n",
    "for result in results:\n",
    "    search_rank_file.write(str(rank+\"위\")+result.get_text()+\"\\n\")\n",
    "    print(rank, \"위 : \", result.get_text(), \"\\n\")\n",
    "    rank += 1\n"
   ]
  }
 ],
 "metadata": {
  "kernelspec": {
   "display_name": "Python 3 (ipykernel)",
   "language": "python",
   "name": "python3"
  },
  "language_info": {
   "codemirror_mode": {
    "name": "ipython",
    "version": 3
   },
   "file_extension": ".py",
   "mimetype": "text/x-python",
   "name": "python",
   "nbconvert_exporter": "python",
   "pygments_lexer": "ipython3",
   "version": "3.12.7"
  }
 },
 "nbformat": 4,
 "nbformat_minor": 5
}
