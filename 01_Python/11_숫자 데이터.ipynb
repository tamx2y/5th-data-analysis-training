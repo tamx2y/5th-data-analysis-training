{
 "cells": [
  {
   "cell_type": "code",
   "execution_count": 1,
   "id": "80275c9e-2ce2-4a1f-b7ae-821208a902d3",
   "metadata": {},
   "outputs": [],
   "source": [
    "import math \n",
    "import random"
   ]
  },
  {
   "cell_type": "markdown",
   "id": "8f0f74a9-3007-4881-a216-89ffcea1c46d",
   "metadata": {},
   "source": [
    "### 값 타입\n",
    "- 파이썬은 정수, 실수, 논리값 등을 객체라는 것으로 만들어 관리한다."
   ]
  },
  {
   "cell_type": "code",
   "execution_count": 4,
   "id": "1b4e51fb-ca57-43f7-9ba6-dedbf0f09d94",
   "metadata": {},
   "outputs": [
    {
     "name": "stdout",
     "output_type": "stream",
     "text": [
      "140711288321560\n",
      "140711288324760\n",
      "140711288321560\n"
     ]
    }
   ],
   "source": [
    "# id : 생성된 객체를 구분하기 위한 일련번호를 확인할 수 있다.\n",
    "# 불필요한 메모리를 낭비하지 않게 하기 위해 객체 차용\n",
    "print(id(100))\n",
    "print(id(200))\n",
    "print(id(100))"
   ]
  },
  {
   "cell_type": "code",
   "execution_count": 5,
   "id": "140c7314-f50f-456a-ac85-cf65f5d02e46",
   "metadata": {},
   "outputs": [
    {
     "name": "stdout",
     "output_type": "stream",
     "text": [
      "<class 'int'>\n",
      "<class 'float'>\n"
     ]
    }
   ],
   "source": [
    "# type : 객체를 생성하기 위해 사용한 클래스의 이름을 확인할 수 있다.\n",
    "print(type(100))\n",
    "print(type(11.11))"
   ]
  },
  {
   "cell_type": "code",
   "execution_count": 7,
   "id": "e87dcdd1-98b3-4474-ae1a-d017839209de",
   "metadata": {},
   "outputs": [
    {
     "name": "stdout",
     "output_type": "stream",
     "text": [
      "11 1 100\n",
      "11.0 1.0 11.11\n",
      "True True True False\n"
     ]
    }
   ],
   "source": [
    "# 다른 형태의 값으로 생성할 수 있다.\n",
    "a1 = int(11.11)\n",
    "# 실수를 정수로\n",
    "a2 = int(True)\n",
    "a3 = int('100')\n",
    "# 문자를 정로로\n",
    "print(a1, a2, a3)\n",
    "\n",
    "a1 = float(11)\n",
    "a2 = float(True)\n",
    "a3 = float ('11.11')\n",
    "print(a1, a2, a3)\n",
    "\n",
    "a1 = bool(11)\n",
    "a2 = bool(11.11)\n",
    "a3 = bool('100')\n",
    "a4 = bool(0)\n",
    "print(a1, a2, a3, a4)"
   ]
  },
  {
   "cell_type": "code",
   "execution_count": 9,
   "id": "5f0ef469-630c-4c7e-b094-fa4f592e4ec0",
   "metadata": {},
   "outputs": [
    {
     "name": "stdout",
     "output_type": "stream",
     "text": [
      "30 30\n"
     ]
    }
   ],
   "source": [
    "# 절대값\n",
    "# (  ) 안에 넣어준 값의 절댓값을 구해준다.\n",
    "a1 = abs(30)\n",
    "a2 = abs(-30)\n",
    "print (a1, a2)"
   ]
  },
  {
   "cell_type": "code",
   "execution_count": 12,
   "id": "fae1d5e0-f9dd-49a4-904d-8a09caebbe9a",
   "metadata": {},
   "outputs": [
    {
     "name": "stdout",
     "output_type": "stream",
     "text": [
      "100 56 -55\n"
     ]
    }
   ],
   "source": [
    "# 소수점 이하 반올림\n",
    "a1 = math.ceil(100)\n",
    "a2 = math.ceil(55.55)\n",
    "a3 = math.ceil(-55.55)\n",
    "print(a1, a2, a3)"
   ]
  },
  {
   "cell_type": "code",
   "execution_count": 13,
   "id": "53487fd1-8013-48a1-b93b-db971c50b44e",
   "metadata": {},
   "outputs": [
    {
     "name": "stdout",
     "output_type": "stream",
     "text": [
      "100 55 -56\n"
     ]
    }
   ],
   "source": [
    "# 소수점 이하 내림\n",
    "a1 = math.floor(100)\n",
    "a2 = math.floor(55.55)\n",
    "a3 = math.floor(-55.55)\n",
    "\n",
    "print(a1, a2, a3)"
   ]
  },
  {
   "cell_type": "code",
   "execution_count": 15,
   "id": "4bd38472-3a79-4394-a0f0-d29070ca2458",
   "metadata": {},
   "outputs": [
    {
     "name": "stdout",
     "output_type": "stream",
     "text": [
      "-20 40\n"
     ]
    }
   ],
   "source": [
    "# 주어진 값에서 최소 또는 최대값을 가져온다.\n",
    "a1 = min(30, -10, -20, 40)\n",
    "a2 = max(30, -10, -20, 40)\n",
    "print(a1, a2)"
   ]
  },
  {
   "cell_type": "code",
   "execution_count": 16,
   "id": "2563fe9b-0bea-4fe1-b1e2-e1d25d18fc17",
   "metadata": {},
   "outputs": [
    {
     "name": "stdout",
     "output_type": "stream",
     "text": [
      "22 56 22.2 20.0\n"
     ]
    }
   ],
   "source": [
    "# 소수점 이하 반올림\n",
    "a1 = round(22.22)\n",
    "a2 = round(55.55)\n",
    "\n",
    "# 소수점 이하 두 번째 자리를 기준으로 반올림\n",
    "a3 = round(22.22, 1)\n",
    "# 1의 자리를 기준으로 반올림\n",
    "a4 = round(22.22, -1)\n",
    "print(a1, a2, a3, a4)"
   ]
  }
 ],
 "metadata": {
  "kernelspec": {
   "display_name": "Python 3 (ipykernel)",
   "language": "python",
   "name": "python3"
  },
  "language_info": {
   "codemirror_mode": {
    "name": "ipython",
    "version": 3
   },
   "file_extension": ".py",
   "mimetype": "text/x-python",
   "name": "python",
   "nbconvert_exporter": "python",
   "pygments_lexer": "ipython3",
   "version": "3.12.7"
  }
 },
 "nbformat": 4,
 "nbformat_minor": 5
}
