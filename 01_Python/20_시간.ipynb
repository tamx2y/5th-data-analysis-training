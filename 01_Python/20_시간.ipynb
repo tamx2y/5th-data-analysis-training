{
 "cells": [
  {
   "cell_type": "code",
   "execution_count": 2,
   "id": "2895fa0d-8cd4-4c43-8480-82c8d22e00ce",
   "metadata": {},
   "outputs": [],
   "source": [
    "# time 이라는 것을 사용하겠다는 의미\n",
    "import time"
   ]
  },
  {
   "cell_type": "code",
   "execution_count": 9,
   "id": "e550e9c5-bda4-432a-a17f-7804cda83faa",
   "metadata": {},
   "outputs": [
    {
     "name": "stdout",
     "output_type": "stream",
     "text": [
      "1743985785.9948175\n"
     ]
    }
   ],
   "source": [
    "# 시간값. 컴퓨터 입장에서의 시간 값\n",
    "\n",
    "# 현재시간 가져오기\n",
    "# 유닉스 타임. 1970년 1월 1일 0시 0분 0ms(세계 표준시 기준, 대한민국은 9시간을 더한다)을 \n",
    "# 0으로 정하고 1ms 마다 증가시키거나 감소시킨 값을 의미한다.\n",
    "# 컴퓨터 입장에서의 시간 값\n",
    "# 개발자는 주로 중복되지 않는 유일한 값이 필요할 때 사용한다.\n",
    "\n",
    "a1 = time.time()\n",
    "print(a1)"
   ]
  },
  {
   "cell_type": "code",
   "execution_count": 10,
   "id": "6007e09b-30c2-4770-a2b4-40a553ca8c7f",
   "metadata": {},
   "outputs": [
    {
     "name": "stdout",
     "output_type": "stream",
     "text": [
      "타임존 : 대한민국 표준시\n",
      "년 : 2025\n",
      "월 : 4\n",
      "현재 월에서 몇 번째 일인지 : 7\n",
      "시 : 9\n",
      "분 : 41\n",
      "초 : 29\n",
      "이번 주에서 몇 번째 일인지 : 0\n",
      "올해에서 몇 번째 일인지 : 97\n"
     ]
    }
   ],
   "source": [
    "# 시간값. 사람 입장에서의 시간 값\n",
    "# 현재 컴퓨터에 설정되어 있는 지역을 기준으로 가져온다.\n",
    "a2 = time.localtime()\n",
    "print(f'타임존 : {a2.tm_zone}')\n",
    "print(f'년 : {a2.tm_year}')\n",
    "print(f'월 : {a2.tm_mon}')\n",
    "print(f'현재 월에서 몇 번째 일인지 : {a2.tm_mday}')\n",
    "print(f'시 : {a2.tm_hour}')\n",
    "print(f'분 : {a2.tm_min}')\n",
    "print(f'초 : {a2.tm_sec}')\n",
    "print(f'이번 주에서 몇 번째 일인지 : {a2.tm_wday}')\n",
    "print(f'올해에서 몇 번째 일인지 : {a2.tm_yday}')"
   ]
  },
  {
   "cell_type": "code",
   "execution_count": 14,
   "id": "82097a76-6634-46d3-a39d-e4c777a2029e",
   "metadata": {},
   "outputs": [
    {
     "name": "stdout",
     "output_type": "stream",
     "text": [
      "0\n",
      "1\n",
      "2\n",
      "3\n",
      "4\n"
     ]
    }
   ],
   "source": [
    "# 주어진 시간 동안 쉰다. 단위는 초 단위\n",
    "for v1 in range(5):\n",
    "    time.sleep(1)\n",
    "    print(v1)"
   ]
  },
  {
   "cell_type": "code",
   "execution_count": 17,
   "id": "2a6510de-e686-4416-9b41-ce884db7a57d",
   "metadata": {},
   "outputs": [
    {
     "name": "stdout",
     "output_type": "stream",
     "text": [
      "2025년 04월 07일 10시 47초\n"
     ]
    }
   ],
   "source": [
    "# 시간을 주어진 양식의 문자열로 만들어준다.\n",
    "# https://docs.python.org/ko/3.13/library/time.html#time.strftime\n",
    "a1 = time.localtime()\n",
    "a2 = time.strftime(\"%Y년 %m월 %d일 %H시 %S초\", a1)\n",
    "print(a2)"
   ]
  },
  {
   "cell_type": "code",
   "execution_count": 22,
   "id": "645615e1-4857-4938-9b95-c3f0c41409ca",
   "metadata": {},
   "outputs": [
    {
     "name": "stdout",
     "output_type": "stream",
     "text": [
      "시작 시간 : 230596.8408738\n",
      "종료 시간 : 230601.8432204\n",
      "총 수행 시간 : 5.002346599998418\n"
     ]
    }
   ],
   "source": [
    "# 코드 실행 시작 시간\n",
    "start_time = time.perf_counter()\n",
    "\n",
    "for v1 in range(5) :\n",
    "    time.sleep(1)\n",
    "\n",
    "# 코드 실행 종료 시간\n",
    "end_time = time.perf_counter()\n",
    "\n",
    "print(f'시작 시간 : {start_time}')\n",
    "print(f'종료 시간 : {end_time}')\n",
    "print(f'총 수행 시간 : {end_time - start_time}')"
   ]
  }
 ],
 "metadata": {
  "kernelspec": {
   "display_name": "Python 3 (ipykernel)",
   "language": "python",
   "name": "python3"
  },
  "language_info": {
   "codemirror_mode": {
    "name": "ipython",
    "version": 3
   },
   "file_extension": ".py",
   "mimetype": "text/x-python",
   "name": "python",
   "nbconvert_exporter": "python",
   "pygments_lexer": "ipython3",
   "version": "3.12.7"
  }
 },
 "nbformat": 4,
 "nbformat_minor": 5
}
