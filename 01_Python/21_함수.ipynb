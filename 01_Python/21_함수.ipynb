{
 "cells": [
  {
   "cell_type": "markdown",
   "id": "b51ccb2d-c4a0-4056-ada5-e8a8976a5067",
   "metadata": {},
   "source": [
    "# 함수\n",
    "- 코드를 관리하는 요소\n",
    "- 개발자가 만든 코드를 수행하다가 함수 내부의 코드가 필요할 경우 코드의 흐름을 함수쪽으로 이동하여 수행하고 끝나면 다시 돌아오는 개념\n",
    "- 중복된 코드를 작성하지 않을 수 있어서 코드의 재사용성이 좋아지고 생산성이 좋아지며 유지보수가 용이해진다.\n",
    "- 함수 내부의 코드를 동작시키기 위해 \"함수를 사용하겠습니다\"라고 하는 것을 \"함수를 호출한다\"라고 부른다."
   ]
  },
  {
   "cell_type": "code",
   "execution_count": 1,
   "id": "5b85cdd1-56f3-4fc0-ac9b-1c62a4000383",
   "metadata": {},
   "outputs": [
    {
     "ename": "NameError",
     "evalue": "name 'test1' is not defined",
     "output_type": "error",
     "traceback": [
      "\u001b[1;31m---------------------------------------------------------------------------\u001b[0m",
      "\u001b[1;31mNameError\u001b[0m                                 Traceback (most recent call last)",
      "Cell \u001b[1;32mIn[1], line 2\u001b[0m\n\u001b[0;32m      1\u001b[0m \u001b[38;5;66;03m# 함수를 호출하기 전에 반드시 함수를 작성한 부분이 실행되어야 한다. \u001b[39;00m\n\u001b[1;32m----> 2\u001b[0m test1()\n",
      "\u001b[1;31mNameError\u001b[0m: name 'test1' is not defined"
     ]
    }
   ],
   "source": [
    "# 함수를 호출하기 전에 반드시 함수를 작성한 부분이 실행되어야 한다. \n",
    "test1()"
   ]
  },
  {
   "cell_type": "code",
   "execution_count": 4,
   "id": "333a8410-3edc-4b6c-a55a-1420351d059e",
   "metadata": {},
   "outputs": [],
   "source": [
    "# 함수를 정의한다.\n",
    "# 코드가 수행되다가 함수를 만나게 되면 함수의 존재만 파악하고\n",
    "# 함수 내부의 코드는 수행되지 않는다.\n",
    "def test1():\n",
    "    print('test1 함수')\n",
    "    print('안녕하세요')"
   ]
  },
  {
   "cell_type": "code",
   "execution_count": 5,
   "id": "d705e64a-96ec-4d6a-a2f3-d51dcd877825",
   "metadata": {},
   "outputs": [
    {
     "name": "stdout",
     "output_type": "stream",
     "text": [
      "test1 함수\n",
      "안녕하세요\n"
     ]
    }
   ],
   "source": [
    "# 함수를 호출한다.\n",
    "test1()"
   ]
  },
  {
   "cell_type": "code",
   "execution_count": 6,
   "id": "7f7a4588-769d-47ed-bfd9-5a8a0b78874b",
   "metadata": {},
   "outputs": [
    {
     "name": "stdout",
     "output_type": "stream",
     "text": [
      "<function test1 at 0x000002D4636F51C0>\n"
     ]
    }
   ],
   "source": [
    "# 파이썬에서 함수의 이름은 함수를 가지고 있는 변수가 된다.\n",
    "print(test1)"
   ]
  },
  {
   "cell_type": "code",
   "execution_count": 7,
   "id": "d9d53bf1-c813-4cbb-ae64-c339815ecc3a",
   "metadata": {},
   "outputs": [
    {
     "name": "stdout",
     "output_type": "stream",
     "text": [
      "test1 함수\n",
      "안녕하세요\n"
     ]
    }
   ],
   "source": [
    "# 다른 변수에 담아 함수를 호출할 수 있다.\n",
    "test2 = test1\n",
    "test2()"
   ]
  },
  {
   "cell_type": "code",
   "execution_count": 9,
   "id": "5592c954-8bde-446b-bc8c-65573d1d9179",
   "metadata": {},
   "outputs": [
    {
     "ename": "TypeError",
     "evalue": "'int' object is not callable",
     "output_type": "error",
     "traceback": [
      "\u001b[1;31m---------------------------------------------------------------------------\u001b[0m",
      "\u001b[1;31mTypeError\u001b[0m                                 Traceback (most recent call last)",
      "Cell \u001b[1;32mIn[9], line 4\u001b[0m\n\u001b[0;32m      1\u001b[0m \u001b[38;5;66;03m# 함수의 이름은 변수이므로 다른 것을 넣을 수 있다.\u001b[39;00m\n\u001b[0;32m      2\u001b[0m \u001b[38;5;66;03m# 단, 다시는 그 이름으로 함수를 호출할 수 없다.\u001b[39;00m\n\u001b[0;32m      3\u001b[0m test1 \u001b[38;5;241m=\u001b[39m \u001b[38;5;241m100\u001b[39m\n\u001b[1;32m----> 4\u001b[0m test1()\n",
      "\u001b[1;31mTypeError\u001b[0m: 'int' object is not callable"
     ]
    }
   ],
   "source": [
    "# 함수의 이름은 변수이므로 다른 것을 넣을 수 있다.\n",
    "# 단, 다시는 그 이름으로 함수를 호출할 수 없다.\n",
    "test1 = 100\n",
    "test1()"
   ]
  },
  {
   "cell_type": "code",
   "execution_count": 4,
   "id": "7b48c455-88b0-4733-8758-391064df20db",
   "metadata": {},
   "outputs": [],
   "source": [
    "# 함수의 매개변수\n",
    "# 파이썬은 함수를 호출할 때 함수에 정의되어 있는 모든 매개변수에 \n",
    "# 들어갈 값을 결정해줘야 한다.\n",
    "def test3(a1, a2, a3) :\n",
    "    print(a1)\n",
    "    print(a2)\n",
    "    print(a3)"
   ]
  },
  {
   "cell_type": "code",
   "execution_count": 5,
   "id": "edf7c533-c3fc-4076-9b6a-fea26a41e848",
   "metadata": {},
   "outputs": [
    {
     "name": "stdout",
     "output_type": "stream",
     "text": [
      "10\n",
      "20\n",
      "30\n",
      "100\n",
      "200\n",
      "300\n"
     ]
    }
   ],
   "source": [
    "# 함수를 호출할 때 전달하는 값은 매개변수에 담겨져 매개변수에 저장할 값으로 결정된다.\n",
    "# 작성해준 값은 함수의 매개변수에 1:1 대응하여 하나씩 담기게 된다. \n",
    "test3(10, 20, 30)\n",
    "test3(100, 200, 300)"
   ]
  },
  {
   "cell_type": "code",
   "execution_count": 6,
   "id": "08f19b44-3000-4799-8053-65bf528a8184",
   "metadata": {},
   "outputs": [
    {
     "ename": "TypeError",
     "evalue": "test3() missing 1 required positional argument: 'a3'",
     "output_type": "error",
     "traceback": [
      "\u001b[1;31m---------------------------------------------------------------------------\u001b[0m",
      "\u001b[1;31mTypeError\u001b[0m                                 Traceback (most recent call last)",
      "Cell \u001b[1;32mIn[6], line 2\u001b[0m\n\u001b[0;32m      1\u001b[0m \u001b[38;5;66;03m# 만약 매개변수의 개수보다 전달하는 값의 개수가 부족하다면 \u001b[39;00m\n\u001b[1;32m----> 2\u001b[0m test3(\u001b[38;5;241m10\u001b[39m, \u001b[38;5;241m20\u001b[39m)\n",
      "\u001b[1;31mTypeError\u001b[0m: test3() missing 1 required positional argument: 'a3'"
     ]
    }
   ],
   "source": [
    "# 함수에 정의되어 있는 매개변수의 개수보다 부족하게 값을 전달하면\n",
    "# 값이 결정되지 않는 매개변수가 있기 때문에 오류가 발생한다. \n",
    "test3(10, 20)"
   ]
  },
  {
   "cell_type": "code",
   "execution_count": 7,
   "id": "edcaf3c0-800a-4457-a941-97bf75b3e1b6",
   "metadata": {},
   "outputs": [
    {
     "ename": "TypeError",
     "evalue": "test3() takes 3 positional arguments but 4 were given",
     "output_type": "error",
     "traceback": [
      "\u001b[1;31m---------------------------------------------------------------------------\u001b[0m",
      "\u001b[1;31mTypeError\u001b[0m                                 Traceback (most recent call last)",
      "Cell \u001b[1;32mIn[7], line 2\u001b[0m\n\u001b[0;32m      1\u001b[0m \u001b[38;5;66;03m# 매개변수보다 더 많이 전달하면 오류가 발생한다.\u001b[39;00m\n\u001b[1;32m----> 2\u001b[0m test3(\u001b[38;5;241m10\u001b[39m, \u001b[38;5;241m20\u001b[39m, \u001b[38;5;241m30\u001b[39m, \u001b[38;5;241m40\u001b[39m)\n",
      "\u001b[1;31mTypeError\u001b[0m: test3() takes 3 positional arguments but 4 were given"
     ]
    }
   ],
   "source": [
    "# 매개변수보다 더 많이 전달하면 오류가 발생한다.\n",
    "test3(10, 20, 30, 40)"
   ]
  },
  {
   "cell_type": "code",
   "execution_count": 9,
   "id": "71e4afb6-1492-473a-955b-a168123b8eb7",
   "metadata": {},
   "outputs": [
    {
     "name": "stdout",
     "output_type": "stream",
     "text": [
      "10\n",
      "20\n",
      "30\n",
      "10\n",
      "30\n",
      "30\n",
      "10\n",
      "20\n",
      "30\n"
     ]
    }
   ],
   "source": [
    "# 함수를 호출할 때는 전달하는 값이 어떤 매개변수에 저장될 지 정해주어야 한다.\n",
    "# 값만 작성하면 순서대로 1:1 매칭하여 값을 저장한다.\n",
    "test3(10, 20, 30)\n",
    "\n",
    "# 어떠한 매개변수에 값을 담을지 정해줄 수도 있다(순서 무관)\n",
    "test3(a2 = 30, a3 = 30, a1 = 10)\n",
    "\n",
    "# 만약 어느 변수에 담길 것임을 지정하지 않는 값이 있다면\n",
    "test3(10, a3 = 30, a2 = 20)"
   ]
  },
  {
   "cell_type": "code",
   "execution_count": 10,
   "id": "f1f831dc-0f9d-43e8-9813-98bb1dedae36",
   "metadata": {},
   "outputs": [
    {
     "ename": "SyntaxError",
     "evalue": "keyword argument repeated: a2 (2258875482.py, line 1)",
     "output_type": "error",
     "traceback": [
      "\u001b[1;36m  Cell \u001b[1;32mIn[10], line 1\u001b[1;36m\u001b[0m\n\u001b[1;33m    test3(10, a2=20, a2=30)\u001b[0m\n\u001b[1;37m                     ^\u001b[0m\n\u001b[1;31mSyntaxError\u001b[0m\u001b[1;31m:\u001b[0m keyword argument repeated: a2\n"
     ]
    }
   ],
   "source": [
    "# a2에 저장될 값을 두 개를 지정하였으므로 오류가 발생한다.\n",
    "test3(10, a2=20, a2=30, a3=30)"
   ]
  },
  {
   "cell_type": "code",
   "execution_count": 11,
   "id": "b61424b1-ece5-4544-807e-912625883da3",
   "metadata": {},
   "outputs": [
    {
     "ename": "SyntaxError",
     "evalue": "positional argument follows keyword argument (1482801521.py, line 2)",
     "output_type": "error",
     "traceback": [
      "\u001b[1;36m  Cell \u001b[1;32mIn[11], line 2\u001b[1;36m\u001b[0m\n\u001b[1;33m    test3(a3=30, 20, a1=10)\u001b[0m\n\u001b[1;37m                          ^\u001b[0m\n\u001b[1;31mSyntaxError\u001b[0m\u001b[1;31m:\u001b[0m positional argument follows keyword argument\n"
     ]
    }
   ],
   "source": [
    "# 변수의 이름을 지정하지 않은 값은 무조건 앞쪽에 몰려있어야 한다.\n",
    "test3(a3=30, 20, a1=10)"
   ]
  },
  {
   "cell_type": "code",
   "execution_count": 13,
   "id": "23aab36a-bf40-46b0-a662-a7986bd258c6",
   "metadata": {},
   "outputs": [],
   "source": [
    "# 기본값을 가지고 있는 매개변수\n",
    "# 기본값을 가지고 있는 매개변수에 저장될 값을 결정해주지 않으면 기본값으로 결정된다.\n",
    "# a1은 기본값이 설정되어 있지 않기 때문에 함수를 호출할 때 반드시 값을 전달해야 하고\n",
    "# a2와 a3은 기본값이 설정되어 있기 때문에 함수를 호출할 때 값을 전달하지 않으면\n",
    "# 기본값으로 결정된다\n",
    "\n",
    "def test4(a1, a2 = 2, a3 = 3):\n",
    "    print(a1)\n",
    "    print(a2)\n",
    "    print(a3)"
   ]
  },
  {
   "cell_type": "code",
   "execution_count": 14,
   "id": "aa82a86c-e08a-47ac-bdea-95eb9afd1937",
   "metadata": {},
   "outputs": [
    {
     "name": "stdout",
     "output_type": "stream",
     "text": [
      "10\n",
      "20\n",
      "30\n",
      "10\n",
      "20\n",
      "3\n",
      "10\n",
      "2\n",
      "30\n"
     ]
    }
   ],
   "source": [
    "# 함수를 호출할 때 값을 전달하면 기본값이 아닌 전달한 값으로 결정되고\n",
    "# 기본값이 있는 매개변수에 값을 전달하지 않으면 기본값으로 결정된다. \n",
    "test4(10, 20, 30)\n",
    "test4(10, 20)\n",
    "test4(10, a3=30)"
   ]
  },
  {
   "cell_type": "code",
   "execution_count": 15,
   "id": "e53e9457-b5b4-4fe2-bc4f-1795dcf542ba",
   "metadata": {},
   "outputs": [],
   "source": [
    "# 반환값\n",
    "# 파이썬은 반환 값을 명시하지 않을 경우 None을 반환한다.\n",
    "def test5():\n",
    "    print('test5 함수 호출')"
   ]
  },
  {
   "cell_type": "code",
   "execution_count": 22,
   "id": "672938ba-a4bd-49b2-906c-334b62227916",
   "metadata": {},
   "outputs": [
    {
     "name": "stdout",
     "output_type": "stream",
     "text": [
      "test5 함수 호출\n",
      "None\n"
     ]
    }
   ],
   "source": [
    "a1 = test5()\n",
    "print(a1)"
   ]
  },
  {
   "cell_type": "code",
   "execution_count": 23,
   "id": "7bf8e393-feff-431d-86bf-0ed7c673de29",
   "metadata": {},
   "outputs": [],
   "source": [
    "# return 다음에 값을 적어주면 값 하나를 반환할 수 있다.\n",
    "def test6(a1, a2):\n",
    "    r1 = a1 + a2\n",
    "    return r1"
   ]
  },
  {
   "cell_type": "code",
   "execution_count": 25,
   "id": "ed1bd64b-e1e5-4c6c-aef7-ede3014eb213",
   "metadata": {},
   "outputs": [
    {
     "name": "stdout",
     "output_type": "stream",
     "text": [
      "30\n",
      "300\n"
     ]
    }
   ],
   "source": [
    "# 함수를 호출하여 함수가 반환하는 값을 받는다\n",
    "t1 = test6(10, 20)\n",
    "print(t1)\n",
    "\n",
    "t2 = test6(100, 200)\n",
    "print(t2)"
   ]
  },
  {
   "cell_type": "code",
   "execution_count": 26,
   "id": "7fd93559-8af2-44d9-903c-a6f5f16913ef",
   "metadata": {},
   "outputs": [
    {
     "name": "stdout",
     "output_type": "stream",
     "text": [
      "test7 : None\n"
     ]
    }
   ],
   "source": [
    "# return 키워드는 함수의 수행을 중단하고 함수를 호출하는 쪽으로 돌아간다라는 의미이다.\n",
    "# 함수의 수행을 더 이상 하고 싶지 않을 때도 사용한다.\n",
    "def test7(a1) : \n",
    "    if a1 % 2 == 0 : \n",
    "        # 함수 수행 중단\n",
    "        return\n",
    "\n",
    "print(f'test7 : {a1}')"
   ]
  },
  {
   "cell_type": "code",
   "execution_count": 28,
   "id": "6dfe3911-1470-4bd1-a1b9-48e99e671793",
   "metadata": {},
   "outputs": [],
   "source": [
    "test7(3)\n",
    "test7(4)"
   ]
  },
  {
   "cell_type": "code",
   "execution_count": 30,
   "id": "1ede9334-a31c-48dd-a13f-595f973ee062",
   "metadata": {},
   "outputs": [],
   "source": [
    "def test8(a1, a2) : \n",
    "    r1 = a1 + a2\n",
    "    r2 = a1 - a2\n",
    "    r3 = a1 * a2\n",
    "    r4 = a1 // a2\n",
    "    # 아래의 반환은 동시에 여러개의 값을 반환하는 것이 아닌\n",
    "    # 튜플로 생성하여 튜플 하나를 반환하는 것이다.\n",
    "    return r1, r2, r3, r4"
   ]
  },
  {
   "cell_type": "code",
   "execution_count": 31,
   "id": "4115f46f-8ef5-4113-8607-7e8e04d41a16",
   "metadata": {},
   "outputs": [
    {
     "name": "stdout",
     "output_type": "stream",
     "text": [
      "(13, 7, 30, 3)\n",
      "<class 'tuple'>\n"
     ]
    }
   ],
   "source": [
    "t1 = test8(10, 3)\n",
    "print(t1)\n",
    "print(type(t1))"
   ]
  },
  {
   "cell_type": "code",
   "execution_count": 32,
   "id": "376634c9-cdf9-4b74-af86-5a238ecb29df",
   "metadata": {},
   "outputs": [
    {
     "name": "stdout",
     "output_type": "stream",
     "text": [
      "13 7 30 3\n"
     ]
    }
   ],
   "source": [
    "t1, t2, t3, t4 = test8(10, 3)\n",
    "print(t1, t2, t3, t4)"
   ]
  },
  {
   "cell_type": "code",
   "execution_count": 35,
   "id": "1faeae4b-d159-4299-866e-74a4359c9393",
   "metadata": {},
   "outputs": [],
   "source": [
    "# 가변형 매개변수\n",
    "# 매개변수 하나로 다수의 값을 받을 수 있다라는 개념 \n",
    "# 함수를 호출할 때 전달해주는 값들을 모아 튜플로 만들어 변수에 담아 준다.\n",
    "def test9(*a1) : \n",
    "    return sum(a1)"
   ]
  },
  {
   "cell_type": "code",
   "execution_count": 34,
   "id": "8068030c-a8f7-4063-a037-4d0da9c5c4fd",
   "metadata": {},
   "outputs": [
    {
     "name": "stdout",
     "output_type": "stream",
     "text": [
      "60\n",
      "150\n",
      "360\n"
     ]
    }
   ],
   "source": [
    "t1 = test9(10, 20, 30)\n",
    "t2 = test9(10, 20, 30, 40, 50)\n",
    "t3 = test9(10, 20, 30, 40, 50, 60, 70, 80)\n",
    "\n",
    "print(t1)\n",
    "print(t2)\n",
    "print(t3)"
   ]
  },
  {
   "cell_type": "code",
   "execution_count": 36,
   "id": "ef7b27e7-f5c1-4a89-909f-781d405232a9",
   "metadata": {},
   "outputs": [],
   "source": [
    "# 전달되는 값들을 모아 딕셔너리로 만들어서 변수에 담아준다.\n",
    "# 이 때 함수를 호출하는 쪽에서 사용한 이름이 딕셔너리의 이름이 된다. \n",
    "def test10(**a1) : \n",
    "    print(a1)"
   ]
  },
  {
   "cell_type": "code",
   "execution_count": 37,
   "id": "02bccea6-afd4-4ba3-914b-5d7bc93b865c",
   "metadata": {},
   "outputs": [
    {
     "name": "stdout",
     "output_type": "stream",
     "text": [
      "{'k1': 10, 'k2': 20, 'k3': 30}\n",
      "{'t1': 100, 't2': 200, 't3': 300}\n"
     ]
    }
   ],
   "source": [
    "test10(k1=10, k2=20, k3=30)\n",
    "test10(t1=100, t2=200, t3=300)"
   ]
  },
  {
   "cell_type": "code",
   "execution_count": 42,
   "id": "62bf457b-ac60-4034-afde-bb07ca890d38",
   "metadata": {},
   "outputs": [],
   "source": [
    "# 섞여 있을 경우\n",
    "# *와 **가 같이 있을 경우 순서는 상관이 없다.\n",
    "# 변수와 다른 일반적인 매개변수와 섞여 있을 경우\n",
    "# 앞에 두 개는 a1, a2 뒤에 두 개는 a4, a5에 담기고 나머지는 튜플로 만들어져서\n",
    "# a3에 담기게 된다.\n",
    "    \n",
    "def test11(a1, a2, *a3, a4, a5) : \n",
    "    print(a1)\n",
    "    print(a2)\n",
    "    print(a3)\n",
    "    print(a4)\n",
    "    print(a5)\n",
    "    "
   ]
  },
  {
   "cell_type": "code",
   "execution_count": 43,
   "id": "2eeb27ec-09f2-407b-9d52-06aed0dc03c9",
   "metadata": {},
   "outputs": [
    {
     "name": "stdout",
     "output_type": "stream",
     "text": [
      "10\n",
      "20\n",
      "(30, 40, 50, 60, 70, 80)\n",
      "90\n",
      "100\n"
     ]
    }
   ],
   "source": [
    "# *변수 다음에 있는 매개변수로 들어갈 값은 이름을 지정해줘야 한다.\n",
    "test11(10, 20, 30, 40, 50, 60, 70, 80, a4=90, a5=100)"
   ]
  },
  {
   "cell_type": "code",
   "execution_count": 45,
   "id": "86360cc6-8bdf-4a6c-953d-bb2e204862b5",
   "metadata": {},
   "outputs": [
    {
     "ename": "SyntaxError",
     "evalue": "arguments cannot follow var-keyword argument (808152296.py, line 2)",
     "output_type": "error",
     "traceback": [
      "\u001b[1;36m  Cell \u001b[1;32mIn[45], line 2\u001b[1;36m\u001b[0m\n\u001b[1;33m    def test12(a1, a2, **a3, a4, a5):\u001b[0m\n\u001b[1;37m                             ^\u001b[0m\n\u001b[1;31mSyntaxError\u001b[0m\u001b[1;31m:\u001b[0m arguments cannot follow var-keyword argument\n"
     ]
    }
   ],
   "source": [
    "# **변수 다음에는 다른 변수를 두면 안된다\n",
    "def test12(a1, a2, **a3, a4, a5):\n",
    "    print(a1, a2, a3)"
   ]
  },
  {
   "cell_type": "code",
   "execution_count": null,
   "id": "76e14768-5d43-4910-b4da-eda2d0a04d07",
   "metadata": {},
   "outputs": [],
   "source": [
    "print()"
   ]
  }
 ],
 "metadata": {
  "kernelspec": {
   "display_name": "Python 3 (ipykernel)",
   "language": "python",
   "name": "python3"
  },
  "language_info": {
   "codemirror_mode": {
    "name": "ipython",
    "version": 3
   },
   "file_extension": ".py",
   "mimetype": "text/x-python",
   "name": "python",
   "nbconvert_exporter": "python",
   "pygments_lexer": "ipython3",
   "version": "3.12.7"
  }
 },
 "nbformat": 4,
 "nbformat_minor": 5
}
