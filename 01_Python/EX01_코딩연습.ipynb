{
 "cells": [
  {
   "cell_type": "markdown",
   "id": "75a8cc5a-a6c1-4682-b1f6-86313484250a",
   "metadata": {},
   "source": [
    "### 문제 1.\n",
    "- 1부터 3씩 증가시킨 숫자를 총 20개 출력해주세요"
   ]
  },
  {
   "cell_type": "code",
   "execution_count": 1,
   "id": "93be373c-770f-4478-b354-af3e948daca0",
   "metadata": {},
   "outputs": [
    {
     "name": "stdout",
     "output_type": "stream",
     "text": [
      "1\n",
      "4\n",
      "7\n",
      "10\n",
      "13\n",
      "16\n",
      "19\n",
      "22\n",
      "25\n",
      "28\n",
      "31\n",
      "34\n",
      "37\n",
      "40\n",
      "43\n",
      "46\n",
      "49\n",
      "52\n",
      "55\n",
      "58\n"
     ]
    }
   ],
   "source": [
    "# case 1\n",
    "\n",
    "# 1을 출력한다.\n",
    "print(1)\n",
    "# 3을 증가시킨 값을 출력한다.\n",
    "print(1 + 3)\n",
    "# 3을 증가시킨 값을 출력한다.\n",
    "print(1 + 3 + 3)\n",
    "# 3을 증가시킨 값을 출력한다.\n",
    "print(1 + 3 + 3 + 3)\n",
    "# 3을 증가시킨 값을 출력한다.\n",
    "print(1 + 3 + 3 + 3 + 3)\n",
    "# 3을 증가시킨 값을 출력한다.\n",
    "print(1 + 3 + 3 + 3 + 3 + 3)\n",
    "# 3을 증가시킨 값을 출력한다.\n",
    "print(1 + 3 + 3 + 3 + 3 + 3 + 3)\n",
    "# 3을 증가시킨 값을 출력한다.\n",
    "print(1 + 3 + 3 + 3 + 3 + 3 + 3 + 3)\n",
    "# 3을 증가시킨 값을 출력한다.\n",
    "print(1 + 3 + 3 + 3 + 3 + 3 + 3 + 3 + 3)\n",
    "# 3을 증가시킨 값을 출력한다.\n",
    "print(1 + 3 + 3 + 3 + 3 + 3 + 3 + 3 + 3 + 3)\n",
    "# 3을 증가시킨 값을 출력한다.\n",
    "print(1 + 3 + 3 + 3 + 3 + 3 + 3 + 3 + 3 + 3 + 3)\n",
    "# 3을 증가시킨 값을 출력한다.\n",
    "print(1 + 3 + 3 + 3 + 3 + 3 + 3 + 3 + 3 + 3 + 3 + 3)\n",
    "# 3을 증가시킨 값을 출력한다.\n",
    "print(1 + 3 + 3 + 3 + 3 + 3 + 3 + 3 + 3 + 3 + 3 + 3 + 3)\n",
    "# 3을 증가시킨 값을 출력한다.\n",
    "print(1 + 3 + 3 + 3 + 3 + 3 + 3 + 3 + 3 + 3 + 3 + 3 + 3 + 3)\n",
    "# 3을 증가시킨 값을 출력한다.\n",
    "print(1 + 3 + 3 + 3 + 3 + 3 + 3 + 3 + 3 + 3 + 3 + 3 + 3 + 3 + 3)\n",
    "# 3을 증가시킨 값을 출력한다.\n",
    "print(1 + 3 + 3 + 3 + 3 + 3 + 3 + 3 + 3 + 3 + 3 + 3 + 3 + 3 + 3 + 3)\n",
    "# 3을 증가시킨 값을 출력한다.\n",
    "print(1 + 3 + 3 + 3 + 3 + 3 + 3 + 3 + 3 + 3 + 3 + 3 + 3 + 3 + 3 + 3 + 3)\n",
    "# 3을 증가시킨 값을 출력한다.\n",
    "print(1 + 3 + 3 + 3 + 3 + 3 + 3 + 3 + 3 + 3 + 3 + 3 + 3 + 3 + 3 + 3 + 3 + 3)\n",
    "# 3을 증가시킨 값을 출력한다.\n",
    "print(1 + 3 + 3 + 3 + 3 + 3 + 3 + 3 + 3 + 3 + 3 + 3 + 3 + 3 + 3 + 3 + 3 + 3 + 3)\n",
    "# 3을 증가시킨 값을 출력한다.\n",
    "print(1 + 3 + 3 + 3 + 3 + 3 + 3 + 3 + 3 + 3 + 3 + 3 + 3 + 3 + 3 + 3 + 3 + 3 + 3 + 3) "
   ]
  },
  {
   "cell_type": "code",
   "execution_count": 2,
   "id": "4e2e227c-51f2-4108-a8ac-b246453a7ab3",
   "metadata": {},
   "outputs": [
    {
     "name": "stdout",
     "output_type": "stream",
     "text": [
      "1\n",
      "4\n",
      "7\n",
      "10\n",
      "13\n",
      "16\n",
      "19\n",
      "22\n",
      "25\n",
      "28\n",
      "31\n",
      "34\n",
      "37\n",
      "40\n",
      "43\n",
      "46\n",
      "49\n",
      "52\n",
      "55\n",
      "58\n"
     ]
    }
   ],
   "source": [
    "# case 2\n",
    "\n",
    "# 변수를 선언한다.\n",
    "a1 = 1\n",
    "# 1을 출력한다.\n",
    "print(a1)\n",
    "\n",
    "# 19번을 반복한다.\n",
    "for v1 in range(19) :\n",
    "    # 3을 증가시킨다 <- 3씩 계속 덮어씌움\n",
    "    a1 = a1 + 3\n",
    "    # 출력한다.\n",
    "    print(a1)"
   ]
  },
  {
   "cell_type": "markdown",
   "id": "7898088f-6cbd-408a-9dcd-1d8a411519c4",
   "metadata": {},
   "source": [
    "### 문제 2.\n",
    "\n",
    "- 1부터 100까지의 숫자 중 3의 배수를 모두 출력하세요."
   ]
  },
  {
   "cell_type": "code",
   "execution_count": 7,
   "id": "2ab68899-6474-4bdb-af93-a3706076a2cc",
   "metadata": {},
   "outputs": [
    {
     "name": "stdout",
     "output_type": "stream",
     "text": [
      "3\n",
      "6\n",
      "9\n",
      "12\n",
      "15\n",
      "18\n",
      "21\n",
      "24\n",
      "27\n",
      "30\n",
      "33\n",
      "36\n",
      "39\n",
      "42\n",
      "45\n",
      "48\n",
      "51\n",
      "54\n",
      "57\n",
      "60\n",
      "63\n",
      "66\n",
      "69\n",
      "72\n",
      "75\n",
      "78\n",
      "81\n",
      "84\n",
      "87\n",
      "90\n",
      "93\n",
      "96\n",
      "99\n"
     ]
    }
   ],
   "source": [
    "# 내 정답 (+chat GPT) ; 문제 원인은 100이하로 한정이 안되었음 (원인을 못찾겠음.)\n",
    "a2 = 3 # 3부터 시작\n",
    "\n",
    "while a2 < 100:  \n",
    "    print(a2)\n",
    "    a2 = a2 + 3 # 3씩 증가"
   ]
  },
  {
   "cell_type": "code",
   "execution_count": 8,
   "id": "ec110ac9-ce65-4f3b-b16e-648fd0c7d12e",
   "metadata": {},
   "outputs": [
    {
     "name": "stdout",
     "output_type": "stream",
     "text": [
      "3\n",
      "6\n",
      "9\n",
      "12\n",
      "15\n",
      "18\n",
      "21\n",
      "24\n",
      "27\n",
      "30\n",
      "33\n",
      "36\n",
      "39\n",
      "42\n",
      "45\n",
      "48\n",
      "51\n",
      "54\n",
      "57\n",
      "60\n",
      "63\n",
      "66\n",
      "69\n",
      "72\n",
      "75\n",
      "78\n",
      "81\n",
      "84\n",
      "87\n",
      "90\n",
      "93\n",
      "96\n",
      "99\n"
     ]
    }
   ],
   "source": [
    "# 강사님 정답 (for문)\n",
    "\n",
    "# 1부터 100까지 반복한다.\n",
    "for v1 in range (100) : \n",
    "    # 3의 배수를 구한다.\n",
    "    if (v1 + 1) % 3 == 0 :\n",
    "        # 출력한다.\n",
    "        print(v1 + 1)"
   ]
  },
  {
   "cell_type": "code",
   "execution_count": 9,
   "id": "b97737fd-e68f-485d-9294-6f6c1435a1d1",
   "metadata": {},
   "outputs": [
    {
     "name": "stdout",
     "output_type": "stream",
     "text": [
      "3\n",
      "6\n",
      "9\n",
      "12\n",
      "15\n",
      "18\n",
      "21\n",
      "24\n",
      "27\n",
      "30\n",
      "33\n",
      "36\n",
      "39\n",
      "42\n",
      "45\n",
      "48\n",
      "51\n",
      "54\n",
      "57\n",
      "60\n",
      "63\n",
      "66\n",
      "69\n",
      "72\n",
      "75\n",
      "78\n",
      "81\n",
      "84\n",
      "87\n",
      "90\n",
      "93\n",
      "96\n",
      "99\n"
     ]
    }
   ],
   "source": [
    "# 강사님 정답 (while문)\n",
    "# 1부터 시작하므로 1을 가지고 있는 변수를 선언한다.\n",
    "a1 = 1\n",
    "# 100까지 반복한다.\n",
    "while a1 <= 100 :\n",
    "# 현재 숫자가 3의 배수인지 검사한다. \n",
    "    if a1 % 3 == 0 :\n",
    "# 만약 3의 배수이면 출력한다.\n",
    "        print(a1)\n",
    "    # 1을 증가시킨다 (왜냐하면 언젠가는 끝나야 하는데, 아무 조건이 없으면 무한생성 되니까)\n",
    "    a1 = a1 + 1"
   ]
  },
  {
   "cell_type": "code",
   "execution_count": 10,
   "id": "dd88c0c0-0c24-490f-9a99-261a5cc9a15f",
   "metadata": {},
   "outputs": [
    {
     "name": "stdout",
     "output_type": "stream",
     "text": [
      "3\n",
      "6\n",
      "9\n",
      "12\n",
      "15\n",
      "18\n",
      "21\n",
      "24\n",
      "27\n",
      "30\n",
      "33\n",
      "36\n",
      "39\n",
      "42\n",
      "45\n",
      "48\n",
      "51\n",
      "54\n",
      "57\n",
      "60\n",
      "63\n",
      "66\n",
      "69\n",
      "72\n",
      "75\n",
      "78\n",
      "81\n",
      "84\n",
      "87\n",
      "90\n",
      "93\n",
      "96\n",
      "99\n"
     ]
    }
   ],
   "source": [
    "# case 3\n",
    "a1 = 3\n",
    "\n",
    "while a1 <= 100 : \n",
    "    # 출력한다.\n",
    "    print(a1)\n",
    "    # 3을 증가시킨다. (while문에는 항상 조건이 붙어야 한다)\n",
    "    a1 = a1 + 3"
   ]
  },
  {
   "cell_type": "markdown",
   "id": "c5dc6ec7-f92a-4068-8786-a2cee1b7e2c9",
   "metadata": {},
   "source": [
    "### 문제 3.\n",
    "- 키보드로 숫자를 입력 받는다\n",
    "- 1부터 입력 받은 숫자의 총합을 구해 출력한다."
   ]
  },
  {
   "cell_type": "code",
   "execution_count": 3,
   "id": "cd4bdbd3-8d13-477b-8db7-22b0c0a44c3d",
   "metadata": {},
   "outputs": [
    {
     "name": "stdin",
     "output_type": "stream",
     "text": [
      "숫자를 입력해주세요 : 100\n"
     ]
    },
    {
     "name": "stdout",
     "output_type": "stream",
     "text": [
      "100\n"
     ]
    }
   ],
   "source": [
    "# 숫자를 입력 받는다.\n",
    "number1 = input('숫자를 입력해주세요 :')\n",
    "number2 = int(number1)\n",
    "#print(number2)\n",
    "\n",
    "# 1부터 입력받은 숫자까지의 총합을 구한다.\n",
    "\n",
    "# 출력한다."
   ]
  },
  {
   "cell_type": "markdown",
   "id": "85d12318-a59d-4c4e-8821-a28df6c7f375",
   "metadata": {},
   "source": [
    "### 문제 3-1.\n",
    "- 마음 속으로 숫자 하나를 떠올려주세요.\n",
    "- 1부터 그 숫자까지의 총합을 구해 출력한다."
   ]
  },
  {
   "cell_type": "code",
   "execution_count": 6,
   "id": "c68e3897-82f3-47b8-aef9-4ca7ea85046d",
   "metadata": {},
   "outputs": [
    {
     "name": "stdout",
     "output_type": "stream",
     "text": [
      "2051325\n"
     ]
    }
   ],
   "source": [
    "# 마음 속으로 떠올린 숫자를 변수에 담아준다.\n",
    "number1 = 2025\n",
    "# 1부터 입력받은 숫자까지의 총합을 구한다.\n",
    "number2 = 0\n",
    "number3 = 0\n",
    "while number3 <= number1 : \n",
    "    number2 = number2 + number3\n",
    "    number3 = number3 + 1\n",
    "# 출력한다\n",
    "print(number2)"
   ]
  }
 ],
 "metadata": {
  "kernelspec": {
   "display_name": "Python 3 (ipykernel)",
   "language": "python",
   "name": "python3"
  },
  "language_info": {
   "codemirror_mode": {
    "name": "ipython",
    "version": 3
   },
   "file_extension": ".py",
   "mimetype": "text/x-python",
   "name": "python",
   "nbconvert_exporter": "python",
   "pygments_lexer": "ipython3",
   "version": "3.12.7"
  }
 },
 "nbformat": 4,
 "nbformat_minor": 5
}
