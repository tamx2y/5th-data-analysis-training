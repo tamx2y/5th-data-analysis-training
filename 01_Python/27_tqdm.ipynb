{
 "cells": [
  {
   "cell_type": "code",
   "execution_count": 1,
   "id": "cccd9d66-4ad0-4891-875d-0e2a98e0bcc1",
   "metadata": {},
   "outputs": [],
   "source": [
    "# 얼마나 작업이 진행되고 있는지를 확인하는 용도로 사용됨"
   ]
  },
  {
   "cell_type": "code",
   "execution_count": 2,
   "id": "ec72d314-aaf4-4dd2-8cf3-a359290e1003",
   "metadata": {},
   "outputs": [],
   "source": [
    "import time\n",
    "from tqdm import tqdm"
   ]
  },
  {
   "cell_type": "code",
   "execution_count": 3,
   "id": "88fefc44-7885-41b3-b82e-5b5c3cb39e0f",
   "metadata": {},
   "outputs": [
    {
     "name": "stderr",
     "output_type": "stream",
     "text": [
      "100%|██████████████████████████████████████████████████████████████████████████████████| 20/20 [00:20<00:00,  1.00s/it]"
     ]
    },
    {
     "name": "stdout",
     "output_type": "stream",
     "text": [
      "20\n"
     ]
    },
    {
     "name": "stderr",
     "output_type": "stream",
     "text": [
      "\n"
     ]
    }
   ],
   "source": [
    "a1 = 0\n",
    "\n",
    "for v1 in tqdm(range(20)):\n",
    "    time.sleep(1)\n",
    "    a1 = a1 + 1\n",
    "\n",
    "print(a1)"
   ]
  }
 ],
 "metadata": {
  "kernelspec": {
   "display_name": "Python 3 (ipykernel)",
   "language": "python",
   "name": "python3"
  },
  "language_info": {
   "codemirror_mode": {
    "name": "ipython",
    "version": 3
   },
   "file_extension": ".py",
   "mimetype": "text/x-python",
   "name": "python",
   "nbconvert_exporter": "python",
   "pygments_lexer": "ipython3",
   "version": "3.12.7"
  }
 },
 "nbformat": 4,
 "nbformat_minor": 5
}
