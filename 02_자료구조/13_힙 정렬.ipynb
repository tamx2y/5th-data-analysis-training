{
 "cells": [
  {
   "cell_type": "markdown",
   "id": "d474f0d6-1857-4f5f-909b-b2fcbc32a561",
   "metadata": {},
   "source": [
    "# 힙 정렬\n",
    "- 트리구조로 되어 있는 데이터를 정렬할 때 사용하는 방법\n",
    "- 부모 노드와 자식 노드의 값을 비교하였을 때 자식 노드의 값이 더 크면 부모 노드와 교환을 한다.\n",
    "- 이렇게 모든 부모 노드에 대해서 작업을 수행하면 루트 노드에는 가장 큰 값이 배치된다.\n",
    "- 루트 노드에 있는 가장 큰 값을 결과에 담아주고 제거한다.\n",
    "- 제일 마지막에 있는 노드를 루트로 올린다.\n",
    "- 이렇게 끝까지 반복한다."
   ]
  },
  {
   "cell_type": "code",
   "execution_count": 2,
   "id": "f16201d6-a054-48b5-a58b-c5ed9a885d04",
   "metadata": {},
   "outputs": [],
   "source": [
    "# 주어진 데이터를 완전 이진트리로 만들어 반환한다.\n",
    "def make_max_heap(data_list) :\n",
    "    \"\"\"\n",
    "        data_list\n",
    "            정렬하고자 하는 데이터\n",
    "        return 값\n",
    "            트리구조를 표현한 딕셔너리\n",
    "    \"\"\"\n",
    "    # 각 노드의 이름을 정해주기 위한 변수\n",
    "    node_idx = 0\n",
    "    # 트리구조를 표현할 딕셔너리\n",
    "    tree_dict = {\n",
    "    }\n",
    "    # 첫 번째 데이터를 root로 저장해준다.\n",
    "    v1 = data_list.pop(0)\n",
    "    # [부모노드의 이름, 좌측 자식 노드 이름, 우측 자식노드 이름, 값]\n",
    "    tree_dict['root'] = [None, None, None, v1]\n",
    "    # 노드를 추가할 노드의 이름을 담을 리스트\n",
    "    parent_node_list = ['root']\n",
    "    # 제일 마지막에 추가한 노드의 이름\n",
    "    last_node_name = 'root'\n",
    "    \n",
    "    # 반복한다.\n",
    "    while True :\n",
    "        # parent_node_list 에서 parent 노드가 될 노드의 이름을 가져온다.\n",
    "        parent_node_name = parent_node_list.pop()\n",
    "        # 데이터가 남아 있다면 parent의 좌측에 설정될 노드를 만든다.\n",
    "        if len(data_list) > 0 :\n",
    "            # 노드의 이름\n",
    "            left_child_node_name = f'node_{node_idx}'\n",
    "            node_idx = node_idx + 1\n",
    "            # 관리할 값을 추출한다.\n",
    "            v1 = data_list.pop(0)\n",
    "            # 노드를 생성한다.\n",
    "            left_child_node = [parent_node_name, None, None, v1]\n",
    "            # 생성한 노드를 딕셔너리에 담는다.\n",
    "            tree_dict[left_child_node_name] = left_child_node\n",
    "            # 부모노드의 좌측 자식 노드 이름을 설정해준다.\n",
    "            tree_dict[parent_node_name][1] = left_child_node_name\n",
    "            # 새로만든 노드의 이름을 부모 노드 이름 리스트에 추가해준다.\n",
    "            parent_node_list.insert(0, left_child_node_name)\n",
    "            # 마지막 노드 이름에 새로운 노드 이름을 담아준다.\n",
    "            last_node_name = left_child_node_name\n",
    "\n",
    "        # 데이터가 남아 있다면 parent의 우측에 설정될 노드를 만든다.\n",
    "        if len(data_list) > 0 :\n",
    "            # 노드의 이름\n",
    "            right_child_node_name = f'node_{node_idx}'\n",
    "            node_idx = node_idx + 1\n",
    "            # 관리할 값을 추출한다.\n",
    "            v1 = data_list.pop(0)\n",
    "            # 노드를 생성한다.\n",
    "            right_child_node = [parent_node_name, None, None, v1]\n",
    "            # 생성한 노드를 딕셔너리에 담는다.\n",
    "            tree_dict[right_child_node_name] = right_child_node\n",
    "            # 부모노드의 우측 자식 노드 이름을 설정해준다.\n",
    "            tree_dict[parent_node_name][2] = right_child_node_name\n",
    "            # 새로만든 노드의 이름을 부모 노드 이름 리스트에 추가해준다.\n",
    "            parent_node_list.insert(0, right_child_node_name)\n",
    "            # 마지막 노드 이름에 새로운 노드 이름을 담아준다.\n",
    "            last_node_name = right_child_node_name\n",
    "\n",
    "        # 더 이상 데이터가 남아 있지 않으면 반복을 중단한다.\n",
    "        if len(data_list) == 0 :\n",
    "            break\n",
    "\n",
    "    # 마지막 노드의 이름을 딕셔너리에 담아준다.\n",
    "    tree_dict['last_node_name'] = last_node_name\n",
    "    # 트리구조를 표현한 딕셔너리를 반환한다.\n",
    "    return tree_dict\n",
    "\n",
    "            "
   ]
  },
  {
   "cell_type": "code",
   "execution_count": 22,
   "id": "8d700de6-9f06-41a9-ad38-d1edb80f988d",
   "metadata": {},
   "outputs": [],
   "source": [
    "# 힙정렬을 수행하여 정렬된 데이터를 반환한다.\n",
    "def head_sort(tree) :\n",
    "    \"\"\"\n",
    "        tree\n",
    "            정렬을 수행할 트리\n",
    "        return 값\n",
    "            정렬된 데이터가 담긴 리스트\n",
    "    \"\"\"\n",
    "    # 제일 마지막 노드의 이름을 가져온다.\n",
    "    last_node_name = tree['last_node_name']\n",
    "    del tree['last_node_name']\n",
    "    \n",
    "    # 반복한다.\n",
    "    while True :\n",
    "        # 제일 마지막 노드의 이름을 현재 노드 이름으로 설정해준다.\n",
    "        current_node_name = last_node_name\n",
    "        # 반복한다.\n",
    "        while True :\n",
    "            # 현재 노드의 부모 노드 이름을 가져온다.\n",
    "            parent_node_name = tree[current_node_name][0]\n",
    "\n",
    "            # 만약 부모 노드의 우측 노드가 있다면\n",
    "            if tree[parent_node_name][2] != None :\n",
    "                # 가져온 부모 노드의 값과 우측 노드의 값을 비교한다.\n",
    "                right_child_node_name = tree[parent_node_name][2]\n",
    "                if tree[parent_node_name][3] < tree[right_child_node_name][3] :\n",
    "                    # 만약 자식의 값이 더 크면 부모 노드의 값과 자식 노드의 값을 교환한다.\n",
    "                    tree[parent_node_name][3], tree[right_child_node_name][3] = tree[right_child_node_name][3], tree[parent_node_name][3]\n",
    "                \n",
    "            # 만약 부모 노드의 좌측 노드가 있다면\n",
    "            if tree[parent_node_name][1] != None :\n",
    "                # 가져온 부모 노드의 값과 좌측 노드의 값을 비교한다.\n",
    "                left_child_node_name = tree[parent_node_name][1]\n",
    "                if tree[parent_node_name][3] < tree[left_child_node_name][3] :\n",
    "                    # 만약 자식의 값이 더 크면 부모 노드의 값과 자식 노드의 값을 교환한다.\n",
    "                    tree[parent_node_name][3], tree[left_child_node_name][3] = tree[left_child_node_name][3], tree[parent_node_name][3]\n",
    "        \n",
    "            # 다음 현재 노드의 이름을 구한다.\n",
    "            # 부모의 부모 노드 이름을 가져온다.\n",
    "            grand_parent_node_name = tree[parent_node_name][0]\n",
    "            # 부모의 부모의 자식 노드 이름을 parent_node로 설정한다.\n",
    "            if tree[grand_parent_node_name][2] != parent_node_name :\n",
    "                parent_node_name = tree[grand_parent_node_name][2]\n",
    "            else tree[grand_parent_node_name][1] != parent_node_name :\n",
    "                parent_node_name = tree[grand_parent_node_name][1]\n",
    "\n",
    "            # 새로운 부모노드의 우측 노드가 있다면\n",
    "            if tree[parent_node_name][2] != None :\n",
    "                current_node_name = tree[parent_node_name][2]\n",
    "            elif tree[parent_node_name][1] != None :\n",
    "                current_node_name = tree[parent_node_name][1]\n",
    "    \n",
    "            # root를 만나면 반복을 중단한다.\n",
    "\n",
    "    # 트리에 더이상 노드가 남아 있지 않다면 반복을 중단한다.\n",
    " "
   ]
  },
  {
   "cell_type": "code",
   "execution_count": 4,
   "id": "617034eb-efe3-4856-a048-d8ace7cc4146",
   "metadata": {},
   "outputs": [
    {
     "data": {
      "text/plain": [
       "{'root': [None, 'node_0', 'node_1', 10],\n",
       " 'node_0': ['root', 'node_2', 'node_3', 2],\n",
       " 'node_1': ['root', 'node_4', 'node_5', 7],\n",
       " 'node_2': ['node_0', 'node_6', 'node_7', 4],\n",
       " 'node_3': ['node_0', 'node_8', None, 1],\n",
       " 'node_4': ['node_1', None, None, 5],\n",
       " 'node_5': ['node_1', None, None, 8],\n",
       " 'node_6': ['node_2', None, None, 6],\n",
       " 'node_7': ['node_2', None, None, 3],\n",
       " 'node_8': ['node_3', None, None, 9],\n",
       " 'last_node_name': 'node_8'}"
      ]
     },
     "metadata": {},
     "output_type": "display_data"
    }
   ],
   "source": [
    "a1 = [10, 2, 7, 4, 1, 5, 8, 6, 3, 9]\n",
    "# 트리를 생성한다.\n",
    "tree_data = make_max_heap(a1)\n",
    "display(tree_data)"
   ]
  },
  {
   "cell_type": "code",
   "execution_count": 14,
   "id": "7305381c-4401-4ad5-92e8-6ca6ae6b7670",
   "metadata": {},
   "outputs": [
    {
     "data": {
      "text/plain": [
       "dict_keys(['root', 'node_0', 'node_1', 'node_2', 'node_3', 'node_4', 'node_5', 'node_6', 'node_7', 'node_8', 'last_node_name'])"
      ]
     },
     "execution_count": 14,
     "metadata": {},
     "output_type": "execute_result"
    }
   ],
   "source": []
  }
 ],
 "metadata": {
  "kernelspec": {
   "display_name": "Python 3 (ipykernel)",
   "language": "python",
   "name": "python3"
  },
  "language_info": {
   "codemirror_mode": {
    "name": "ipython",
    "version": 3
   },
   "file_extension": ".py",
   "mimetype": "text/x-python",
   "name": "python",
   "nbconvert_exporter": "python",
   "pygments_lexer": "ipython3",
   "version": "3.12.7"
  }
 },
 "nbformat": 4,
 "nbformat_minor": 5
}
