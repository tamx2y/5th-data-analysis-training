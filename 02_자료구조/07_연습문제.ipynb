{
 "cells": [
  {
   "cell_type": "markdown",
   "id": "349ed736-aa27-4013-bb7e-6a4daf2bf1b8",
   "metadata": {},
   "source": [
    "### 문제1)\n",
    "- 스택과 큐를 이용한 문제 해결 방법을 구현해보려고 한다. \n",
    "- 회문 찾기 문제를 풀어보자.\n",
    "- 회문(Palindrome)이란 거꾸로 읽어도 제대로 읽는 것과 같은 문장이나 단어, 숫자, 또는 문자열 등을 말한다.\n",
    "- 예 WOW. MADAM. 기러기, 내 아내, 소주. 주소: 토마스' 등 입력된 문자열이 회문인지 아닌지 확인해 보자.\n",
    "######\n",
    "- 큐와 스택에 문자열을 저장한다.\n",
    "- 큐의 첫 번째 문자와 스택의 마지막 문자(pop()를 비교하여 회문의 결과가 참이면 True. 거짓이면 False 를 출력한다.\n",
    "- <실행 결과 예>\n",
    "True\n",
    "True\n",
    "True\n",
    "True\n",
    "True\n",
    "False"
   ]
  },
  {
   "cell_type": "code",
   "execution_count": 68,
   "id": "1ffa1753-6473-4392-b12d-3d3cda850fef",
   "metadata": {},
   "outputs": [],
   "source": [
    "# 회문 검사 함수\n",
    "def palindrome(text) :\n",
    "    # 스택과 큐로 사용할 리스트\n",
    "    stack = []\n",
    "    queue = []\n",
    "\n",
    "    # 주어진 문자열을 모두 대문자로 변경한다.\n",
    "    upper_text = text.upper()\n",
    "\n",
    "    # 문자열의 각 글자를 스택과 queue에 담는다.\n",
    "    for c1 in upper_text :\n",
    "        stack.append(c1)\n",
    "        queue.append(c1)\n",
    "\n",
    "    # 글자의 수 만큼 반복하면서 하나씩 비교한다.\n",
    "    while stack :\n",
    "        # stack과 queue에서 한글자씩 가져와 비교를 한다.\n",
    "        if queue.pop(0) != stack.pop() :\n",
    "            # 다른 글자를 하나라도 만나면 False를 반환한다.\n",
    "            return False\n",
    "\n",
    "    # 다른 글자를 하나도 만나지 못하면 True를 반환한다.\n",
    "    return True"
   ]
  },
  {
   "cell_type": "code",
   "execution_count": 72,
   "id": "63fc8a54-16f3-4caf-866b-7829bca3d7b1",
   "metadata": {},
   "outputs": [
    {
     "name": "stdout",
     "output_type": "stream",
     "text": [
      "기러기 : True\n",
      "토마토 : True\n",
      "스위스 : True\n",
      "인도인 : True\n",
      "별똥별 : True\n",
      "우영우 : True\n",
      "독수리 : False\n",
      "바나나 : False\n",
      "스웨덴 : False\n",
      "한국인 : False\n"
     ]
    }
   ],
   "source": [
    "r1 = palindrome('기러기')\n",
    "r2 = palindrome('토마토')\n",
    "r3 = palindrome('스위스')\n",
    "r4 = palindrome('인도인')\n",
    "r5 = palindrome('별똥별')\n",
    "r6 = palindrome('우영우')\n",
    "r7 = palindrome('독수리')\n",
    "r8 = palindrome('바나나')\n",
    "r9 = palindrome('스웨덴')\n",
    "r10 = palindrome('한국인')\n",
    "\n",
    "print(f'기러기 : {r1}')\n",
    "print(f'토마토 : {r2}')\n",
    "print(f'스위스 : {r3}')\n",
    "print(f'인도인 : {r4}')\n",
    "print(f'별똥별 : {r5}')\n",
    "print(f'우영우 : {r6}')\n",
    "print(f'독수리 : {r7}')\n",
    "print(f'바나나 : {r8}')\n",
    "print(f'스웨덴 : {r9}')\n",
    "print(f'한국인 : {r10}')"
   ]
  },
  {
   "cell_type": "markdown",
   "id": "ed1928ed-4dec-4593-a4eb-32bbbe4ecca9",
   "metadata": {},
   "source": [
    "### PPT 28번 슬라이드 문제\n",
    "- 괄호를 확인하는 스택문제"
   ]
  },
  {
   "cell_type": "code",
   "execution_count": 100,
   "id": "e285dad7-06ab-4f0a-8974-ed073feb1614",
   "metadata": {},
   "outputs": [],
   "source": [
    "def check_brackets(text) :\n",
    "    # 글자를 담을 스택\n",
    "    stack = []\n",
    "    # 주어진 문장의 글자 수 만큼 반복한다.\n",
    "    for c1 in text :\n",
    "        # 반복 번째 글자가 여는 괄호( (, {, <, [ ) 라면 스택에 담는다.\n",
    "        if c1 in ['(', '{', '<', '['] :\n",
    "            stack.append(c1)\n",
    "            print(f'push : {c1}')\n",
    "            print(f'현재 스택 상태 : {stack}')\n",
    "        # 반복 번째 글자가 닫는 괄호( ), }, >, ] ) 라면 스택에 담겨져 있는 괄호 문자를 뺀다.\n",
    "        elif c1 in [')', '}', '>', ']'] :\n",
    "            v1 = stack.pop()\n",
    "            print(f'pop : {v1}')\n",
    "            print(f'현재 스택 상태 : {stack}')\n",
    "    # 모든 반복처리가 끝나면 스택에 괄호가 남아 있는지 확인한다.\n",
    "    # 만약 남아 있지 않다면 \"모든 괄호가 정상입니다\"를 출력한다.\n",
    "    if len(stack) == 0 :\n",
    "        print('모든 괄호가 정상입니다')\n",
    "    # 만약 남이 있다면 \"괄호가 정상적이지 않습니다\"를 출력한다.\n",
    "    else :\n",
    "        print('괄호가 정상적이지 않습니다')"
   ]
  },
  {
   "cell_type": "code",
   "execution_count": 110,
   "id": "155916e0-3d59-4ec7-99e2-9c68cdb7a27a",
   "metadata": {},
   "outputs": [
    {
     "name": "stdout",
     "output_type": "stream",
     "text": [
      "push : <\n",
      "현재 스택 상태 : ['<']\n",
      "pop : <\n",
      "현재 스택 상태 : []\n",
      "push : (\n",
      "현재 스택 상태 : ['(']\n",
      "push : {\n",
      "현재 스택 상태 : ['(', '{']\n",
      "pop : {\n",
      "현재 스택 상태 : ['(']\n",
      "pop : (\n",
      "현재 스택 상태 : []\n",
      "push : [\n",
      "현재 스택 상태 : ['[']\n",
      "push : (\n",
      "현재 스택 상태 : ['[', '(']\n",
      "push : {\n",
      "현재 스택 상태 : ['[', '(', '{']\n",
      "pop : {\n",
      "현재 스택 상태 : ['[', '(']\n",
      "pop : (\n",
      "현재 스택 상태 : ['[']\n",
      "pop : [\n",
      "현재 스택 상태 : []\n",
      "모든 괄호가 정상입니다\n"
     ]
    }
   ],
   "source": [
    "check_brackets('<동해>물과 (백두{산}이) 마르고 [닳(도{록})]')"
   ]
  },
  {
   "cell_type": "markdown",
   "id": "a51bc7c5-42f5-4804-ae26-287278347031",
   "metadata": {},
   "source": [
    "### 데이터에 문제가 있는 경우)\n",
    "\n",
    "1. 여는 괄호와 닫는 괄호의 개수가 맞더라도 그 짝이 맞지 않는 경우\n",
    "-> 각 괄호마다 스택을 따로둔다. 그 스택들은 딕셔너리로 관리하면 편하다(한혜원님 짱~)\n",
    "2. 닫는 괄호가 더 많을 때\n",
    "-> pop 전에 스택에 괄호가 남아있는지 검사한다.\n",
    "3. 괄호가 아에 없는 문장은 괄호가 없다고 나와야 한다.\n",
    "-> 변수를 하나 선언해서 False를 담아두고 push 작업이 한번이라도 이루어지면 True로 바꾼다. 마지막에 이 변수의 값이 True인지 False인지를 확인하면 된다.\n",
    "\n",
    "추가적인 다른 문제들이 있을 수 있습니다."
   ]
  }
 ],
 "metadata": {
  "kernelspec": {
   "display_name": "Python 3 (ipykernel)",
   "language": "python",
   "name": "python3"
  },
  "language_info": {
   "codemirror_mode": {
    "name": "ipython",
    "version": 3
   },
   "file_extension": ".py",
   "mimetype": "text/x-python",
   "name": "python",
   "nbconvert_exporter": "python",
   "pygments_lexer": "ipython3",
   "version": "3.12.7"
  }
 },
 "nbformat": 4,
 "nbformat_minor": 5
}
