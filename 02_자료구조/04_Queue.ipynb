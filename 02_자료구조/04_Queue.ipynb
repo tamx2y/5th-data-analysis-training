{
 "cells": [
  {
   "cell_type": "markdown",
   "id": "04ee0129-be25-4fd5-8e19-ed2fea87ffaa",
   "metadata": {},
   "source": [
    "# Queue\n",
    "- FIFO (First In First Out : 가장 처음에 들어간 값이 제일 먼저 나온다는 뜻) 구조를 가진 자료 구조\n",
    "- 제일 처음에 들어간 값이 제일 먼저 나온다.\n",
    "- Enqueue : 값을 저장하는 명령어, 제일 마지막에 저장된다.\n",
    "- Dequeue : 값을 가져오는 명령어, 제일 처음에 저장되어 있는 값을 가지고 온다.\n",
    "- 이벤트 처리, 번호표 등등 발생한 순서 혹은 저장된 순서대로 처리하고자 하는 작업에서 쓰인다."
   ]
  },
  {
   "cell_type": "code",
   "execution_count": 9,
   "id": "f68dfcb5-4fb8-4c97-94b8-854370b372f4",
   "metadata": {},
   "outputs": [],
   "source": [
    "class QueueClass : \n",
    "\n",
    "    def __init__(self):\n",
    "        # 데이터를 담을 리스트\n",
    "        self.queue = []\n",
    "\n",
    "    # 큐에 데이터를 저장하는 메서드\n",
    "    def enqueue(self, value) :\n",
    "        # 데이터를 제일 뒤에 추가한다.\n",
    "        self.queue.append(value)\n",
    "\n",
    "    # 큐에서 값을 가져오는 메서드\n",
    "    def dequeue(self) : \n",
    "        # 제일 첫 번째 값을 가져온다.\n",
    "        value = self.queue[0]\n",
    "        # 제일 첫 번째 값을 제거한다.\n",
    "        del self.queue[0]\n",
    "        return value"
   ]
  },
  {
   "cell_type": "code",
   "execution_count": 10,
   "id": "e2c2ef5a-bf85-4c63-bd3a-8b10e5bd5d17",
   "metadata": {},
   "outputs": [
    {
     "name": "stdout",
     "output_type": "stream",
     "text": [
      "10 20 30\n"
     ]
    }
   ],
   "source": [
    "queue = QueueClass()\n",
    "\n",
    "# 데이터를 저장한다.\n",
    "queue.enqueue(10)\n",
    "queue.enqueue(20)\n",
    "queue.enqueue(30)\n",
    "\n",
    "# 데이터를 가져온다.\n",
    "v1 = queue.dequeue()\n",
    "v2 = queue.dequeue()\n",
    "v3 = queue.dequeue()\n",
    "\n",
    "print(v1, v2, v3)"
   ]
  },
  {
   "cell_type": "code",
   "execution_count": 11,
   "id": "85156400-4248-4222-960e-eee2b79e2fcc",
   "metadata": {},
   "outputs": [
    {
     "name": "stdout",
     "output_type": "stream",
     "text": [
      "10 20 30\n"
     ]
    }
   ],
   "source": [
    "# 리스트 사용\n",
    "# enqueue : append method를 사용하여 제일 뒤에 추가한다.\n",
    "# dequeue : pop method에 0번째 순서값을 지정하여 제일 첫번째 값을 반환하고 제거한다.\n",
    "\n",
    "queue2 = []\n",
    "\n",
    "queue2.append(10)\n",
    "queue2.append(20)\n",
    "queue2.append(30)\n",
    "\n",
    "v1 = queue2.pop(0)\n",
    "v2 = queue2.pop(0)\n",
    "v3 = queue2.pop(0)\n",
    "\n",
    "print(v1, v2, v3)"
   ]
  },
  {
   "cell_type": "code",
   "execution_count": 1,
   "id": "cd572094-b7de-42d4-add1-41a81d91e0a7",
   "metadata": {},
   "outputs": [
    {
     "name": "stdout",
     "output_type": "stream",
     "text": [
      "10 20 30\n"
     ]
    }
   ],
   "source": [
    "# queue 라이브러리 사용\n",
    "import queue\n",
    "\n",
    "# queue 객체 생성\n",
    "q1 = queue.Queue()\n",
    "\n",
    "# 데이터 저장\n",
    "q1.put(10)\n",
    "q1.put(20)\n",
    "q1.put(30)\n",
    "\n",
    "# 데이터 가져오기\n",
    "v1 = q1.get()\n",
    "v2 = q1.get()\n",
    "v3 = q1.get()\n",
    "\n",
    "print(v1, v2, v3)"
   ]
  },
  {
   "cell_type": "markdown",
   "id": "96087434-24ea-47c8-b533-995148fa41bb",
   "metadata": {},
   "source": [
    "# Deque\n",
    "- que는 새로운 데이터를 추가하면 뒤에 추가되고 데이터를 가져오면 제일 앞의 데이터가 반환된다.\n",
    "- deque는 앞과 뒤 모두 데이터를 추가하고 가져오는 것이 가능하다.\n",
    "- (파이썬 문법으로 제공하고 있는 중)"
   ]
  },
  {
   "cell_type": "code",
   "execution_count": 9,
   "id": "4ae6f969-1d7a-40e1-91c4-91cf6988f970",
   "metadata": {},
   "outputs": [
    {
     "name": "stdout",
     "output_type": "stream",
     "text": [
      "deque([])\n",
      "deque([10, 20, 30])\n",
      "deque([10, 20, 30, 40])\n",
      "deque([10, 20, 30, 40, 50, 60, 70])\n",
      "deque([8, 7, 6, 9, 10, 20, 30, 40, 50, 60, 70])\n",
      "70\n",
      "deque([8, 7, 6, 9, 10, 20, 30, 40, 50, 60])\n",
      "8\n",
      "deque([7, 6, 9, 10, 20, 30, 40, 50, 60])\n"
     ]
    }
   ],
   "source": [
    "from collections import deque\n",
    "\n",
    "# 아무것도 없는 deque\n",
    "q1 = deque()\n",
    "print(q1)\n",
    "\n",
    "# 초기 데이터를 가진 deque는 리스트나 튜플로 넣어야 함.\n",
    "q2 = deque([10, 20, 30])\n",
    "print(q2)\n",
    "\n",
    "# 뒤에 하나 추가\n",
    "q2.append(40)\n",
    "print(q2)\n",
    "\n",
    "# 뒤에 다수를 추가\n",
    "q2.extend([50, 60, 70])\n",
    "print(q2)\n",
    "\n",
    "# 앞에 하나 추가\n",
    "q2.appendleft(9)\n",
    "\n",
    "# 앞에 다수를 추가\n",
    "q2.extendleft([6, 7, 8])\n",
    "print(q2)\n",
    "\n",
    "# 뒤의 데이터 가져온다. 반환 후 삭제\n",
    "v1 = q2.pop()\n",
    "print(v1)\n",
    "print(q2)\n",
    "\n",
    "# 앞의 데이터를 가져온다.\n",
    "v2 = q2.popleft()\n",
    "print(v2)\n",
    "print(q2)"
   ]
  }
 ],
 "metadata": {
  "kernelspec": {
   "display_name": "Python 3 (ipykernel)",
   "language": "python",
   "name": "python3"
  },
  "language_info": {
   "codemirror_mode": {
    "name": "ipython",
    "version": 3
   },
   "file_extension": ".py",
   "mimetype": "text/x-python",
   "name": "python",
   "nbconvert_exporter": "python",
   "pygments_lexer": "ipython3",
   "version": "3.12.7"
  }
 },
 "nbformat": 4,
 "nbformat_minor": 5
}
