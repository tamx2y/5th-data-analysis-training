{
 "cells": [
  {
   "cell_type": "code",
   "execution_count": 1,
   "id": "2c7170e5-d835-45df-87f4-01ee5513b878",
   "metadata": {},
   "outputs": [
    {
     "name": "stdout",
     "output_type": "stream",
     "text": [
      "[10, 20, 30, 40, 50]\n"
     ]
    }
   ],
   "source": [
    "# 1차원 리스트\n",
    "list1 = [10, 20, 30, 40, 50]\n",
    "print(list1)"
   ]
  },
  {
   "cell_type": "code",
   "execution_count": 2,
   "id": "b3fa8c6e-ddbe-4861-b1d6-d4a32ac18358",
   "metadata": {},
   "outputs": [
    {
     "name": "stdout",
     "output_type": "stream",
     "text": [
      "10\n",
      "20\n",
      "30\n",
      "40\n",
      "50\n"
     ]
    }
   ],
   "source": [
    "# 리스트의 순회\n",
    "for v1 in list1 : \n",
    "    print(v1)"
   ]
  },
  {
   "cell_type": "code",
   "execution_count": 3,
   "id": "61671e13-275a-4662-91a5-72a18fe568e5",
   "metadata": {},
   "outputs": [
    {
     "name": "stdout",
     "output_type": "stream",
     "text": [
      "[(0, 10), (1, 20), (2, 30), (3, 40), (4, 50)]\n"
     ]
    }
   ],
   "source": [
    "# enumerate : 순서값과관리하는 값의 쌍으로 이루어진 튜플들이 생성된다\n",
    "e1 = enumerate(list1)\n",
    "print(list(e1))"
   ]
  },
  {
   "cell_type": "code",
   "execution_count": 4,
   "id": "196b5ead-57aa-493a-baeb-23d790ec2afc",
   "metadata": {},
   "outputs": [
    {
     "name": "stdout",
     "output_type": "stream",
     "text": [
      "0 : 10\n",
      "1 : 20\n",
      "2 : 30\n",
      "3 : 40\n",
      "4 : 50\n"
     ]
    }
   ],
   "source": [
    "for idx, v1 in enumerate(list1):\n",
    "    print(f'{idx} : {v1}')"
   ]
  },
  {
   "cell_type": "code",
   "execution_count": 7,
   "id": "ad0f1c56-33b6-44fe-9816-9c02f11c21c6",
   "metadata": {},
   "outputs": [
    {
     "name": "stdout",
     "output_type": "stream",
     "text": [
      "[[10, 20, 30], [40, 50, 60], [70, 80, 90]]\n"
     ]
    }
   ],
   "source": [
    "# 2차원 리스트 \n",
    "list2 = [\n",
    "    [10, 20, 30],\n",
    "    [40, 50, 60],\n",
    "    [70, 80, 90]\n",
    "]\n",
    "\n",
    "print(list2)"
   ]
  },
  {
   "cell_type": "code",
   "execution_count": 6,
   "id": "9d7dba5a-87d0-493d-abe0-bccb23375389",
   "metadata": {},
   "outputs": [
    {
     "name": "stdout",
     "output_type": "stream",
     "text": [
      "10\n",
      "50\n"
     ]
    }
   ],
   "source": [
    "# 2차원 리스트에서 값 가져오기\n",
    "print(list2[0][0])\n",
    "print(list2[1][1])"
   ]
  },
  {
   "cell_type": "code",
   "execution_count": 11,
   "id": "e61d872b-5d4b-4b1a-9079-1cef5cd1df27",
   "metadata": {},
   "outputs": [
    {
     "name": "stdout",
     "output_type": "stream",
     "text": [
      "[[10, 20, 30], [40, 50, 60]]\n"
     ]
    }
   ],
   "source": [
    "# 범위를 지정하여 가져오기\n",
    "# 리스트는 트리형태로 하위로 들어가는 개념이기 때문에 \n",
    "# 여러행 여러컬럼에 해당하는 값을 가져오는 것은 안된다.\n",
    "# 열과 행에 대한 개념이 없음. \n",
    "print(list2[0:2][0:2]) #원하는 값이 출력된 것 아님, 잘못 동작한 것(뒤에 [0:2]가 출력되지 않은 것)"
   ]
  },
  {
   "cell_type": "code",
   "execution_count": 13,
   "id": "2d51e56e-bad2-43f1-bb51-4b79b107d6b5",
   "metadata": {},
   "outputs": [
    {
     "name": "stdout",
     "output_type": "stream",
     "text": [
      "10,20,30,\n",
      "40,50,60,\n",
      "70,80,90,\n"
     ]
    }
   ],
   "source": [
    "# 2차원 리스트의 순회\n",
    "for v1 in list2:\n",
    "    for v2 in v1:\n",
    "        print(v2, end=\",\")\n",
    "    print()\n",
    "\n",
    "# 행렬보다는 바깥쪽 리스트를 순회한다랑 안쪽을 순회한다 정도로 이해"
   ]
  }
 ],
 "metadata": {
  "kernelspec": {
   "display_name": "Python 3 (ipykernel)",
   "language": "python",
   "name": "python3"
  },
  "language_info": {
   "codemirror_mode": {
    "name": "ipython",
    "version": 3
   },
   "file_extension": ".py",
   "mimetype": "text/x-python",
   "name": "python",
   "nbconvert_exporter": "python",
   "pygments_lexer": "ipython3",
   "version": "3.12.7"
  }
 },
 "nbformat": 4,
 "nbformat_minor": 5
}
