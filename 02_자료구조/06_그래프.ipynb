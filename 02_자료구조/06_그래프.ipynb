{
 "cells": [
  {
   "cell_type": "markdown",
   "id": "3072a6ef-2013-4efa-9505-d9ac9914803d",
   "metadata": {},
   "source": [
    "# 그래프"
   ]
  },
  {
   "cell_type": "code",
   "execution_count": 2,
   "id": "ef7d73aa-719a-4a0c-83b6-ab90d14afbf5",
   "metadata": {},
   "outputs": [
    {
     "data": {
      "text/plain": [
       "{'A': ['B', 'C'],\n",
       " 'B': ['A', 'E'],\n",
       " 'C': ['A', 'D', 'E'],\n",
       " 'D': ['C', 'E'],\n",
       " 'E': ['B', 'C', 'D']}"
      ]
     },
     "execution_count": 2,
     "metadata": {},
     "output_type": "execute_result"
    }
   ],
   "source": [
    "# 딕셔너리를 이용하여 표현한 그래프\n",
    "graph_d = {\n",
    "    'A' : ['B', 'C'],\n",
    "    'B' : ['A', 'E'],\n",
    "    'C' : ['A', 'D', 'E'],\n",
    "    'D' : ['C', 'E'],\n",
    "    'E' : ['B', 'C', 'D']\n",
    "}\n",
    "graph_d"
   ]
  },
  {
   "cell_type": "markdown",
   "id": "29c24f26-bda1-42fa-8f76-b0291da9c0c6",
   "metadata": {},
   "source": [
    "### 인접행렬\n",
    "- 그래프의 각 노드가 서로 인접해 있는지에 대한 행렬\n",
    "- 0 : 인접되어 있지 않다, 1 : 인접되어 있다"
   ]
  },
  {
   "cell_type": "code",
   "execution_count": 4,
   "id": "60901622-d4b2-442f-84a2-61116477366d",
   "metadata": {},
   "outputs": [
    {
     "data": {
      "text/plain": [
       "[[0, 1, 1, 0, 0],\n",
       " [1, 0, 0, 0, 1],\n",
       " [1, 0, 0, 1, 1],\n",
       " [0, 0, 1, 0, 1],\n",
       " [0, 1, 1, 1, 0]]"
      ]
     },
     "execution_count": 4,
     "metadata": {},
     "output_type": "execute_result"
    }
   ],
   "source": [
    "# 인접 행렬 : 간선이 존재하면 1(True), 존재하지 않으면 0(False)로 행렬값 표현\n",
    "graph_array = [\n",
    "    [0, 1, 1, 0, 0],\n",
    "    [1, 0, 0, 0, 1],\n",
    "    [1, 0, 0, 1, 1],\n",
    "    [0, 0, 1, 0, 1],\n",
    "    [0, 1, 1, 1, 0]\n",
    "]\n",
    "\n",
    "graph_array"
   ]
  },
  {
   "cell_type": "markdown",
   "id": "3c6f3e53-2106-45a7-b7b3-13430e3fb742",
   "metadata": {},
   "source": [
    "# 트리"
   ]
  },
  {
   "cell_type": "code",
   "execution_count": 6,
   "id": "492c04c7-43ba-4031-ba0a-aa320ed922a5",
   "metadata": {},
   "outputs": [
    {
     "name": "stdout",
     "output_type": "stream",
     "text": [
      "['A', ['B', ['D', 'E']], ['C', ['F', 'G']]]\n",
      "A\n",
      "B\n",
      "C\n",
      "D\n",
      "E\n",
      "F\n",
      "G\n"
     ]
    }
   ],
   "source": [
    "# 트리 표현하기 : 이중 리스트로 표현\n",
    "tree1 = [\n",
    "    'A', \n",
    "    [\n",
    "     'B', \n",
    "         ['D', 'E']\n",
    "    ], \n",
    "    [\n",
    "      'C', \n",
    "         ['F', 'G']\n",
    "    ]\n",
    "]\n",
    "\n",
    "print(tree1)\n",
    "print(tree1[0])\n",
    "print(tree1[1][0])\n",
    "print(tree1[2][0])\n",
    "print(tree1[1][1][0])\n",
    "print(tree1[1][1][1])\n",
    "print(tree1[2][1][0])\n",
    "print(tree1[2][1][1])"
   ]
  },
  {
   "cell_type": "code",
   "execution_count": 7,
   "id": "f974521c-411c-41ff-93df-5b52723e5327",
   "metadata": {},
   "outputs": [
    {
     "name": "stdout",
     "output_type": "stream",
     "text": [
      "{'A': ['B', 'C'], 'B': ['D', 'E'], 'C': ['F', 'G']}\n",
      "['B', 'C']\n",
      "B\n",
      "C\n",
      "D\n",
      "E\n"
     ]
    }
   ],
   "source": [
    "tree2 = {\n",
    "    'A' : ['B', 'C'],\n",
    "    'B' : ['D', 'E'],\n",
    "    'C' : ['F', 'G']\n",
    "}\n",
    "\n",
    "print(tree2)\n",
    "print(tree2['A'])\n",
    "print(tree2['A'][0])\n",
    "print(tree2['A'][1])\n",
    "print(tree2[tree2['A'][0]][0])\n",
    "print(tree2[tree2['A'][0]][1])"
   ]
  },
  {
   "cell_type": "markdown",
   "id": "e87ed05e-6136-4c26-a056-6309ec4ae0ae",
   "metadata": {},
   "source": [
    "# 깊이 우선 순회\n",
    "- 현재 노드를 기준으로 인접해 있는 노드 중 방문한 적이 없는 노드가 있다면 그 노드로 이동한다.\n",
    "- 현재 노드를 기준으로 인접해 있는 노드가 없으면 이전 노드로 돌아간다\n",
    "- 현재 노드를 기준으로 인접해 있는 노드 모두 방문한 적이 있다면 이전 노드로 돌아간다.\n",
    "- 모든 노드를 방문 할 때까지 반복한다."
   ]
  },
  {
   "cell_type": "code",
   "execution_count": 9,
   "id": "506d9a10-d8f4-44aa-81e7-245cdc19914f",
   "metadata": {},
   "outputs": [
    {
     "data": {
      "text/plain": [
       "{'v1': ['v2', 'v3'],\n",
       " 'v2': ['v1', 'v4', 'v5'],\n",
       " 'v3': ['v1', 'v6'],\n",
       " 'v4': ['v2'],\n",
       " 'v5': ['v2'],\n",
       " 'v6': ['v3']}"
      ]
     },
     "metadata": {},
     "output_type": "display_data"
    }
   ],
   "source": [
    "# 깊이 우선 순회\n",
    "DFS그래프 = {\n",
    "    'v1' : ['v2', 'v3'],\n",
    "    'v2' : ['v1', 'v4', 'v5'],\n",
    "    'v3' : ['v1', 'v6'],\n",
    "    'v4' : ['v2'],\n",
    "    'v5' : ['v2'],\n",
    "    'v6' : ['v3']\n",
    "}\n",
    "display(DFS그래프)"
   ]
  },
  {
   "cell_type": "code",
   "execution_count": 11,
   "id": "53dd4d44-9a6d-4ed4-a919-3274fe28a242",
   "metadata": {},
   "outputs": [],
   "source": [
    "# 깊이 우선 탐색을 하는 함수\n",
    "def depth_first_search(DFS_graph, 방문노드, start, verbose = 0) :\n",
    "    \"\"\"\n",
    "        DFS_graph\n",
    "            딕셔너리로 되어 있는 그래프 데이터\n",
    "        방문노드\n",
    "            방문한적이 있는 노드의 정보를 담을 리스트\n",
    "        start\n",
    "            시작 위치가 되는 노드의 이름\n",
    "        verbose\n",
    "            탐색 과정을 출력할 것인가\n",
    "            0 : 출력안함, 1 : 출력함\n",
    "    \"\"\"\n",
    "    # 시작 노드는 무조건 방문 한 것으로 취급한다.\n",
    "    방문노드.append(start)\n",
    "\n",
    "    # 현재 노드의 하위 노드를 가져와 그 수 만큼 반복한다\n",
    "    for node in DFS_graph[start] :\n",
    "        # 만약 현재 방문한 노드가 이미 방문한 노드라면\n",
    "        if node in 방문노드 :\n",
    "            if verbose == 1 :\n",
    "                print(f'현재 방문한 노드 : {node}')\n",
    "                print(f'지금까지 방문한 모든 노드 : {방문노드}')\n",
    "                print()\n",
    "        # 만약 현재 방문한 노드가 이미 방문한 노드가 아니라면\n",
    "        elif node not in 방문노드 :\n",
    "            if verbose == 1 :\n",
    "                print(f'현재 방문한 적이 없는 노드 : {node}')\n",
    "                # 다음 방문 처리를 위해 함수를 다시 호출한다.\n",
    "            depth_first_search(DFS_graph, 방문노드, node, verbose)\n",
    "\n",
    "    "
   ]
  },
  {
   "cell_type": "code",
   "execution_count": 12,
   "id": "688fb686-0b3e-4973-af8a-9e9e2cab12b6",
   "metadata": {},
   "outputs": [
    {
     "name": "stdout",
     "output_type": "stream",
     "text": [
      "현재 방문한 적이 없는 노드 : v2\n",
      "현재 방문한 노드 : v1\n",
      "지금까지 방문한 모든 노드 : ['v1', 'v2']\n",
      "\n",
      "현재 방문한 적이 없는 노드 : v4\n",
      "현재 방문한 노드 : v2\n",
      "지금까지 방문한 모든 노드 : ['v1', 'v2', 'v4']\n",
      "\n",
      "현재 방문한 적이 없는 노드 : v5\n",
      "현재 방문한 노드 : v2\n",
      "지금까지 방문한 모든 노드 : ['v1', 'v2', 'v4', 'v5']\n",
      "\n",
      "현재 방문한 적이 없는 노드 : v3\n",
      "현재 방문한 노드 : v1\n",
      "지금까지 방문한 모든 노드 : ['v1', 'v2', 'v4', 'v5', 'v3']\n",
      "\n",
      "현재 방문한 적이 없는 노드 : v6\n",
      "현재 방문한 노드 : v3\n",
      "지금까지 방문한 모든 노드 : ['v1', 'v2', 'v4', 'v5', 'v3', 'v6']\n",
      "\n"
     ]
    },
    {
     "data": {
      "text/plain": [
       "['v1', 'v2', 'v4', 'v5', 'v3', 'v6']"
      ]
     },
     "execution_count": 12,
     "metadata": {},
     "output_type": "execute_result"
    }
   ],
   "source": [
    "# 결과를 담을 리스트\n",
    "result1 = []\n",
    "depth_first_search(DFS그래프, result1, 'v1', verbose=1)\n",
    "result1"
   ]
  },
  {
   "cell_type": "markdown",
   "id": "0287a8dd-b5aa-4a6d-b476-87c2df865e83",
   "metadata": {},
   "source": [
    "# 너비 우선 탐색\n",
    "- 현재 노드의 인접한 노드 중 방문한 적이 없는 모든 노드를 방문한다.\n",
    "- 이렇게 하며 하위로 내려가면서 인접한 모든 노드를 방문한다."
   ]
  },
  {
   "cell_type": "code",
   "execution_count": 34,
   "id": "79005e0f-1404-48e0-a1ef-e2a00919fbb7",
   "metadata": {},
   "outputs": [],
   "source": [
    "BFS그래프 = {\n",
    "    'v1' : ['v2', 'v3'],\n",
    "    'v2' : ['v1', 'v4', 'v5'],\n",
    "    'v3' : ['v1', 'v6'],\n",
    "    'v4' : ['v2'],\n",
    "    'v5' : ['v2'],\n",
    "    'v6' : ['v3'],\n",
    "}"
   ]
  },
  {
   "cell_type": "code",
   "execution_count": 77,
   "id": "81fca026-b946-4f15-a5b0-4c4a2a3a1e5e",
   "metadata": {},
   "outputs": [
    {
     "name": "stdout",
     "output_type": "stream",
     "text": [
      "현재 방문한 노드 : v1\n",
      "방문노드의 모든 경로 출력 : ['v1']\n",
      "\n",
      "현재 방문한 노드 : v2\n",
      "방문노드의 모든 경로 출력 : ['v1', 'v2']\n",
      "\n",
      "현재 방문한 노드 : v3\n",
      "방문노드의 모든 경로 출력 : ['v1', 'v2', 'v3']\n",
      "\n",
      "현재 방문한 노드 : v4\n",
      "방문노드의 모든 경로 출력 : ['v1', 'v2', 'v3', 'v4']\n",
      "\n",
      "현재 방문한 노드 : v5\n",
      "방문노드의 모든 경로 출력 : ['v1', 'v2', 'v3', 'v4', 'v5']\n",
      "\n",
      "현재 방문한 노드 : v6\n",
      "방문노드의 모든 경로 출력 : ['v1', 'v2', 'v3', 'v4', 'v5', 'v6']\n",
      "\n",
      "['v1', 'v2', 'v3', 'v4', 'v5', 'v6']\n"
     ]
    }
   ],
   "source": [
    "from collections import deque\n",
    "\n",
    "# 너비 우선 탐색을 위한 함수\n",
    "def breadth_first_search(BFS_graph, result_list, start) :\n",
    "    # 시작 위치의 값을 Deque에 저장한다.\n",
    "    q1 = deque([start])\n",
    "\n",
    "    # 큐에 데이터가 아무것도 없을 때 까지 반복한다.\n",
    "    while q1 :\n",
    "        # 큐에 들어있는 노드를 추출한다.\n",
    "        node = q1.pop()\n",
    "        # 방문한 적이 있다면 다음 반복으로 넘어간다.\n",
    "        if node in result_list :\n",
    "            continue\n",
    "\n",
    "        # 만약 현재 지정이 방문한 적이 없다면 리스트에 추가한다\n",
    "        else :\n",
    "            print(f'현재 방문한 노드 : {node}')\n",
    "            result_list.append(node)\n",
    "            print(f'방문노드의 모든 경로 출력 : {result_list}')\n",
    "            print()\n",
    "\n",
    "            # 현재 방문한 하위 노드들은 모두 que에 추가한다.\n",
    "            q1.extendleft(BFS_graph[node])\n",
    "\n",
    "result1 = []\n",
    "breadth_first_search(BFS그래프, result1, 'v1')\n",
    "print(result1)"
   ]
  }
 ],
 "metadata": {
  "kernelspec": {
   "display_name": "Python 3 (ipykernel)",
   "language": "python",
   "name": "python3"
  },
  "language_info": {
   "codemirror_mode": {
    "name": "ipython",
    "version": 3
   },
   "file_extension": ".py",
   "mimetype": "text/x-python",
   "name": "python",
   "nbconvert_exporter": "python",
   "pygments_lexer": "ipython3",
   "version": "3.12.7"
  }
 },
 "nbformat": 4,
 "nbformat_minor": 5
}
