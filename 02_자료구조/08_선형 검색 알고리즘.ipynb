{
 "cells": [
  {
   "cell_type": "markdown",
   "id": "6dbe1361-a1f2-412a-a916-5c37fa57f061",
   "metadata": {},
   "source": [
    "# 선형 검색 알고리즘\n",
    "- 주어진 데이터의 처음부터 원하는 값을 만날 때까지 순서대로 찾아보는 알고리즘\n",
    "- 찾고자 하는 데이터가 앞쪽에 있으면 빨리 끝나지만 뒷쪽에 있으면 오래 걸리는 문제를 가지고 있다. \n",
    "- 데이터를 검색하기 위해 수행하는 총 작업의 횟수를 미리 예측하지 못하기 때문에 비용 결정에 관한 문제가 있을 수 있다.\n",
    "- 데이터의 수가 매우 적은 (개발자가 감당이 가능한 수준) 상황에서 적절한 알고리즘이다."
   ]
  },
  {
   "cell_type": "code",
   "execution_count": 1,
   "id": "2b898fb4-88a1-468a-b20b-4120b3803624",
   "metadata": {},
   "outputs": [],
   "source": [
    "def sequential_search(data_list, value) : \n",
    "    \"\"\"\n",
    "        data_list\n",
    "            데이터들이 들어있는 리스트\n",
    "        value \n",
    "            찾고자 하는 값\n",
    "        return 값\n",
    "            찾고자 하는 값의 위치 값\n",
    "            만약 찾지 못하면 None을 반환한다.\n",
    "    \"\"\"\n",
    "    # 데이터의 수 만큼 반복한다.\n",
    "    for position, v1 in enumerate(data_list) : \n",
    "        # 현재 데이터와 찾고자 하는 데이터가 같다면\n",
    "        if v1 == value :\n",
    "            # 현재 데이터의 위치를 반환한다.\n",
    "            return position\n",
    "    # 만약 찾지 못했다면 None을 반환한다.\n",
    "    return None"
   ]
  },
  {
   "cell_type": "code",
   "execution_count": 3,
   "id": "603a1ed7-2fe2-420f-8cb9-98c7fc081b4e",
   "metadata": {},
   "outputs": [
    {
     "name": "stdout",
     "output_type": "stream",
     "text": [
      "20은 1번째 있습니다\n",
      "80은 없습니다\n"
     ]
    }
   ],
   "source": [
    "a1 = [40, 20, 10, 50, 30, 70]\n",
    "r1 = sequential_search(a1, 20)\n",
    "r2 = sequential_search(a1, 80)\n",
    "\n",
    "if r1 != None : \n",
    "    print(f'20은 {r1}번째 있습니다')\n",
    "else : \n",
    "    print(f'20은 없습니다')\n",
    "\n",
    "if r2 != None:\n",
    "    print(f'80은 {r2}번째 있습니다')\n",
    "\n",
    "else : \n",
    "    print('80은 없습니다')"
   ]
  }
 ],
 "metadata": {
  "kernelspec": {
   "display_name": "Python 3 (ipykernel)",
   "language": "python",
   "name": "python3"
  },
  "language_info": {
   "codemirror_mode": {
    "name": "ipython",
    "version": 3
   },
   "file_extension": ".py",
   "mimetype": "text/x-python",
   "name": "python",
   "nbconvert_exporter": "python",
   "pygments_lexer": "ipython3",
   "version": "3.12.7"
  }
 },
 "nbformat": 4,
 "nbformat_minor": 5
}
