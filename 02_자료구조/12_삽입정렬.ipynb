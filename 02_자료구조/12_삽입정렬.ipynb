{
 "cells": [
  {
   "cell_type": "markdown",
   "id": "d39bd2b4-17c1-4ac0-b2cc-3c09a41c88a5",
   "metadata": {},
   "source": [
    "# 삽입 정렬\n",
    "- 기준이 되는 위치의 데이터와 그 앞에 데이터를 비교하여 삽입할 위치를 찾아 그 위치에 데이터를 삽입하는 정렬 삽입 정렬\n",
    "- 기준이 되는 위치의 데이터와 그 앞에 데이터를 비교하여 삽입할 위치를 찾아 그 위치에 데이터를 삽입하는 정렬\n",
    "- 버블 정렬과 달리 데이터의 상태에 따라 정렬에 들어가는 작업 횟수가 일정하다.\n",
    "- 단 선택정렬과 달리 전체적인 정렬의 반복 횟수가 1회로 고정되어 있다. \n",
    "\n",
    "![](doc_images/삽입정렬.jpg)\n"
   ]
  },
  {
   "cell_type": "code",
   "execution_count": 1,
   "id": "a23bc08a-7d05-48ec-9e25-28f1c07c7686",
   "metadata": {},
   "outputs": [],
   "source": [
    "def insert_sort(data_list) :\n",
    "    \"\"\"\n",
    "        data_list\n",
    "            정렬할 데이터 리스트1\n",
    "    \"\"\"\n",
    "    # 전체 데이터의 개수 - 1 만큼 반복한다.\n",
    "    for idx1 in range(len(data_list) - 1) :\n",
    "        # 현재 번째의 데이터 이전에 있는 데이터의 수 만큼 반복한다.\n",
    "        for idx2 in range(idx1 + 1) :\n",
    "            # 이전에 있는 데이터 중 현재 데이터 보다 큰 데이터를 찾으면 그 자리에 삽입한다.\n",
    "            if data_list[idx1 + 1] < data_list[idx2] :\n",
    "                # list 에서 현재 번째의 값을 추출한다.\n",
    "                v1 = data_list.pop(idx1 + 1)\n",
    "                # 삽입한다.\n",
    "                data_list.insert(idx2, v1)\n",
    "                break\n",
    "        print(data_list)\n"
   ]
  },
  {
   "cell_type": "code",
   "execution_count": 2,
   "id": "a4bec0fc-e17e-4d3b-a992-d2530805e17f",
   "metadata": {},
   "outputs": [
    {
     "name": "stdout",
     "output_type": "stream",
     "text": [
      "[2, 10, 7, 4, 1, 5, 8, 6, 3, 9]\n",
      "[2, 7, 10, 4, 1, 5, 8, 6, 3, 9]\n",
      "[2, 4, 7, 10, 1, 5, 8, 6, 3, 9]\n",
      "[1, 2, 4, 7, 10, 5, 8, 6, 3, 9]\n",
      "[1, 2, 4, 5, 7, 10, 8, 6, 3, 9]\n",
      "[1, 2, 4, 5, 7, 8, 10, 6, 3, 9]\n",
      "[1, 2, 4, 5, 6, 7, 8, 10, 3, 9]\n",
      "[1, 2, 3, 4, 5, 6, 7, 8, 10, 9]\n",
      "[1, 2, 3, 4, 5, 6, 7, 8, 9, 10]\n"
     ]
    },
    {
     "data": {
      "text/plain": [
       "[1, 2, 3, 4, 5, 6, 7, 8, 9, 10]"
      ]
     },
     "execution_count": 2,
     "metadata": {},
     "output_type": "execute_result"
    }
   ],
   "source": [
    "a1 = [10, 2, 7, 4, 1, 5, 8, 6, 3, 9]\n",
    "insert_sort(a1)\n",
    "a1"
   ]
  }
 ],
 "metadata": {
  "kernelspec": {
   "display_name": "Python 3 (ipykernel)",
   "language": "python",
   "name": "python3"
  },
  "language_info": {
   "codemirror_mode": {
    "name": "ipython",
    "version": 3
   },
   "file_extension": ".py",
   "mimetype": "text/x-python",
   "name": "python",
   "nbconvert_exporter": "python",
   "pygments_lexer": "ipython3",
   "version": "3.12.7"
  }
 },
 "nbformat": 4,
 "nbformat_minor": 5
}
