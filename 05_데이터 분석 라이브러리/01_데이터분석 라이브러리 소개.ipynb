{
 "cells": [
  {
   "cell_type": "markdown",
   "id": "5e94a009-12a4-4605-a9bf-25c05bfc1084",
   "metadata": {},
   "source": [
    "### numpy\n",
    "- 파이썬에서 행렬 데이터를 관리하기 위해 사용하는 라이브러리\n",
    "- 일반적인 프로그래밍에서 데이터를 다루는 방식이 아닌 수학에서 행렬을 다루듯이 데이터를 관리하는 라이브러리\n",
    "- 데이터 분석, AI 관련된 모든 라이브러리가 내부적으로 numpy를 사용하고 있다.\n",
    "\n",
    "### scipy\n",
    "- 과학 산술 연산을 위해 만든 라이브러리이다.\n",
    "- 물리학 등에서 사용하는 연산에 관련된 기능이 제공된다.\n",
    "- 딥러닝 알고리즘을 구현할 때 주로 사용한다.\n",
    "- 개념도 어렵고 사용하기가 어려운 편이다.\n",
    "\n",
    " ### sympy\n",
    " - 미분, 적분, 벡터, 공간 등의 계산을 할 수 있는 라이브러리이다.\n",
    " - 딥러닝 알고리즘을 구현할 때 주로 사용한다.\n",
    " - 개념도 어렵고 사용하기가 어려운 편이다.\n",
    " - 미적분을 제외한 나머지 부분은 numpy에서 제공하고 있다.\n",
    "\n",
    "### pandas\n",
    "- 학습하는 라이브러리들 중에 가장 중요한 라이브러리이다.\n",
    "- numpy는 수학의 행렬 데이터를 다루듯이 데이터를 관리하지만 pandas는 데이터베이스의 테이블의 개념과 유사하게 데이터를 다룬다.\n",
    "- 데이터 분석, 시각화, 전처리, 변환, 가공 등등 많은 기능을 제공하고 있음.\n",
    "\n",
    "### scikit-learn\n",
    "- 파이썬에서 사용되어지고 있는 대표 머신러닝 알고리즘 라이브러리\n",
    "\n",
    "### tensorflow, pytorch\n",
    "- 파이썬에서 사용되어지고 있는 대표 딥러닝 알고리즘 라이브러리\n",
    "\n",
    "### matplotlib\n",
    "- 파이썬에서 사용되어지고 있는 대표 시각화 라이브러리\n",
    "\n",
    "### seaborn\n",
    "- 파이썬에서 사용되어지고 있는 대표 시각화 라이브러리\n",
    "- matplotlib를 기반으로 만들어진 라이브러리\n",
    "- 통계를 기반으로 시각화할 때 주로 사용한다.\n",
    "\n",
    "### plotly\n",
    "- 강사추천"
   ]
  },
  {
   "cell_type": "code",
   "execution_count": null,
   "id": "0cb14495-a445-413d-95b8-6b054cd707a7",
   "metadata": {},
   "outputs": [],
   "source": []
  }
 ],
 "metadata": {
  "kernelspec": {
   "display_name": "Python 3 (ipykernel)",
   "language": "python",
   "name": "python3"
  },
  "language_info": {
   "codemirror_mode": {
    "name": "ipython",
    "version": 3
   },
   "file_extension": ".py",
   "mimetype": "text/x-python",
   "name": "python",
   "nbconvert_exporter": "python",
   "pygments_lexer": "ipython3",
   "version": "3.12.7"
  }
 },
 "nbformat": 4,
 "nbformat_minor": 5
}
