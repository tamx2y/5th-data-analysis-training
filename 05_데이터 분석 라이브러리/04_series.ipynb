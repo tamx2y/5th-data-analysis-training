{
 "cells": [
  {
   "cell_type": "markdown",
   "id": "9885253e-cf52-4e62-914e-971df42fea88",
   "metadata": {},
   "source": [
    "### Series\n",
    "- 값과 인덱스로 구성된 1열 데이터\n",
    "- 특성 하나의 데이터"
   ]
  },
  {
   "cell_type": "code",
   "execution_count": 3,
   "id": "5a5a8c51-450e-4ecb-a675-4fe2af1499ec",
   "metadata": {},
   "outputs": [],
   "source": [
    "import numpy as np\n",
    "import pandas as pd"
   ]
  },
  {
   "cell_type": "markdown",
   "id": "f1d3c338-4355-4512-9abc-439bab9bac8e",
   "metadata": {},
   "source": [
    "### serise 생성\n",
    "- serise는 내부적으로 데이터를 ndarray로 구성되어 있다.\n",
    "- ndarray로 생성할 수 있다.\n",
    "- ndarray가 아닌 순서값을 가지고 데이터를 관리하는 요소를 넣어주면 ndarray로 생성한 다음 이를 관리하는 serise를 생성한다. "
   ]
  },
  {
   "cell_type": "code",
   "execution_count": 2,
   "id": "10ccc114-e8f1-421e-bffa-e900fea0f70f",
   "metadata": {},
   "outputs": [],
   "source": [
    "a1 = [10, 20, 30, 40, 50]\n",
    "a2 = 10, 20, 30, 40, 50\n",
    "a3 = np.array([10, 20, 30, 40, 50])\n",
    "\n",
    "s1 = pd.Series(a1)\n",
    "s2 = pd.Series(a2)\n",
    "s3 = pd.Series(a3)\n"
   ]
  },
  {
   "cell_type": "code",
   "execution_count": 3,
   "id": "c152ee0c-a2af-4dfe-a9a6-2d0483fc59d8",
   "metadata": {},
   "outputs": [
    {
     "name": "stdout",
     "output_type": "stream",
     "text": [
      "<class 'pandas.core.series.Series'>\n",
      "<class 'pandas.core.series.Series'>\n",
      "<class 'pandas.core.series.Series'>\n"
     ]
    }
   ],
   "source": [
    "print(type(s1))\n",
    "print(type(s2))\n",
    "print(type(s3))"
   ]
  },
  {
   "cell_type": "code",
   "execution_count": 4,
   "id": "c6182e08-f9b3-4cbb-84a8-b872c13f8701",
   "metadata": {},
   "outputs": [
    {
     "data": {
      "text/plain": [
       "0    10\n",
       "1    20\n",
       "2    30\n",
       "3    40\n",
       "4    50\n",
       "Name: Series 4, dtype: int64"
      ]
     },
     "execution_count": 4,
     "metadata": {},
     "output_type": "execute_result"
    }
   ],
   "source": [
    "# Series를 생성할 때 Series의 이름을 지정할 수 있다\n",
    "s4 = pd.Series([10, 20, 30, 40, 50], name='Series 4')\n",
    "s4"
   ]
  },
  {
   "cell_type": "code",
   "execution_count": 5,
   "id": "0cd889e6-934b-48b0-896c-d4acc71eca77",
   "metadata": {},
   "outputs": [
    {
     "data": {
      "text/plain": [
       "값1    10\n",
       "값2    20\n",
       "값3    30\n",
       "값4    40\n",
       "값5    50\n",
       "dtype: int64"
      ]
     },
     "execution_count": 5,
     "metadata": {},
     "output_type": "execute_result"
    }
   ],
   "source": [
    "# Series를 생성할 때 index를 지정할 수 있다.\n",
    "# 데이터의 개수와 지정되는 index의 개수가 다르면 오류가 발생한다.\n",
    "a1 = [10, 20, 30, 40, 50]\n",
    "a2 = ['값1', '값2', '값3', '값4', '값5']\n",
    "s5 = pd.Series(a1, index=a2)\n",
    "s5"
   ]
  },
  {
   "cell_type": "code",
   "execution_count": 6,
   "id": "5c3bba9a-0beb-4841-af2d-4d60ba07c0d5",
   "metadata": {},
   "outputs": [
    {
     "data": {
      "text/plain": [
       "a1    10\n",
       "a2    20\n",
       "a3    30\n",
       "a4    40\n",
       "a5    50\n",
       "dtype: int64"
      ]
     },
     "execution_count": 6,
     "metadata": {},
     "output_type": "execute_result"
    }
   ],
   "source": [
    "# 이미 생성되어 있는 Series에 index를 설저할 수 있다\n",
    "s5.index = ['a1', 'a2', 'a3', 'a4', 'a5']\n",
    "s5"
   ]
  },
  {
   "cell_type": "markdown",
   "id": "a3a9ffcd-df6a-4ddf-920c-73ac95c9b836",
   "metadata": {},
   "source": [
    "### series의 정보 확인\n"
   ]
  },
  {
   "cell_type": "code",
   "execution_count": 9,
   "id": "71d18f84-3e1a-4483-a9c7-c56d2351258e",
   "metadata": {},
   "outputs": [
    {
     "data": {
      "text/plain": [
       "값1    10\n",
       "값2    20\n",
       "값3    30\n",
       "값4    40\n",
       "값5    50\n",
       "Name: Series 1, dtype: int64"
      ]
     },
     "execution_count": 9,
     "metadata": {},
     "output_type": "execute_result"
    }
   ],
   "source": [
    "a1 = [10, 20, 30, 40, 50]\n",
    "a2 = ['값1', '값2', '값3', '값4', '값5']\n",
    "\n",
    "s1 = pd.Series(a1, name = 'Series 1', index = a2)\n",
    "s1"
   ]
  },
  {
   "cell_type": "code",
   "execution_count": 10,
   "id": "44328b60-3ebb-4dc9-b32d-ea8fd3a436e3",
   "metadata": {},
   "outputs": [
    {
     "name": "stdout",
     "output_type": "stream",
     "text": [
      "5\n"
     ]
    }
   ],
   "source": [
    "# Series의 데이터 개수\n",
    "print(s1.size)"
   ]
  },
  {
   "cell_type": "code",
   "execution_count": 11,
   "id": "53bc91d3-d209-4dd9-8ff2-bd2572091974",
   "metadata": {},
   "outputs": [
    {
     "data": {
      "text/plain": [
       "array([10, 20, 30, 40, 50], dtype=int64)"
      ]
     },
     "metadata": {},
     "output_type": "display_data"
    }
   ],
   "source": [
    "# series가 관리하는 값들을 가져온다.\n",
    "# ndarray에 담겨져서 반환된다. \n",
    "display(s1.values)"
   ]
  },
  {
   "cell_type": "code",
   "execution_count": 12,
   "id": "7b68f947-836b-4ef7-906a-19a3b3d4d5bd",
   "metadata": {},
   "outputs": [
    {
     "name": "stdout",
     "output_type": "stream",
     "text": [
      "Index(['값1', '값2', '값3', '값4', '값5'], dtype='object')\n"
     ]
    }
   ],
   "source": [
    "# index를 가져올 수 있다.\n",
    "# index로 설정한 값의 타입에 따라서 index를 추출했을 때 전달받는 요소의 타입이 다르다.\n",
    "print(s1.index)"
   ]
  },
  {
   "cell_type": "code",
   "execution_count": 13,
   "id": "990b9ee2-34c0-4c42-8262-36fddeeebef3",
   "metadata": {},
   "outputs": [
    {
     "name": "stdout",
     "output_type": "stream",
     "text": [
      "Series 1\n",
      "int64\n"
     ]
    }
   ],
   "source": [
    "# Series의 이름\n",
    "print(s1.name)\n",
    "# Series가 관리하는 값의 타입\n",
    "print(s1.dtype)"
   ]
  },
  {
   "cell_type": "markdown",
   "id": "6b18254e-8d6f-488f-bc91-e124f78095fe",
   "metadata": {},
   "source": [
    "### Series 가 관리하는 데이터에 접근하기\n",
    "- 꼭! index는 순서가 아니라 각 값들을 구분하기 위한 이름이라는 것을 기억해주세요. "
   ]
  },
  {
   "cell_type": "code",
   "execution_count": 15,
   "id": "9c53331c-86d9-433f-918c-fde162b63cf3",
   "metadata": {},
   "outputs": [
    {
     "data": {
      "text/plain": [
       "0    10\n",
       "1    20\n",
       "2    30\n",
       "3    40\n",
       "4    50\n",
       "dtype: int64"
      ]
     },
     "execution_count": 15,
     "metadata": {},
     "output_type": "execute_result"
    }
   ],
   "source": [
    "# index를 지정하지 않고 series를 생성한다.\n",
    "# index가 0부터 1씩 증가되는 것으로 설정된다.\n",
    "# 하지만 순서가 아닌 각 행의 이름이다. \n",
    "s1 = pd.Series([10, 20, 30, 40, 50])\n",
    "s1"
   ]
  },
  {
   "cell_type": "code",
   "execution_count": 16,
   "id": "e38e9b92-ca91-4dbb-a337-6968c10ab2c9",
   "metadata": {},
   "outputs": [
    {
     "name": "stdout",
     "output_type": "stream",
     "text": [
      "10\n",
      "20\n"
     ]
    }
   ],
   "source": [
    "# [ ] 로 접근\n",
    "# index를 통해서 접근한다.\n",
    "print(s1[0])\n",
    "print(s1[1])"
   ]
  },
  {
   "cell_type": "code",
   "execution_count": 17,
   "id": "9db9b350-9352-4892-b4ea-b7ac667c8ee4",
   "metadata": {},
   "outputs": [
    {
     "ename": "KeyError",
     "evalue": "-1",
     "output_type": "error",
     "traceback": [
      "\u001b[1;31m---------------------------------------------------------------------------\u001b[0m",
      "\u001b[1;31mValueError\u001b[0m                                Traceback (most recent call last)",
      "File \u001b[1;32mC:\\anaconda\\Lib\\site-packages\\pandas\\core\\indexes\\range.py:413\u001b[0m, in \u001b[0;36mRangeIndex.get_loc\u001b[1;34m(self, key)\u001b[0m\n\u001b[0;32m    412\u001b[0m \u001b[38;5;28;01mtry\u001b[39;00m:\n\u001b[1;32m--> 413\u001b[0m     \u001b[38;5;28;01mreturn\u001b[39;00m \u001b[38;5;28mself\u001b[39m\u001b[38;5;241m.\u001b[39m_range\u001b[38;5;241m.\u001b[39mindex(new_key)\n\u001b[0;32m    414\u001b[0m \u001b[38;5;28;01mexcept\u001b[39;00m \u001b[38;5;167;01mValueError\u001b[39;00m \u001b[38;5;28;01mas\u001b[39;00m err:\n",
      "\u001b[1;31mValueError\u001b[0m: -1 is not in range",
      "\nThe above exception was the direct cause of the following exception:\n",
      "\u001b[1;31mKeyError\u001b[0m                                  Traceback (most recent call last)",
      "Cell \u001b[1;32mIn[17], line 3\u001b[0m\n\u001b[0;32m      1\u001b[0m \u001b[38;5;66;03m# [ ] 로 접근하는 것은 순서가 아닌 index를 통해 접근하는 것이다!!!\u001b[39;00m\n\u001b[0;32m      2\u001b[0m \u001b[38;5;66;03m# 따라서 순서라고 생각하면 절대 안된다.\u001b[39;00m\n\u001b[1;32m----> 3\u001b[0m \u001b[38;5;28mprint\u001b[39m(s1[\u001b[38;5;241m-\u001b[39m\u001b[38;5;241m1\u001b[39m])\n\u001b[0;32m      4\u001b[0m \u001b[38;5;28mprint\u001b[39m(s1[\u001b[38;5;241m-\u001b[39m\u001b[38;5;241m2\u001b[39m])\n",
      "File \u001b[1;32mC:\\anaconda\\Lib\\site-packages\\pandas\\core\\series.py:1121\u001b[0m, in \u001b[0;36mSeries.__getitem__\u001b[1;34m(self, key)\u001b[0m\n\u001b[0;32m   1118\u001b[0m     \u001b[38;5;28;01mreturn\u001b[39;00m \u001b[38;5;28mself\u001b[39m\u001b[38;5;241m.\u001b[39m_values[key]\n\u001b[0;32m   1120\u001b[0m \u001b[38;5;28;01melif\u001b[39;00m key_is_scalar:\n\u001b[1;32m-> 1121\u001b[0m     \u001b[38;5;28;01mreturn\u001b[39;00m \u001b[38;5;28mself\u001b[39m\u001b[38;5;241m.\u001b[39m_get_value(key)\n\u001b[0;32m   1123\u001b[0m \u001b[38;5;66;03m# Convert generator to list before going through hashable part\u001b[39;00m\n\u001b[0;32m   1124\u001b[0m \u001b[38;5;66;03m# (We will iterate through the generator there to check for slices)\u001b[39;00m\n\u001b[0;32m   1125\u001b[0m \u001b[38;5;28;01mif\u001b[39;00m is_iterator(key):\n",
      "File \u001b[1;32mC:\\anaconda\\Lib\\site-packages\\pandas\\core\\series.py:1237\u001b[0m, in \u001b[0;36mSeries._get_value\u001b[1;34m(self, label, takeable)\u001b[0m\n\u001b[0;32m   1234\u001b[0m     \u001b[38;5;28;01mreturn\u001b[39;00m \u001b[38;5;28mself\u001b[39m\u001b[38;5;241m.\u001b[39m_values[label]\n\u001b[0;32m   1236\u001b[0m \u001b[38;5;66;03m# Similar to Index.get_value, but we do not fall back to positional\u001b[39;00m\n\u001b[1;32m-> 1237\u001b[0m loc \u001b[38;5;241m=\u001b[39m \u001b[38;5;28mself\u001b[39m\u001b[38;5;241m.\u001b[39mindex\u001b[38;5;241m.\u001b[39mget_loc(label)\n\u001b[0;32m   1239\u001b[0m \u001b[38;5;28;01mif\u001b[39;00m is_integer(loc):\n\u001b[0;32m   1240\u001b[0m     \u001b[38;5;28;01mreturn\u001b[39;00m \u001b[38;5;28mself\u001b[39m\u001b[38;5;241m.\u001b[39m_values[loc]\n",
      "File \u001b[1;32mC:\\anaconda\\Lib\\site-packages\\pandas\\core\\indexes\\range.py:415\u001b[0m, in \u001b[0;36mRangeIndex.get_loc\u001b[1;34m(self, key)\u001b[0m\n\u001b[0;32m    413\u001b[0m         \u001b[38;5;28;01mreturn\u001b[39;00m \u001b[38;5;28mself\u001b[39m\u001b[38;5;241m.\u001b[39m_range\u001b[38;5;241m.\u001b[39mindex(new_key)\n\u001b[0;32m    414\u001b[0m     \u001b[38;5;28;01mexcept\u001b[39;00m \u001b[38;5;167;01mValueError\u001b[39;00m \u001b[38;5;28;01mas\u001b[39;00m err:\n\u001b[1;32m--> 415\u001b[0m         \u001b[38;5;28;01mraise\u001b[39;00m \u001b[38;5;167;01mKeyError\u001b[39;00m(key) \u001b[38;5;28;01mfrom\u001b[39;00m \u001b[38;5;21;01merr\u001b[39;00m\n\u001b[0;32m    416\u001b[0m \u001b[38;5;28;01mif\u001b[39;00m \u001b[38;5;28misinstance\u001b[39m(key, Hashable):\n\u001b[0;32m    417\u001b[0m     \u001b[38;5;28;01mraise\u001b[39;00m \u001b[38;5;167;01mKeyError\u001b[39;00m(key)\n",
      "\u001b[1;31mKeyError\u001b[0m: -1"
     ]
    }
   ],
   "source": [
    "# [ ] 로 접근하는 것은 순서가 아닌 index를 통해 접근하는 것이다!\n",
    "# 따라서 순서라고 생각하면 절대 안된다.\n",
    "print(s1[-1])\n",
    "print(s1[-2])"
   ]
  },
  {
   "cell_type": "code",
   "execution_count": 18,
   "id": "d6bfc2c6-8490-427e-9464-f373f97ae7f2",
   "metadata": {},
   "outputs": [
    {
     "name": "stdout",
     "output_type": "stream",
     "text": [
      "10\n",
      "20\n"
     ]
    }
   ],
   "source": [
    "# loc : index를 통한 접근\n",
    "print(s1.loc[0])\n",
    "print(s1.loc[1])"
   ]
  },
  {
   "cell_type": "code",
   "execution_count": 19,
   "id": "506cc574-a48f-415f-bea0-8407220beedb",
   "metadata": {},
   "outputs": [
    {
     "ename": "KeyError",
     "evalue": "-1",
     "output_type": "error",
     "traceback": [
      "\u001b[1;31m---------------------------------------------------------------------------\u001b[0m",
      "\u001b[1;31mValueError\u001b[0m                                Traceback (most recent call last)",
      "File \u001b[1;32mC:\\anaconda\\Lib\\site-packages\\pandas\\core\\indexes\\range.py:413\u001b[0m, in \u001b[0;36mRangeIndex.get_loc\u001b[1;34m(self, key)\u001b[0m\n\u001b[0;32m    412\u001b[0m \u001b[38;5;28;01mtry\u001b[39;00m:\n\u001b[1;32m--> 413\u001b[0m     \u001b[38;5;28;01mreturn\u001b[39;00m \u001b[38;5;28mself\u001b[39m\u001b[38;5;241m.\u001b[39m_range\u001b[38;5;241m.\u001b[39mindex(new_key)\n\u001b[0;32m    414\u001b[0m \u001b[38;5;28;01mexcept\u001b[39;00m \u001b[38;5;167;01mValueError\u001b[39;00m \u001b[38;5;28;01mas\u001b[39;00m err:\n",
      "\u001b[1;31mValueError\u001b[0m: -1 is not in range",
      "\nThe above exception was the direct cause of the following exception:\n",
      "\u001b[1;31mKeyError\u001b[0m                                  Traceback (most recent call last)",
      "Cell \u001b[1;32mIn[19], line 2\u001b[0m\n\u001b[0;32m      1\u001b[0m \u001b[38;5;66;03m# -1 같은 순서를 지정하는 것은 안된다.\u001b[39;00m\n\u001b[1;32m----> 2\u001b[0m \u001b[38;5;28mprint\u001b[39m(s1\u001b[38;5;241m.\u001b[39mloc[\u001b[38;5;241m-\u001b[39m\u001b[38;5;241m1\u001b[39m])\n\u001b[0;32m      3\u001b[0m \u001b[38;5;28mprint\u001b[39m(s1\u001b[38;5;241m.\u001b[39mloc[\u001b[38;5;241m-\u001b[39m\u001b[38;5;241m2\u001b[39m])\n",
      "File \u001b[1;32mC:\\anaconda\\Lib\\site-packages\\pandas\\core\\indexing.py:1191\u001b[0m, in \u001b[0;36m_LocationIndexer.__getitem__\u001b[1;34m(self, key)\u001b[0m\n\u001b[0;32m   1189\u001b[0m maybe_callable \u001b[38;5;241m=\u001b[39m com\u001b[38;5;241m.\u001b[39mapply_if_callable(key, \u001b[38;5;28mself\u001b[39m\u001b[38;5;241m.\u001b[39mobj)\n\u001b[0;32m   1190\u001b[0m maybe_callable \u001b[38;5;241m=\u001b[39m \u001b[38;5;28mself\u001b[39m\u001b[38;5;241m.\u001b[39m_check_deprecated_callable_usage(key, maybe_callable)\n\u001b[1;32m-> 1191\u001b[0m \u001b[38;5;28;01mreturn\u001b[39;00m \u001b[38;5;28mself\u001b[39m\u001b[38;5;241m.\u001b[39m_getitem_axis(maybe_callable, axis\u001b[38;5;241m=\u001b[39maxis)\n",
      "File \u001b[1;32mC:\\anaconda\\Lib\\site-packages\\pandas\\core\\indexing.py:1431\u001b[0m, in \u001b[0;36m_LocIndexer._getitem_axis\u001b[1;34m(self, key, axis)\u001b[0m\n\u001b[0;32m   1429\u001b[0m \u001b[38;5;66;03m# fall thru to straight lookup\u001b[39;00m\n\u001b[0;32m   1430\u001b[0m \u001b[38;5;28mself\u001b[39m\u001b[38;5;241m.\u001b[39m_validate_key(key, axis)\n\u001b[1;32m-> 1431\u001b[0m \u001b[38;5;28;01mreturn\u001b[39;00m \u001b[38;5;28mself\u001b[39m\u001b[38;5;241m.\u001b[39m_get_label(key, axis\u001b[38;5;241m=\u001b[39maxis)\n",
      "File \u001b[1;32mC:\\anaconda\\Lib\\site-packages\\pandas\\core\\indexing.py:1381\u001b[0m, in \u001b[0;36m_LocIndexer._get_label\u001b[1;34m(self, label, axis)\u001b[0m\n\u001b[0;32m   1379\u001b[0m \u001b[38;5;28;01mdef\u001b[39;00m \u001b[38;5;21m_get_label\u001b[39m(\u001b[38;5;28mself\u001b[39m, label, axis: AxisInt):\n\u001b[0;32m   1380\u001b[0m     \u001b[38;5;66;03m# GH#5567 this will fail if the label is not present in the axis.\u001b[39;00m\n\u001b[1;32m-> 1381\u001b[0m     \u001b[38;5;28;01mreturn\u001b[39;00m \u001b[38;5;28mself\u001b[39m\u001b[38;5;241m.\u001b[39mobj\u001b[38;5;241m.\u001b[39mxs(label, axis\u001b[38;5;241m=\u001b[39maxis)\n",
      "File \u001b[1;32mC:\\anaconda\\Lib\\site-packages\\pandas\\core\\generic.py:4301\u001b[0m, in \u001b[0;36mNDFrame.xs\u001b[1;34m(self, key, axis, level, drop_level)\u001b[0m\n\u001b[0;32m   4299\u001b[0m             new_index \u001b[38;5;241m=\u001b[39m index[loc]\n\u001b[0;32m   4300\u001b[0m \u001b[38;5;28;01melse\u001b[39;00m:\n\u001b[1;32m-> 4301\u001b[0m     loc \u001b[38;5;241m=\u001b[39m index\u001b[38;5;241m.\u001b[39mget_loc(key)\n\u001b[0;32m   4303\u001b[0m     \u001b[38;5;28;01mif\u001b[39;00m \u001b[38;5;28misinstance\u001b[39m(loc, np\u001b[38;5;241m.\u001b[39mndarray):\n\u001b[0;32m   4304\u001b[0m         \u001b[38;5;28;01mif\u001b[39;00m loc\u001b[38;5;241m.\u001b[39mdtype \u001b[38;5;241m==\u001b[39m np\u001b[38;5;241m.\u001b[39mbool_:\n",
      "File \u001b[1;32mC:\\anaconda\\Lib\\site-packages\\pandas\\core\\indexes\\range.py:415\u001b[0m, in \u001b[0;36mRangeIndex.get_loc\u001b[1;34m(self, key)\u001b[0m\n\u001b[0;32m    413\u001b[0m         \u001b[38;5;28;01mreturn\u001b[39;00m \u001b[38;5;28mself\u001b[39m\u001b[38;5;241m.\u001b[39m_range\u001b[38;5;241m.\u001b[39mindex(new_key)\n\u001b[0;32m    414\u001b[0m     \u001b[38;5;28;01mexcept\u001b[39;00m \u001b[38;5;167;01mValueError\u001b[39;00m \u001b[38;5;28;01mas\u001b[39;00m err:\n\u001b[1;32m--> 415\u001b[0m         \u001b[38;5;28;01mraise\u001b[39;00m \u001b[38;5;167;01mKeyError\u001b[39;00m(key) \u001b[38;5;28;01mfrom\u001b[39;00m \u001b[38;5;21;01merr\u001b[39;00m\n\u001b[0;32m    416\u001b[0m \u001b[38;5;28;01mif\u001b[39;00m \u001b[38;5;28misinstance\u001b[39m(key, Hashable):\n\u001b[0;32m    417\u001b[0m     \u001b[38;5;28;01mraise\u001b[39;00m \u001b[38;5;167;01mKeyError\u001b[39;00m(key)\n",
      "\u001b[1;31mKeyError\u001b[0m: -1"
     ]
    }
   ],
   "source": [
    "# -1 같은 순서를 지정하는 것은 안된다.\n",
    "print(s1.loc[-1])\n",
    "print(s1.loc[-2])"
   ]
  },
  {
   "cell_type": "code",
   "execution_count": 20,
   "id": "1dea45a6-a2da-49d4-8484-8a8e83f460c9",
   "metadata": {},
   "outputs": [
    {
     "name": "stdout",
     "output_type": "stream",
     "text": [
      "10\n",
      "20\n",
      "50\n",
      "40\n"
     ]
    }
   ],
   "source": [
    "# iloc : 순서를 통한 접근\n",
    "print(s1.iloc[0])\n",
    "print(s1.iloc[1])\n",
    "print(s1.iloc[-1])\n",
    "print(s1.iloc[-2])"
   ]
  },
  {
   "cell_type": "markdown",
   "id": "d04afb0b-8039-4d8e-b804-19441dd96e5b",
   "metadata": {},
   "source": [
    "- Series 생성시 index 를 지정하지 않은 경우(index가 0부터 1씩 증가되는 것으로 결정된다)\n",
    "- [  ] : index를 통한 접근\n",
    "- loc : index를 통한 접근\n",
    "- iloc : 순서를 통한 접근"
   ]
  },
  {
   "cell_type": "code",
   "execution_count": 21,
   "id": "d3000271-fb4e-49ee-9230-4b7e1b06fdf6",
   "metadata": {},
   "outputs": [
    {
     "data": {
      "text/plain": [
       "4    10\n",
       "1    20\n",
       "2    30\n",
       "0    40\n",
       "3    50\n",
       "dtype: int64"
      ]
     },
     "execution_count": 21,
     "metadata": {},
     "output_type": "execute_result"
    }
   ],
   "source": [
    "# Series의 인덱스를 숫자로 지정한다\n",
    "a1 = [10, 20, 30, 40, 50]\n",
    "a2 = [4, 1, 2, 0, 3]\n",
    "\n",
    "s2 = pd.Series(a1, index=a2)\n",
    "s2"
   ]
  },
  {
   "cell_type": "code",
   "execution_count": 22,
   "id": "f5a014db-db50-46ee-9a9e-2832c941e5c7",
   "metadata": {},
   "outputs": [
    {
     "name": "stdout",
     "output_type": "stream",
     "text": [
      "40\n",
      "20\n"
     ]
    }
   ],
   "source": [
    "# [  ]를 통한 접근\n",
    "# index를 통한 접근\n",
    "print(s2[0])\n",
    "print(s2[1])"
   ]
  },
  {
   "cell_type": "code",
   "execution_count": 23,
   "id": "ecb5423a-5efd-4a4a-a5bb-1028ddaea066",
   "metadata": {},
   "outputs": [
    {
     "ename": "KeyError",
     "evalue": "-1",
     "output_type": "error",
     "traceback": [
      "\u001b[1;31m---------------------------------------------------------------------------\u001b[0m",
      "\u001b[1;31mKeyError\u001b[0m                                  Traceback (most recent call last)",
      "File \u001b[1;32mC:\\anaconda\\Lib\\site-packages\\pandas\\core\\indexes\\base.py:3805\u001b[0m, in \u001b[0;36mIndex.get_loc\u001b[1;34m(self, key)\u001b[0m\n\u001b[0;32m   3804\u001b[0m \u001b[38;5;28;01mtry\u001b[39;00m:\n\u001b[1;32m-> 3805\u001b[0m     \u001b[38;5;28;01mreturn\u001b[39;00m \u001b[38;5;28mself\u001b[39m\u001b[38;5;241m.\u001b[39m_engine\u001b[38;5;241m.\u001b[39mget_loc(casted_key)\n\u001b[0;32m   3806\u001b[0m \u001b[38;5;28;01mexcept\u001b[39;00m \u001b[38;5;167;01mKeyError\u001b[39;00m \u001b[38;5;28;01mas\u001b[39;00m err:\n",
      "File \u001b[1;32mindex.pyx:167\u001b[0m, in \u001b[0;36mpandas._libs.index.IndexEngine.get_loc\u001b[1;34m()\u001b[0m\n",
      "File \u001b[1;32mindex.pyx:196\u001b[0m, in \u001b[0;36mpandas._libs.index.IndexEngine.get_loc\u001b[1;34m()\u001b[0m\n",
      "File \u001b[1;32mpandas\\\\_libs\\\\hashtable_class_helper.pxi:2606\u001b[0m, in \u001b[0;36mpandas._libs.hashtable.Int64HashTable.get_item\u001b[1;34m()\u001b[0m\n",
      "File \u001b[1;32mpandas\\\\_libs\\\\hashtable_class_helper.pxi:2630\u001b[0m, in \u001b[0;36mpandas._libs.hashtable.Int64HashTable.get_item\u001b[1;34m()\u001b[0m\n",
      "\u001b[1;31mKeyError\u001b[0m: -1",
      "\nThe above exception was the direct cause of the following exception:\n",
      "\u001b[1;31mKeyError\u001b[0m                                  Traceback (most recent call last)",
      "Cell \u001b[1;32mIn[23], line 1\u001b[0m\n\u001b[1;32m----> 1\u001b[0m \u001b[38;5;28mprint\u001b[39m(s2[\u001b[38;5;241m-\u001b[39m\u001b[38;5;241m1\u001b[39m])\n\u001b[0;32m      2\u001b[0m \u001b[38;5;28mprint\u001b[39m(s2[\u001b[38;5;241m-\u001b[39m\u001b[38;5;241m2\u001b[39m])\n",
      "File \u001b[1;32mC:\\anaconda\\Lib\\site-packages\\pandas\\core\\series.py:1121\u001b[0m, in \u001b[0;36mSeries.__getitem__\u001b[1;34m(self, key)\u001b[0m\n\u001b[0;32m   1118\u001b[0m     \u001b[38;5;28;01mreturn\u001b[39;00m \u001b[38;5;28mself\u001b[39m\u001b[38;5;241m.\u001b[39m_values[key]\n\u001b[0;32m   1120\u001b[0m \u001b[38;5;28;01melif\u001b[39;00m key_is_scalar:\n\u001b[1;32m-> 1121\u001b[0m     \u001b[38;5;28;01mreturn\u001b[39;00m \u001b[38;5;28mself\u001b[39m\u001b[38;5;241m.\u001b[39m_get_value(key)\n\u001b[0;32m   1123\u001b[0m \u001b[38;5;66;03m# Convert generator to list before going through hashable part\u001b[39;00m\n\u001b[0;32m   1124\u001b[0m \u001b[38;5;66;03m# (We will iterate through the generator there to check for slices)\u001b[39;00m\n\u001b[0;32m   1125\u001b[0m \u001b[38;5;28;01mif\u001b[39;00m is_iterator(key):\n",
      "File \u001b[1;32mC:\\anaconda\\Lib\\site-packages\\pandas\\core\\series.py:1237\u001b[0m, in \u001b[0;36mSeries._get_value\u001b[1;34m(self, label, takeable)\u001b[0m\n\u001b[0;32m   1234\u001b[0m     \u001b[38;5;28;01mreturn\u001b[39;00m \u001b[38;5;28mself\u001b[39m\u001b[38;5;241m.\u001b[39m_values[label]\n\u001b[0;32m   1236\u001b[0m \u001b[38;5;66;03m# Similar to Index.get_value, but we do not fall back to positional\u001b[39;00m\n\u001b[1;32m-> 1237\u001b[0m loc \u001b[38;5;241m=\u001b[39m \u001b[38;5;28mself\u001b[39m\u001b[38;5;241m.\u001b[39mindex\u001b[38;5;241m.\u001b[39mget_loc(label)\n\u001b[0;32m   1239\u001b[0m \u001b[38;5;28;01mif\u001b[39;00m is_integer(loc):\n\u001b[0;32m   1240\u001b[0m     \u001b[38;5;28;01mreturn\u001b[39;00m \u001b[38;5;28mself\u001b[39m\u001b[38;5;241m.\u001b[39m_values[loc]\n",
      "File \u001b[1;32mC:\\anaconda\\Lib\\site-packages\\pandas\\core\\indexes\\base.py:3812\u001b[0m, in \u001b[0;36mIndex.get_loc\u001b[1;34m(self, key)\u001b[0m\n\u001b[0;32m   3807\u001b[0m     \u001b[38;5;28;01mif\u001b[39;00m \u001b[38;5;28misinstance\u001b[39m(casted_key, \u001b[38;5;28mslice\u001b[39m) \u001b[38;5;129;01mor\u001b[39;00m (\n\u001b[0;32m   3808\u001b[0m         \u001b[38;5;28misinstance\u001b[39m(casted_key, abc\u001b[38;5;241m.\u001b[39mIterable)\n\u001b[0;32m   3809\u001b[0m         \u001b[38;5;129;01mand\u001b[39;00m \u001b[38;5;28many\u001b[39m(\u001b[38;5;28misinstance\u001b[39m(x, \u001b[38;5;28mslice\u001b[39m) \u001b[38;5;28;01mfor\u001b[39;00m x \u001b[38;5;129;01min\u001b[39;00m casted_key)\n\u001b[0;32m   3810\u001b[0m     ):\n\u001b[0;32m   3811\u001b[0m         \u001b[38;5;28;01mraise\u001b[39;00m InvalidIndexError(key)\n\u001b[1;32m-> 3812\u001b[0m     \u001b[38;5;28;01mraise\u001b[39;00m \u001b[38;5;167;01mKeyError\u001b[39;00m(key) \u001b[38;5;28;01mfrom\u001b[39;00m \u001b[38;5;21;01merr\u001b[39;00m\n\u001b[0;32m   3813\u001b[0m \u001b[38;5;28;01mexcept\u001b[39;00m \u001b[38;5;167;01mTypeError\u001b[39;00m:\n\u001b[0;32m   3814\u001b[0m     \u001b[38;5;66;03m# If we have a listlike key, _check_indexing_error will raise\u001b[39;00m\n\u001b[0;32m   3815\u001b[0m     \u001b[38;5;66;03m#  InvalidIndexError. Otherwise we fall through and re-raise\u001b[39;00m\n\u001b[0;32m   3816\u001b[0m     \u001b[38;5;66;03m#  the TypeError.\u001b[39;00m\n\u001b[0;32m   3817\u001b[0m     \u001b[38;5;28mself\u001b[39m\u001b[38;5;241m.\u001b[39m_check_indexing_error(key)\n",
      "\u001b[1;31mKeyError\u001b[0m: -1"
     ]
    }
   ],
   "source": [
    "print(s2[-1])\n",
    "print(s2[-2])"
   ]
  },
  {
   "cell_type": "code",
   "execution_count": 24,
   "id": "c3ccccd9-72e3-4697-93ab-3c829edf753f",
   "metadata": {},
   "outputs": [
    {
     "name": "stdout",
     "output_type": "stream",
     "text": [
      "40\n",
      "20\n"
     ]
    }
   ],
   "source": [
    "# loc : index를 통한 접근\n",
    "print(s2.loc[0])\n",
    "print(s2.loc[1])"
   ]
  },
  {
   "cell_type": "code",
   "execution_count": 25,
   "id": "f821f00a-41ad-418d-a59c-d4aceb89d050",
   "metadata": {},
   "outputs": [
    {
     "ename": "KeyError",
     "evalue": "-1",
     "output_type": "error",
     "traceback": [
      "\u001b[1;31m---------------------------------------------------------------------------\u001b[0m",
      "\u001b[1;31mKeyError\u001b[0m                                  Traceback (most recent call last)",
      "File \u001b[1;32mC:\\anaconda\\Lib\\site-packages\\pandas\\core\\indexes\\base.py:3805\u001b[0m, in \u001b[0;36mIndex.get_loc\u001b[1;34m(self, key)\u001b[0m\n\u001b[0;32m   3804\u001b[0m \u001b[38;5;28;01mtry\u001b[39;00m:\n\u001b[1;32m-> 3805\u001b[0m     \u001b[38;5;28;01mreturn\u001b[39;00m \u001b[38;5;28mself\u001b[39m\u001b[38;5;241m.\u001b[39m_engine\u001b[38;5;241m.\u001b[39mget_loc(casted_key)\n\u001b[0;32m   3806\u001b[0m \u001b[38;5;28;01mexcept\u001b[39;00m \u001b[38;5;167;01mKeyError\u001b[39;00m \u001b[38;5;28;01mas\u001b[39;00m err:\n",
      "File \u001b[1;32mindex.pyx:167\u001b[0m, in \u001b[0;36mpandas._libs.index.IndexEngine.get_loc\u001b[1;34m()\u001b[0m\n",
      "File \u001b[1;32mindex.pyx:196\u001b[0m, in \u001b[0;36mpandas._libs.index.IndexEngine.get_loc\u001b[1;34m()\u001b[0m\n",
      "File \u001b[1;32mpandas\\\\_libs\\\\hashtable_class_helper.pxi:2606\u001b[0m, in \u001b[0;36mpandas._libs.hashtable.Int64HashTable.get_item\u001b[1;34m()\u001b[0m\n",
      "File \u001b[1;32mpandas\\\\_libs\\\\hashtable_class_helper.pxi:2630\u001b[0m, in \u001b[0;36mpandas._libs.hashtable.Int64HashTable.get_item\u001b[1;34m()\u001b[0m\n",
      "\u001b[1;31mKeyError\u001b[0m: -1",
      "\nThe above exception was the direct cause of the following exception:\n",
      "\u001b[1;31mKeyError\u001b[0m                                  Traceback (most recent call last)",
      "Cell \u001b[1;32mIn[25], line 1\u001b[0m\n\u001b[1;32m----> 1\u001b[0m \u001b[38;5;28mprint\u001b[39m(s2\u001b[38;5;241m.\u001b[39mloc[\u001b[38;5;241m-\u001b[39m\u001b[38;5;241m1\u001b[39m])\n\u001b[0;32m      2\u001b[0m \u001b[38;5;28mprint\u001b[39m(s2\u001b[38;5;241m.\u001b[39mloc[\u001b[38;5;241m-\u001b[39m\u001b[38;5;241m2\u001b[39m])\n",
      "File \u001b[1;32mC:\\anaconda\\Lib\\site-packages\\pandas\\core\\indexing.py:1191\u001b[0m, in \u001b[0;36m_LocationIndexer.__getitem__\u001b[1;34m(self, key)\u001b[0m\n\u001b[0;32m   1189\u001b[0m maybe_callable \u001b[38;5;241m=\u001b[39m com\u001b[38;5;241m.\u001b[39mapply_if_callable(key, \u001b[38;5;28mself\u001b[39m\u001b[38;5;241m.\u001b[39mobj)\n\u001b[0;32m   1190\u001b[0m maybe_callable \u001b[38;5;241m=\u001b[39m \u001b[38;5;28mself\u001b[39m\u001b[38;5;241m.\u001b[39m_check_deprecated_callable_usage(key, maybe_callable)\n\u001b[1;32m-> 1191\u001b[0m \u001b[38;5;28;01mreturn\u001b[39;00m \u001b[38;5;28mself\u001b[39m\u001b[38;5;241m.\u001b[39m_getitem_axis(maybe_callable, axis\u001b[38;5;241m=\u001b[39maxis)\n",
      "File \u001b[1;32mC:\\anaconda\\Lib\\site-packages\\pandas\\core\\indexing.py:1431\u001b[0m, in \u001b[0;36m_LocIndexer._getitem_axis\u001b[1;34m(self, key, axis)\u001b[0m\n\u001b[0;32m   1429\u001b[0m \u001b[38;5;66;03m# fall thru to straight lookup\u001b[39;00m\n\u001b[0;32m   1430\u001b[0m \u001b[38;5;28mself\u001b[39m\u001b[38;5;241m.\u001b[39m_validate_key(key, axis)\n\u001b[1;32m-> 1431\u001b[0m \u001b[38;5;28;01mreturn\u001b[39;00m \u001b[38;5;28mself\u001b[39m\u001b[38;5;241m.\u001b[39m_get_label(key, axis\u001b[38;5;241m=\u001b[39maxis)\n",
      "File \u001b[1;32mC:\\anaconda\\Lib\\site-packages\\pandas\\core\\indexing.py:1381\u001b[0m, in \u001b[0;36m_LocIndexer._get_label\u001b[1;34m(self, label, axis)\u001b[0m\n\u001b[0;32m   1379\u001b[0m \u001b[38;5;28;01mdef\u001b[39;00m \u001b[38;5;21m_get_label\u001b[39m(\u001b[38;5;28mself\u001b[39m, label, axis: AxisInt):\n\u001b[0;32m   1380\u001b[0m     \u001b[38;5;66;03m# GH#5567 this will fail if the label is not present in the axis.\u001b[39;00m\n\u001b[1;32m-> 1381\u001b[0m     \u001b[38;5;28;01mreturn\u001b[39;00m \u001b[38;5;28mself\u001b[39m\u001b[38;5;241m.\u001b[39mobj\u001b[38;5;241m.\u001b[39mxs(label, axis\u001b[38;5;241m=\u001b[39maxis)\n",
      "File \u001b[1;32mC:\\anaconda\\Lib\\site-packages\\pandas\\core\\generic.py:4301\u001b[0m, in \u001b[0;36mNDFrame.xs\u001b[1;34m(self, key, axis, level, drop_level)\u001b[0m\n\u001b[0;32m   4299\u001b[0m             new_index \u001b[38;5;241m=\u001b[39m index[loc]\n\u001b[0;32m   4300\u001b[0m \u001b[38;5;28;01melse\u001b[39;00m:\n\u001b[1;32m-> 4301\u001b[0m     loc \u001b[38;5;241m=\u001b[39m index\u001b[38;5;241m.\u001b[39mget_loc(key)\n\u001b[0;32m   4303\u001b[0m     \u001b[38;5;28;01mif\u001b[39;00m \u001b[38;5;28misinstance\u001b[39m(loc, np\u001b[38;5;241m.\u001b[39mndarray):\n\u001b[0;32m   4304\u001b[0m         \u001b[38;5;28;01mif\u001b[39;00m loc\u001b[38;5;241m.\u001b[39mdtype \u001b[38;5;241m==\u001b[39m np\u001b[38;5;241m.\u001b[39mbool_:\n",
      "File \u001b[1;32mC:\\anaconda\\Lib\\site-packages\\pandas\\core\\indexes\\base.py:3812\u001b[0m, in \u001b[0;36mIndex.get_loc\u001b[1;34m(self, key)\u001b[0m\n\u001b[0;32m   3807\u001b[0m     \u001b[38;5;28;01mif\u001b[39;00m \u001b[38;5;28misinstance\u001b[39m(casted_key, \u001b[38;5;28mslice\u001b[39m) \u001b[38;5;129;01mor\u001b[39;00m (\n\u001b[0;32m   3808\u001b[0m         \u001b[38;5;28misinstance\u001b[39m(casted_key, abc\u001b[38;5;241m.\u001b[39mIterable)\n\u001b[0;32m   3809\u001b[0m         \u001b[38;5;129;01mand\u001b[39;00m \u001b[38;5;28many\u001b[39m(\u001b[38;5;28misinstance\u001b[39m(x, \u001b[38;5;28mslice\u001b[39m) \u001b[38;5;28;01mfor\u001b[39;00m x \u001b[38;5;129;01min\u001b[39;00m casted_key)\n\u001b[0;32m   3810\u001b[0m     ):\n\u001b[0;32m   3811\u001b[0m         \u001b[38;5;28;01mraise\u001b[39;00m InvalidIndexError(key)\n\u001b[1;32m-> 3812\u001b[0m     \u001b[38;5;28;01mraise\u001b[39;00m \u001b[38;5;167;01mKeyError\u001b[39;00m(key) \u001b[38;5;28;01mfrom\u001b[39;00m \u001b[38;5;21;01merr\u001b[39;00m\n\u001b[0;32m   3813\u001b[0m \u001b[38;5;28;01mexcept\u001b[39;00m \u001b[38;5;167;01mTypeError\u001b[39;00m:\n\u001b[0;32m   3814\u001b[0m     \u001b[38;5;66;03m# If we have a listlike key, _check_indexing_error will raise\u001b[39;00m\n\u001b[0;32m   3815\u001b[0m     \u001b[38;5;66;03m#  InvalidIndexError. Otherwise we fall through and re-raise\u001b[39;00m\n\u001b[0;32m   3816\u001b[0m     \u001b[38;5;66;03m#  the TypeError.\u001b[39;00m\n\u001b[0;32m   3817\u001b[0m     \u001b[38;5;28mself\u001b[39m\u001b[38;5;241m.\u001b[39m_check_indexing_error(key)\n",
      "\u001b[1;31mKeyError\u001b[0m: -1"
     ]
    }
   ],
   "source": [
    "print(s2.loc[-1])\n",
    "print(s2.loc[-2])"
   ]
  },
  {
   "cell_type": "code",
   "execution_count": 27,
   "id": "b0596c4b-3db1-4c0d-a35e-f2a6021a600e",
   "metadata": {},
   "outputs": [
    {
     "name": "stdout",
     "output_type": "stream",
     "text": [
      "10\n",
      "20\n",
      "50\n",
      "40\n"
     ]
    }
   ],
   "source": [
    "# iloc : 순서를 통한 접근\n",
    "print(s2.iloc[0])\n",
    "print(s2.iloc[1])\n",
    "print(s2.iloc[-1])\n",
    "print(s2.iloc[-2])"
   ]
  },
  {
   "cell_type": "markdown",
   "id": "3f40d20b-eeb7-44d7-b576-9f9c5d1c7ded",
   "metadata": {},
   "source": [
    "- series 생성 시 숫자 형태의 index를 지정한 경우\n",
    "- [  ] : index를 통한 접근\n",
    "- loc : index를 통한 접근\n",
    "- iloc : 순서를 통한 접근"
   ]
  },
  {
   "cell_type": "code",
   "execution_count": 28,
   "id": "3df703f1-b6d1-45c4-a875-28c87c22104c",
   "metadata": {},
   "outputs": [
    {
     "data": {
      "text/plain": [
       "값1    10\n",
       "값2    20\n",
       "값3    30\n",
       "값4    40\n",
       "값5    50\n",
       "dtype: int64"
      ]
     },
     "execution_count": 28,
     "metadata": {},
     "output_type": "execute_result"
    }
   ],
   "source": [
    "# index로 숫자가 아닌 것을 지정하여 series를 생성한다.\n",
    "a1 = [10, 20, 30, 40, 50]\n",
    "a2 = ['값1', '값2', '값3', '값4', '값5']\n",
    "\n",
    "s3 = pd.Series(a1, index=a2)\n",
    "s3"
   ]
  },
  {
   "cell_type": "code",
   "execution_count": 29,
   "id": "ff37a803-4d26-4f02-b677-76c24011affa",
   "metadata": {},
   "outputs": [
    {
     "name": "stdout",
     "output_type": "stream",
     "text": [
      "10\n",
      "20\n",
      "50\n",
      "40\n"
     ]
    },
    {
     "name": "stderr",
     "output_type": "stream",
     "text": [
      "C:\\Users\\Tammy Kim\\AppData\\Local\\Temp\\ipykernel_11336\\3276003996.py:3: FutureWarning: Series.__getitem__ treating keys as positions is deprecated. In a future version, integer keys will always be treated as labels (consistent with DataFrame behavior). To access a value by position, use `ser.iloc[pos]`\n",
      "  print(s3[0])\n",
      "C:\\Users\\Tammy Kim\\AppData\\Local\\Temp\\ipykernel_11336\\3276003996.py:4: FutureWarning: Series.__getitem__ treating keys as positions is deprecated. In a future version, integer keys will always be treated as labels (consistent with DataFrame behavior). To access a value by position, use `ser.iloc[pos]`\n",
      "  print(s3[1])\n",
      "C:\\Users\\Tammy Kim\\AppData\\Local\\Temp\\ipykernel_11336\\3276003996.py:5: FutureWarning: Series.__getitem__ treating keys as positions is deprecated. In a future version, integer keys will always be treated as labels (consistent with DataFrame behavior). To access a value by position, use `ser.iloc[pos]`\n",
      "  print(s3[-1])\n",
      "C:\\Users\\Tammy Kim\\AppData\\Local\\Temp\\ipykernel_11336\\3276003996.py:6: FutureWarning: Series.__getitem__ treating keys as positions is deprecated. In a future version, integer keys will always be treated as labels (consistent with DataFrame behavior). To access a value by position, use `ser.iloc[pos]`\n",
      "  print(s3[-2])\n"
     ]
    }
   ],
   "source": [
    "# [  ]를 통한 접근\n",
    "# index가 숫자가 아닌 형태일 경우 숫자를 지정하면 순서가 된다. \n",
    "print(s3[0])\n",
    "print(s3[1])\n",
    "print(s3[-1])\n",
    "print(s3[-2])"
   ]
  },
  {
   "cell_type": "code",
   "execution_count": 30,
   "id": "28e5c8fd-282d-4b96-9b3e-f199d2d3f87a",
   "metadata": {},
   "outputs": [
    {
     "name": "stdout",
     "output_type": "stream",
     "text": [
      "10\n",
      "20\n"
     ]
    }
   ],
   "source": [
    "# [ ] 로 할 때 index를 직접 지정하는 것도 된다.\n",
    "print(s3['값1'])\n",
    "print(s3['값2'])"
   ]
  },
  {
   "cell_type": "code",
   "execution_count": 31,
   "id": "c0dbeeb7-f97a-4acf-a6c3-44c12ea48820",
   "metadata": {},
   "outputs": [
    {
     "name": "stdout",
     "output_type": "stream",
     "text": [
      "10\n",
      "20\n"
     ]
    }
   ],
   "source": [
    "# loc : index를 통한 접근\n",
    "print(s3.loc['값1'])\n",
    "print(s3.loc['값2'])"
   ]
  },
  {
   "cell_type": "code",
   "execution_count": 32,
   "id": "78bcc203-56fe-4102-a361-6d5ab0218f49",
   "metadata": {},
   "outputs": [
    {
     "name": "stdout",
     "output_type": "stream",
     "text": [
      "10\n",
      "20\n",
      "50\n",
      "40\n"
     ]
    }
   ],
   "source": [
    "# iloc : 순서를 통한 접근\n",
    "print(s3.iloc[0])\n",
    "print(s3.iloc[1])\n",
    "print(s3.iloc[-1])\n",
    "print(s3.iloc[-2])"
   ]
  },
  {
   "cell_type": "markdown",
   "id": "4628f486-cc19-442a-bc8e-e7b2cbc7e2fd",
   "metadata": {},
   "source": [
    "- index를 숫자가 아닌 것으로 지정하였을 경우\n",
    "- [  ] : 숫자를 넣어주면 순서를 의미하고 index를 지정하면 index를 통한 접근이 된다.\n",
    "- loc : index를 통한 접근\n",
    "- iloc : 순서를 통한 접근"
   ]
  },
  {
   "cell_type": "markdown",
   "id": "1a14cc40-8cc6-4550-b315-4e4c11d06719",
   "metadata": {},
   "source": [
    "### 슬라이싱 \n"
   ]
  },
  {
   "cell_type": "code",
   "execution_count": 33,
   "id": "0581dbca-d09f-42e8-9494-1116a0429587",
   "metadata": {},
   "outputs": [
    {
     "data": {
      "text/plain": [
       "0    10\n",
       "1    20\n",
       "2    30\n",
       "3    40\n",
       "4    50\n",
       "dtype: int64"
      ]
     },
     "execution_count": 33,
     "metadata": {},
     "output_type": "execute_result"
    }
   ],
   "source": [
    "# index를 지정하지 않은 Series\n",
    "s1 = pd.Series([10, 20, 30, 40, 50])\n",
    "s1"
   ]
  },
  {
   "cell_type": "code",
   "execution_count": 35,
   "id": "899a9ca5-cb05-4d18-a500-d0e5ebc05996",
   "metadata": {},
   "outputs": [
    {
     "name": "stdout",
     "output_type": "stream",
     "text": [
      "1    20\n",
      "2    30\n",
      "3    40\n",
      "dtype: int64\n",
      "0    10\n",
      "1    20\n",
      "2    30\n",
      "3    40\n",
      "dtype: int64\n",
      "1    20\n",
      "2    30\n",
      "3    40\n",
      "4    50\n",
      "dtype: int64\n",
      "1    20\n",
      "2    30\n",
      "3    40\n",
      "dtype: int64\n"
     ]
    }
   ],
   "source": [
    "# [ ] : 순서를 통한 접근\n",
    "# 순서값 1 ~ 4 - 1\n",
    "print(s1[1:4])\n",
    "# 순서값 처음부터 4 - 1\n",
    "print(s1[:4])\n",
    "# 순서값 1 ~ 끝까지\n",
    "print(s1[1:])\n",
    "# 순서값 1 ~ -1 -1 지지\n",
    "print(s1[1:-1])"
   ]
  },
  {
   "cell_type": "code",
   "execution_count": 36,
   "id": "7f386d47-f781-455d-9af4-578d9531856a",
   "metadata": {},
   "outputs": [
    {
     "name": "stdout",
     "output_type": "stream",
     "text": [
      "1    20\n",
      "2    30\n",
      "3    40\n",
      "4    50\n",
      "dtype: int64\n",
      "0    10\n",
      "1    20\n",
      "2    30\n",
      "3    40\n",
      "4    50\n",
      "dtype: int64\n",
      "1    20\n",
      "2    30\n",
      "3    40\n",
      "4    50\n",
      "dtype: int64\n"
     ]
    }
   ],
   "source": [
    "# loc : index를 통한 접근\n",
    "# index 1 부터 index 4까지\n",
    "print(s1.loc[1:4])\n",
    "# 처음 부터 index 4까지\n",
    "print(s1.loc[:4])\n",
    "# index 1 부터 끝까지\n",
    "print(s1.loc[1:])"
   ]
  },
  {
   "cell_type": "code",
   "execution_count": 37,
   "id": "d57aa88e-90cd-41a8-a66a-f5380e0b6028",
   "metadata": {},
   "outputs": [
    {
     "name": "stdout",
     "output_type": "stream",
     "text": [
      "1    20\n",
      "2    30\n",
      "3    40\n",
      "dtype: int64\n",
      "0    10\n",
      "1    20\n",
      "2    30\n",
      "3    40\n",
      "dtype: int64\n",
      "1    20\n",
      "2    30\n",
      "3    40\n",
      "4    50\n",
      "dtype: int64\n",
      "1    20\n",
      "2    30\n",
      "3    40\n",
      "dtype: int64\n"
     ]
    }
   ],
   "source": [
    "# iloc : 순서\n",
    "print(s1.iloc[1:4])\n",
    "print(s1.iloc[:4])\n",
    "print(s1.iloc[1:])\n",
    "print(s1.iloc[1:-1])"
   ]
  },
  {
   "cell_type": "markdown",
   "id": "eedeb4d2-1400-438c-b317-2a1ef04a15c2",
   "metadata": {},
   "source": [
    "- Series의 index를 지정하지 않은 경우(0부터 1씩 증가되는 것이 인덱스가 된다)\n",
    "- [  ] : 순서를 통한 슬라이싱(마지막을 포함하지 않는다)\n",
    "- loc : index를 통한 슬라이싱(마지막을 포함한다)\n",
    "- iloc : 순서를 통한 슬라이싱(마지막을 포함하지 않는다)"
   ]
  },
  {
   "cell_type": "code",
   "execution_count": 39,
   "id": "ab6071f7-7c4c-45b0-b921-fe5f2ce3f8d4",
   "metadata": {},
   "outputs": [
    {
     "data": {
      "text/plain": [
       "4    10\n",
       "1    20\n",
       "0    30\n",
       "3    40\n",
       "2    50\n",
       "dtype: int64"
      ]
     },
     "execution_count": 39,
     "metadata": {},
     "output_type": "execute_result"
    }
   ],
   "source": [
    "# Series를 생성할 때 숫자로 되어 있는 index를 지정하는 경우\n",
    "a1 = [10, 20, 30, 40, 50]\n",
    "a2 = [4, 1, 0, 3, 2]\n",
    "\n",
    "s2 = pd.Series(a1, index=a2)\n",
    "s2"
   ]
  },
  {
   "cell_type": "code",
   "execution_count": 40,
   "id": "e69d8ca6-80dd-4e83-a968-cf006bc1dd42",
   "metadata": {},
   "outputs": [
    {
     "name": "stdout",
     "output_type": "stream",
     "text": [
      "1    20\n",
      "0    30\n",
      "3    40\n",
      "dtype: int64\n",
      "4    10\n",
      "1    20\n",
      "0    30\n",
      "3    40\n",
      "dtype: int64\n",
      "1    20\n",
      "0    30\n",
      "3    40\n",
      "2    50\n",
      "dtype: int64\n",
      "1    20\n",
      "0    30\n",
      "3    40\n",
      "dtype: int64\n"
     ]
    }
   ],
   "source": [
    "# [ ] : 순서를 통한 접근\n",
    "print(s2[1:4])\n",
    "print(s2[:4])\n",
    "print(s2[1:])\n",
    "print(s2[1:-1])"
   ]
  },
  {
   "cell_type": "code",
   "execution_count": 41,
   "id": "29400cfc-f155-48c5-948f-60c7de40f22f",
   "metadata": {},
   "outputs": [
    {
     "name": "stdout",
     "output_type": "stream",
     "text": [
      "1    20\n",
      "0    30\n",
      "3    40\n",
      "dtype: int64\n",
      "4    10\n",
      "1    20\n",
      "0    30\n",
      "3    40\n",
      "dtype: int64\n",
      "1    20\n",
      "0    30\n",
      "3    40\n",
      "2    50\n",
      "dtype: int64\n"
     ]
    }
   ],
   "source": [
    "# loc : index를 통한 접근\n",
    "print(s2.loc[1:3])\n",
    "print(s2.loc[:3])\n",
    "print(s2.loc[1:])"
   ]
  },
  {
   "cell_type": "code",
   "execution_count": 42,
   "id": "9dce8a1b-d7d7-4db5-8498-1077af35d9ee",
   "metadata": {},
   "outputs": [
    {
     "name": "stdout",
     "output_type": "stream",
     "text": [
      "1    20\n",
      "0    30\n",
      "3    40\n",
      "dtype: int64\n",
      "4    10\n",
      "1    20\n",
      "0    30\n",
      "3    40\n",
      "dtype: int64\n",
      "1    20\n",
      "0    30\n",
      "3    40\n",
      "2    50\n",
      "dtype: int64\n",
      "1    20\n",
      "0    30\n",
      "3    40\n",
      "dtype: int64\n"
     ]
    }
   ],
   "source": [
    "# iloc : 순서를 통한 접근\n",
    "print(s2.iloc[1:4])\n",
    "print(s2.iloc[:4])\n",
    "print(s2.iloc[1:])\n",
    "print(s2.iloc[1:-1])"
   ]
  },
  {
   "cell_type": "markdown",
   "id": "9e3a09af-59c4-4ef5-ada6-ee96dc4c7d71",
   "metadata": {},
   "source": [
    "- Series를 생성할 때 index를 숫자로 지정한 경우\n",
    "- [  ] : 순서를 통한 슬라이싱(마지막을 포함하지 않는다)\n",
    "- loc : index를 통한 슬라이싱(마지막을 포함한다)\n",
    "- iloc : 순서를 통한 슬라이싱(마지막을 포함하지 않는다)"
   ]
  },
  {
   "cell_type": "code",
   "execution_count": 43,
   "id": "f0fe7bf9-4245-4e01-a298-1f8a14563c9c",
   "metadata": {},
   "outputs": [
    {
     "data": {
      "text/plain": [
       "값1    10\n",
       "값2    20\n",
       "값3    30\n",
       "값4    40\n",
       "값5    50\n",
       "dtype: int64"
      ]
     },
     "execution_count": 43,
     "metadata": {},
     "output_type": "execute_result"
    }
   ],
   "source": [
    "# index를 숫자가 아닌 것으로 지정했을 경우\n",
    "a1 = [10, 20, 30, 40, 50]\n",
    "a2 = ['값1', '값2', '값3', '값4', '값5']\n",
    "\n",
    "s3 = pd.Series(a1, index=a2)\n",
    "s3"
   ]
  },
  {
   "cell_type": "code",
   "execution_count": 44,
   "id": "cf7f843c-8310-4b8e-b48e-f89efc28974b",
   "metadata": {},
   "outputs": [
    {
     "name": "stdout",
     "output_type": "stream",
     "text": [
      "값2    20\n",
      "값3    30\n",
      "값4    40\n",
      "dtype: int64\n",
      "값1    10\n",
      "값2    20\n",
      "값3    30\n",
      "값4    40\n",
      "dtype: int64\n",
      "값2    20\n",
      "값3    30\n",
      "값4    40\n",
      "값5    50\n",
      "dtype: int64\n",
      "값2    20\n",
      "값3    30\n",
      "값4    40\n",
      "dtype: int64\n"
     ]
    }
   ],
   "source": [
    "# [  ] : 숫자를 지정할 경우 순서를 통한 접근이 된다\n",
    "print(s3[1:4])\n",
    "print(s3[:4])\n",
    "print(s3[1:])\n",
    "print(s3[1:-1])"
   ]
  },
  {
   "cell_type": "code",
   "execution_count": 45,
   "id": "53ab0d2e-0695-4d51-b069-32d64ab739e2",
   "metadata": {},
   "outputs": [
    {
     "name": "stdout",
     "output_type": "stream",
     "text": [
      "값2    20\n",
      "값3    30\n",
      "값4    40\n",
      "dtype: int64\n",
      "값1    10\n",
      "값2    20\n",
      "값3    30\n",
      "값4    40\n",
      "dtype: int64\n",
      "값2    20\n",
      "값3    30\n",
      "값4    40\n",
      "값5    50\n",
      "dtype: int64\n"
     ]
    }
   ],
   "source": [
    "# [  ] : index를 지정할 경우 index를 통한 접근이 된다.\n",
    "print(s3['값2' : '값4'])\n",
    "print(s3[:'값4'])\n",
    "print(s3['값2':])"
   ]
  },
  {
   "cell_type": "code",
   "execution_count": 46,
   "id": "dee21e14-f2ea-4f12-bcc6-bdb89a195f0a",
   "metadata": {},
   "outputs": [
    {
     "name": "stdout",
     "output_type": "stream",
     "text": [
      "값2    20\n",
      "값3    30\n",
      "값4    40\n",
      "dtype: int64\n",
      "값1    10\n",
      "값2    20\n",
      "값3    30\n",
      "값4    40\n",
      "dtype: int64\n",
      "값2    20\n",
      "값3    30\n",
      "값4    40\n",
      "값5    50\n",
      "dtype: int64\n",
      "값2    20\n",
      "값3    30\n",
      "값4    40\n",
      "dtype: int64\n"
     ]
    }
   ],
   "source": [
    "# iloc : 순서를 통한 접근\n",
    "print(s3.iloc[1:4])\n",
    "print(s3.iloc[:4])\n",
    "print(s3.iloc[1:])\n",
    "print(s3.iloc[1:-1])"
   ]
  },
  {
   "cell_type": "markdown",
   "id": "62b213cf-140c-4111-bc3e-abe919e6a46b",
   "metadata": {},
   "source": [
    "- 숫자가 아닌 것을 index로 지정한 경우\n",
    "- [  ] : 숫자를 지정하면 순서를 통한 슬라이싱(마지막은 포함하지 않는다)\n",
    "- [  ] : index를 지정하면 index를 통한 슬라이싱(마지막은 포함한다)\n",
    "- loc : index를 통한 슬라이싱(마지막은 포함한다)\n",
    "- iloc : 순서를 통한 슬라이싱(마지막은 포함하지 않는다)"
   ]
  },
  {
   "cell_type": "markdown",
   "id": "db0110cf-cc8b-41c6-9991-977e2a9a3e39",
   "metadata": {},
   "source": [
    "### Series의 연산\n",
    "- Series가 관리하는 데이터는 ndarray로 저장되어 있다.\n",
    "- 따라서 ndarray의 연산과 유사하다. "
   ]
  },
  {
   "cell_type": "code",
   "execution_count": 4,
   "id": "e0bd02de-3a40-4f06-81b3-79c7d0481b40",
   "metadata": {},
   "outputs": [
    {
     "data": {
      "text/plain": [
       "0    10\n",
       "1    20\n",
       "2    30\n",
       "3    40\n",
       "4    50\n",
       "dtype: int64"
      ]
     },
     "metadata": {},
     "output_type": "display_data"
    },
    {
     "data": {
      "text/plain": [
       "0    1\n",
       "1    2\n",
       "2    3\n",
       "3    4\n",
       "4    5\n",
       "dtype: int64"
      ]
     },
     "metadata": {},
     "output_type": "display_data"
    }
   ],
   "source": [
    "# index를 지정하지 않은 Series (0부터 1씩 증가되는 것으로 설정된다)\n",
    "s1 = pd.Series([10, 20, 30, 40, 50])\n",
    "s2 = pd.Series([1, 2, 3, 4, 5])\n",
    "\n",
    "display(s1)\n",
    "display(s2)"
   ]
  },
  {
   "cell_type": "code",
   "execution_count": 5,
   "id": "e99bb0e3-34b9-48fb-a776-28890017a20d",
   "metadata": {},
   "outputs": [
    {
     "data": {
      "text/plain": [
       "0    11\n",
       "1    22\n",
       "2    33\n",
       "3    44\n",
       "4    55\n",
       "dtype: int64"
      ]
     },
     "metadata": {},
     "output_type": "display_data"
    },
    {
     "data": {
      "text/plain": [
       "0     9\n",
       "1    18\n",
       "2    27\n",
       "3    36\n",
       "4    45\n",
       "dtype: int64"
      ]
     },
     "metadata": {},
     "output_type": "display_data"
    }
   ],
   "source": [
    "# Series와 Series간의 연산\n",
    "# 두 Series의 index 같은 것 끼리 연산을 한다.\n",
    "s3 = s1 + s2\n",
    "s4 = s1 - s2\n",
    "\n",
    "display(s3)\n",
    "display(s4)"
   ]
  },
  {
   "cell_type": "code",
   "execution_count": 6,
   "id": "af0e3fbe-dc55-45e6-987d-fd3eb8e044e9",
   "metadata": {},
   "outputs": [
    {
     "data": {
      "text/plain": [
       "1    10\n",
       "2    20\n",
       "3    30\n",
       "4    40\n",
       "5    50\n",
       "dtype: int64"
      ]
     },
     "metadata": {},
     "output_type": "display_data"
    },
    {
     "data": {
      "text/plain": [
       "5    1\n",
       "4    2\n",
       "3    3\n",
       "2    4\n",
       "1    5\n",
       "dtype: int64"
      ]
     },
     "metadata": {},
     "output_type": "display_data"
    }
   ],
   "source": [
    "# index는 같지만 index의 순서가 다른 경우\n",
    "a1 = [10, 20, 30, 40, 50]\n",
    "a2 = [1, 2, 3, 4, 5]\n",
    "\n",
    "a3 = [1, 2, 3, 4, 5]\n",
    "a4 = [5, 4, 3, 2, 1]\n",
    "\n",
    "s1 = pd.Series(a1, a2)\n",
    "s2 = pd.Series(a3, a4)\n",
    "\n",
    "display(s1)\n",
    "display(s2)"
   ]
  },
  {
   "cell_type": "code",
   "execution_count": 7,
   "id": "7d848934-e959-486f-b173-ddc2ca6120d6",
   "metadata": {},
   "outputs": [
    {
     "data": {
      "text/plain": [
       "1    15\n",
       "2    24\n",
       "3    33\n",
       "4    42\n",
       "5    51\n",
       "dtype: int64"
      ]
     },
     "metadata": {},
     "output_type": "display_data"
    },
    {
     "data": {
      "text/plain": [
       "1     5\n",
       "2    16\n",
       "3    27\n",
       "4    38\n",
       "5    49\n",
       "dtype: int64"
      ]
     },
     "metadata": {},
     "output_type": "display_data"
    }
   ],
   "source": [
    "# index가 같은 것끼리 매칭하여 연산을 수행한다.\n",
    "s3 = s1 + s2\n",
    "s4 = s1 - s2\n",
    "\n",
    "display(s3)\n",
    "display(s4)"
   ]
  },
  {
   "cell_type": "code",
   "execution_count": 8,
   "id": "2744427a-821d-4520-96e6-52ba4a01b96c",
   "metadata": {},
   "outputs": [
    {
     "data": {
      "text/plain": [
       "1    10\n",
       "2    20\n",
       "3    30\n",
       "4    40\n",
       "5    50\n",
       "dtype: int64"
      ]
     },
     "metadata": {},
     "output_type": "display_data"
    },
    {
     "data": {
      "text/plain": [
       "3    1\n",
       "4    2\n",
       "5    3\n",
       "6    4\n",
       "7    5\n",
       "dtype: int64"
      ]
     },
     "metadata": {},
     "output_type": "display_data"
    }
   ],
   "source": [
    "# 두 index 간에 서로 없는 index가 있을 경우\n",
    "a1 = [10, 20, 30, 40, 50]\n",
    "a2 = [1, 2, 3, 4, 5]\n",
    "a3 = [1, 2, 3, 4, 5]\n",
    "a4 = [3, 4, 5, 6, 7]\n",
    "\n",
    "s1 = pd.Series(a1, index=a2)\n",
    "s2 = pd.Series(a3, index=a4)\n",
    "\n",
    "display(s1)\n",
    "display(s2)"
   ]
  },
  {
   "cell_type": "code",
   "execution_count": 9,
   "id": "53d064b5-5060-431f-8993-393a317e35b7",
   "metadata": {},
   "outputs": [
    {
     "data": {
      "text/plain": [
       "1     NaN\n",
       "2     NaN\n",
       "3    31.0\n",
       "4    42.0\n",
       "5    53.0\n",
       "6     NaN\n",
       "7     NaN\n",
       "dtype: float64"
      ]
     },
     "metadata": {},
     "output_type": "display_data"
    },
    {
     "data": {
      "text/plain": [
       "1     NaN\n",
       "2     NaN\n",
       "3    29.0\n",
       "4    38.0\n",
       "5    47.0\n",
       "6     NaN\n",
       "7     NaN\n",
       "dtype: float64"
      ]
     },
     "metadata": {},
     "output_type": "display_data"
    }
   ],
   "source": [
    "# index가 같은 것끼리 연산을 수행한다.\n",
    "# 매칭되는 것이 없을 경우 결측치가 연산의 결과가 된다.\n",
    "# NaN : Not a Number이라는 뜻. 숫자가 아니라는 의미를 가진 값. 결측치를 의미함. \n",
    "s3 = s1 + s2\n",
    "s4 = s1 - s2\n",
    "\n",
    "display(s3)\n",
    "display(s4)\n"
   ]
  },
  {
   "cell_type": "markdown",
   "id": "4bad489a-462b-469f-afae-eee91770c5a2",
   "metadata": {},
   "source": [
    "### 원하는 것만 골라서 가져온다."
   ]
  },
  {
   "cell_type": "code",
   "execution_count": 10,
   "id": "c44d2c93-2e9a-4f1d-ac17-6d8099d8dbed",
   "metadata": {},
   "outputs": [
    {
     "data": {
      "text/plain": [
       "0    10\n",
       "1    20\n",
       "2    30\n",
       "3    40\n",
       "4    50\n",
       "dtype: int64"
      ]
     },
     "metadata": {},
     "output_type": "display_data"
    },
    {
     "data": {
      "text/plain": [
       "4    10\n",
       "1    20\n",
       "0    30\n",
       "3    40\n",
       "2    50\n",
       "dtype: int64"
      ]
     },
     "metadata": {},
     "output_type": "display_data"
    },
    {
     "data": {
      "text/plain": [
       "값1    10\n",
       "값2    20\n",
       "값3    30\n",
       "값4    40\n",
       "값5    50\n",
       "dtype: int64"
      ]
     },
     "metadata": {},
     "output_type": "display_data"
    }
   ],
   "source": [
    "a1 = [10, 20, 30, 40, 50]\n",
    "\n",
    "a2 = [4, 1, 0, 3, 2]\n",
    "a3 = ['값1', '값2', '값3', '값4', '값5']\n",
    "\n",
    "s1 = pd.Series(a1)\n",
    "s2 = pd.Series(a1, index=a2)\n",
    "s3 = pd.Series(a1, index=a3)\n",
    "\n",
    "display(s1)\n",
    "display(s2)\n",
    "display(s3)"
   ]
  },
  {
   "cell_type": "code",
   "execution_count": 11,
   "id": "e3128095-34fb-483c-ae72-5fcc0370834e",
   "metadata": {},
   "outputs": [
    {
     "name": "stdout",
     "output_type": "stream",
     "text": [
      "0    10\n",
      "2    30\n",
      "4    50\n",
      "dtype: int64\n",
      "0    30\n",
      "2    50\n",
      "4    10\n",
      "dtype: int64\n",
      "값1    10\n",
      "값3    30\n",
      "값5    50\n",
      "dtype: int64\n"
     ]
    }
   ],
   "source": [
    "# [ ] 안에 다수의 값이 있는 리스트를 지정하면 index를 통해 선택하여 가져온다.\n",
    "print(s1[[0, 2, 4]])\n",
    "print(s2[[0, 2, 4]])\n",
    "print(s3[['값1', '값3', '값5']])"
   ]
  },
  {
   "cell_type": "code",
   "execution_count": 12,
   "id": "614b9676-45be-4c48-8390-5bf2864960b3",
   "metadata": {},
   "outputs": [
    {
     "name": "stdout",
     "output_type": "stream",
     "text": [
      "값1    10\n",
      "값3    30\n",
      "값5    50\n",
      "dtype: int64\n"
     ]
    },
    {
     "name": "stderr",
     "output_type": "stream",
     "text": [
      "C:\\Users\\Tammy Kim\\AppData\\Local\\Temp\\ipykernel_17320\\1697588756.py:2: FutureWarning: Series.__getitem__ treating keys as positions is deprecated. In a future version, integer keys will always be treated as labels (consistent with DataFrame behavior). To access a value by position, use `ser.iloc[pos]`\n",
      "  print(s3[[0, 2, 4]])\n"
     ]
    }
   ],
   "source": [
    "# 인덱스가 숫자가 아닌 것으로 되어 있을 경우 [  ] 안에 숫자를 넣어주면 순서가 된다. -> 권장하지 않음..\n",
    "print(s3[[0, 2, 4]])"
   ]
  },
  {
   "cell_type": "code",
   "execution_count": 13,
   "id": "a7801b2b-f150-4512-a27e-360b7b3bd18d",
   "metadata": {},
   "outputs": [
    {
     "name": "stdout",
     "output_type": "stream",
     "text": [
      "0    10\n",
      "2    30\n",
      "4    50\n",
      "dtype: int64\n",
      "0    30\n",
      "2    50\n",
      "4    10\n",
      "dtype: int64\n",
      "값1    10\n",
      "값3    30\n",
      "값5    50\n",
      "dtype: int64\n"
     ]
    }
   ],
   "source": [
    "# loc는 index를 지정한다\n",
    "print(s1.loc[[0, 2, 4]])\n",
    "print(s2.loc[[0, 2, 4]])\n",
    "print(s3.loc[['값1', '값3', '값5']])"
   ]
  },
  {
   "cell_type": "code",
   "execution_count": 14,
   "id": "c8daac74-ae12-4f1a-abd0-cb1d6c6fc050",
   "metadata": {},
   "outputs": [
    {
     "name": "stdout",
     "output_type": "stream",
     "text": [
      "0    10\n",
      "2    30\n",
      "4    50\n",
      "dtype: int64\n",
      "4    10\n",
      "0    30\n",
      "2    50\n",
      "dtype: int64\n",
      "값1    10\n",
      "값3    30\n",
      "값5    50\n",
      "dtype: int64\n"
     ]
    }
   ],
   "source": [
    "# iloc : 순서\n",
    "print(s1.iloc[[0, 2, 4]])\n",
    "print(s2.iloc[[0, 2, 4]])\n",
    "print(s3.iloc[[0, 2, 4]])"
   ]
  },
  {
   "cell_type": "code",
   "execution_count": 15,
   "id": "852f6c79-1415-4bed-bf24-044616c45b0b",
   "metadata": {},
   "outputs": [
    {
     "name": "stdout",
     "output_type": "stream",
     "text": [
      "0    10\n",
      "2    30\n",
      "4    50\n",
      "dtype: int64\n",
      "4    10\n",
      "0    30\n",
      "2    50\n",
      "dtype: int64\n",
      "값1    10\n",
      "값3    30\n",
      "값5    50\n",
      "dtype: int64\n"
     ]
    }
   ],
   "source": [
    "# [  ] 안에 True나 False가 들어있는 리스트를 지정하면 true 자리에 해당하는 것만 가지고 나온다.\n",
    "# 이 때, 행의 개수는 동일한 개수로 지정해줘야 한다.\n",
    "a100 = [True, False, True, False, True]\n",
    "print(s1[a100])\n",
    "print(s2[a100])\n",
    "print(s3[a100])"
   ]
  },
  {
   "cell_type": "code",
   "execution_count": 16,
   "id": "2c4e0184-868b-4a04-918d-b914511ee00e",
   "metadata": {},
   "outputs": [
    {
     "data": {
      "text/plain": [
       "값3    30\n",
       "값4    40\n",
       "값5    50\n",
       "dtype: int64"
      ]
     },
     "execution_count": 16,
     "metadata": {},
     "output_type": "execute_result"
    }
   ],
   "source": [
    "# 이를 이용해 조건에 만족하는 것만 가져올 수있다. \n",
    "s4 = s3[s3 > 20]\n",
    "s4"
   ]
  }
 ],
 "metadata": {
  "kernelspec": {
   "display_name": "Python 3 (ipykernel)",
   "language": "python",
   "name": "python3"
  },
  "language_info": {
   "codemirror_mode": {
    "name": "ipython",
    "version": 3
   },
   "file_extension": ".py",
   "mimetype": "text/x-python",
   "name": "python",
   "nbconvert_exporter": "python",
   "pygments_lexer": "ipython3",
   "version": "3.12.7"
  }
 },
 "nbformat": 4,
 "nbformat_minor": 5
}
