{
 "cells": [
  {
   "cell_type": "markdown",
   "id": "ad935811-47b9-42c2-b54b-a07cd517fd40",
   "metadata": {},
   "source": [
    "### 데이터의 종류\n",
    "- 범위형 데이터: 연속성을 가지는 데이터. 최소나 최대가 존재할 수 있다(나이, 몸무게, 키, 온도, 시간 등)\n",
    "- 범주형 데이터: 연속성을 가지지 않는 각각 독립적인 데이터(혈액형, 성별, 고객 등급 등)\n",
    "- 시계열 데이터: 시간의 흐름에 따라 변화되는 데이터를 의미한다(시간에 따른 온도 변화, 시간에 따른 주식 시세 등)\n",
    "\n",
    "\n",
    "### 잘못된 데이터의 종류\n",
    "- 결측치: 측정이 결여된 값을 의미하며 비어있는 공간을 의미한다.\n",
    "- 파이썬에서는 NaN(숫자, Not a Number), NaT(시간, Not a Time), Na(문자열, Not application or Not available)으로 구분되어 있다.\n",
    "- 문자열 컬럼의 데이터도 NaN로 표시한다.\n",
    "- 이상치: 이상한 데이터. 사회 통념상 문제가 있거나 극단치에 해당하는 데이터들은 이상치일 가능성이 있다.\n",
    "- 제거: 추천. 데이터가 왜곡되지 않지만 데이터의 양(행)이 줄어들 수 있음. (열이 날라가는 것은 희망적인 것)\n",
    "- 대체: 제거 시 데이터가 너무 많이 사라지는 경우, 데이터의 양은 줄어들지 않지만 데이터의 왜곡이 발생한다.\n",
    "- 대체를 선택할 경우 다양한 근거 자료를 통해 최대한 유사한 값을 추청해서 구해야 한다. (자료조사 필요!)\n",
    "- 대체는 추정치를 구한 다음 대신 입력하는 것\n",
    "\n",
    "### 데이터 분석 시 pandas 사용 시 볼 수 있는 특수한 값들\n",
    "- NaN: Not a Number, 결측치\n",
    "- NaT: Not a Time, 결측치\n",
    "- Inf: 무한대라는 의미를 가지고 있으며, 음수 무한대일 수도 있고 양수 무한대일 수도 있다."
   ]
  }
 ],
 "metadata": {
  "kernelspec": {
   "display_name": "Python 3 (ipykernel)",
   "language": "python",
   "name": "python3"
  },
  "language_info": {
   "codemirror_mode": {
    "name": "ipython",
    "version": 3
   },
   "file_extension": ".py",
   "mimetype": "text/x-python",
   "name": "python",
   "nbconvert_exporter": "python",
   "pygments_lexer": "ipython3",
   "version": "3.12.7"
  }
 },
 "nbformat": 4,
 "nbformat_minor": 5
}
