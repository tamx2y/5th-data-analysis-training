{
 "cells": [
  {
   "cell_type": "code",
   "execution_count": 1,
   "id": "83b817e8-dfbe-4d53-bdfa-8ded92734689",
   "metadata": {},
   "outputs": [],
   "source": [
    "import numpy as np"
   ]
  },
  {
   "cell_type": "markdown",
   "id": "6d859524-b7f9-4b67-a907-bdf95e61d256",
   "metadata": {},
   "source": [
    "### 행렬의 차원 변경"
   ]
  },
  {
   "cell_type": "code",
   "execution_count": 3,
   "id": "ec7ae444-6e08-4e19-b695-c912ccf969a2",
   "metadata": {},
   "outputs": [
    {
     "data": {
      "text/plain": [
       "array([ 0,  1,  2,  3,  4,  5,  6,  7,  8,  9, 10, 11, 12, 13, 14])"
      ]
     },
     "execution_count": 3,
     "metadata": {},
     "output_type": "execute_result"
    }
   ],
   "source": [
    "# 1차원 행렬을 생성한다.\n",
    "array1 = np.arange(15)\n",
    "array1"
   ]
  },
  {
   "cell_type": "code",
   "execution_count": 4,
   "id": "ac677818-02e6-48cd-8567-ae311b8aa9aa",
   "metadata": {},
   "outputs": [
    {
     "name": "stdout",
     "output_type": "stream",
     "text": [
      "(15,)\n"
     ]
    }
   ],
   "source": [
    "# 행렬의 차원 정보\n",
    "a1 = array1.shape\n",
    "print(a1)"
   ]
  },
  {
   "cell_type": "code",
   "execution_count": null,
   "id": "76771595-6009-4fb7-bef5-9df5f3496879",
   "metadata": {},
   "outputs": [],
   "source": []
  }
 ],
 "metadata": {
  "kernelspec": {
   "display_name": "Python 3 (ipykernel)",
   "language": "python",
   "name": "python3"
  },
  "language_info": {
   "codemirror_mode": {
    "name": "ipython",
    "version": 3
   },
   "file_extension": ".py",
   "mimetype": "text/x-python",
   "name": "python",
   "nbconvert_exporter": "python",
   "pygments_lexer": "ipython3",
   "version": "3.12.7"
  }
 },
 "nbformat": 4,
 "nbformat_minor": 5
}
