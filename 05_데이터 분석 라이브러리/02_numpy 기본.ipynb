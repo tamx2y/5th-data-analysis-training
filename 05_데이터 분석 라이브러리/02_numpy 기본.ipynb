{
 "cells": [
  {
   "cell_type": "markdown",
   "id": "49d6a090-5866-456d-9837-8920ec8d63c9",
   "metadata": {},
   "source": [
    "# Numpy\n",
    "- 파이썬에서 제공하는 list, tuple로는 행렬에 관련된 작업을 하기 어렵다\n",
    "- 행렬에 관련된 연산이나 작업 등을 위해 제공되는 라이브러리\n",
    "- 수학에서의 행렬 또는 선형대수학에 관련된 기능들이 제공된다."
   ]
  },
  {
   "cell_type": "code",
   "execution_count": 1,
   "id": "6c6fd806-22bb-4c90-883f-d8b69b0391a0",
   "metadata": {},
   "outputs": [],
   "source": [
    "import numpy as np"
   ]
  },
  {
   "cell_type": "markdown",
   "id": "ee021539-6b63-4465-8602-f175f4ae3113",
   "metadata": {},
   "source": [
    "### 리스트 (혹은 튜플)과의 비교"
   ]
  },
  {
   "cell_type": "code",
   "execution_count": 2,
   "id": "034c63dd-36f2-41c8-a6fd-76fbc254395f",
   "metadata": {},
   "outputs": [],
   "source": [
    "# 리스트\n",
    "list1 = [10, 20, 30, 40, 50]\n",
    "list2 = [60, 70, 80, 90, 100]"
   ]
  },
  {
   "cell_type": "code",
   "execution_count": 3,
   "id": "3f8d7dea-c8fb-4509-b9e3-dd103eaf22e9",
   "metadata": {},
   "outputs": [
    {
     "data": {
      "text/plain": [
       "[10, 20, 30, 40, 50, 60, 70, 80, 90, 100]"
      ]
     },
     "execution_count": 3,
     "metadata": {},
     "output_type": "execute_result"
    }
   ],
   "source": [
    "# 리스트 + 리스트\n",
    "list3 = list1 + list2\n",
    "list3"
   ]
  },
  {
   "cell_type": "code",
   "execution_count": 5,
   "id": "aaab0309-6944-4e4f-bcfc-8036801cda1f",
   "metadata": {},
   "outputs": [
    {
     "data": {
      "text/plain": [
       "[10, 20, 30, 40, 50, 10, 20, 30, 40, 50, 10, 20, 30, 40, 50]"
      ]
     },
     "execution_count": 5,
     "metadata": {},
     "output_type": "execute_result"
    }
   ],
   "source": [
    "# 리스트 * 정수\n",
    "list4 = list1 * 3\n",
    "list4"
   ]
  },
  {
   "cell_type": "code",
   "execution_count": 7,
   "id": "b2172f3f-4ad3-4c13-a60c-45d25782a18a",
   "metadata": {},
   "outputs": [],
   "source": [
    "# 행렬 생성(ndarray)\n",
    "array1 = np.array([10, 20, 30, 40, 50])\n",
    "array2 = np.array([60, 70, 80, 90, 100])"
   ]
  },
  {
   "cell_type": "code",
   "execution_count": 9,
   "id": "23d851fc-1622-445c-9f2e-c6a6c06b63ba",
   "metadata": {},
   "outputs": [
    {
     "data": {
      "text/plain": [
       "array([ 70,  90, 110, 130, 150])"
      ]
     },
     "execution_count": 9,
     "metadata": {},
     "output_type": "execute_result"
    }
   ],
   "source": [
    "# 행렬더하기\n",
    "array3 = array1 + array2 \n",
    "array3"
   ]
  },
  {
   "cell_type": "code",
   "execution_count": 11,
   "id": "f18f5026-2648-41b8-af97-41455d316ea2",
   "metadata": {},
   "outputs": [
    {
     "data": {
      "text/plain": [
       "array([ 30,  60,  90, 120, 150])"
      ]
     },
     "execution_count": 11,
     "metadata": {},
     "output_type": "execute_result"
    }
   ],
   "source": [
    "# 곱하기 : 수학에서 정한 연산방식을 그대로 따른다.\n",
    "array4 = array1 * 3\n",
    "array4"
   ]
  },
  {
   "cell_type": "markdown",
   "id": "c18a33f7-a1f3-4c72-8182-c55bf4dcb3d6",
   "metadata": {},
   "source": [
    "### 행렬 생성\n",
    "- 생성된 행렬의 타입은 다차원 행렬이라는 의미로 ndarray (n dimension array)라고 부른다. "
   ]
  },
  {
   "cell_type": "code",
   "execution_count": 13,
   "id": "6237601b-998b-4034-9c9c-375d0abfd49e",
   "metadata": {},
   "outputs": [],
   "source": [
    "# 1차원 리스트\n",
    "list1 = [10, 20, 30, 40, 50]\n",
    "# 1차원 ndarray\n",
    "# 함수 안에 리스트, 튜플, range 등과 같이 순서를 통해 데이터를 관리하는 요소를 넣어준다.\n",
    "array1 = np.array([10, 20, 30, 40, 50])"
   ]
  },
  {
   "cell_type": "code",
   "execution_count": 15,
   "id": "f3e55143-7f13-4bb1-b7b6-aec536dd8afd",
   "metadata": {},
   "outputs": [
    {
     "name": "stdout",
     "output_type": "stream",
     "text": [
      "<class 'type'>\n",
      "<class 'numpy.ndarray'>\n"
     ]
    }
   ],
   "source": [
    "print(type(list))\n",
    "print(type(array1))"
   ]
  },
  {
   "cell_type": "code",
   "execution_count": 16,
   "id": "855135c1-bc5f-4b71-9278-6607ba5e6b00",
   "metadata": {},
   "outputs": [
    {
     "name": "stdout",
     "output_type": "stream",
     "text": [
      "[10, 20, 30, 40, 50]\n",
      "[10 20 30 40 50]\n",
      "------------------------------\n"
     ]
    },
    {
     "data": {
      "text/plain": [
       "[10, 20, 30, 40, 50]"
      ]
     },
     "metadata": {},
     "output_type": "display_data"
    },
    {
     "data": {
      "text/plain": [
       "array([10, 20, 30, 40, 50])"
      ]
     },
     "metadata": {},
     "output_type": "display_data"
    }
   ],
   "source": [
    "print(list1)\n",
    "print(array1)\n",
    "print('-' * 30)\n",
    "display(list1)\n",
    "display(array1)"
   ]
  },
  {
   "cell_type": "code",
   "execution_count": 19,
   "id": "eb942e9b-19cc-446c-a29e-247bbcedf6b0",
   "metadata": {},
   "outputs": [],
   "source": [
    "# 2차원 리스트: 리스트 안에 리트트\n",
    "list2 = [\n",
    "    [1, 2, 3],\n",
    "    [4, 5, 6],\n",
    "    [7, 8, 9]\n",
    "]\n",
    "\n",
    "# 2차원 행렬 : 2차원으로 구성된 행렬\n",
    "array2 = np.array([\n",
    "    [1, 2, 3],\n",
    "    [4, 5, 6],\n",
    "    [7, 8, 9]\n",
    "])"
   ]
  },
  {
   "cell_type": "code",
   "execution_count": 21,
   "id": "901c7051-d70e-435f-8589-c9281bc353ce",
   "metadata": {},
   "outputs": [
    {
     "name": "stdout",
     "output_type": "stream",
     "text": [
      "[[1, 2, 3], [4, 5, 6], [7, 8, 9]]\n",
      "[[1 2 3]\n",
      " [4 5 6]\n",
      " [7 8 9]]\n",
      "------------------------------\n"
     ]
    },
    {
     "data": {
      "text/plain": [
       "[[1, 2, 3], [4, 5, 6], [7, 8, 9]]"
      ]
     },
     "metadata": {},
     "output_type": "display_data"
    },
    {
     "data": {
      "text/plain": [
       "array([[1, 2, 3],\n",
       "       [4, 5, 6],\n",
       "       [7, 8, 9]])"
      ]
     },
     "metadata": {},
     "output_type": "display_data"
    }
   ],
   "source": [
    "print(list2)\n",
    "print(array2)\n",
    "print('-' * 30)\n",
    "display(list2)\n",
    "display(array2)"
   ]
  },
  {
   "cell_type": "markdown",
   "id": "edd556cd-21e4-46fa-948c-24d6454592f2",
   "metadata": {},
   "source": [
    "### 행렬과 타입의 관계"
   ]
  },
  {
   "cell_type": "code",
   "execution_count": 22,
   "id": "cc9d9e04-1eb5-4c2b-b7d7-2607247fd094",
   "metadata": {},
   "outputs": [],
   "source": [
    "array1 = np.array([10, 20, 30, 40, 50])\n",
    "array2 = np.array([11.11, 22.22, 33.33])"
   ]
  },
  {
   "cell_type": "code",
   "execution_count": 23,
   "id": "13fa954c-c0c0-44c7-9332-8eed393864d9",
   "metadata": {},
   "outputs": [
    {
     "name": "stdout",
     "output_type": "stream",
     "text": [
      "<class 'numpy.ndarray'>\n",
      "<class 'numpy.ndarray'>\n"
     ]
    }
   ],
   "source": [
    "# type 함수\n",
    "# 파이썬의 type 함수는 매개변수로 들어오는 개체가 어떠한 클래스로 만들어졌는지를 확인할 수 있다.\n",
    "print(type(array1))\n",
    "print(type(array2))"
   ]
  },
  {
   "cell_type": "code",
   "execution_count": 24,
   "id": "69b486ce-db4e-4c0a-9eb0-7b5966837593",
   "metadata": {},
   "outputs": [
    {
     "name": "stdout",
     "output_type": "stream",
     "text": [
      "int32\n",
      "float64\n"
     ]
    }
   ],
   "source": [
    "# dtype\n",
    "# 행렬이 관리하고 있는 값의 타입을 파악할 수 있다.\n",
    "print(array1.dtype) # 32비트 정수\n",
    "print(array2.dtype) # 64비트 실수"
   ]
  },
  {
   "cell_type": "code",
   "execution_count": 30,
   "id": "ecfe7fa6-f348-4094-9427-aceb165aa6c1",
   "metadata": {},
   "outputs": [
    {
     "data": {
      "text/plain": [
       "[True, 100, 11.11, '문자열']"
      ]
     },
     "metadata": {},
     "output_type": "display_data"
    },
    {
     "data": {
      "text/plain": [
       "array(['True', '100', '11.11', '문자열'], dtype='<U32')"
      ]
     },
     "metadata": {},
     "output_type": "display_data"
    }
   ],
   "source": [
    "# 다양한 타입을 지정했을 경우\n",
    "list3 = [True, 100, 11.11, '문자열']\n",
    "# 행렬의 경우 하나의 행렬에 다양한 타입의 값을 넣었다면\n",
    "# 가장 많은 종류의 값을 표현할 수 있는 타입으로 변환되어 한 가지 타입만 갖게 된다. \n",
    "# 논리형 -> 정수형 -> 실수형 -> 문자열형\n",
    "array3 = np.array([True, 100, 11.11, '문자열'])  #True가 1로 바뀐 이유 = 수학에서 행렬을 그렇게 정의함. 행렬에서는 같은 타입만 담을 수 있음. \n",
    "\n",
    "display(list3)\n",
    "display(array3)"
   ]
  },
  {
   "cell_type": "code",
   "execution_count": 32,
   "id": "6a9f23ce-623c-4c95-a67c-268a54410b43",
   "metadata": {},
   "outputs": [
    {
     "data": {
      "text/plain": [
       "array([0., 1., 2., 3., 4.])"
      ]
     },
     "metadata": {},
     "output_type": "display_data"
    },
    {
     "data": {
      "text/plain": [
       "array([False,  True,  True,  True,  True])"
      ]
     },
     "metadata": {},
     "output_type": "display_data"
    }
   ],
   "source": [
    "# 행렬 생성 시 타입을 결정할 수 있다.\n",
    "\n",
    "# 논리형 : bool, 정수: int, 실수: float, 문자열: str\n",
    "array4 = np.array([0, 1, 2, 3, 4], dtype = 'float')\n",
    "array5 = np.array([0, 1, 2, 3, 4], dtype = 'bool')\n",
    "\n",
    "display(array4) \n",
    "display(array5)"
   ]
  },
  {
   "cell_type": "code",
   "execution_count": 41,
   "id": "ef6fead7-535e-471e-9c0f-820278bba5df",
   "metadata": {},
   "outputs": [
    {
     "data": {
      "text/plain": [
       "array([0, 1, 2, 3, 4])"
      ]
     },
     "metadata": {},
     "output_type": "display_data"
    },
    {
     "data": {
      "text/plain": [
       "array([False,  True,  True,  True,  True])"
      ]
     },
     "metadata": {},
     "output_type": "display_data"
    }
   ],
   "source": [
    "# numpy가 제공하는 타입을 설정할 수도 있다.\n",
    "array6 = np.array([0, 1, 2, 3, 4], dtype=np.int32)\n",
    "array7 = np.array([0, 1, 2, 3, 4], dtype=np.bool_)\n",
    "\n",
    "display(array6)\n",
    "display(array7)"
   ]
  },
  {
   "cell_type": "code",
   "execution_count": 42,
   "id": "4e2b5fa3-2cb3-4b88-9788-6afcb909659f",
   "metadata": {},
   "outputs": [
    {
     "data": {
      "text/plain": [
       "array([10, 20, 30, 40, 50])"
      ]
     },
     "metadata": {},
     "output_type": "display_data"
    },
    {
     "data": {
      "text/plain": [
       "array(['10', '20', '30', '40', '50'], dtype='<U11')"
      ]
     },
     "metadata": {},
     "output_type": "display_data"
    }
   ],
   "source": [
    "# 이미 생성되어 있는 행렬이 가지고 있는 원소들을 추출하여 새로운 행렬을 만들때 타입을 정할 수 있다.\n",
    "array8 = np.array([10, 20, 30, 40, 50])\n",
    "array9 = array8.astype('str')\n",
    "display(array8)\n",
    "display(array9)"
   ]
  },
  {
   "cell_type": "markdown",
   "id": "255019b3-bb01-45c1-a9f2-f96a3736c8f1",
   "metadata": {},
   "source": [
    "### 행렬 생성 함수"
   ]
  },
  {
   "cell_type": "code",
   "execution_count": 43,
   "id": "0d906365-dbd6-4dad-9b4c-ca45654e9057",
   "metadata": {},
   "outputs": [
    {
     "data": {
      "text/plain": [
       "array([10, 20, 30, 40, 50])"
      ]
     },
     "execution_count": 43,
     "metadata": {},
     "output_type": "execute_result"
    }
   ],
   "source": [
    "# 관리할 값들을 지정하여 행렬을 생성한다.\n",
    "array1 = np.array([10, 20, 30, 40, 50])\n",
    "array1"
   ]
  },
  {
   "cell_type": "code",
   "execution_count": 44,
   "id": "b645e7d4-0411-4f59-8e52-0047fbf0ba64",
   "metadata": {},
   "outputs": [
    {
     "data": {
      "text/plain": [
       "array([0., 0., 0., 0., 0.])"
      ]
     },
     "metadata": {},
     "output_type": "display_data"
    },
    {
     "data": {
      "text/plain": [
       "array([[0., 0., 0., 0.],\n",
       "       [0., 0., 0., 0.],\n",
       "       [0., 0., 0., 0.]])"
      ]
     },
     "metadata": {},
     "output_type": "display_data"
    }
   ],
   "source": [
    "# 0 행렬\n",
    "# 원소가 0으로 채워진 행렬을 의미함.\n",
    "# 0이 5개 있는 1차원 행렬\n",
    "# 0의 개수를 지정한다.\n",
    "array2 = np.zeros(5)\n",
    "# 0으로 채워진 3행 4열 행렬\n",
    "# 0행렬의 행, 열의 수를 지정한다.\n",
    "array3 = np.zeros([3, 4])\n",
    "\n",
    "display(array2)\n",
    "display(array3)"
   ]
  },
  {
   "cell_type": "code",
   "execution_count": 45,
   "id": "f53f2a3b-a092-4a61-bb52-106fd2842fc4",
   "metadata": {},
   "outputs": [
    {
     "data": {
      "text/plain": [
       "array([1., 1., 1., 1., 1.])"
      ]
     },
     "metadata": {},
     "output_type": "display_data"
    },
    {
     "data": {
      "text/plain": [
       "array([[1., 1., 1., 1.],\n",
       "       [1., 1., 1., 1.],\n",
       "       [1., 1., 1., 1.]])"
      ]
     },
     "metadata": {},
     "output_type": "display_data"
    }
   ],
   "source": [
    "# 원소가 1로 채워진 행렬을 의미함.\n",
    "# 1이 5개 있는 1차원 행렬\n",
    "# 1의 개수를 지정한다.\n",
    "array4 = np.ones(5)\n",
    "# 1로 채워진 3행 4열 행렬\n",
    "# 행렬의 행, 열의 수를 지정한다.\n",
    "array5 = np.ones([3, 4])\n",
    "\n",
    "display(array4)\n",
    "display(array5)"
   ]
  },
  {
   "cell_type": "code",
   "execution_count": 46,
   "id": "99c56ed6-28b1-4b1e-8d36-2cdce297ae22",
   "metadata": {},
   "outputs": [
    {
     "data": {
      "text/plain": [
       "array([7, 7, 7, 7, 7])"
      ]
     },
     "metadata": {},
     "output_type": "display_data"
    },
    {
     "data": {
      "text/plain": [
       "array([[7, 7, 7, 7],\n",
       "       [7, 7, 7, 7],\n",
       "       [7, 7, 7, 7]])"
      ]
     },
     "metadata": {},
     "output_type": "display_data"
    }
   ],
   "source": [
    "# n으로 채워진 행렬\n",
    "# 7이 5개 있는 1차원 행렬\n",
    "# 숫자의 개수와 관리할 숫자를 지정한다\n",
    "array6 = np.full(5, 7)\n",
    "\n",
    "# 7로 채워진 3행 4열 행렬\n",
    "# [행렬의 행의 수, 행렬의 열의 수]와 채울 숫자를 지정해준다.\n",
    "array7 = np.full([3, 4], 7)\n",
    "\n",
    "display(array6)\n",
    "display(array7)"
   ]
  },
  {
   "cell_type": "code",
   "execution_count": 47,
   "id": "b53e6c8b-1f68-4c78-bcb9-32ff0dea9109",
   "metadata": {},
   "outputs": [
    {
     "data": {
      "text/plain": [
       "array([0.98220809, 0.03149371, 0.81035806, 0.01998084, 0.47198953])"
      ]
     },
     "metadata": {},
     "output_type": "display_data"
    },
    {
     "data": {
      "text/plain": [
       "array([[0.2127271 , 0.33470415, 0.14382335, 0.760801  ],\n",
       "       [0.87269239, 0.79142477, 0.38914147, 0.63916921],\n",
       "       [0.74369935, 0.71512409, 0.01680282, 0.6309904 ]])"
      ]
     },
     "metadata": {},
     "output_type": "display_data"
    }
   ],
   "source": [
    "# 랜덤값으로 채워진 행렬을 생성한다. \n",
    "# 0 <= n < 1\n",
    "\n",
    "# 랜덤 숫자 5개로 이루어진 1차원 행렬\n",
    "array8 = np.random.random(5)\n",
    "# 랜덤 숫자로 채워진 3행 4열 행렬\n",
    "array9 = np.random.random([3, 4])\n",
    "\n",
    "display(array8)\n",
    "display(array9)"
   ]
  },
  {
   "cell_type": "code",
   "execution_count": 48,
   "id": "236053cb-770c-4976-a851-9e3cbd9a5e3b",
   "metadata": {},
   "outputs": [
    {
     "data": {
      "text/plain": [
       "array([4, 8, 1, 1, 9])"
      ]
     },
     "metadata": {},
     "output_type": "display_data"
    },
    {
     "data": {
      "text/plain": [
       "array([[6, 5, 6, 1],\n",
       "       [5, 1, 0, 2],\n",
       "       [0, 1, 9, 9]])"
      ]
     },
     "metadata": {},
     "output_type": "display_data"
    }
   ],
   "source": [
    "# 범위를 정해서 정수 값을 랜덤하게 추출한다.\n",
    "# 랜덤 정수값 5개로 이루어진 1차원 행렬\n",
    "# 0 ~ 10 - 1\n",
    "# 시작값, 끝값, 개수\n",
    "array10 = np.random.randint(0, 10, 5)\n",
    "# 랜덤 정수값으로 채워진 3행 4열 행렬\n",
    "# 0 ~ 10 - 1, 3행 4열\n",
    "# 시작값, 끝값, [행의 개수, 열의 개수]\n",
    "array11 = np.random.randint(0, 10, [3, 4])\n",
    "\n",
    "display(array10)\n",
    "display(array11)"
   ]
  },
  {
   "cell_type": "code",
   "execution_count": 50,
   "id": "fe65e1f0-4b00-41f0-b1d8-f9c0926133c1",
   "metadata": {},
   "outputs": [
    {
     "data": {
      "text/plain": [
       "array([0, 1, 2, 3, 4, 5])"
      ]
     },
     "execution_count": 50,
     "metadata": {},
     "output_type": "execute_result"
    }
   ],
   "source": [
    "# 특정 범위를 가진 행렬을 생성한다.\n",
    "# 0 ~ 6 -1 까지\n",
    "array12 = np.arange(6)\n",
    "array12"
   ]
  },
  {
   "cell_type": "code",
   "execution_count": 51,
   "id": "bfe2fe4e-0204-436f-8e9e-db08589aad21",
   "metadata": {},
   "outputs": [
    {
     "data": {
      "text/plain": [
       "array([ 3,  4,  5,  6,  7,  8,  9, 10, 11, 12])"
      ]
     },
     "execution_count": 51,
     "metadata": {},
     "output_type": "execute_result"
    }
   ],
   "source": [
    "# 3 ~ 13 - 1까지\n",
    "array13 = np.arange(3, 13)\n",
    "array13"
   ]
  },
  {
   "cell_type": "code",
   "execution_count": 52,
   "id": "d7b27c08-6518-42b3-a70a-a267856d9945",
   "metadata": {},
   "outputs": [],
   "source": [
    "### 행렬의 산술 연산\n",
    "array1 = np.array([\n",
    "    [10, 20, 30],\n",
    "    [40, 50, 60],\n",
    "    [70, 80, 90],\n",
    "])\n",
    "\n",
    "array2 = np.array([\n",
    "    [1, 2, 3],\n",
    "    [4, 5, 6],\n",
    "    [7, 8, 9],\n",
    "])"
   ]
  },
  {
   "cell_type": "code",
   "execution_count": 54,
   "id": "1feaead5-a100-487c-8f4c-5b534aa5b1b5",
   "metadata": {},
   "outputs": [
    {
     "data": {
      "text/plain": [
       "array([[11, 22, 33],\n",
       "       [44, 55, 66],\n",
       "       [77, 88, 99]])"
      ]
     },
     "metadata": {},
     "output_type": "display_data"
    },
    {
     "data": {
      "text/plain": [
       "array([[ 9, 18, 27],\n",
       "       [36, 45, 54],\n",
       "       [63, 72, 81]])"
      ]
     },
     "metadata": {},
     "output_type": "display_data"
    },
    {
     "data": {
      "text/plain": [
       "array([[ 10,  40,  90],\n",
       "       [160, 250, 360],\n",
       "       [490, 640, 810]])"
      ]
     },
     "metadata": {},
     "output_type": "display_data"
    },
    {
     "data": {
      "text/plain": [
       "array([[10., 10., 10.],\n",
       "       [10., 10., 10.],\n",
       "       [10., 10., 10.]])"
      ]
     },
     "metadata": {},
     "output_type": "display_data"
    },
    {
     "data": {
      "text/plain": [
       "array([[        10,        400,      27000],\n",
       "       [   2560000,  312500000, -588640256],\n",
       "       [1977693568,          0, -779249152]])"
      ]
     },
     "metadata": {},
     "output_type": "display_data"
    },
    {
     "data": {
      "text/plain": [
       "array([[10, 10, 10],\n",
       "       [10, 10, 10],\n",
       "       [10, 10, 10]])"
      ]
     },
     "metadata": {},
     "output_type": "display_data"
    },
    {
     "data": {
      "text/plain": [
       "array([[0, 0, 0],\n",
       "       [0, 0, 0],\n",
       "       [0, 0, 0]])"
      ]
     },
     "metadata": {},
     "output_type": "display_data"
    }
   ],
   "source": [
    "# 행렬과 행렬 간의 산술 연산\n",
    "# 행렬의 각 원소를 1:1 매칭하여 연산을 하고 그 결과가 담겨 있는 행렬을 반환한다.\n",
    "# 연산을 하는 두 행렬의 행과 열의 수가 일치해야 한다.\n",
    "a1 = array1 + array2\n",
    "a2 = array1 - array2\n",
    "a3 = array1 * array2\n",
    "a4 = array1 / array2\n",
    "a5 = array1 ** array2\n",
    "a6 = array1 // array2\n",
    "a7 = array1 % array2\n",
    "\n",
    "display(a1, a2, a3, a4, a5, a6, a7)"
   ]
  },
  {
   "cell_type": "code",
   "execution_count": 56,
   "id": "bd1c1297-c0f6-4aad-b0a5-6438190fff05",
   "metadata": {},
   "outputs": [
    {
     "data": {
      "text/plain": [
       "array([[ 20,  30,  40],\n",
       "       [ 50,  60,  70],\n",
       "       [ 80,  90, 100]])"
      ]
     },
     "metadata": {},
     "output_type": "display_data"
    },
    {
     "data": {
      "text/plain": [
       "array([[ 0, 10, 20],\n",
       "       [30, 40, 50],\n",
       "       [60, 70, 80]])"
      ]
     },
     "metadata": {},
     "output_type": "display_data"
    },
    {
     "data": {
      "text/plain": [
       "array([[100, 200, 300],\n",
       "       [400, 500, 600],\n",
       "       [700, 800, 900]])"
      ]
     },
     "metadata": {},
     "output_type": "display_data"
    },
    {
     "data": {
      "text/plain": [
       "array([[1., 2., 3.],\n",
       "       [4., 5., 6.],\n",
       "       [7., 8., 9.]])"
      ]
     },
     "metadata": {},
     "output_type": "display_data"
    },
    {
     "data": {
      "text/plain": [
       "array([[ 1410065408,   797966336,   716276736],\n",
       "       [ 1073741824, -1957116928,  -972029952],\n",
       "       [ 1759093760,           0, -1412946944]], dtype=int32)"
      ]
     },
     "metadata": {},
     "output_type": "display_data"
    },
    {
     "data": {
      "text/plain": [
       "array([[1, 2, 3],\n",
       "       [4, 5, 6],\n",
       "       [7, 8, 9]], dtype=int32)"
      ]
     },
     "metadata": {},
     "output_type": "display_data"
    },
    {
     "data": {
      "text/plain": [
       "array([[0, 0, 0],\n",
       "       [0, 0, 0],\n",
       "       [0, 0, 0]], dtype=int32)"
      ]
     },
     "metadata": {},
     "output_type": "display_data"
    }
   ],
   "source": [
    "# 행렬과 숫자 간의 산술 연산\n",
    "# 행렬의 각 원소에 숫자와의 연산을 각각 수행한 결과를 반환한다.\n",
    "a1 = array1 + 10\n",
    "a2 = array1 - 10\n",
    "a3 = array1 * 10\n",
    "a4 = array1 / 10\n",
    "a5 = array1 ** 10\n",
    "a6 = array1 // 10\n",
    "a7 = array1 % 10\n",
    "\n",
    "display(a1, a2, a3, a4, a5, a6, a7)"
   ]
  },
  {
   "cell_type": "markdown",
   "id": "20aa2af0-c8df-4ebe-aeac-71b094165011",
   "metadata": {},
   "source": [
    "### 인덱싱과 슬라이싱\n",
    "- 인덱싱 : 값 하나를 가져오는 것\n",
    "- 슬라이싱: 원하는 부분의 값을 가져오는 것"
   ]
  },
  {
   "cell_type": "code",
   "execution_count": 57,
   "id": "8fbc2055-49a1-47bb-8c89-302e5b17e86e",
   "metadata": {},
   "outputs": [],
   "source": [
    "# 1차원\n",
    "list1 = [10, 20, 30, 40, 50, 60, 70, 80, 90, 100]\n",
    "array1 = np.array([10, 20, 30, 40, 50, 60, 70, 80, 90, 100])"
   ]
  },
  {
   "cell_type": "code",
   "execution_count": 58,
   "id": "8d5eff27-aeb0-4791-a82a-d08afbfea242",
   "metadata": {},
   "outputs": [
    {
     "name": "stdout",
     "output_type": "stream",
     "text": [
      "10\n",
      "20\n",
      "10\n",
      "20\n"
     ]
    }
   ],
   "source": [
    "# 0부터 1씩 증가하는 순서값\n",
    "# 앞에서 부터\n",
    "print(list1[0])\n",
    "print(list1[1])\n",
    "print(array1[0])\n",
    "print(array1[1])"
   ]
  },
  {
   "cell_type": "code",
   "execution_count": 59,
   "id": "d477c8cc-652a-41ac-8178-01629b5dc8a8",
   "metadata": {},
   "outputs": [
    {
     "name": "stdout",
     "output_type": "stream",
     "text": [
      "100\n",
      "90\n",
      "100\n",
      "130\n"
     ]
    }
   ],
   "source": [
    "# -1부터 1씩 감소하는 순서값\n",
    "# 뒤에서부터\n",
    "print(list1[-1])\n",
    "print(list1[-2])\n",
    "print(array1[-1])\n",
    "print(array[-2])"
   ]
  },
  {
   "cell_type": "code",
   "execution_count": 60,
   "id": "974f6758-5f7a-4e81-b1c5-d4b617204150",
   "metadata": {},
   "outputs": [
    {
     "name": "stdout",
     "output_type": "stream",
     "text": [
      "[30, 40, 50, 60]\n",
      "[110 130 150]\n",
      "[10, 20, 30, 40, 50, 60]\n",
      "[10 20 30 40 50 60]\n",
      "[30, 40, 50, 60, 70, 80, 90, 100]\n",
      "[ 30  40  50  60  70  80  90 100]\n"
     ]
    }
   ],
   "source": [
    "# 2 ~ 6 -1 까지\n",
    "print(list1[2:6])\n",
    "print(array[2:6])\n",
    "# 처음부터 6 - 1까지\n",
    "print(list1[:6])\n",
    "print(array1[:6])\n",
    "# 2 ~ 끝까지\n",
    "print(list1[2:])\n",
    "print(array1[2:])"
   ]
  },
  {
   "cell_type": "code",
   "execution_count": 61,
   "id": "fc4f628c-6b1a-4942-8364-90d74aecccbb",
   "metadata": {},
   "outputs": [],
   "source": [
    "list1 = [\n",
    "    [1, 2, 3],\n",
    "    [4, 5, 6],\n",
    "    [7, 8, 9]\n",
    "]\n",
    "\n",
    "array1 = np.array([\n",
    "    [1, 2, 3],\n",
    "    [4, 5, 6],\n",
    "    [7, 8, 9]\n",
    "])"
   ]
  },
  {
   "cell_type": "code",
   "execution_count": 62,
   "id": "f696a31a-c979-4ece-99c1-2dfb7bbfd603",
   "metadata": {},
   "outputs": [
    {
     "name": "stdout",
     "output_type": "stream",
     "text": [
      "6\n",
      "6\n",
      "6\n"
     ]
    }
   ],
   "source": [
    "# 2행 3열의 데이터를 가져온다.\n",
    "print(list1[1][2])\n",
    "print(array1[1][2])\n",
    "print(array1[1,2]) #행렬에서만 가능한 문법"
   ]
  },
  {
   "cell_type": "code",
   "execution_count": 63,
   "id": "2a0643de-b450-452b-8c26-d2855b186e95",
   "metadata": {},
   "outputs": [
    {
     "data": {
      "text/plain": [
       "[[7, 8, 9]]"
      ]
     },
     "metadata": {},
     "output_type": "display_data"
    },
    {
     "data": {
      "text/plain": [
       "array([[7, 8, 9]])"
      ]
     },
     "metadata": {},
     "output_type": "display_data"
    },
    {
     "data": {
      "text/plain": [
       "array([[5, 6],\n",
       "       [8, 9]])"
      ]
     },
     "metadata": {},
     "output_type": "display_data"
    }
   ],
   "source": [
    "# 1 ~ 3 - 1 행, 1 ~ 3 - 1 열의 데이터를 가져온다.\n",
    "display(list1[1:3][1:3]) # 엉뚱한 결과\n",
    "display(array1[1:3][1:3]) # 엉뚱한 결과\n",
    "display(array1[1:3, 1:3])"
   ]
  },
  {
   "cell_type": "code",
   "execution_count": 67,
   "id": "a9c81c9e-30ac-4b87-8cbc-50c6d2e2dde1",
   "metadata": {},
   "outputs": [
    {
     "data": {
      "text/plain": [
       "array([10, 20, 50])"
      ]
     },
     "execution_count": 67,
     "metadata": {},
     "output_type": "execute_result"
    }
   ],
   "source": [
    "array1 = np.array([10, 20, 30, 40, 50])\n",
    "# 순서값을 지정하여 그 순서에 해당하는 값들을 가져올 수 있다.\n",
    "array2 = array1[[0, 1, 4]]\n",
    "array2"
   ]
  },
  {
   "cell_type": "code",
   "execution_count": 69,
   "id": "fbcf1f52-9771-4fe9-8742-adc8e538c390",
   "metadata": {},
   "outputs": [
    {
     "data": {
      "text/plain": [
       "array([10, 30, 50])"
      ]
     },
     "execution_count": 69,
     "metadata": {},
     "output_type": "execute_result"
    }
   ],
   "source": [
    "# True나 False로 구성된 요소를 넣어주면 True에 해당하는 것만 가져온다.\n",
    "# 원소의 개수와 동일한 개수로 되어 있어야 한다.\n",
    "array3 = array1[[True, False, True, False, True]]\n",
    "array3"
   ]
  },
  {
   "cell_type": "code",
   "execution_count": 75,
   "id": "0c6e4fac-5624-4f02-9aa6-43f3bf8177df",
   "metadata": {},
   "outputs": [
    {
     "data": {
      "text/plain": [
       "array([], dtype=int32)"
      ]
     },
     "execution_count": 75,
     "metadata": {},
     "output_type": "execute_result"
    }
   ],
   "source": [
    "array4 = np.arange(100)\n",
    "array5 = array4 % 3 == 0 \n",
    "array6 = array4[array5]\n",
    "array6"
   ]
  },
  {
   "cell_type": "code",
   "execution_count": 77,
   "id": "8d59cfbe-a937-40fd-ac90-caaa81037abd",
   "metadata": {},
   "outputs": [
    {
     "data": {
      "text/plain": [
       "array([ 0,  3,  6,  9, 12, 15, 18, 21, 24, 27, 30, 33, 36, 39, 42, 45, 48,\n",
       "       51, 54, 57, 60, 63, 66, 69, 72, 75, 78, 81, 84, 87, 90, 93, 96, 99])"
      ]
     },
     "execution_count": 77,
     "metadata": {},
     "output_type": "execute_result"
    }
   ],
   "source": [
    "array4 = np.arange(100)\n",
    "array6 = array4[array4 % 3 == 0]\n",
    "array6"
   ]
  }
 ],
 "metadata": {
  "kernelspec": {
   "display_name": "Python 3 (ipykernel)",
   "language": "python",
   "name": "python3"
  },
  "language_info": {
   "codemirror_mode": {
    "name": "ipython",
    "version": 3
   },
   "file_extension": ".py",
   "mimetype": "text/x-python",
   "name": "python",
   "nbconvert_exporter": "python",
   "pygments_lexer": "ipython3",
   "version": "3.12.7"
  }
 },
 "nbformat": 4,
 "nbformat_minor": 5
}
