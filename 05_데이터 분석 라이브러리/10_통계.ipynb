{
 "cells": [
  {
   "cell_type": "code",
   "execution_count": 1,
   "id": "cbbb3943-2008-4153-a869-911e93236436",
   "metadata": {},
   "outputs": [],
   "source": [
    "import numpy as mp\n",
    "import pandas as pd"
   ]
  },
  {
   "cell_type": "code",
   "execution_count": 2,
   "id": "8c5f1652-c5bb-49d7-acde-b71aac77e12c",
   "metadata": {},
   "outputs": [
    {
     "data": {
      "text/html": [
       "<div>\n",
       "<style scoped>\n",
       "    .dataframe tbody tr th:only-of-type {\n",
       "        vertical-align: middle;\n",
       "    }\n",
       "\n",
       "    .dataframe tbody tr th {\n",
       "        vertical-align: top;\n",
       "    }\n",
       "\n",
       "    .dataframe thead th {\n",
       "        text-align: right;\n",
       "    }\n",
       "</style>\n",
       "<table border=\"1\" class=\"dataframe\">\n",
       "  <thead>\n",
       "    <tr style=\"text-align: right;\">\n",
       "      <th></th>\n",
       "      <th>학년</th>\n",
       "      <th>성별</th>\n",
       "      <th>국어</th>\n",
       "      <th>영어</th>\n",
       "      <th>수학</th>\n",
       "      <th>과학</th>\n",
       "    </tr>\n",
       "    <tr>\n",
       "      <th>이름</th>\n",
       "      <th></th>\n",
       "      <th></th>\n",
       "      <th></th>\n",
       "      <th></th>\n",
       "      <th></th>\n",
       "      <th></th>\n",
       "    </tr>\n",
       "  </thead>\n",
       "  <tbody>\n",
       "    <tr>\n",
       "      <th>철수</th>\n",
       "      <td>1</td>\n",
       "      <td>남자</td>\n",
       "      <td>98</td>\n",
       "      <td>NaN</td>\n",
       "      <td>88.0</td>\n",
       "      <td>64.0</td>\n",
       "    </tr>\n",
       "    <tr>\n",
       "      <th>영희</th>\n",
       "      <td>2</td>\n",
       "      <td>여자</td>\n",
       "      <td>88</td>\n",
       "      <td>90.0</td>\n",
       "      <td>62.0</td>\n",
       "      <td>72.0</td>\n",
       "    </tr>\n",
       "    <tr>\n",
       "      <th>민수</th>\n",
       "      <td>1</td>\n",
       "      <td>남자</td>\n",
       "      <td>92</td>\n",
       "      <td>70.0</td>\n",
       "      <td>NaN</td>\n",
       "      <td>NaN</td>\n",
       "    </tr>\n",
       "    <tr>\n",
       "      <th>수현</th>\n",
       "      <td>3</td>\n",
       "      <td>여자</td>\n",
       "      <td>63</td>\n",
       "      <td>60.0</td>\n",
       "      <td>31.0</td>\n",
       "      <td>70.0</td>\n",
       "    </tr>\n",
       "    <tr>\n",
       "      <th>호영</th>\n",
       "      <td>4</td>\n",
       "      <td>남자</td>\n",
       "      <td>120</td>\n",
       "      <td>50.0</td>\n",
       "      <td>NaN</td>\n",
       "      <td>88.0</td>\n",
       "    </tr>\n",
       "  </tbody>\n",
       "</table>\n",
       "</div>"
      ],
      "text/plain": [
       "    학년  성별   국어    영어    수학    과학\n",
       "이름                               \n",
       "철수   1  남자   98   NaN  88.0  64.0\n",
       "영희   2  여자   88  90.0  62.0  72.0\n",
       "민수   1  남자   92  70.0   NaN   NaN\n",
       "수현   3  여자   63  60.0  31.0  70.0\n",
       "호영   4  남자  120  50.0   NaN  88.0"
      ]
     },
     "execution_count": 2,
     "metadata": {},
     "output_type": "execute_result"
    }
   ],
   "source": [
    "df1 = pd.read_csv('data/data/grade.csv', encoding = 'euc-kr')\n",
    "df1.set_index('이름', inplace = True)\n",
    "df1"
   ]
  },
  {
   "cell_type": "markdown",
   "id": "fb744ed1-e0dd-49bf-bd14-6d5a9b876153",
   "metadata": {},
   "source": [
    "### 요약 통계 정보"
   ]
  },
  {
   "cell_type": "code",
   "execution_count": 3,
   "id": "41c01826-6faf-4132-86bd-ed41d9dc9494",
   "metadata": {},
   "outputs": [
    {
     "data": {
      "text/html": [
       "<div>\n",
       "<style scoped>\n",
       "    .dataframe tbody tr th:only-of-type {\n",
       "        vertical-align: middle;\n",
       "    }\n",
       "\n",
       "    .dataframe tbody tr th {\n",
       "        vertical-align: top;\n",
       "    }\n",
       "\n",
       "    .dataframe thead th {\n",
       "        text-align: right;\n",
       "    }\n",
       "</style>\n",
       "<table border=\"1\" class=\"dataframe\">\n",
       "  <thead>\n",
       "    <tr style=\"text-align: right;\">\n",
       "      <th></th>\n",
       "      <th>국어</th>\n",
       "      <th>영어</th>\n",
       "      <th>수학</th>\n",
       "      <th>과학</th>\n",
       "    </tr>\n",
       "  </thead>\n",
       "  <tbody>\n",
       "    <tr>\n",
       "      <th>count</th>\n",
       "      <td>5.000000</td>\n",
       "      <td>4.000000</td>\n",
       "      <td>3.000000</td>\n",
       "      <td>4.000000</td>\n",
       "    </tr>\n",
       "    <tr>\n",
       "      <th>mean</th>\n",
       "      <td>92.200000</td>\n",
       "      <td>67.500000</td>\n",
       "      <td>60.333333</td>\n",
       "      <td>73.500000</td>\n",
       "    </tr>\n",
       "    <tr>\n",
       "      <th>std</th>\n",
       "      <td>20.474374</td>\n",
       "      <td>17.078251</td>\n",
       "      <td>28.536526</td>\n",
       "      <td>10.246951</td>\n",
       "    </tr>\n",
       "    <tr>\n",
       "      <th>min</th>\n",
       "      <td>63.000000</td>\n",
       "      <td>50.000000</td>\n",
       "      <td>31.000000</td>\n",
       "      <td>64.000000</td>\n",
       "    </tr>\n",
       "    <tr>\n",
       "      <th>25%</th>\n",
       "      <td>88.000000</td>\n",
       "      <td>57.500000</td>\n",
       "      <td>46.500000</td>\n",
       "      <td>68.500000</td>\n",
       "    </tr>\n",
       "    <tr>\n",
       "      <th>50%</th>\n",
       "      <td>92.000000</td>\n",
       "      <td>65.000000</td>\n",
       "      <td>62.000000</td>\n",
       "      <td>71.000000</td>\n",
       "    </tr>\n",
       "    <tr>\n",
       "      <th>75%</th>\n",
       "      <td>98.000000</td>\n",
       "      <td>75.000000</td>\n",
       "      <td>75.000000</td>\n",
       "      <td>76.000000</td>\n",
       "    </tr>\n",
       "    <tr>\n",
       "      <th>max</th>\n",
       "      <td>120.000000</td>\n",
       "      <td>90.000000</td>\n",
       "      <td>88.000000</td>\n",
       "      <td>88.000000</td>\n",
       "    </tr>\n",
       "  </tbody>\n",
       "</table>\n",
       "</div>"
      ],
      "text/plain": [
       "               국어         영어         수학         과학\n",
       "count    5.000000   4.000000   3.000000   4.000000\n",
       "mean    92.200000  67.500000  60.333333  73.500000\n",
       "std     20.474374  17.078251  28.536526  10.246951\n",
       "min     63.000000  50.000000  31.000000  64.000000\n",
       "25%     88.000000  57.500000  46.500000  68.500000\n",
       "50%     92.000000  65.000000  62.000000  71.000000\n",
       "75%     98.000000  75.000000  75.000000  76.000000\n",
       "max    120.000000  90.000000  88.000000  88.000000"
      ]
     },
     "execution_count": 3,
     "metadata": {},
     "output_type": "execute_result"
    }
   ],
   "source": [
    "# 범위형 데이터에 대한 요약 통계 정보\n",
    "\n",
    "df1[['국어', '영어', '수학', '과학']].describe()"
   ]
  },
  {
   "cell_type": "markdown",
   "id": "00266fb3-aa5c-4252-b371-60999b72488d",
   "metadata": {},
   "source": [
    "- count : 결측치를 제외한 데이터의 개수\n",
    "- mean : 결측치를 제외한 평균\n",
    "- min : 결측치를 제외한 최소값\n",
    "- std : 결측치를 제외한 표준편차\n",
    "- 25% : 결측치를 제외한 25% 위치와 가까운 값\n",
    "- 50% : 결측치를 제외한 50% 위치와 가까운 값\n",
    "- 75% : 결측치를 제외한 75% 위치와 가까운 값\n",
    "- max : 결측치를 제외한 최대 값\n",
    "- min, max와 위치의 수 보다 값이 부족하면 실제 값이 아닌 해당 위치의 값으로 나온다."
   ]
  },
  {
   "cell_type": "code",
   "execution_count": 4,
   "id": "f78a92ac-2230-4b86-b178-679f7fb91076",
   "metadata": {},
   "outputs": [
    {
     "data": {
      "text/html": [
       "<div>\n",
       "<style scoped>\n",
       "    .dataframe tbody tr th:only-of-type {\n",
       "        vertical-align: middle;\n",
       "    }\n",
       "\n",
       "    .dataframe tbody tr th {\n",
       "        vertical-align: top;\n",
       "    }\n",
       "\n",
       "    .dataframe thead th {\n",
       "        text-align: right;\n",
       "    }\n",
       "</style>\n",
       "<table border=\"1\" class=\"dataframe\">\n",
       "  <thead>\n",
       "    <tr style=\"text-align: right;\">\n",
       "      <th></th>\n",
       "      <th>국어</th>\n",
       "      <th>영어</th>\n",
       "      <th>수학</th>\n",
       "      <th>과학</th>\n",
       "    </tr>\n",
       "  </thead>\n",
       "  <tbody>\n",
       "    <tr>\n",
       "      <th>count</th>\n",
       "      <td>5.000000</td>\n",
       "      <td>4.000000</td>\n",
       "      <td>3.000000</td>\n",
       "      <td>4.000000</td>\n",
       "    </tr>\n",
       "    <tr>\n",
       "      <th>mean</th>\n",
       "      <td>92.200000</td>\n",
       "      <td>67.500000</td>\n",
       "      <td>60.333333</td>\n",
       "      <td>73.500000</td>\n",
       "    </tr>\n",
       "    <tr>\n",
       "      <th>std</th>\n",
       "      <td>20.474374</td>\n",
       "      <td>17.078251</td>\n",
       "      <td>28.536526</td>\n",
       "      <td>10.246951</td>\n",
       "    </tr>\n",
       "    <tr>\n",
       "      <th>min</th>\n",
       "      <td>63.000000</td>\n",
       "      <td>50.000000</td>\n",
       "      <td>31.000000</td>\n",
       "      <td>64.000000</td>\n",
       "    </tr>\n",
       "    <tr>\n",
       "      <th>10%</th>\n",
       "      <td>73.000000</td>\n",
       "      <td>53.000000</td>\n",
       "      <td>37.200000</td>\n",
       "      <td>65.800000</td>\n",
       "    </tr>\n",
       "    <tr>\n",
       "      <th>20%</th>\n",
       "      <td>83.000000</td>\n",
       "      <td>56.000000</td>\n",
       "      <td>43.400000</td>\n",
       "      <td>67.600000</td>\n",
       "    </tr>\n",
       "    <tr>\n",
       "      <th>30%</th>\n",
       "      <td>88.800000</td>\n",
       "      <td>59.000000</td>\n",
       "      <td>49.600000</td>\n",
       "      <td>69.400000</td>\n",
       "    </tr>\n",
       "    <tr>\n",
       "      <th>40%</th>\n",
       "      <td>90.400000</td>\n",
       "      <td>62.000000</td>\n",
       "      <td>55.800000</td>\n",
       "      <td>70.400000</td>\n",
       "    </tr>\n",
       "    <tr>\n",
       "      <th>50%</th>\n",
       "      <td>92.000000</td>\n",
       "      <td>65.000000</td>\n",
       "      <td>62.000000</td>\n",
       "      <td>71.000000</td>\n",
       "    </tr>\n",
       "    <tr>\n",
       "      <th>60%</th>\n",
       "      <td>94.400000</td>\n",
       "      <td>68.000000</td>\n",
       "      <td>67.200000</td>\n",
       "      <td>71.600000</td>\n",
       "    </tr>\n",
       "    <tr>\n",
       "      <th>70%</th>\n",
       "      <td>96.800000</td>\n",
       "      <td>72.000000</td>\n",
       "      <td>72.400000</td>\n",
       "      <td>73.600000</td>\n",
       "    </tr>\n",
       "    <tr>\n",
       "      <th>80%</th>\n",
       "      <td>102.400000</td>\n",
       "      <td>78.000000</td>\n",
       "      <td>77.600000</td>\n",
       "      <td>78.400000</td>\n",
       "    </tr>\n",
       "    <tr>\n",
       "      <th>90%</th>\n",
       "      <td>111.200000</td>\n",
       "      <td>84.000000</td>\n",
       "      <td>82.800000</td>\n",
       "      <td>83.200000</td>\n",
       "    </tr>\n",
       "    <tr>\n",
       "      <th>max</th>\n",
       "      <td>120.000000</td>\n",
       "      <td>90.000000</td>\n",
       "      <td>88.000000</td>\n",
       "      <td>88.000000</td>\n",
       "    </tr>\n",
       "  </tbody>\n",
       "</table>\n",
       "</div>"
      ],
      "text/plain": [
       "               국어         영어         수학         과학\n",
       "count    5.000000   4.000000   3.000000   4.000000\n",
       "mean    92.200000  67.500000  60.333333  73.500000\n",
       "std     20.474374  17.078251  28.536526  10.246951\n",
       "min     63.000000  50.000000  31.000000  64.000000\n",
       "10%     73.000000  53.000000  37.200000  65.800000\n",
       "20%     83.000000  56.000000  43.400000  67.600000\n",
       "30%     88.800000  59.000000  49.600000  69.400000\n",
       "40%     90.400000  62.000000  55.800000  70.400000\n",
       "50%     92.000000  65.000000  62.000000  71.000000\n",
       "60%     94.400000  68.000000  67.200000  71.600000\n",
       "70%     96.800000  72.000000  72.400000  73.600000\n",
       "80%    102.400000  78.000000  77.600000  78.400000\n",
       "90%    111.200000  84.000000  82.800000  83.200000\n",
       "max    120.000000  90.000000  88.000000  88.000000"
      ]
     },
     "execution_count": 4,
     "metadata": {},
     "output_type": "execute_result"
    }
   ],
   "source": [
    "# 25%, 75% 부분을 수정할 수 있다\n",
    "# 0 ~ 1 사이의 값을 넣어주며 50% 위치의 값은 무조건 나오기 때문에 0.5는 생략해도 된다.\n",
    "a1 = [0.1, 0.2, 0.3, 0.4, 0.6, 0.7, 0.8, 0.9]\n",
    "\n",
    "df1[['국어', '영어', '수학', '과학']].describe(percentiles=a1)"
   ]
  },
  {
   "cell_type": "code",
   "execution_count": 5,
   "id": "c7a43333-0bea-4c24-a752-626f4886347f",
   "metadata": {},
   "outputs": [
    {
     "data": {
      "text/html": [
       "<div>\n",
       "<style scoped>\n",
       "    .dataframe tbody tr th:only-of-type {\n",
       "        vertical-align: middle;\n",
       "    }\n",
       "\n",
       "    .dataframe tbody tr th {\n",
       "        vertical-align: top;\n",
       "    }\n",
       "\n",
       "    .dataframe thead th {\n",
       "        text-align: right;\n",
       "    }\n",
       "</style>\n",
       "<table border=\"1\" class=\"dataframe\">\n",
       "  <thead>\n",
       "    <tr style=\"text-align: right;\">\n",
       "      <th></th>\n",
       "      <th>학년</th>\n",
       "      <th>성별</th>\n",
       "    </tr>\n",
       "  </thead>\n",
       "  <tbody>\n",
       "    <tr>\n",
       "      <th>count</th>\n",
       "      <td>5</td>\n",
       "      <td>5</td>\n",
       "    </tr>\n",
       "    <tr>\n",
       "      <th>unique</th>\n",
       "      <td>4</td>\n",
       "      <td>2</td>\n",
       "    </tr>\n",
       "    <tr>\n",
       "      <th>top</th>\n",
       "      <td>1</td>\n",
       "      <td>남자</td>\n",
       "    </tr>\n",
       "    <tr>\n",
       "      <th>freq</th>\n",
       "      <td>2</td>\n",
       "      <td>3</td>\n",
       "    </tr>\n",
       "  </tbody>\n",
       "</table>\n",
       "</div>"
      ],
      "text/plain": [
       "       학년  성별\n",
       "count   5   5\n",
       "unique  4   2\n",
       "top     1  남자\n",
       "freq    2   3"
      ]
     },
     "execution_count": 5,
     "metadata": {},
     "output_type": "execute_result"
    }
   ],
   "source": [
    "# 범주형 데이터에 대한 요약 통계 정보\n",
    "# 범주형 데이터 중에 숫자 컬럼이 있다면 숫자 컬럼만 모아서 범위형 데이터의 요약 통계 정보를 \n",
    "# 보여준다.\n",
    "# 따라서 문자열로 다 변환된 데이터 프레임을 구한 다음 그것을 통해 확인한다.\n",
    "df1[['학년', '성별']].astype('str').describe()"
   ]
  },
  {
   "cell_type": "markdown",
   "id": "e0f8ef69-34b1-4ce3-843c-f3bf0ab9b21c",
   "metadata": {},
   "source": [
    "- count : 결측치를 제외한 데이터의 개수\n",
    "- unique : 결측치를 제외한 데이터의 가지수\n",
    "- top : 결측치를 제외한 가장 많이 나온 데이터\n",
    "- freq : top 에 해당하는 값이 몇 개가 있는지"
   ]
  },
  {
   "cell_type": "markdown",
   "id": "32aa056b-f582-4bb2-b774-cdc65091bcfc",
   "metadata": {},
   "source": [
    "### pandas 통계 함수 목록"
   ]
  },
  {
   "cell_type": "markdown",
   "id": "3990a227-d4e9-49a1-b407-aed47e0a6d73",
   "metadata": {},
   "source": [
    "# pandas 통계 함수 목록\n",
    "\n",
    "### 1. 기초 통계 함수\n",
    "\n",
    "| 함수        | 설명                                  |\n",
    "|-------------|---------------------------------------|\n",
    "| `count()`   | 결측값을 제외한 데이터 개수             |\n",
    "| `sum()`     | 합계                                   |\n",
    "| `mean()`    | 평균                                   |\n",
    "| `median()`  | 중앙값                                 |\n",
    "| `mode()`    | 최빈값                                 |\n",
    "| `min()` / `max()` | 최소 / 최대값                   |\n",
    "| `std()`     | 표준편차 (Standard Deviation)          |\n",
    "| `var()`     | 분산 (Variance)                        |\n",
    "| `abs()`     | 절댓값                                 |\n",
    "| `prod()`    | 누적 곱                                |\n",
    "\n",
    "---\n",
    "\n",
    "### 2. 누적 및 순위 관련 함수\n",
    "\n",
    "| 함수         | 설명                                 |\n",
    "|--------------|--------------------------------------|\n",
    "| `cumsum()`   | 누적 합                              |\n",
    "| `cumprod()`  | 누적 곱                              |\n",
    "| `cummax()`   | 누적 최대값                          |\n",
    "| `cummin()`   | 누적 최소값                          |\n",
    "| `rank()`     | 순위 매기기                           |\n",
    "\n",
    "---\n",
    "\n",
    "### 3. 상관관계 및 공분산\n",
    "\n",
    "| 함수            | 설명                               |\n",
    "|-----------------|------------------------------------|\n",
    "| `corr()`        | 피어슨 상관계수                    |\n",
    "| `cov()`         | 공분산                             |\n",
    "| `corrwith()`    | 두 DataFrame 간 상관계수 계산      |\n",
    "\n",
    "---\n",
    "\n",
    "### 4. 기타 통계 도우미\n",
    "\n",
    "| 함수         | 설명                                |\n",
    "|--------------|-------------------------------------|\n",
    "| `describe()` | 주요 통계량 요약 (count, mean, std, min, 25%, 50%, 75%, max) |\n",
    "| `quantile(q)`| 분위수 (예: `0.25`, `0.5` 등)       |\n",
    "| `skew()`     | 왜도 (Skewness)                     |\n",
    "| `kurt()`     | 첨도 (Kurtosis)                     |"
   ]
  },
  {
   "cell_type": "markdown",
   "id": "8aa31384-80b5-45ef-aa1c-e4e758ec30bb",
   "metadata": {},
   "source": [
    "- 결측치를 제외하고 값을 계산한다."
   ]
  },
  {
   "cell_type": "code",
   "execution_count": 6,
   "id": "e633c315-93e6-46ec-8509-ae1041f1bbaf",
   "metadata": {},
   "outputs": [
    {
     "data": {
      "text/html": [
       "<div>\n",
       "<style scoped>\n",
       "    .dataframe tbody tr th:only-of-type {\n",
       "        vertical-align: middle;\n",
       "    }\n",
       "\n",
       "    .dataframe tbody tr th {\n",
       "        vertical-align: top;\n",
       "    }\n",
       "\n",
       "    .dataframe thead th {\n",
       "        text-align: right;\n",
       "    }\n",
       "</style>\n",
       "<table border=\"1\" class=\"dataframe\">\n",
       "  <thead>\n",
       "    <tr style=\"text-align: right;\">\n",
       "      <th></th>\n",
       "      <th>학년</th>\n",
       "      <th>성별</th>\n",
       "      <th>국어</th>\n",
       "      <th>영어</th>\n",
       "      <th>수학</th>\n",
       "      <th>과학</th>\n",
       "    </tr>\n",
       "    <tr>\n",
       "      <th>이름</th>\n",
       "      <th></th>\n",
       "      <th></th>\n",
       "      <th></th>\n",
       "      <th></th>\n",
       "      <th></th>\n",
       "      <th></th>\n",
       "    </tr>\n",
       "  </thead>\n",
       "  <tbody>\n",
       "    <tr>\n",
       "      <th>철수</th>\n",
       "      <td>1</td>\n",
       "      <td>남자</td>\n",
       "      <td>98</td>\n",
       "      <td>NaN</td>\n",
       "      <td>88.0</td>\n",
       "      <td>64.0</td>\n",
       "    </tr>\n",
       "    <tr>\n",
       "      <th>영희</th>\n",
       "      <td>2</td>\n",
       "      <td>여자</td>\n",
       "      <td>88</td>\n",
       "      <td>90.0</td>\n",
       "      <td>62.0</td>\n",
       "      <td>72.0</td>\n",
       "    </tr>\n",
       "    <tr>\n",
       "      <th>민수</th>\n",
       "      <td>1</td>\n",
       "      <td>남자</td>\n",
       "      <td>92</td>\n",
       "      <td>70.0</td>\n",
       "      <td>NaN</td>\n",
       "      <td>NaN</td>\n",
       "    </tr>\n",
       "    <tr>\n",
       "      <th>수현</th>\n",
       "      <td>3</td>\n",
       "      <td>여자</td>\n",
       "      <td>63</td>\n",
       "      <td>60.0</td>\n",
       "      <td>31.0</td>\n",
       "      <td>70.0</td>\n",
       "    </tr>\n",
       "    <tr>\n",
       "      <th>호영</th>\n",
       "      <td>4</td>\n",
       "      <td>남자</td>\n",
       "      <td>120</td>\n",
       "      <td>50.0</td>\n",
       "      <td>NaN</td>\n",
       "      <td>88.0</td>\n",
       "    </tr>\n",
       "  </tbody>\n",
       "</table>\n",
       "</div>"
      ],
      "text/plain": [
       "    학년  성별   국어    영어    수학    과학\n",
       "이름                               \n",
       "철수   1  남자   98   NaN  88.0  64.0\n",
       "영희   2  여자   88  90.0  62.0  72.0\n",
       "민수   1  남자   92  70.0   NaN   NaN\n",
       "수현   3  여자   63  60.0  31.0  70.0\n",
       "호영   4  남자  120  50.0   NaN  88.0"
      ]
     },
     "execution_count": 6,
     "metadata": {},
     "output_type": "execute_result"
    }
   ],
   "source": [
    "df1 = pd.read_csv('data/data/grade.csv', encoding = 'euc-kr')\n",
    "df1.set_index('이름', inplace = True)\n",
    "df1"
   ]
  },
  {
   "cell_type": "code",
   "execution_count": 20,
   "id": "939c4410-41a6-48dc-bf01-134dabecdade",
   "metadata": {},
   "outputs": [
    {
     "name": "stdout",
     "output_type": "stream",
     "text": [
      "결측치를 제외한 데이터의 개수 : 학년    5\n",
      "성별    5\n",
      "국어    5\n",
      "영어    4\n",
      "수학    3\n",
      "과학    4\n",
      "dtype: int64\n",
      "------------------------------\n"
     ]
    },
    {
     "data": {
      "text/plain": [
       "학년    5\n",
       "성별    5\n",
       "국어    5\n",
       "영어    4\n",
       "수학    3\n",
       "과학    4\n",
       "dtype: int64"
      ]
     },
     "metadata": {},
     "output_type": "display_data"
    },
    {
     "name": "stdout",
     "output_type": "stream",
     "text": [
      "------------------------------\n",
      "결측치를 제외한 평균\n"
     ]
    },
    {
     "data": {
      "text/plain": [
       "국어    92.200000\n",
       "영어    67.500000\n",
       "수학    60.333333\n",
       "과학    73.500000\n",
       "dtype: float64"
      ]
     },
     "metadata": {},
     "output_type": "display_data"
    },
    {
     "name": "stdout",
     "output_type": "stream",
     "text": [
      "------------------------------\n",
      "결측치를 제외한 최대값\n"
     ]
    },
    {
     "data": {
      "text/plain": [
       "국어    120.0\n",
       "영어     90.0\n",
       "수학     88.0\n",
       "과학     88.0\n",
       "dtype: float64"
      ]
     },
     "metadata": {},
     "output_type": "display_data"
    },
    {
     "name": "stdout",
     "output_type": "stream",
     "text": [
      "\n",
      "------------------------------\n",
      "결측치를 제외한 최소값\n"
     ]
    },
    {
     "data": {
      "text/plain": [
       "국어    63.0\n",
       "영어    50.0\n",
       "수학    31.0\n",
       "과학    64.0\n",
       "dtype: float64"
      ]
     },
     "metadata": {},
     "output_type": "display_data"
    },
    {
     "name": "stdout",
     "output_type": "stream",
     "text": [
      "\n",
      "------------------------------\n",
      "결측치를 제외한 표준편차\n"
     ]
    },
    {
     "data": {
      "text/plain": [
       "국어    20.474374\n",
       "영어    17.078251\n",
       "수학    28.536526\n",
       "과학    10.246951\n",
       "dtype: float64"
      ]
     },
     "metadata": {},
     "output_type": "display_data"
    },
    {
     "name": "stdout",
     "output_type": "stream",
     "text": [
      "\n",
      "------------------------------\n",
      "결측치를 제외한 분산\n"
     ]
    },
    {
     "data": {
      "text/plain": [
       "국어    419.200000\n",
       "영어    291.666667\n",
       "수학    814.333333\n",
       "과학    105.000000\n",
       "dtype: float64"
      ]
     },
     "metadata": {},
     "output_type": "display_data"
    },
    {
     "name": "stdout",
     "output_type": "stream",
     "text": [
      "\n",
      "------------------------------\n",
      "결측치를 제외한 50% 위치값\n"
     ]
    },
    {
     "data": {
      "text/plain": [
       "국어    92.0\n",
       "영어    65.0\n",
       "수학    62.0\n",
       "과학    71.0\n",
       "Name: 0.5, dtype: float64"
      ]
     },
     "metadata": {},
     "output_type": "display_data"
    },
    {
     "name": "stdout",
     "output_type": "stream",
     "text": [
      "\n",
      "------------------------------\n",
      "결측치를 제외한 중앙값\n"
     ]
    },
    {
     "data": {
      "text/plain": [
       "국어    92.0\n",
       "영어    65.0\n",
       "수학    62.0\n",
       "과학    71.0\n",
       "dtype: float64"
      ]
     },
     "metadata": {},
     "output_type": "display_data"
    },
    {
     "name": "stdout",
     "output_type": "stream",
     "text": [
      "\n",
      "------------------------------\n",
      "결측치를 제외한 10% 위치의 값\n"
     ]
    },
    {
     "data": {
      "text/plain": [
       "국어    73.0\n",
       "영어    53.0\n",
       "수학    37.2\n",
       "과학    65.8\n",
       "Name: 0.1, dtype: float64"
      ]
     },
     "metadata": {},
     "output_type": "display_data"
    },
    {
     "name": "stdout",
     "output_type": "stream",
     "text": [
      "\n",
      "------------------------------\n",
      "결측치를 제외한 10%, 20%, 30% 위치값\n"
     ]
    },
    {
     "data": {
      "text/html": [
       "<div>\n",
       "<style scoped>\n",
       "    .dataframe tbody tr th:only-of-type {\n",
       "        vertical-align: middle;\n",
       "    }\n",
       "\n",
       "    .dataframe tbody tr th {\n",
       "        vertical-align: top;\n",
       "    }\n",
       "\n",
       "    .dataframe thead th {\n",
       "        text-align: right;\n",
       "    }\n",
       "</style>\n",
       "<table border=\"1\" class=\"dataframe\">\n",
       "  <thead>\n",
       "    <tr style=\"text-align: right;\">\n",
       "      <th></th>\n",
       "      <th>국어</th>\n",
       "      <th>영어</th>\n",
       "      <th>수학</th>\n",
       "      <th>과학</th>\n",
       "    </tr>\n",
       "  </thead>\n",
       "  <tbody>\n",
       "    <tr>\n",
       "      <th>0.1</th>\n",
       "      <td>73.0</td>\n",
       "      <td>53.0</td>\n",
       "      <td>37.2</td>\n",
       "      <td>65.8</td>\n",
       "    </tr>\n",
       "    <tr>\n",
       "      <th>0.2</th>\n",
       "      <td>83.0</td>\n",
       "      <td>56.0</td>\n",
       "      <td>43.4</td>\n",
       "      <td>67.6</td>\n",
       "    </tr>\n",
       "    <tr>\n",
       "      <th>0.3</th>\n",
       "      <td>88.8</td>\n",
       "      <td>59.0</td>\n",
       "      <td>49.6</td>\n",
       "      <td>69.4</td>\n",
       "    </tr>\n",
       "  </tbody>\n",
       "</table>\n",
       "</div>"
      ],
      "text/plain": [
       "       국어    영어    수학    과학\n",
       "0.1  73.0  53.0  37.2  65.8\n",
       "0.2  83.0  56.0  43.4  67.6\n",
       "0.3  88.8  59.0  49.6  69.4"
      ]
     },
     "metadata": {},
     "output_type": "display_data"
    },
    {
     "name": "stdout",
     "output_type": "stream",
     "text": [
      "\n"
     ]
    }
   ],
   "source": [
    "# 결측치를 제외한 데이터의 개수\n",
    "a1 = df1.count()\n",
    "print(f'결측치를 제외한 데이터의 개수 : {a1}')\n",
    "print('-' * 30)\n",
    "\n",
    "display(a1)\n",
    "print('-' * 30)\n",
    "\n",
    "print('결측치를 제외한 평균')\n",
    "# 평균을 구하고자 하는 숫자 컬럼만 모아서 해주세요.\n",
    "# 통계량 계산을 위해 범위형 데이터 컬럼만 모아준다. \n",
    "df2 = df1[['국어', '영어', '수학', '과학']]\n",
    "a2 = df2.mean()\n",
    "display(a2)\n",
    "print('-' * 30)\n",
    "\n",
    "print('결측치를 제외한 최대값')\n",
    "a3 = df2.max()\n",
    "display(a3)\n",
    "print()\n",
    "print('-' * 30)\n",
    "\n",
    "print('결측치를 제외한 최소값')\n",
    "a4 = df2.min()\n",
    "display(a4)\n",
    "print()\n",
    "print('-' * 30)\n",
    "\n",
    "print('결측치를 제외한 표준편차')\n",
    "a5 = df2.std()\n",
    "display(a5)\n",
    "print()\n",
    "# ddof=0 : 표본분산, ddof = 1 : 불편분산 (pandas 기본값)\n",
    "print('-' * 30)\n",
    "\n",
    "print('결측치를 제외한 분산')\n",
    "a6 = df2.var()\n",
    "display(a6)\n",
    "print()\n",
    "print('-' * 30)\n",
    "\n",
    "print('결측치를 제외한 50% 위치값')\n",
    "a7 = df2.quantile()\n",
    "display(a7)\n",
    "print()\n",
    "print('-' * 30)\n",
    "\n",
    "print('결측치를 제외한 중앙값')\n",
    "a8 = df2.median()\n",
    "display(a8)\n",
    "print()\n",
    "print('-' * 30)\n",
    "\n",
    "print('결측치를 제외한 10% 위치의 값')\n",
    "a9 = df2.quantile(q = 0.1)\n",
    "display(a9)\n",
    "print()\n",
    "print('-' * 30)\n",
    "\n",
    "print('결측치를 제외한 10%, 20%, 30% 위치값')\n",
    "a10 = df2.quantile(q =[0.1, 0.2, 0.3])\n",
    "display(a10)\n",
    "print()\n"
   ]
  },
  {
   "cell_type": "code",
   "execution_count": 21,
   "id": "4711b445-ea89-44a5-b0b3-9ccd02aa7d93",
   "metadata": {},
   "outputs": [
    {
     "data": {
      "text/html": [
       "<div>\n",
       "<style scoped>\n",
       "    .dataframe tbody tr th:only-of-type {\n",
       "        vertical-align: middle;\n",
       "    }\n",
       "\n",
       "    .dataframe tbody tr th {\n",
       "        vertical-align: top;\n",
       "    }\n",
       "\n",
       "    .dataframe thead th {\n",
       "        text-align: right;\n",
       "    }\n",
       "</style>\n",
       "<table border=\"1\" class=\"dataframe\">\n",
       "  <thead>\n",
       "    <tr style=\"text-align: right;\">\n",
       "      <th></th>\n",
       "      <th>국어</th>\n",
       "      <th>영어</th>\n",
       "      <th>수학</th>\n",
       "      <th>과학</th>\n",
       "    </tr>\n",
       "  </thead>\n",
       "  <tbody>\n",
       "    <tr>\n",
       "      <th>min</th>\n",
       "      <td>63</td>\n",
       "      <td>50.0</td>\n",
       "      <td>31.0</td>\n",
       "      <td>64.0</td>\n",
       "    </tr>\n",
       "    <tr>\n",
       "      <th>max</th>\n",
       "      <td>120</td>\n",
       "      <td>90.0</td>\n",
       "      <td>88.0</td>\n",
       "      <td>88.0</td>\n",
       "    </tr>\n",
       "    <tr>\n",
       "      <th>count</th>\n",
       "      <td>5</td>\n",
       "      <td>4.0</td>\n",
       "      <td>3.0</td>\n",
       "      <td>4.0</td>\n",
       "    </tr>\n",
       "  </tbody>\n",
       "</table>\n",
       "</div>"
      ],
      "text/plain": [
       "        국어    영어    수학    과학\n",
       "min     63  50.0  31.0  64.0\n",
       "max    120  90.0  88.0  88.0\n",
       "count    5   4.0   3.0   4.0"
      ]
     },
     "execution_count": 21,
     "metadata": {},
     "output_type": "execute_result"
    }
   ],
   "source": [
    "# 동시에 여러 통계값을 구한다.\n",
    "# 각 컬럼들이 동일한 통계값을 구하고 싶을 때\n",
    "# 구할 통계값에 대한 함수의 이름을 문자열로 넣어준다. \n",
    "df2.agg(['min', 'max', 'count'])"
   ]
  },
  {
   "cell_type": "code",
   "execution_count": 24,
   "id": "a85df3d6-3afa-4c94-9f39-17aea9aefb51",
   "metadata": {},
   "outputs": [
    {
     "data": {
      "text/html": [
       "<div>\n",
       "<style scoped>\n",
       "    .dataframe tbody tr th:only-of-type {\n",
       "        vertical-align: middle;\n",
       "    }\n",
       "\n",
       "    .dataframe tbody tr th {\n",
       "        vertical-align: top;\n",
       "    }\n",
       "\n",
       "    .dataframe thead th {\n",
       "        text-align: right;\n",
       "    }\n",
       "</style>\n",
       "<table border=\"1\" class=\"dataframe\">\n",
       "  <thead>\n",
       "    <tr style=\"text-align: right;\">\n",
       "      <th></th>\n",
       "      <th>국어</th>\n",
       "      <th>영어</th>\n",
       "    </tr>\n",
       "  </thead>\n",
       "  <tbody>\n",
       "    <tr>\n",
       "      <th>min</th>\n",
       "      <td>63.0</td>\n",
       "      <td>NaN</td>\n",
       "    </tr>\n",
       "    <tr>\n",
       "      <th>max</th>\n",
       "      <td>120.0</td>\n",
       "      <td>NaN</td>\n",
       "    </tr>\n",
       "    <tr>\n",
       "      <th>sum</th>\n",
       "      <td>NaN</td>\n",
       "      <td>270.0</td>\n",
       "    </tr>\n",
       "    <tr>\n",
       "      <th>mean</th>\n",
       "      <td>NaN</td>\n",
       "      <td>67.5</td>\n",
       "    </tr>\n",
       "  </tbody>\n",
       "</table>\n",
       "</div>"
      ],
      "text/plain": [
       "         국어     영어\n",
       "min    63.0    NaN\n",
       "max   120.0    NaN\n",
       "sum     NaN  270.0\n",
       "mean    NaN   67.5"
      ]
     },
     "execution_count": 24,
     "metadata": {},
     "output_type": "execute_result"
    }
   ],
   "source": [
    "# 각 컬럼별로 다른 값을 구하고 싶을 때 \n",
    "d1 = {\n",
    "    '국어' : ['min', 'max'],\n",
    "    '영어' : ['sum', 'mean']\n",
    "}\n",
    "df1[['국어', '영어']].agg(d1)"
   ]
  }
 ],
 "metadata": {
  "kernelspec": {
   "display_name": "Python 3 (ipykernel)",
   "language": "python",
   "name": "python3"
  },
  "language_info": {
   "codemirror_mode": {
    "name": "ipython",
    "version": 3
   },
   "file_extension": ".py",
   "mimetype": "text/x-python",
   "name": "python",
   "nbconvert_exporter": "python",
   "pygments_lexer": "ipython3",
   "version": "3.12.7"
  }
 },
 "nbformat": 4,
 "nbformat_minor": 5
}
