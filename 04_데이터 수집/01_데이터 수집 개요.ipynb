{
 "cells": [
  {
   "cell_type": "markdown",
   "id": "e5eaff4d-6e67-4301-a5f1-81dbef80ddf1",
   "metadata": {},
   "source": [
    "# 데이터 수집이란?\n",
    "- 데이터가 없어서 모으는 겁니다.\n",
    "\n",
    "### 수집할 수 있는 데이터의 형태\n",
    "- 데이터 베이스에 저장된 데이터들\n",
    "- 문서\n",
    "- csv, 엑셀과 같은 다양한 파일들(다양한 미디어도 포함)\n",
    "- 웹 문서\n",
    "- json, xml 양식의 데이터를 전달하는 restful api 데이터\n",
    "- 기타 등등\n",
    "\n",
    "### 웹에서 데이터를 수집할 때 지켜야 할 것들\n",
    "- 데이터 수집 때문에 업체가 서비스에 문제가 생겨서는 안된다.\n",
    "- 요청에 대한 딜레이를 줘야 한다.\n",
    "- robots.txt 파일에 기록되어 있는 수집하지 말아야 할 사이트들은 수집하지 마세요.\n",
    "- 수집을 하기 위해 만든 프로그램을 가지고 서버에 요청할 때 웹브라우저 인것처럼 속이세요. 그래야 데이터 추출 가능\n",
    "- 저작권 문제; 데이터는 항상 저작권의 문제를 가지고 있다. 저작권 확인은 필수! \n",
    "\n",
    "### 수집할 때 생각해야 할 것들\n",
    "- 웹 서비스 업체에서 크롤링을 방지하기 위한 장치를 무엇을 두었는가?\n",
    "- robots.txt 파일 확인\n",
    "- web socket을 사용하는지\n",
    "- 비동기 통신을 사용하는지\n",
    "- 요청하고자 하는 주소 분석이 가능한지\n",
    "- html 소스 확인\n",
    "- dom 소스 확인\n",
    "- 요청 주기 확인\n",
    "- 웹 브라우저 agent 정보를 확인\n",
    "- 기타 등등"
   ]
  }
 ],
 "metadata": {
  "kernelspec": {
   "display_name": "Python 3 (ipykernel)",
   "language": "python",
   "name": "python3"
  },
  "language_info": {
   "codemirror_mode": {
    "name": "ipython",
    "version": 3
   },
   "file_extension": ".py",
   "mimetype": "text/x-python",
   "name": "python",
   "nbconvert_exporter": "python",
   "pygments_lexer": "ipython3",
   "version": "3.12.7"
  }
 },
 "nbformat": 4,
 "nbformat_minor": 5
}
