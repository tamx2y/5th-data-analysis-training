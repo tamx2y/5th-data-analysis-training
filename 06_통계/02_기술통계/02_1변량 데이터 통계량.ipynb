{
 "cells": [
  {
   "cell_type": "code",
   "execution_count": 5,
   "id": "1cb0802f-d7a2-422e-a281-94f953b17b90",
   "metadata": {},
   "outputs": [],
   "source": [
    "# 기본 라이브러리\n",
    "import numpy as np\n",
    "import pandas as pd\n",
    "import matplotlib.pyplot as plt\n",
    "import seaborn as sns\n",
    "\n",
    "# 그래프 기본 설정\n",
    "plt.rcParams['font.family'] = 'Malgun Gothic'\n",
    "plt.rcParams['figure.figsize'] = 12, 6\n",
    "plt.rcParams['font.size'] = 14\n",
    "plt.rcParams['axes.unicode_minus'] = False\n",
    "\n",
    "# 그래프 기본 테마 설정 \n",
    "sns.set()\n",
    "\n",
    "# 복잡한 통계처리를 위한 라이브러리\n",
    "from scipy import stats"
   ]
  },
  {
   "cell_type": "markdown",
   "id": "4c7fab9b-f275-4419-aef6-b110704e2e91",
   "metadata": {},
   "source": [
    "## 01_1번량 데이터 통계량\n",
    "\n",
    "### 데이터 준비"
   ]
  },
  {
   "cell_type": "code",
   "execution_count": 6,
   "id": "79977da1-b47a-4a1b-a9e3-0ff59bedc6cb",
   "metadata": {},
   "outputs": [
    {
     "data": {
      "text/html": [
       "<div>\n",
       "<style scoped>\n",
       "    .dataframe tbody tr th:only-of-type {\n",
       "        vertical-align: middle;\n",
       "    }\n",
       "\n",
       "    .dataframe tbody tr th {\n",
       "        vertical-align: top;\n",
       "    }\n",
       "\n",
       "    .dataframe thead th {\n",
       "        text-align: right;\n",
       "    }\n",
       "</style>\n",
       "<table border=\"1\" class=\"dataframe\">\n",
       "  <thead>\n",
       "    <tr style=\"text-align: right;\">\n",
       "      <th></th>\n",
       "      <th>length</th>\n",
       "    </tr>\n",
       "  </thead>\n",
       "  <tbody>\n",
       "    <tr>\n",
       "      <th>0</th>\n",
       "      <td>2</td>\n",
       "    </tr>\n",
       "    <tr>\n",
       "      <th>1</th>\n",
       "      <td>3</td>\n",
       "    </tr>\n",
       "    <tr>\n",
       "      <th>2</th>\n",
       "      <td>3</td>\n",
       "    </tr>\n",
       "    <tr>\n",
       "      <th>3</th>\n",
       "      <td>4</td>\n",
       "    </tr>\n",
       "    <tr>\n",
       "      <th>4</th>\n",
       "      <td>4</td>\n",
       "    </tr>\n",
       "    <tr>\n",
       "      <th>5</th>\n",
       "      <td>4</td>\n",
       "    </tr>\n",
       "    <tr>\n",
       "      <th>6</th>\n",
       "      <td>4</td>\n",
       "    </tr>\n",
       "    <tr>\n",
       "      <th>7</th>\n",
       "      <td>5</td>\n",
       "    </tr>\n",
       "    <tr>\n",
       "      <th>8</th>\n",
       "      <td>5</td>\n",
       "    </tr>\n",
       "    <tr>\n",
       "      <th>9</th>\n",
       "      <td>6</td>\n",
       "    </tr>\n",
       "  </tbody>\n",
       "</table>\n",
       "</div>"
      ],
      "text/plain": [
       "   length\n",
       "0       2\n",
       "1       3\n",
       "2       3\n",
       "3       4\n",
       "4       4\n",
       "5       4\n",
       "6       4\n",
       "7       5\n",
       "8       5\n",
       "9       6"
      ]
     },
     "execution_count": 6,
     "metadata": {},
     "output_type": "execute_result"
    }
   ],
   "source": [
    "# 물고기 몸길이\n",
    "fish_length_df = pd.read_csv('data/3-4-1-fish-length.csv')\n",
    "fish_length_df"
   ]
  },
  {
   "cell_type": "code",
   "execution_count": 10,
   "id": "485da208-29be-4ee9-8f14-3a208a193cc8",
   "metadata": {},
   "outputs": [
    {
     "data": {
      "text/plain": [
       "array([2, 3, 3, 4, 4, 4, 4, 5, 5, 6], dtype=int64)"
      ]
     },
     "execution_count": 10,
     "metadata": {},
     "output_type": "execute_result"
    }
   ],
   "source": [
    "# ndarray로 추출한다.\n",
    "fish_length = fish_length_df['length'].values\n",
    "fish_length"
   ]
  },
  {
   "cell_type": "markdown",
   "id": "bf8c4a22-0387-45f6-9b12-cda87b0729a8",
   "metadata": {},
   "source": [
    "### 표본 크기\n",
    "- 분석을 위해서 데이터 표본의 행의 개수\n",
    "- 모집단 전체를 가지고 분석할 때는 모집단의 크기가 된다. "
   ]
  },
  {
   "cell_type": "code",
   "execution_count": 12,
   "id": "dc342557-abbe-4436-a4d5-38e0f13385af",
   "metadata": {},
   "outputs": [
    {
     "name": "stdout",
     "output_type": "stream",
     "text": [
      "10 10 10\n"
     ]
    }
   ],
   "source": [
    "# ndarray\n",
    "a1 = len(fish_length)\n",
    "# dataframe\n",
    "a2 = len(fish_length_df)\n",
    "a3 = fish_length_df.size\n",
    "print(a1, a2, a3)"
   ]
  },
  {
   "cell_type": "code",
   "execution_count": 14,
   "id": "c2a590c5-e6b6-456d-953e-12b645ac9498",
   "metadata": {},
   "outputs": [
    {
     "name": "stdout",
     "output_type": "stream",
     "text": [
      "10\n"
     ]
    }
   ],
   "source": [
    "# dataframe의 count 함수는 결측치를 제외한 데이터의 개수를 구한다.\n",
    "a4 = fish_length_df['length'].count()\n",
    "print(a4)"
   ]
  },
  {
   "cell_type": "markdown",
   "id": "67393264-be74-4ae3-8203-80bf65cfb3b9",
   "metadata": {},
   "source": [
    "### 합계\n",
    "- 결측치를 제외한 총합을 구한다."
   ]
  },
  {
   "cell_type": "code",
   "execution_count": 17,
   "id": "87aa2fa1-a1ff-4486-9933-1c77f48a7882",
   "metadata": {},
   "outputs": [
    {
     "name": "stdout",
     "output_type": "stream",
     "text": [
      "40 40\n",
      "40 40 40\n"
     ]
    }
   ],
   "source": [
    "# ndarray\n",
    "a1 = np.sum(fish_length)\n",
    "a2 = fish_length.sum()\n",
    "print(a1, a2)\n",
    "a3 = fish_length_df['length'].sum()\n",
    "\n",
    "print(a1, a2, a3)"
   ]
  },
  {
   "cell_type": "markdown",
   "id": "2e548b10-9857-436c-9b56-3e7688d045cf",
   "metadata": {},
   "source": [
    "### 평균\n",
    "- 결측치를 제외한 평균을 구한다. "
   ]
  },
  {
   "cell_type": "code",
   "execution_count": 18,
   "id": "d4b79b23-c7ee-49bb-bdaf-0be7faa4c7fc",
   "metadata": {},
   "outputs": [
    {
     "data": {
      "text/plain": [
       "4.0"
      ]
     },
     "execution_count": 18,
     "metadata": {},
     "output_type": "execute_result"
    }
   ],
   "source": [
    "# 평균은 총합을 표본의 개수로 나누어준다.\n",
    "# 표본의 크기\n",
    "n = len(fish_length)\n",
    "# 총합\n",
    "sum_value = np.sum(fish_length)\n",
    "# 평균\n",
    "x_bar = sum_value / n\n",
    "x_bar"
   ]
  },
  {
   "cell_type": "code",
   "execution_count": 20,
   "id": "dfa74b4f-7d48-47fc-9b59-654412bc81cc",
   "metadata": {},
   "outputs": [
    {
     "name": "stdout",
     "output_type": "stream",
     "text": [
      "4.0 4.0 4.0\n"
     ]
    }
   ],
   "source": [
    "# ndarray\n",
    "a1 = np.mean(fish_length)\n",
    "a2 = fish_length.mean()\n",
    "# dataframe\n",
    "a3 = fish_length_df['length'].mean()\n",
    "print(a1, a2, a3)"
   ]
  },
  {
   "cell_type": "markdown",
   "id": "f3bb0e82-876b-49d0-9265-9eb186fbc71b",
   "metadata": {},
   "source": [
    "### 02_표본 분산"
   ]
  },
  {
   "cell_type": "code",
   "execution_count": 22,
   "id": "b3acc2f4-6f05-4570-aedd-d40a0608c042",
   "metadata": {},
   "outputs": [
    {
     "data": {
      "text/plain": [
       "1.2"
      ]
     },
     "execution_count": 22,
     "metadata": {},
     "output_type": "execute_result"
    }
   ],
   "source": [
    "# 표본분산을 공식대로 구현해본다.\n",
    "s2 = np.sum((fish_length - np.mean(fish_length)) **2) / len(fish_length)\n",
    "s2"
   ]
  },
  {
   "cell_type": "code",
   "execution_count": 24,
   "id": "9a8646af-9a4b-493f-bc59-a6197c1e34ab",
   "metadata": {},
   "outputs": [
    {
     "data": {
      "text/plain": [
       "1.2"
      ]
     },
     "execution_count": 24,
     "metadata": {},
     "output_type": "execute_result"
    }
   ],
   "source": [
    "# 평균\n",
    "a1 = np.mean(fish_length)\n",
    "# 각 원소의 값을 평균으로 빼준다.\n",
    "a2 = fish_length - a1\n",
    "# 뺀 값의 제곱을 구한다.\n",
    "a3 = a2 ** 2\n",
    "# 총합을 구한다.\n",
    "a4 = np.sum(a3)\n",
    "a4\n",
    "# 표본의 개수로 나눠준다.\n",
    "s2 = a4 / len(fish_length)\n",
    "s2"
   ]
  },
  {
   "cell_type": "code",
   "execution_count": 25,
   "id": "c78563ad-b250-4644-8d34-21b7290bf21a",
   "metadata": {},
   "outputs": [
    {
     "name": "stdout",
     "output_type": "stream",
     "text": [
      "1.2 1.2 1.3333333333333333\n"
     ]
    }
   ],
   "source": [
    "# 분산을 구하는 함수\n",
    "# \n",
    "a1 = np.var(fish_length)\n",
    "a2 = fish_length.var()\n",
    "a3 = fish_length_df['length'].var()\n",
    "print(a1, a2, a3)"
   ]
  },
  {
   "cell_type": "code",
   "execution_count": null,
   "id": "e3ea373b-f9bf-443b-b290-c41d4150a013",
   "metadata": {},
   "outputs": [],
   "source": []
  }
 ],
 "metadata": {
  "kernelspec": {
   "display_name": "Python 3 (ipykernel)",
   "language": "python",
   "name": "python3"
  },
  "language_info": {
   "codemirror_mode": {
    "name": "ipython",
    "version": 3
   },
   "file_extension": ".py",
   "mimetype": "text/x-python",
   "name": "python",
   "nbconvert_exporter": "python",
   "pygments_lexer": "ipython3",
   "version": "3.12.7"
  }
 },
 "nbformat": 4,
 "nbformat_minor": 5
}
